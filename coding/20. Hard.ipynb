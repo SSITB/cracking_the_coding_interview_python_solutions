{
 "cells": [
  {
   "cell_type": "markdown",
   "metadata": {},
   "source": [
    "### *20.1 Write a function that adds two numbers. You should not use + or any arithmetic operators."
   ]
  },
  {
   "cell_type": "markdown",
   "metadata": {},
   "source": [
    "A good explanation can be found [here](https://www.youtube.com/watch?v=qq64FrA2UXQ&t=28s)"
   ]
  },
  {
   "cell_type": "code",
   "execution_count": 1,
   "metadata": {},
   "outputs": [],
   "source": [
    "def add_without_plus(a, b):\n",
    "    \n",
    "    if b==0:\n",
    "        return a\n",
    "    carries = (a&b)<<1\n",
    "    addition = a^b\n",
    "    return add_without_plus(addition, carries)"
   ]
  },
  {
   "cell_type": "markdown",
   "metadata": {},
   "source": [
    "### *20.2 Write a method to shuffle a deck of cards. It must be a perfect shuffle - in other words, each 52! permutations of the deck has to be equally likely. Assume that you are given a random number generator which is perfect."
   ]
  },
  {
   "cell_type": "markdown",
   "metadata": {},
   "source": [
    "The strategy will be to go through the deck from index 0 to len(deck), pick a random index and then swap the card at random index with the card at index i. Since the for loop ensures that we only next look at index i+1, it helps to make sure that elements already placed at index i as a result of the 'shuffling' do not appear again as the set yet to be shuffled"
   ]
  },
  {
   "cell_type": "code",
   "execution_count": 6,
   "metadata": {},
   "outputs": [],
   "source": [
    "from random import randint\n",
    "\n",
    "def shuffle_deck(deck):\n",
    "    \n",
    "    for i in range(len(deck)):\n",
    "        ith_card = deck[i]\n",
    "        random_index = randint(i, len(deck)-1) #0-51\n",
    "        #swap randomly chosen index's card with position i\n",
    "        deck[i] = deck[random_index]\n",
    "        deck[random_index] = ith_card\n",
    "    \n",
    "    return deck\n"
   ]
  },
  {
   "cell_type": "markdown",
   "metadata": {},
   "source": [
    "### 20.3 Write a method to randomly generate a set of m integers from an array of size n. Each element must have equal probability of being chosen."
   ]
  },
  {
   "cell_type": "markdown",
   "metadata": {},
   "source": [
    "Its sort of the same flavour as the previous question"
   ]
  },
  {
   "cell_type": "code",
   "execution_count": 1,
   "metadata": {},
   "outputs": [],
   "source": [
    "from random import randint\n",
    "\n",
    "def pick_random_m(list_, m):\n",
    "    \n",
    "    for i in range(m):\n",
    "        element_at_i = list_[i]\n",
    "        random_index = randint(i, len(list_)-1)\n",
    "        #swap\n",
    "        list_[i] = list_[random_index]\n",
    "        list_[random_index] = element_at_i\n",
    "    \n",
    "    return list_[:m]\n"
   ]
  },
  {
   "cell_type": "markdown",
   "metadata": {},
   "source": [
    "### 20.4 Write a method to count the number of 2s between 0 and n."
   ]
  },
  {
   "cell_type": "markdown",
   "metadata": {},
   "source": [
    "A good explanation can be found [here](https://tianrunhe.wordpress.com/2012/06/04/count-the-number-of-2s-between-0-and-n/)"
   ]
  },
  {
   "cell_type": "code",
   "execution_count": 27,
   "metadata": {},
   "outputs": [],
   "source": [
    "def number_of_twos(n):\n",
    "    \n",
    "    if n<2:\n",
    "        return 0\n",
    "    \n",
    "    power_of_10 = 1\n",
    "    result = 0\n",
    "    \n",
    "    #identify which power of 10\n",
    "    while power_of_10*10<n:\n",
    "        power_of_10 = power_of_10*10\n",
    "        \n",
    "    #extract most significant 'bit' and remainder\n",
    "    msb = int(n/power_of_10)\n",
    "    remainder = n%power_of_10\n",
    "#     print(msb, remainder)\n",
    "    \n",
    "    \n",
    "    if msb>2:\n",
    "        result+=power_of_10 #in the case of 319, it will be 100 for 200-299\n",
    "    if msb==2:\n",
    "        result+=remainder+1 #in the case of 25 it will be 20-25\n",
    "    \n",
    "    #account for 2s appearing upto 300 for 319\n",
    "    result+=msb*number_of_twos(power_of_10)\n",
    "#     print(\"accounting for normal 2s\",result)\n",
    "    \n",
    "    #account for remainder\n",
    "    result+=number_of_twos(remainder)\n",
    "\n",
    "    return result\n"
   ]
  },
  {
   "cell_type": "code",
   "execution_count": 28,
   "metadata": {},
   "outputs": [
    {
     "data": {
      "text/plain": [
       "9"
      ]
     },
     "execution_count": 28,
     "metadata": {},
     "output_type": "execute_result"
    }
   ],
   "source": [
    "number_of_twos(25)"
   ]
  },
  {
   "cell_type": "markdown",
   "metadata": {},
   "source": [
    "### 20.5 You have a large text file containing words. Given any two words, find the shortest distance (in terms of number of words) between them in the file. Can you make the searching operation in O(1) time? What about the space complexity for your solution?"
   ]
  },
  {
   "cell_type": "code",
   "execution_count": 2,
   "metadata": {},
   "outputs": [],
   "source": [
    "def dist_between_words(text, word1, word2):\n",
    "    \n",
    "    #if text is not a list of words, we can use text.split(\" \")\n",
    "    first_index = None\n",
    "    second_index = None\n",
    "    \n",
    "    for i in range(len(text)):\n",
    "        if text[i]==word1 or text[i]==word2:\n",
    "            if first_index:\n",
    "                second_index = i\n",
    "            else:\n",
    "                first_index = i\n",
    "\n",
    "    return second_index-first_index"
   ]
  },
  {
   "cell_type": "code",
   "execution_count": 5,
   "metadata": {},
   "outputs": [],
   "source": [
    "def prep_dict(text):\n",
    "    word_dict = {}\n",
    "    for i in range(len(text)):\n",
    "        word_dict[text[i]] = i\n",
    "\n",
    "def dist_between_words_constant_time(word_dict, word1, word2):\n",
    "    return abs(word_dict[word1]-word_dict[word2])\n",
    "    \n",
    "    "
   ]
  },
  {
   "cell_type": "markdown",
   "metadata": {},
   "source": [
    "### 20.6 Describe an algorithm to find the largest 1 million numbers in 1 billion numbers. Assume that the computer memory can hold all one billion numbers."
   ]
  },
  {
   "cell_type": "code",
   "execution_count": 10,
   "metadata": {},
   "outputs": [],
   "source": [
    "def largest_m_numbers(numbers, m):\n",
    "    \n",
    "    numbers_sorted = sorted(numbers) \n",
    "    return numbers_sorted[-m:]"
   ]
  },
  {
   "cell_type": "markdown",
   "metadata": {},
   "source": [
    "### 20.7 Write a program to find the longest word made of other words in a list of words.\n",
    "EXAMPLE\n",
    "Input: test, tester, testertest, testing, testingtester\n",
    "Output: testingtester"
   ]
  },
  {
   "cell_type": "markdown",
   "metadata": {},
   "source": [
    "In other words we just need to find the longest string that has another string inside it. "
   ]
  },
  {
   "cell_type": "code",
   "execution_count": 35,
   "metadata": {},
   "outputs": [],
   "source": [
    "def sort_strings(list_of_words): #makes a dangerous assumption that all \n",
    "                                 #strings will have different lengths\n",
    "    length_dict = {}\n",
    "    for word in list_of_words:\n",
    "        length_dict[len(word)] = word\n",
    "    \n",
    "    sorted_lengths = sorted(length_dict.keys())\n",
    "    sorted_list_of_words = [length_dict[x] for x in sorted_lengths]\n",
    "    \n",
    "    return sorted_list_of_words\n",
    "    "
   ]
  },
  {
   "cell_type": "code",
   "execution_count": 36,
   "metadata": {},
   "outputs": [
    {
     "data": {
      "text/plain": [
       "['test', 'tester', 'testing', 'testertest', 'testingtester']"
      ]
     },
     "execution_count": 36,
     "metadata": {},
     "output_type": "execute_result"
    }
   ],
   "source": [
    "sort_strings(['test', 'tester', 'testertest', 'testing', 'testingtester'])"
   ]
  },
  {
   "cell_type": "code",
   "execution_count": 38,
   "metadata": {},
   "outputs": [],
   "source": [
    "def longest_word_made_of_other_words(list_of_words):\n",
    "    \n",
    "    sorted_list_of_words = sort_strings(list_of_words)\n",
    "\n",
    "    for i in range(len(sorted_list_of_words)-1, -1, -1): #from longest to shortest word\n",
    "        word = sorted_list_of_words[i]\n",
    "        for j in (1,len(word)):\n",
    "            #break into substrings\n",
    "            substring1, substring2 = word[:j], word[j:]\n",
    "            if substring1 in sorted_list_of_words[:i] or substring2 in sorted_list_of_words[:i]:\n",
    "                return word\n"
   ]
  },
  {
   "cell_type": "markdown",
   "metadata": {},
   "source": [
    "### 20.8 Given a string s and an array of smaller strings T, design a method to search s for each small string in T."
   ]
  },
  {
   "cell_type": "code",
   "execution_count": 48,
   "metadata": {},
   "outputs": [],
   "source": [
    "class Trie():\n",
    "    \n",
    "    def __init__(self):\n",
    "        self.root = {\"*\":\"*\"}\n",
    "    \n",
    "    def add_word(self, word):\n",
    "        current_node = self.root\n",
    "        for character in word:\n",
    "            if character not in current_node:\n",
    "                current_node[character] = {}\n",
    "            current_node = current_node[character]\n",
    "        current_node[\"*\"] = \"*\"\n",
    "    \n",
    "    def search_word(self, word):\n",
    "        current_node = self.root\n",
    "        for character in word:\n",
    "            print(character, current_node)\n",
    "            if character not in current_node:\n",
    "                return False\n",
    "            current_node = current_node[character]\n",
    "        return \"*\" in current_node\n",
    "        "
   ]
  },
  {
   "cell_type": "code",
   "execution_count": 49,
   "metadata": {},
   "outputs": [
    {
     "data": {
      "text/plain": [
       "{'*': '*', 'w': {'o': {'r': {'d': {'*': '*', 'i': {'n': {'g': {'*': '*'}}}}}}}}"
      ]
     },
     "execution_count": 49,
     "metadata": {},
     "output_type": "execute_result"
    }
   ],
   "source": [
    "my_trie = Trie()\n",
    "my_trie.add_word(\"word\")\n",
    "my_trie.add_word(\"wording\")\n",
    "my_trie.root"
   ]
  },
  {
   "cell_type": "code",
   "execution_count": 50,
   "metadata": {},
   "outputs": [
    {
     "name": "stdout",
     "output_type": "stream",
     "text": [
      "w {'*': '*', 'w': {'o': {'r': {'d': {'*': '*', 'i': {'n': {'g': {'*': '*'}}}}}}}}\n",
      "o {'o': {'r': {'d': {'*': '*', 'i': {'n': {'g': {'*': '*'}}}}}}}\n",
      "r {'r': {'d': {'*': '*', 'i': {'n': {'g': {'*': '*'}}}}}}\n",
      "d {'d': {'*': '*', 'i': {'n': {'g': {'*': '*'}}}}}\n",
      "i {'*': '*', 'i': {'n': {'g': {'*': '*'}}}}\n",
      "n {'n': {'g': {'*': '*'}}}\n",
      "g {'g': {'*': '*'}}\n"
     ]
    },
    {
     "data": {
      "text/plain": [
       "True"
      ]
     },
     "execution_count": 50,
     "metadata": {},
     "output_type": "execute_result"
    }
   ],
   "source": [
    "my_trie.search_word(\"wording\")"
   ]
  },
  {
   "cell_type": "code",
   "execution_count": 52,
   "metadata": {},
   "outputs": [
    {
     "data": {
      "text/plain": [
       "True"
      ]
     },
     "execution_count": 52,
     "metadata": {},
     "output_type": "execute_result"
    }
   ],
   "source": [
    "'g' in {\"a\":\"b\", \"g\":\"g\"}"
   ]
  },
  {
   "cell_type": "markdown",
   "metadata": {},
   "source": [
    "### 20.8 Given a string s and an array of smaller strings T, design a method to search s for each small string in T."
   ]
  },
  {
   "cell_type": "code",
   "execution_count": 73,
   "metadata": {},
   "outputs": [],
   "source": [
    "class SuffixTree():\n",
    "    \n",
    "    def __init__(self):\n",
    "        self.root = {\"*\":\"*\"}\n",
    "        \n",
    "    \n",
    "    def add_suffix(self, word):\n",
    "        for j in range(len(word)):\n",
    "            subword = word[j:]\n",
    "            current_node = self.root\n",
    "            for i in range(len(subword)):\n",
    "                character = subword[i]\n",
    "                if character not in current_node:\n",
    "                    current_node[character] = {}\n",
    "                current_node = current_node[character]\n",
    "            current_node[\"*\"] = \"*\"\n",
    "    \n",
    "    \n",
    "        \n",
    "    def search_suffix_tree(self, word):\n",
    "        current_node = self.root\n",
    "        for character in word:\n",
    "            if character not in current_node:\n",
    "                return False\n",
    "            current_node = current_node[character]\n",
    "        return True\n",
    "            "
   ]
  },
  {
   "cell_type": "code",
   "execution_count": 74,
   "metadata": {},
   "outputs": [],
   "source": [
    "def search_s_in_T(T, list_of_words):\n",
    "    T_suffix_tree = SuffixTree()\n",
    "    T_suffix_tree.add_suffix(T)\n",
    "    results = {}\n",
    "    for word in list_of_words:\n",
    "        results[word] = T_suffix_tree.search_suffix_tree(word)\n",
    "    \n",
    "    return results"
   ]
  },
  {
   "cell_type": "code",
   "execution_count": 75,
   "metadata": {},
   "outputs": [
    {
     "data": {
      "text/plain": [
       "{'war': True, 'arya': True, 'ary': True, 'wish': False}"
      ]
     },
     "execution_count": 75,
     "metadata": {},
     "output_type": "execute_result"
    }
   ],
   "source": [
    "search_s_in_T(\"aishwarya\", [\"war\", \"arya\", \"ary\", \"wish\"])"
   ]
  },
  {
   "cell_type": "markdown",
   "metadata": {},
   "source": [
    "### 20.9 Numbers are randomly generated and passed to a method. Write a program to find and maintain the median value as new values are generated."
   ]
  },
  {
   "cell_type": "markdown",
   "metadata": {},
   "source": [
    "The idea is to maintain a minheap and a maxheap. The minheap takes care of all the values larger than the median, and the max heap takes care of all the values smaller than the median. Every time we insert a new value, we check if the sizes of the heap are either equal or the max heap has just one extra."
   ]
  },
  {
   "cell_type": "code",
   "execution_count": 105,
   "metadata": {},
   "outputs": [],
   "source": [
    "import heapq\n",
    "max_heap = [] #median is the peak value, all children are less than the median\n",
    "min_heap = [] #\n",
    "heapq.heapify(max_heap)\n",
    "heapq.heapify(min_heap)\n",
    "def place_in_heap(n):\n",
    "    difference_in_heapsize = len(max_heap)-len(min_heap)\n",
    "    median = -max_heap[0]\n",
    "    if difference_in_heapsize==0:\n",
    "        if n<median:\n",
    "            heapq.heappush(max_heap, -n) #-n because heapq is a minheap so we need to change to negaive numbers\n",
    "                               #to implement a maxheap\n",
    "    elif difference_in_heapsize==1:\n",
    "        if n>=median: \n",
    "            heapq.heappush(min_heap, n) #this will balance out the heaps in terms of size\n",
    "        else:\n",
    "            value_to_insert = -heapq.heappop(max_heap)\n",
    "            heapq.heappush(min_heap, value_to_insert)\n",
    "            heap.heappush(max_heap, -n)\n"
   ]
  },
  {
   "cell_type": "markdown",
   "metadata": {},
   "source": [
    "### 20.10 *Given two words of equal length that are in a dictionary, write a method to transform one word into another word by changing only one letter at a time. The new word you get in each step must be in the dictionary. (aka Word Ladder)\n",
    "EXAMPLE:\n",
    "Input: DAMP, LIKE\n",
    "Output: DAMP -> LAMP -> LIMP -> LIME -> LIKE"
   ]
  },
  {
   "cell_type": "markdown",
   "metadata": {},
   "source": [
    "The idea is to use BFS on a graph, where the graph consists of words. Each word is adjacent to the word that is one character different from source word"
   ]
  },
  {
   "cell_type": "code",
   "execution_count": 108,
   "metadata": {},
   "outputs": [],
   "source": [
    "import queue\n",
    "\n",
    "global_dictionary = {}\n",
    "adjacencies = {}\n",
    "\n",
    "def populate_graph(words_to_modify, word2):\n",
    "    if words_to_modify==[]:\n",
    "        return None\n",
    "    for word1 in words_to_modify:\n",
    "        adjacencies[word1] = []\n",
    "        for i in range(len(word1)):\n",
    "            if word2[i]!=word1[i]:\n",
    "                modified_word = word2[i]+word1[i+1:]\n",
    "                if modified_word in global_dictionary:\n",
    "                    adjacencies[word1].append(modified_word)\n",
    "                else:\n",
    "                    continue\n",
    "        populate_graph(adjacencies[word1])\n",
    "\n",
    "def BFS(word1, word2):\n",
    "    \n",
    "    my_queue = queue.Queue()\n",
    "    visited = []\n",
    "    current_node = adjacencies[word1]\n",
    "    my_queue.put(current_node)\n",
    "    while not my_queue.empty():\n",
    "        current_node = my_queue.dequeue()\n",
    "        if current_node not in visited:\n",
    "            for adjacent_words in adjacencies[current_node]:\n",
    "                my_queue.put(current_node)\n",
    "        visited.append(current_node)\n",
    "\n",
    "    return visited"
   ]
  },
  {
   "cell_type": "markdown",
   "metadata": {},
   "source": [
    "### 20.11 Imagine you have a square matrix, where each cell is filled with either black or white. Design an algorithm to find the maximum subsquare such that all four borders are filled with black pixels."
   ]
  },
  {
   "cell_type": "markdown",
   "metadata": {},
   "source": [
    "Couldn't find a better way than to just iterate through the whole matrix, coordinate by coordinate and check if it starts a subsquare with all black borders."
   ]
  },
  {
   "cell_type": "code",
   "execution_count": 3,
   "metadata": {},
   "outputs": [],
   "source": [
    "def isSquare(matrix, row, col, size):\n",
    "    #check top and bottom order\n",
    "    for i in range(size):\n",
    "        if matrix[row][col+1]==1:\n",
    "            return False\n",
    "        if matrix[row+size-1][col+i]==1:\n",
    "            return False\n",
    "    #check left and right borders\n",
    "    for i in range(size-1):\n",
    "        if matrix[row+i][col]==1:\n",
    "            return False\n",
    "        if matrix[row+1][col+size-1]==1:\n",
    "            return False\n",
    "\n",
    "    return True\n",
    "\n",
    "def findsquare(matrix):\n",
    "    \n",
    "    n = len(matrix)\n",
    "    current_max = 0\n",
    "    col = 0\n",
    "    \n",
    "    while n-col>current_max:\n",
    "        for row in range(len(matrix)):\n",
    "            size = max(row, col)\n",
    "            while size>current_max:\n",
    "                if isSquare(matrix, row, col, size):\n",
    "                    current_max = size\n",
    "                size-=1\n",
    "                col+=1\n",
    "    return current_max"
   ]
  },
  {
   "cell_type": "code",
   "execution_count": null,
   "metadata": {},
   "outputs": [],
   "source": []
  }
 ],
 "metadata": {
  "kernelspec": {
   "display_name": "Python 3",
   "language": "python",
   "name": "python3"
  },
  "language_info": {
   "codemirror_mode": {
    "name": "ipython",
    "version": 3
   },
   "file_extension": ".py",
   "mimetype": "text/x-python",
   "name": "python",
   "nbconvert_exporter": "python",
   "pygments_lexer": "ipython3",
   "version": "3.6.5"
  }
 },
 "nbformat": 4,
 "nbformat_minor": 2
}
