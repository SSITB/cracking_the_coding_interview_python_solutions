{
 "cells": [
  {
   "cell_type": "markdown",
   "metadata": {},
   "source": [
    "## 3.1 Describe how you could use a single array to implement three stacks."
   ]
  },
  {
   "cell_type": "markdown",
   "metadata": {},
   "source": [
    "### Solution: Divide the array in three equal parts and allow the individual stack to grow in that limited space (note: “[“ means inclusive, while “(“ means exclusive of the end point).\n",
    "- for stack 1, we will use [0, n/3)\n",
    "- for stack 2, we will use [n/3, 2n/3)\n",
    "- for stack 3, we will use [2n/3, n)\n",
    "\n",
    "This solution is based on the assumption that we do not have any extra information about the usage of space by individual stacks and that we can’t either modify or use any extra space. With these constraints, we are left with no other choice but to divide equally.\n",
    "\n",
    "In Python we can use a list instead."
   ]
  },
  {
   "cell_type": "markdown",
   "metadata": {},
   "source": [
    "## 3.2 How would you design a stack which, in addition to push and pop, also has a function min which returns the minimum element? Push, pop and min should all operate in O(1) time."
   ]
  },
  {
   "cell_type": "markdown",
   "metadata": {},
   "source": [
    "### Solution: When an element is pushed, check if its min value and save it as stack.min_element. When being popped, if the head is the node with the min value, look for another min."
   ]
  },
  {
   "cell_type": "code",
   "execution_count": null,
   "metadata": {},
   "outputs": [],
   "source": [
    "def Stack():\n",
    "\n",
    "    def __init__(self):\n",
    "\n",
    "        self.head = None\n",
    "        self.min_element = None\n",
    "\n",
    "\n",
    "    def push(self, value):\n",
    "\n",
    "        if not self.head:\n",
    "            self.head = Node(value=value)\n",
    "            self.min_element = self.head\n",
    "\n",
    "        else:\n",
    "            new_node = Node(value=value, next=self.head)\n",
    "            self.head = new_node\n",
    "            \n",
    "            if new_node.value>self.min_element.value:\n",
    "                self.min_element = new_node\n",
    "\n",
    "    def find_min(self):\n",
    "        \n",
    "        current_node = self.head\n",
    "        self.min_element = current_node\n",
    "        while current_node:\n",
    "            if current_node.value<self.min_element.value:\n",
    "                self.min_element = current_node\n",
    "            \n",
    "            if current_node.next:\n",
    "                current_node = current_node.next\n",
    "            else:\n",
    "                break\n",
    "        \n",
    "    def pop(self):\n",
    "\n",
    "        if self.head:\n",
    "            returnable_node = self.head\n",
    "            self.head = self.head.next\n",
    "            \n",
    "            if returnable_node==self.min_element:\n",
    "                self.find_min()\n",
    "                \n",
    "            return returnable_node\n",
    "\n",
    "        else:\n",
    "            raise Exception('Stack Underflow')"
   ]
  },
  {
   "cell_type": "markdown",
   "metadata": {},
   "source": [
    "## *3.3 Imagine a (literal) stack of plates. If the stack gets too high, it might topple. Therefore, in real life, we would likely start a new stack when the previous stack exceeds some threshold. Implement a data structure SetOfStacks that mimics this. SetOfStacks should be composed of several stacks, and should create a new stack once the previous one exceeds capacity. SetOfStacks.push() and SetOfStacks.pop() should behave identically to a single stack (that is, pop() should return the same values as it would if there were just a single stack).\n",
    "FOLLOW UP\n",
    "Implement a function popAt(int index) which performs a pop operation on a specific sub-stack."
   ]
  },
  {
   "cell_type": "markdown",
   "metadata": {},
   "source": [
    "### Solution: New data structure \n",
    "Remarks:\n",
    "- We need some sort of way to access the stacks\n",
    "- We could do a stack of stacks but then we will have to do the indexing, using an array/list might be simpler"
   ]
  },
  {
   "cell_type": "code",
   "execution_count": null,
   "metadata": {},
   "outputs": [],
   "source": [
    "from datastructures import Stack"
   ]
  },
  {
   "cell_type": "code",
   "execution_count": null,
   "metadata": {},
   "outputs": [],
   "source": [
    "class SetOfStacks():\n",
    "    \n",
    "    def __init__(self, threshold=5):\n",
    "        \n",
    "        self.threshold = threshold\n",
    "        self.set_of_stacks = []\n",
    "        self.current_top_stack_size = 0\n",
    "        self.threshold = threshold\n",
    "    \n",
    "    def push(self, value):\n",
    "        \n",
    "        if not self.set_of_stacks[-1]: #if no stack\n",
    "            new_stack = Stack()\n",
    "            new_stack.push(value)\n",
    "            self.current_top_stack_size+=1\n",
    "        \n",
    "        else:\n",
    "            if self.current_top_stack_size<threshold:\n",
    "                self.set_of_stacks[-1].push(value)\n",
    "                self.current_top_stack_size+=1\n",
    "            else:\n",
    "                new_stack = Stack()\n",
    "                new_stack.push(value)\n",
    "                self.current_top_stack_size.append(new_stack)\n",
    "                self.current_top_stack_size = 1\n",
    "    \n",
    "    \n",
    "    def pop(self):\n",
    "        \n",
    "        if not self.set_of_stacks[-1].isEmpty():\n",
    "            returnable = self.set_of_stacks[-1].pop()\n",
    "            self.current_top_stack_size-=1\n",
    "            \n",
    "            if self.current_top_stack_size==0: #cleanup and delete this empty stack from the set\n",
    "                self.set_of_stacks.pop(-1)\n",
    "                self.current_top_stack_size = self.threshold\n",
    "            \n",
    "            return returnable\n",
    "        else:\n",
    "            raise Exception(\"Underflow!\")\n",
    "            \n",
    "    \n",
    "    def popAt(self, index):\n",
    "                #one thing to take note is that if we add this function\n",
    "                # in the pop() function when we cleanup an emptied stack\n",
    "                #we cant just assume that the size of second last stack is the threshold\n",
    "                #this is because of the popAt() function which might cause the stack size \n",
    "                #to decrease in which case which should still be able to add to the previous\n",
    "                #stack instead of adding to the recently vacated stack\n",
    "        return self.set_of_stacks[index].pop()\n"
   ]
  },
  {
   "cell_type": "markdown",
   "metadata": {},
   "source": [
    "## *3.4 In the classic problem of the Towers of Hanoi, you have 3 rods and N disks of different sizes which can slide onto any tower. The puzzle starts with disks sorted in ascending order of size from top to bottom (e.g., each disk sits on top of an even larger one). You have the following constraints:\n",
    "(A) Only one disk can be moved at a time.\n",
    "(B) A disk is slid off the top of one rod onto the next rod.\n",
    "(C) A disk can only be placed on top of a larger disk.\n",
    "Write a program to move the disks from the first rod to the last using Stacks."
   ]
  },
  {
   "cell_type": "markdown",
   "metadata": {},
   "source": [
    "### Solution: Stacks are the best datastructures for tower of hanoi"
   ]
  },
  {
   "cell_type": "code",
   "execution_count": null,
   "metadata": {},
   "outputs": [],
   "source": [
    "def ToH(number_of_plates, source, destination, buffer):\n",
    "    \n",
    "    if number_of_plates==1:\n",
    "        destination.push(source.pop())\n",
    "    \n",
    "    else:\n",
    "        ToH(number_of_plates-1, source, buffer, destination)\n",
    "        ToH(1, source, destination, buffer)\n",
    "        ToH(number_of_plates-1, buffer, destination, source)"
   ]
  },
  {
   "cell_type": "markdown",
   "metadata": {},
   "source": [
    "## 3.5 Implement a MyQueue class which implements a queue using two stacks."
   ]
  },
  {
   "cell_type": "markdown",
   "metadata": {},
   "source": [
    "### Solution: Use stack A as a standard stack for pushing. For popping (dequeueing) move the whole stack, except the last node to stack B then pop stack A.\n",
    "\n",
    "Remarks:\n",
    "- We will have to put the nodes on stack B back to stack A to get ready for a new node to be pushed"
   ]
  },
  {
   "cell_type": "code",
   "execution_count": 1,
   "metadata": {},
   "outputs": [],
   "source": [
    "class MyQueue():\n",
    "    \n",
    "    def __init__(self):\n",
    "        \n",
    "        stack_a = Stack()\n",
    "        stack_b = Stack()\n",
    "        \n",
    "    def enqueue(self, value):\n",
    "        stack_a.push(value)\n",
    "    \n",
    "    def dequeue(self):\n",
    "        \n",
    "        current_node = stack_a.pop()\n",
    "        while current_node.next:\n",
    "            stack_b.push(current_node.value)\n",
    "            current_node = stack_a.pop()\n",
    "        \n",
    "        returnable = stack_a.pop()\n",
    "        \n",
    "        #restack stack_a by emptying stack_b\n",
    "        current_node = stack_b.pop()\n",
    "        while current_node:\n",
    "            stack_a.push(current_node.value)\n",
    "            \n",
    "            if current_node.next:\n",
    "                current_node = stack_b.pop()\n",
    "            else:\n",
    "                break\n",
    "        \n",
    "        return returnable\n"
   ]
  },
  {
   "cell_type": "markdown",
   "metadata": {},
   "source": [
    "## 3.6 Write a program to sort a stack in ascending order. You should not make any assumptions about how the stack is implemented. The following are the only functions that should be used to write this program: push | pop | peek | isEmpty."
   ]
  },
  {
   "cell_type": "markdown",
   "metadata": {},
   "source": [
    "### Solution: Pop from stack and push to another stack while checking whether the value \n",
    "\n",
    "Remarks:\n",
    "- Another solution would be to empty out stack into a list and then sort list and push onto stack from behind....but that's too easy and we don't do easy :)\n",
    "- Assumption: ascending means biggest value on top of stack"
   ]
  },
  {
   "cell_type": "code",
   "execution_count": 2,
   "metadata": {},
   "outputs": [
    {
     "ename": "SyntaxError",
     "evalue": "invalid syntax (datastructures.py, line 174)",
     "output_type": "error",
     "traceback": [
      "Traceback \u001b[0;36m(most recent call last)\u001b[0m:\n",
      "  File \u001b[1;32m\"/Users/aish.prabhat/anaconda3/lib/python3.6/site-packages/IPython/core/interactiveshell.py\"\u001b[0m, line \u001b[1;32m2963\u001b[0m, in \u001b[1;35mrun_code\u001b[0m\n    exec(code_obj, self.user_global_ns, self.user_ns)\n",
      "\u001b[0;36m  File \u001b[0;32m\"<ipython-input-2-f4c633dbed85>\"\u001b[0;36m, line \u001b[0;32m1\u001b[0;36m, in \u001b[0;35m<module>\u001b[0;36m\u001b[0m\n\u001b[0;31m    from datastructures import Stack, Queue\u001b[0m\n",
      "\u001b[0;36m  File \u001b[0;32m\"/Users/aish.prabhat/Documents/personal_repos/cracking_the_coding_interview_python_solutions/datastructures.py\"\u001b[0;36m, line \u001b[0;32m174\u001b[0m\n\u001b[0;31m    new_node = Node(value=value, next=self.None, previous=self.tail)\u001b[0m\n\u001b[0m                                              ^\u001b[0m\n\u001b[0;31mSyntaxError\u001b[0m\u001b[0;31m:\u001b[0m invalid syntax\n"
     ]
    }
   ],
   "source": [
    "from datastructures import Stack, Queue\n",
    "\n",
    "def sort_stack(stack):\n",
    "    \n",
    "    buffer_stack = Stack()\n",
    "    buffer_queue = Queue() #this for restacking the buffer_stack when a value smaller\n",
    "                           #than the current stack head comes in\n",
    "    max_value = None\n",
    "\n",
    "    current_node = stack.pop()\n",
    "    while current_node:\n",
    "        if buffer_stack.isEmpty():\n",
    "            buffer_stack.push(current_node.value)\n",
    "            max_value = current_node.value\n",
    "            current_node = stack.pop()\n",
    "            \n",
    "        else:\n",
    "            if current_node.value>=max_value:\n",
    "                buffer_stack.push(current_node.value)\n",
    "                max_value = current_node.value\n",
    "                current_node = stack.pop()\n",
    "                \n",
    "            else:\n",
    "                \n",
    "                while buffer_stack.peek()>current_node.value:\n",
    "                    buffer_queue.enqueue(buffer_stack.pop().value)\n",
    "                \n",
    "                buffer_stack.push(current_node.value)\n",
    "                \n",
    "                #restack\n",
    "                while not buffer_queue.isEmpty():\n",
    "                    buffer_stack.push(buffer_queue.dequeue().value())\n",
    "                \n",
    "                current_node = stack.pop()\n",
    "\n",
    "    return buffer_stack"
   ]
  },
  {
   "cell_type": "code",
   "execution_count": null,
   "metadata": {},
   "outputs": [],
   "source": []
  }
 ],
 "metadata": {
  "kernelspec": {
   "display_name": "Python 3",
   "language": "python",
   "name": "python3"
  },
  "language_info": {
   "codemirror_mode": {
    "name": "ipython",
    "version": 3
   },
   "file_extension": ".py",
   "mimetype": "text/x-python",
   "name": "python",
   "nbconvert_exporter": "python",
   "pygments_lexer": "ipython3",
   "version": "3.6.5"
  }
 },
 "nbformat": 4,
 "nbformat_minor": 2
}
