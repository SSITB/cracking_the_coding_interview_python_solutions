{
 "cells": [
  {
   "cell_type": "markdown",
   "metadata": {},
   "source": [
    "### 19.1 Write a function to swap a number in place without temporary variables."
   ]
  },
  {
   "cell_type": "markdown",
   "metadata": {},
   "source": [
    "The key is to realize that since we can't swap variables, we will have to use some sort of mathematical operators to achieve the swap. Intuitively, addition and subtraction are the first ones to try...and they work!"
   ]
  },
  {
   "cell_type": "code",
   "execution_count": 9,
   "metadata": {},
   "outputs": [],
   "source": [
    "def swap_without_variables(a, b):\n",
    "    \n",
    "    a = a+b\n",
    "    b = a-b\n",
    "    a = a-b\n",
    "    \n",
    "    return (a, b)"
   ]
  },
  {
   "cell_type": "code",
   "execution_count": 12,
   "metadata": {},
   "outputs": [
    {
     "data": {
      "text/plain": [
       "(10, 2)"
      ]
     },
     "execution_count": 12,
     "metadata": {},
     "output_type": "execute_result"
    }
   ],
   "source": [
    "swap_without_variables(2, 10)"
   ]
  },
  {
   "cell_type": "markdown",
   "metadata": {},
   "source": [
    "An optmized version of the problem:"
   ]
  },
  {
   "cell_type": "code",
   "execution_count": 11,
   "metadata": {},
   "outputs": [],
   "source": [
    "def swap_without_variables(a, b):\n",
    "    \n",
    "    a = a^b\n",
    "    b = a^b\n",
    "    a = a^b\n",
    "    \n",
    "    return (a, b)"
   ]
  },
  {
   "cell_type": "markdown",
   "metadata": {},
   "source": [
    "### 19.2 Design an algorithm to figure out if someone has won in a game of tic-tac-toe."
   ]
  },
  {
   "cell_type": "code",
   "execution_count": 13,
   "metadata": {},
   "outputs": [],
   "source": [
    "def tic_tac_toe_won(matrix):\n",
    "    \n",
    "    #check for rows\n",
    "    for i in range(3):\n",
    "        if matrix[i][0]==matrix[i][1] and matrix[i][0]==matrix[i][2]:\n",
    "            return True\n",
    "    \n",
    "    #check for columns\n",
    "    for i in range(3):\n",
    "        if matrix[0][i]==matrix[1][i] and matrix[2][i]==matrix[0][i]:\n",
    "            return True\n",
    "    \n",
    "    #check for diagonals\n",
    "    if matrix[0][0]==matrix[1][1] and matrix[0][0]==matrix[2][2]:\n",
    "        return True\n",
    "    \n",
    "    if matrix[0][2]==matrix[1][1] and matrix[0][2]==matrix[2][0]:\n",
    "        return True\n",
    "    \n",
    "    return False\n",
    "        \n",
    "            \n",
    "            "
   ]
  },
  {
   "cell_type": "code",
   "execution_count": 14,
   "metadata": {},
   "outputs": [
    {
     "data": {
      "text/plain": [
       "True"
      ]
     },
     "execution_count": 14,
     "metadata": {},
     "output_type": "execute_result"
    }
   ],
   "source": [
    "tic_tac_toe_won([[1,1,1],[0,1,0], [1,0,1]])"
   ]
  },
  {
   "cell_type": "code",
   "execution_count": 18,
   "metadata": {},
   "outputs": [
    {
     "data": {
      "text/plain": [
       "False"
      ]
     },
     "execution_count": 18,
     "metadata": {},
     "output_type": "execute_result"
    }
   ],
   "source": [
    "tic_tac_toe_won([[1,0,1],[0,1,0], [0,1,0]])"
   ]
  },
  {
   "cell_type": "markdown",
   "metadata": {},
   "source": [
    "### *19.3 Write an algorithm which computes the number of trailing zeros in n factorial."
   ]
  },
  {
   "cell_type": "markdown",
   "metadata": {},
   "source": [
    "The key is to think about what contributes to the trailing zeros - multiplication by 5. For example 5, 10, 15 and 20 contrbute to trailing zeros in 21!. So by counting the number of multiples of 5, we are effectively counting how many trailing zeros there will be, in linear time. \n",
    "\n",
    "One caveat to be careful about is that 25 contributes two 5s."
   ]
  },
  {
   "cell_type": "code",
   "execution_count": 29,
   "metadata": {},
   "outputs": [],
   "source": [
    "def find_trailing_zeros(n):\n",
    "    \n",
    "    trailing_zeros = 0\n",
    "    \n",
    "    i=5\n",
    "    while n/i>0:\n",
    "        trailing_zeros+= int(n/i)\n",
    "        i=i*5\n",
    "    \n",
    "    return trailing_zeros"
   ]
  },
  {
   "cell_type": "code",
   "execution_count": 30,
   "metadata": {},
   "outputs": [
    {
     "data": {
      "text/plain": [
       "6"
      ]
     },
     "execution_count": 30,
     "metadata": {},
     "output_type": "execute_result"
    }
   ],
   "source": [
    "find_trailing_zeros(26)"
   ]
  },
  {
   "cell_type": "markdown",
   "metadata": {},
   "source": [
    "### 19.4 Write a method which finds the maximum of two numbers. You should not use if-else or any other comparison operator."
   ]
  },
  {
   "cell_type": "code",
   "execution_count": 34,
   "metadata": {},
   "outputs": [],
   "source": [
    "def max_without_comparison(a, b):\n",
    "    \n",
    "    return bool(int(a/b))"
   ]
  },
  {
   "cell_type": "code",
   "execution_count": 37,
   "metadata": {},
   "outputs": [
    {
     "data": {
      "text/plain": [
       "(False, True)"
      ]
     },
     "execution_count": 37,
     "metadata": {},
     "output_type": "execute_result"
    }
   ],
   "source": [
    " max_without_comparison(2,3), max_without_comparison(2,1)"
   ]
  },
  {
   "cell_type": "markdown",
   "metadata": {},
   "source": [
    "### 19.5 The Game of Master Mind:\n",
    "The computer has four slots containing balls that are red (R), yellow (Y), green (G) or blue (B). For example, the computer might have RGGB (e.g., Slot #1 is red, Slots #2 and #3 are green, Slot #4 is blue).\n",
    "You, the user, are trying to guess the solution. You might, for example, guess YRGB.\n",
    "When you guess the correct color for the correct slot, you get a “hit”. If you guess a color that exists but is in the wrong slot, you get a “pseudo-hit”. For example, the guess YRGB has 2 hits and one pseudo hit.\n",
    "For each guess, you are told the number of hits and pseudo-hits.\n",
    "Write a method that, given a guess and a solution, returns the number of hits and pseudo hits."
   ]
  },
  {
   "cell_type": "code",
   "execution_count": 39,
   "metadata": {},
   "outputs": [],
   "source": [
    "def master_mind(guess, solution):\n",
    "    \n",
    "    hits = 0\n",
    "    pseudo_hits = 0\n",
    "    guess_count = {'R':0, 'G':0, 'B':0, 'Y':0}\n",
    "    solution_count = {'R':0, 'G':0, 'B':0, 'Y':0}\n",
    "    \n",
    "    for i in range(4):\n",
    "        if guess[i]==solution[i]:\n",
    "            hits+=1\n",
    "        else:\n",
    "            guess_count[guess[i]]+=1\n",
    "            solution_count[solution[i]]+=1\n",
    "    \n",
    "    \n",
    "    for i in guess_count.keys():\n",
    "        if solution_count[i]==guess_count[i]:\n",
    "            pseudo_hits+=1\n",
    "    \n",
    "    return {'hits':hits, 'pseudo_hits':pseudo_hits}\n",
    "           "
   ]
  },
  {
   "cell_type": "code",
   "execution_count": 40,
   "metadata": {},
   "outputs": [
    {
     "data": {
      "text/plain": [
       "{'hits': 4, 'pseudo_hits': 4}"
      ]
     },
     "execution_count": 40,
     "metadata": {},
     "output_type": "execute_result"
    }
   ],
   "source": [
    "master_mind(['R','G','B','Y'], ['R','G','B','Y'])"
   ]
  },
  {
   "cell_type": "markdown",
   "metadata": {},
   "source": [
    "### 19.6 Given an integer between 0 and 999,999, print an English phrase that describes the integer (eg, “One Thousand, Two Hundred and Thirty Four”)."
   ]
  },
  {
   "cell_type": "markdown",
   "metadata": {},
   "source": [
    "This is simple but tedious"
   ]
  },
  {
   "cell_type": "markdown",
   "metadata": {},
   "source": [
    "### *19.7 You are given an array of integers (both positive and negative). Find the continuous sequence with the largest sum. Return the sum.\n",
    "EXAMPLE\n",
    "Input: {2, -8, 3, -2, 4, -10}\n",
    "Output: 5 (i.e., {3, -2, 4} )"
   ]
  },
  {
   "cell_type": "markdown",
   "metadata": {},
   "source": [
    "A good explanation can be found [here](https://www.youtube.com/watch?v=2MmGzdiKR9Y&t=772s)"
   ]
  },
  {
   "cell_type": "code",
   "execution_count": 97,
   "metadata": {},
   "outputs": [],
   "source": [
    "def seq_with_largest_sum(input_list):\n",
    "    \n",
    "    sum_ = 0\n",
    "    max_so_far = 0\n",
    "    for i in range(0, len(input_list)):\n",
    "        sum_+=input_list[i]\n",
    "        if sum_>max_so_far:\n",
    "            max_so_far = sum_\n",
    "        elif sum_<0:\n",
    "            sum_ = 0\n",
    "#         print(input_list[i], sum_, max_so_far)\n",
    "    \n",
    "    return max_so_far"
   ]
  },
  {
   "cell_type": "code",
   "execution_count": 98,
   "metadata": {},
   "outputs": [
    {
     "data": {
      "text/plain": [
       "5"
      ]
     },
     "execution_count": 98,
     "metadata": {},
     "output_type": "execute_result"
    }
   ],
   "source": [
    "seq_with_largest_sum([2, -8, 3, -2, 4, -10])"
   ]
  },
  {
   "cell_type": "markdown",
   "metadata": {},
   "source": [
    "### 19.8 Design a method to find the frequency of occurrences of any given word in a book."
   ]
  },
  {
   "cell_type": "markdown",
   "metadata": {},
   "source": [
    "Assuming we will be finding frequency of more than one word in the text, perhaps all words, we can use a dictionary to keep track of count. Parse the text in O(n) time."
   ]
  },
  {
   "cell_type": "code",
   "execution_count": 33,
   "metadata": {},
   "outputs": [],
   "source": [
    "dictionary = {}\n",
    "def compute_frequency(input_text): #assuming we've got a list if not we can always text.split(\" \")\n",
    "    \n",
    "    for word in input_text:\n",
    "        try:\n",
    "            dictionary[word]+=1\n",
    "        except:\n",
    "            dictionary[word] = 1\n",
    "\n",
    "def find_frequency(word):\n",
    "    \n",
    "    try:\n",
    "        return dictionary[word]\n",
    "    except:\n",
    "        return 0\n",
    "    \n",
    "    "
   ]
  },
  {
   "cell_type": "markdown",
   "metadata": {},
   "source": [
    "### 19.10 Write a method to generate a random number between 1 and 7, given a method that generates a random number between 1 and 5"
   ]
  },
  {
   "cell_type": "markdown",
   "metadata": {},
   "source": [
    "A good explanation can be found [here](https://www.geeksforgeeks.org/generate-integer-from-1-to-7-with-equal-probability/)"
   ]
  },
  {
   "cell_type": "code",
   "execution_count": 51,
   "metadata": {},
   "outputs": [],
   "source": [
    "from random import randint\n",
    "def my_rand():  \n",
    "    i = 0; \n",
    "    i = (5 * randint(1,5)) + (randint(1,5) - 5); \n",
    "    if (i < 22): \n",
    "        if(i < 0): \n",
    "            return (i % 7 - 7) + 1; \n",
    "        else: \n",
    "            return (i % 7) + 1; \n",
    "              \n",
    "    return my_rand() \n",
    "    "
   ]
  },
  {
   "cell_type": "code",
   "execution_count": 59,
   "metadata": {},
   "outputs": [
    {
     "data": {
      "text/plain": [
       "6"
      ]
     },
     "execution_count": 59,
     "metadata": {},
     "output_type": "execute_result"
    }
   ],
   "source": [
    "my_rand()"
   ]
  },
  {
   "cell_type": "markdown",
   "metadata": {},
   "source": [
    "### 19.11 Design an algorithm to find all pairs of integers within an array which sum to a specified value."
   ]
  },
  {
   "cell_type": "markdown",
   "metadata": {},
   "source": [
    "One easy and (time) efficient solution involves a hash map from integers to integers. This algorithm works by iterating through the array. On each element x, look up sum - x in the hash table and, if it exists, print (x, sum - x). Add x to the hash table, and go to the next element."
   ]
  },
  {
   "cell_type": "code",
   "execution_count": 95,
   "metadata": {},
   "outputs": [],
   "source": [
    "returnable_list = []\n",
    "def find_pairs(sum_, list_):\n",
    "    \n",
    "    dict_  = {}\n",
    "    \n",
    "    for i in range(len(list_)):\n",
    "        dict_[list_[i]] = list_[i]\n",
    "#     print(dict_)\n",
    "    \n",
    "    \n",
    "    for i in range(len(list_)):\n",
    "        candidate = sum_-list_[i]\n",
    "#         print(candidate)\n",
    "        try:\n",
    "            returnable_list.append((list_[i], dict_[candidate]))\n",
    "        except:\n",
    "            pass\n",
    "        \n",
    "    \n",
    "    return returnable_list\n",
    "        "
   ]
  },
  {
   "cell_type": "code",
   "execution_count": 96,
   "metadata": {},
   "outputs": [
    {
     "data": {
      "text/plain": [
       "[(1, 4), (2, 3), (3, 2), (4, 1)]"
      ]
     },
     "execution_count": 96,
     "metadata": {},
     "output_type": "execute_result"
    }
   ],
   "source": [
    "find_pairs(5, [1,2,3,4,5,6])"
   ]
  },
  {
   "cell_type": "code",
   "execution_count": null,
   "metadata": {},
   "outputs": [],
   "source": []
  }
 ],
 "metadata": {
  "kernelspec": {
   "display_name": "Python 3",
   "language": "python",
   "name": "python3"
  },
  "language_info": {
   "codemirror_mode": {
    "name": "ipython",
    "version": 3
   },
   "file_extension": ".py",
   "mimetype": "text/x-python",
   "name": "python",
   "nbconvert_exporter": "python",
   "pygments_lexer": "ipython3",
   "version": "3.6.5"
  }
 },
 "nbformat": 4,
 "nbformat_minor": 2
}
