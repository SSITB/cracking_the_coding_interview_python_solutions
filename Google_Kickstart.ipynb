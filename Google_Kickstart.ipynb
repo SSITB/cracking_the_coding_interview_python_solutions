{
 "cells": [
  {
   "cell_type": "code",
   "execution_count": 81,
   "metadata": {},
   "outputs": [],
   "source": [
    "import sys\n",
    "\n",
    "def h_index_for_subset(subset, h_index):\n",
    "    \n",
    "#     print(subset, h_index)\n",
    "    for value in range(h_index+1, len(subset)+1):\n",
    "        count = 0\n",
    "        for x in subset:\n",
    "            \n",
    "            if x>=value:\n",
    "                count+=1\n",
    "            else:\n",
    "                continue\n",
    "#         print(x, value, count)\n",
    "        if count>h_index:\n",
    "            h_index = value\n",
    "#             print(\"h_index changed\",h_index)\n",
    "        else:\n",
    "            break\n",
    "\n",
    "    return h_index\n",
    "    \n",
    "    \n",
    "\n",
    "def h_index(input_, case):\n",
    "    \n",
    "    list_ = [int(x) for x in input_.split(\" \")] #convert to numeric\n",
    "    output_string = \"Case #{}: \".format(str(case))\n",
    "    \n",
    "    h_index = 0\n",
    "    \n",
    "    #generate the subsets\n",
    "    for i in range(1, len(list_)+1):\n",
    "        h_index = h_index_for_subset(list_[:i], h_index)\n",
    "        output_string = output_string+str(h_index)+\" \"\n",
    "        \n",
    "    print(output_string)"
   ]
  },
  {
   "cell_type": "code",
   "execution_count": 82,
   "metadata": {},
   "outputs": [
    {
     "name": "stdout",
     "output_type": "stream",
     "text": [
      "Case #0: 1 1 2 2 2 3 \n"
     ]
    }
   ],
   "source": [
    "h_index(\"1 3 3 2 2 15\", 0)\n",
    "# h_index_for_subset([5, 1, 2],1)\n",
    "    "
   ]
  },
  {
   "cell_type": "code",
   "execution_count": 4,
   "metadata": {},
   "outputs": [
    {
     "name": "stdout",
     "output_type": "stream",
     "text": [
      "1\n",
      "3\n",
      "5\n",
      "7\n",
      "9\n"
     ]
    }
   ],
   "source": [
    "for i in range(1, 10, 2):\n",
    "    print(i)"
   ]
  },
  {
   "cell_type": "code",
   "execution_count": 6,
   "metadata": {},
   "outputs": [
    {
     "data": {
      "text/plain": [
       "[1, 2, 3, 4]"
      ]
     },
     "execution_count": 6,
     "metadata": {},
     "output_type": "execute_result"
    }
   ],
   "source": [
    "input_ = \"1 2 3 4\"\n",
    "[int(x) for x in input_.split(\" \")]"
   ]
  },
  {
   "cell_type": "code",
   "execution_count": 99,
   "metadata": {},
   "outputs": [],
   "source": [
    " def permutations(string, step = 0):\n",
    "    if step == len(string):\n",
    "        # we've gotten to the end, print the permutation\n",
    "        print (\"\".join(string))\n",
    "    for i in range(step, len(string)):\n",
    "        # copy the string (store as array)\n",
    "        string_copy = [c for c in string]\n",
    "         # swap the current index with the step\n",
    "        string_copy[step], string_copy[i] =string_copy[i], string_copy[step]\n",
    "         # recurse on the portion of the stringthat has not been swapped yet\n",
    "        permutations(string_copy, step + 1)"
   ]
  },
  {
   "cell_type": "code",
   "execution_count": 101,
   "metadata": {},
   "outputs": [
    {
     "name": "stdout",
     "output_type": "stream",
     "text": [
      "aish\n",
      "aihs\n",
      "asih\n",
      "ashi\n",
      "ahsi\n",
      "ahis\n",
      "iash\n",
      "iahs\n",
      "isah\n",
      "isha\n",
      "ihsa\n",
      "ihas\n",
      "siah\n",
      "siha\n",
      "saih\n",
      "sahi\n",
      "shai\n",
      "shia\n",
      "hisa\n",
      "hias\n",
      "hsia\n",
      "hsai\n",
      "hasi\n",
      "hais\n"
     ]
    }
   ],
   "source": [
    "list_ = [permutations('aish')]"
   ]
  },
  {
   "cell_type": "code",
   "execution_count": 106,
   "metadata": {},
   "outputs": [],
   "source": [
    "def permute(data, i, length): \n",
    "    if i==length: \n",
    "        return (''.join(data) )\n",
    "    else: \n",
    "        for j in range(i,length): \n",
    "            #swap\n",
    "            data[i], data[j] = data[j], data[i] \n",
    "            permute(data, i+1, length) \n",
    "            data[i], data[j] = data[j], data[i]  \n",
    "\n",
    "\n",
    "string = \"ABC\"\n",
    "n = len(string) \n",
    "data = list(string) \n",
    "print(permute(data, 1, n))"
   ]
  },
  {
   "cell_type": "code",
   "execution_count": 223,
   "metadata": {},
   "outputs": [],
   "source": [
    "def check_divisibility(number):\n",
    "    current_sum = 0\n",
    "    for i in range(0, len(number)-1, 2):\n",
    "        current_sum = int(number[i]) - int(number[i+1])\n",
    "    if current_sum%11:\n",
    "        return True\n",
    "    else:\n",
    "        return False\n",
    "        "
   ]
  },
  {
   "cell_type": "code",
   "execution_count": 233,
   "metadata": {},
   "outputs": [],
   "source": [
    "def remove_from_string(str, index):\n",
    "    endIndex = index if index == len(str) else index + 1\n",
    "    return str[:index] + str[endIndex:]\n",
    "\n",
    "def perm(str):\n",
    "    if len(str) <= 1:\n",
    "        return {str}\n",
    "    permutation_set = set()\n",
    "    for i, c in enumerate(str):\n",
    "        newStr = remove_from_string(str, i)\n",
    "        retSet = perm(newStr)\n",
    "        for elem in retSet:\n",
    "            if check_divisibility(elem):\n",
    "                return \"True\"\n",
    "            permutation_set.add(c + elem)\n",
    "    return permutation_set"
   ]
  },
  {
   "cell_type": "code",
   "execution_count": 234,
   "metadata": {},
   "outputs": [],
   "source": [
    "def decode_number(number):\n",
    "    number = number.split(\" \")\n",
    "    number_to_return = \"\"\n",
    "    for i in range(0, len(number)):\n",
    "        digit = i+1\n",
    "        if int(number[i])>0:\n",
    "            number_to_return+= str(digit)*int(number[i])\n",
    "    \n",
    "    return number_to_return"
   ]
  },
  {
   "cell_type": "code",
   "execution_count": 235,
   "metadata": {},
   "outputs": [],
   "source": [
    "import time\n",
    "def glue_code(line, case):\n",
    "    start_time = time.time()\n",
    "    decoded_number = decode_number(line)\n",
    "#     print(decoded_number)\n",
    "#     permutations = perm(decoded_number)\n",
    "    output_string = \"Case #{}: \".format(str(case))\n",
    "    \n",
    "    if perm(decoded_number)=='True':\n",
    "        output_string+=\"YES\"\n",
    "        print(output_string)\n",
    "        return\n",
    "    output_string+=\"NO\"\n",
    "    print(output_string)"
   ]
  },
  {
   "cell_type": "code",
   "execution_count": 236,
   "metadata": {},
   "outputs": [
    {
     "name": "stdout",
     "output_type": "stream",
     "text": [
      "Case #1: YES\n",
      "Case #1: NO\n"
     ]
    }
   ],
   "source": [
    "glue_code(\"0 0 2 0 0 1 0 0 0\", 1)\n",
    "glue_code(\"0 0 0 0 0 0 0 1 0\", 1)\n"
   ]
  },
  {
   "cell_type": "code",
   "execution_count": 152,
   "metadata": {},
   "outputs": [],
   "source": [
    "import sys\n",
    "if __name__=='__main__':\n",
    "    input_ = []\n",
    "    \n",
    "    for line in sys.stdin:\n",
    "        input_.append(line.replace(\"\\n\", \"\"))\n",
    "        \n",
    "    no_of_cases = input_.pop(0)\n",
    "    case = 0\n",
    "    for i in range(0,len(input_)):\n",
    "        case+=1\n",
    "        glue_code(input_[i], case)"
   ]
  },
  {
   "cell_type": "code",
   "execution_count": 170,
   "metadata": {},
   "outputs": [],
   "source": [
    "import sys \n",
    "def starter(myinput):\n",
    "    input_ = []\n",
    "    \n",
    "    for line in myinput:\n",
    "        input_.append(line.replace(\"\\n\", \"\"))\n",
    "    print(input_)\n",
    "    no_of_cases = input_.pop(0)\n",
    "    case = 0\n",
    "    for i in range(0,len(input_)):\n",
    "        case+=1\n",
    "        glue_code(input_[i], case)"
   ]
  },
  {
   "cell_type": "code",
   "execution_count": 171,
   "metadata": {},
   "outputs": [
    {
     "name": "stdout",
     "output_type": "stream",
     "text": [
      "['2', '0 0 2 0 0 1 0 0 0', '0 0 0 0 0 0 0 1 0']\n",
      "Case #1: YES\n",
      "Case #2: NO\n"
     ]
    }
   ],
   "source": [
    "myinput = [\"2\\n\", \"0 0 2 0 0 1 0 0 0\\n\", \"0 0 0 0 0 0 0 1 0\"]\n",
    "\n",
    "starter(myinput)"
   ]
  },
  {
   "cell_type": "code",
   "execution_count": 157,
   "metadata": {},
   "outputs": [
    {
     "data": {
      "text/plain": [
       "['336', '363']"
      ]
     },
     "execution_count": 157,
     "metadata": {},
     "output_type": "execute_result"
    }
   ],
   "source": [
    "sorted([\"363\", \"336\"])"
   ]
  },
  {
   "cell_type": "code",
   "execution_count": 172,
   "metadata": {},
   "outputs": [
    {
     "data": {
      "text/plain": [
       "['123', '364']"
      ]
     },
     "execution_count": 172,
     "metadata": {},
     "output_type": "execute_result"
    }
   ],
   "source": [
    "set_ = {\"364\", \"123\"}\n",
    "sorted(set_)"
   ]
  },
  {
   "cell_type": "code",
   "execution_count": 173,
   "metadata": {},
   "outputs": [
    {
     "data": {
      "text/plain": [
       "0"
      ]
     },
     "execution_count": 173,
     "metadata": {},
     "output_type": "execute_result"
    }
   ],
   "source": [
    "99999999%11"
   ]
  },
  {
   "cell_type": "code",
   "execution_count": 243,
   "metadata": {},
   "outputs": [
    {
     "name": "stdout",
     "output_type": "stream",
     "text": [
      "1573977311.3372889\n"
     ]
    }
   ],
   "source": [
    "import time\n",
    "print(time.time())"
   ]
  },
  {
   "cell_type": "code",
   "execution_count": null,
   "metadata": {},
   "outputs": [],
   "source": []
  }
 ],
 "metadata": {
  "kernelspec": {
   "display_name": "Python 3",
   "language": "python",
   "name": "python3"
  },
  "language_info": {
   "codemirror_mode": {
    "name": "ipython",
    "version": 3
   },
   "file_extension": ".py",
   "mimetype": "text/x-python",
   "name": "python",
   "nbconvert_exporter": "python",
   "pygments_lexer": "ipython3",
   "version": "3.6.5"
  }
 },
 "nbformat": 4,
 "nbformat_minor": 2
}
