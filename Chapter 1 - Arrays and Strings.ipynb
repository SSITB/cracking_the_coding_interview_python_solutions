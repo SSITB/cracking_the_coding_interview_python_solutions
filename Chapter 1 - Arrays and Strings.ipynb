{
 "cells": [
  {
   "cell_type": "markdown",
   "metadata": {},
   "source": [
    "# Arrays and Strings"
   ]
  },
  {
   "cell_type": "markdown",
   "metadata": {},
   "source": [
    "## 1.1 Implement an algorithm to determine if a string has all unique characters. What if you can not use additional data structures?"
   ]
  },
  {
   "cell_type": "markdown",
   "metadata": {},
   "source": [
    "### Solution 1: Compare each character in string with other characters\n",
    "Remarks: \n",
    "- O(n^2) solution but does not require additional data structures\n",
    "- Need to check if \"a\" and \"A\" are considered the same\n",
    "- Edge cases: empy string, single character string"
   ]
  },
  {
   "cell_type": "code",
   "execution_count": 18,
   "metadata": {},
   "outputs": [],
   "source": [
    "def all_unique(input_string):\n",
    "    \n",
    "    input_string = input_string.lower()\n",
    "    \n",
    "    if input_string==\"\":\n",
    "        return True\n",
    "    \n",
    "    for i in range(len(input_string)):\n",
    "        for j in range(i+1, len(input_string)):\n",
    "            if input_string[i]==input_string[j]:\n",
    "                return False\n",
    "            \n",
    "    return True"
   ]
  },
  {
   "cell_type": "code",
   "execution_count": 19,
   "metadata": {},
   "outputs": [
    {
     "name": "stdout",
     "output_type": "stream",
     "text": [
      "True\n",
      "True\n",
      "True\n",
      "False\n"
     ]
    }
   ],
   "source": [
    "test_cases = [\"\", \"a\", 'aish', \"aaish\"]\n",
    "\n",
    "for test_case in test_cases:\n",
    "    print(all_unique(test_case))"
   ]
  },
  {
   "cell_type": "markdown",
   "metadata": {},
   "source": [
    "### Solution 2: Keep a track of each 'visited' character\n",
    "\n",
    "Remarks:\n",
    "- Requires O(n) space\n",
    "- O(n) time"
   ]
  },
  {
   "cell_type": "code",
   "execution_count": 24,
   "metadata": {},
   "outputs": [],
   "source": [
    "def all_unique(input_string):\n",
    "    \n",
    "    input_string = input_string.lower()\n",
    "    \n",
    "    if input_string==\"\":\n",
    "        return True\n",
    "    \n",
    "    visited = {} \n",
    "    \n",
    "    for i in range(len(input_string)):\n",
    "        try:\n",
    "            if visited[input_string[i]]: #if visited contains the character already\n",
    "                return False\n",
    "        except:\n",
    "            visited[input_string[i]]=1\n",
    "    \n",
    "    return True    "
   ]
  },
  {
   "cell_type": "code",
   "execution_count": 25,
   "metadata": {},
   "outputs": [
    {
     "name": "stdout",
     "output_type": "stream",
     "text": [
      "True\n",
      "True\n",
      "True\n",
      "False\n"
     ]
    }
   ],
   "source": [
    "test_cases = [\"\", \"a\", 'aish', \"aaish\"]\n",
    "\n",
    "for test_case in test_cases:\n",
    "    print(all_unique(test_case))"
   ]
  },
  {
   "cell_type": "markdown",
   "metadata": {},
   "source": [
    "## 1.2 Write code to reverse a C-Style String. (C-String means that “abcd” is represented as five characters, including the null character.)"
   ]
  },
  {
   "cell_type": "markdown",
   "metadata": {},
   "source": [
    "### Solution: Traverse string and add each character to the back of a new string\n",
    "\n",
    "Remarks:\n",
    "- We will use _ to represent the Null character\n",
    "- O(n) space complexity solution that requires us to create a copy of the string"
   ]
  },
  {
   "cell_type": "code",
   "execution_count": 28,
   "metadata": {},
   "outputs": [],
   "source": [
    "def reverse_c_string(input_string):\n",
    "    \n",
    "    if input_string==\"\":\n",
    "        return input_string\n",
    "    \n",
    "    reversed_string = \"_\"\n",
    "    \n",
    "    for i in range(len(input_string)-1):\n",
    "        reversed_string = input_string[i]+reversed_string\n",
    "        \n",
    "    return reversed_string\n",
    "        \n",
    "        "
   ]
  },
  {
   "cell_type": "code",
   "execution_count": 30,
   "metadata": {},
   "outputs": [
    {
     "name": "stdout",
     "output_type": "stream",
     "text": [
      "_\n",
      "a_\n",
      "hsia_\n",
      "hsiaa_\n"
     ]
    }
   ],
   "source": [
    "test_cases = [\"_\", \"a_\", 'aish_', \"aaish_\"]\n",
    "\n",
    "for test_case in test_cases:\n",
    "    print(reverse_c_string(test_case))"
   ]
  },
  {
   "cell_type": "markdown",
   "metadata": {},
   "source": [
    "## 1.3 Design an algorithm and write code to remove the duplicate characters in a string without using any additional buffer. NOTE: One or two additional variables are fine. An extra copy of the array is not.\n",
    "FOLLOW UP\n",
    "Write the test cases for this method."
   ]
  },
  {
   "cell_type": "markdown",
   "metadata": {},
   "source": [
    "### Solution: Check every character against every other\n",
    "\n",
    "Remarks:\n",
    "- In Python strings are immutable\n",
    "- We need to consider the case of spaces. Do we count spaces as duplicates? For now we assume our string is without spaces.\n",
    "- We also need to confirm whether we drop the first character or the next"
   ]
  },
  {
   "cell_type": "code",
   "execution_count": 35,
   "metadata": {},
   "outputs": [],
   "source": [
    "def remove_duplicates(input_string):\n",
    "    \n",
    "    if input_string==\"\":\n",
    "        return input_string\n",
    "    \n",
    "    if len(input_string)==1:\n",
    "        return input_string\n",
    "    \n",
    "    for i in len(input_string):\n",
    "        \n",
    "        traversable_length = input_string[i+1:]\n",
    "        j=1\n",
    "        \n",
    "        while j<traversable_length:\n",
    "            \n",
    "            #removal\n",
    "            if input_string[i]==input_string[j]:\n",
    "                input_string = input_string[i:j]+input_string[j+1:]\n",
    "                \n",
    "                traversable_length=-1\n",
    "                j+=1\n",
    "    \n",
    "    return input_string"
   ]
  },
  {
   "cell_type": "code",
   "execution_count": 39,
   "metadata": {},
   "outputs": [
    {
     "name": "stdout",
     "output_type": "stream",
     "text": [
      "\n",
      "abc\n",
      "abcde\n",
      "a\n",
      "ab\n",
      "abcd\n"
     ]
    }
   ],
   "source": [
    "test_cases = [\"\", \"aabc\", \"aabbccddee\", \"a\", \"ababababa\", \"abcd\"]\n",
    "\n",
    "for test_case in test_cases:\n",
    "    print(remove_duplicates(test_case))\n",
    "    "
   ]
  },
  {
   "cell_type": "markdown",
   "metadata": {},
   "source": [
    "## 1.4 Write a method to decide if two strings are anagrams or not."
   ]
  },
  {
   "cell_type": "markdown",
   "metadata": {},
   "source": [
    "### Solution: Sort the strings and compare by character. \n",
    "\n",
    "Remarks:\n",
    "- If length of strings is different then they cannot be anagrams\n",
    "- O(logn) for sorting and O(n) for comparing (Timsort)"
   ]
  },
  {
   "cell_type": "code",
   "execution_count": 44,
   "metadata": {},
   "outputs": [],
   "source": [
    "def is_anagram(string_1, string_2):\n",
    "    \n",
    "    if len(string_1)!=len(string_2):\n",
    "        return False\n",
    "    \n",
    "    string_1 = sorted(string_1)\n",
    "    string_2 = sorted(string_2)\n",
    "    \n",
    "    for i in range(len(string_1)):\n",
    "        if string_1[i]!=string_2[i]:\n",
    "            return False\n",
    "    \n",
    "    return True\n",
    "    "
   ]
  },
  {
   "cell_type": "code",
   "execution_count": 46,
   "metadata": {},
   "outputs": [
    {
     "name": "stdout",
     "output_type": "stream",
     "text": [
      "True\n",
      "True\n",
      "False\n",
      "False\n"
     ]
    }
   ],
   "source": [
    "test_cases = [(\"mane\", \"name\"), (\"\", \"\"), (\"man\", \"name\"), (\"aabcc\", \"abbcc\")]\n",
    "\n",
    "for test_case in test_cases:\n",
    "    print(is_anagram(test_case[0], test_case[1]))"
   ]
  },
  {
   "cell_type": "markdown",
   "metadata": {},
   "source": [
    "## 1.5 Write a method to replace all spaces in a string with ‘%20’."
   ]
  },
  {
   "cell_type": "markdown",
   "metadata": {},
   "source": [
    "### Solution: Traverse string and replace\n",
    "\n",
    "Remarks: \n",
    "- Python strings are immutable\n",
    "- O(n) for traversal"
   ]
  },
  {
   "cell_type": "code",
   "execution_count": 50,
   "metadata": {},
   "outputs": [],
   "source": [
    "def replace_spaces(input_string):\n",
    "    \n",
    "    i=0\n",
    "    traverse_length = len(input_string)\n",
    "\n",
    "    while i<traverse_length:\n",
    "        if input_string[i]==\" \":\n",
    "            input_string = input_string[:i]+\"%20\"+input_string[i+1:]\n",
    "            \n",
    "            traverse_length+=1 #since we have added one extra character\n",
    "            i+=1\n",
    "            \n",
    "        else:\n",
    "            i+=1\n",
    "    \n",
    "    return input_string\n",
    "            "
   ]
  },
  {
   "cell_type": "code",
   "execution_count": 51,
   "metadata": {},
   "outputs": [
    {
     "name": "stdout",
     "output_type": "stream",
     "text": [
      "%20%20%20%20%20    \n",
      "aishwarya%20prabhat\n",
      "aish\n"
     ]
    }
   ],
   "source": [
    "test_cases = [\"         \", \"aishwarya prabhat\", \"aish\"]\n",
    "\n",
    "for test_case in test_cases:\n",
    "    print(replace_spaces(test_case))"
   ]
  },
  {
   "cell_type": "markdown",
   "metadata": {},
   "source": [
    "## *1.6 Given an image represented by an NxN matrix, where each pixel in the image is 4 bytes, write a method to rotate the image by 90 degrees. Can you do this in place?"
   ]
  },
  {
   "cell_type": "markdown",
   "metadata": {},
   "source": [
    "### Solution: swap the values around by observing pattern of position change\n",
    "\n",
    "Remarks:\n",
    "For a 3x3 matrix\n",
    "- (0,0)->(0,2)\n",
    "- (0,1)->(1,2)\n",
    "- (0,2)->(2,2)\n",
    "\n",
    "\n",
    "- (1,0)->(0,1)\n",
    "- (1,1)->(1,1)\n",
    "- (1,2)->(2,1)\n",
    "\n",
    "\n",
    "- (2,0)->(0,0)\n",
    "- (2,1)->(1,0)\n",
    "- (2,2)->(2,0)\n",
    "\n",
    "So the pattern seems to be....\n",
    "- (x_old, y_old)->(x_new=y_old, y_new=(n-1)-x_old)\n",
    "\n",
    "- To do it in place, we will have to buffer the column whose values are being first replaced. For example when we are filling up column n-1 with values from row 0, the values will be lost if we dont store the values of column n-1 somewhere first.\n"
   ]
  },
  {
   "cell_type": "code",
   "execution_count": 75,
   "metadata": {},
   "outputs": [],
   "source": [
    "def rotate_matrix(input_matrix):\n",
    "    \n",
    "    n = len(input_matrix)\n",
    "    matrix_buffer = {}\n",
    "    \n",
    "    for i in range(n):\n",
    "        \n",
    "        #Add column being replaced to buffer dictionary\n",
    "        for x in range(n):\n",
    "            matrix_buffer[(x, n-1-i)] = input_matrix[x][n-1-i]\n",
    "        \n",
    "        for j in range(n):\n",
    "            \n",
    "            if (i,j) in matrix_buffer.keys(): #position in the matrix has already been filled with new value\n",
    "                value_to_teleport = matrix_buffer[(i,j)]\n",
    "                del matrix_buffer[(i,j)] #to save space and not create another copy of the whole matrix\n",
    "                \n",
    "            else: #position in the matrix has already been filled with new value\n",
    "                value_to_teleport = input_matrix[i][j]\n",
    "                \n",
    "            new_i = j\n",
    "            new_j = n-1-i\n",
    "            \n",
    "            input_matrix[new_i][new_j] = value_to_teleport\n",
    "\n",
    "    return input_matrix \n",
    "        "
   ]
  },
  {
   "cell_type": "code",
   "execution_count": 79,
   "metadata": {},
   "outputs": [
    {
     "name": "stdout",
     "output_type": "stream",
     "text": [
      "[]\n",
      "\n",
      "\n",
      "[]\n",
      "\n",
      "\n",
      "\n",
      "\n",
      "[[3]]\n",
      "\n",
      "\n",
      "[[3]]\n",
      "\n",
      "\n",
      "\n",
      "\n",
      "[[0 0]\n",
      " [1 4]]\n",
      "\n",
      "\n",
      "[[1 0]\n",
      " [4 0]]\n",
      "\n",
      "\n",
      "\n",
      "\n",
      "[[4 4 2]\n",
      " [3 2 1]\n",
      " [1 3 2]]\n",
      "\n",
      "\n",
      "[[1 3 4]\n",
      " [3 2 4]\n",
      " [2 1 2]]\n",
      "\n",
      "\n",
      "\n",
      "\n",
      "[[0 0 3 2]\n",
      " [3 0 4 1]\n",
      " [2 3 0 2]\n",
      " [0 3 3 1]]\n",
      "\n",
      "\n",
      "[[0 2 3 0]\n",
      " [3 3 0 0]\n",
      " [3 0 4 3]\n",
      " [1 2 1 2]]\n",
      "\n",
      "\n",
      "\n",
      "\n"
     ]
    }
   ],
   "source": [
    "test_cases = [numpy.random.randint(low=0, high=5, size=(n,n)) for n in range(5)]\n",
    "for test_case in test_cases:\n",
    "    print(test_case)\n",
    "    print(\"\\n\")\n",
    "    print(rotate_matrix(test_case))\n",
    "    print(\"\\n\")\n",
    "    print(\"\\n\")"
   ]
  },
  {
   "cell_type": "markdown",
   "metadata": {},
   "source": [
    "## *1.7 Write an algorithm such that if an element in an MxN matrix is 0, its entire row and column is set to 0."
   ]
  },
  {
   "cell_type": "markdown",
   "metadata": {},
   "source": [
    "### Solution: Traverse matrix looking for 0 and turn entire row and column 0\n",
    "Remarks:\n",
    "- To do it in place need to buffer old state otherwise if there is a 0 in the first row, the whole table will turn into 0s because of the new 0s implanted into the matrix\n",
    "- We also have to make sure we don't replace the buffered position's original value accidentally when trying to buffer rows and columns for a new 0"
   ]
  },
  {
   "cell_type": "code",
   "execution_count": 109,
   "metadata": {},
   "outputs": [],
   "source": [
    "def implant_zeros(input_matrix):\n",
    "    \n",
    "    m = len(input_matrix)\n",
    "    \n",
    "    try:\n",
    "        n = len(input_matrix[0])\n",
    "    except:\n",
    "        return input_matrix\n",
    "    \n",
    "    \n",
    "    matrix_buffer = {}\n",
    "    \n",
    "    for i in range(m):\n",
    "        for j in range(n):\n",
    "            \n",
    "            if (i,j) in matrix_buffer.keys():\n",
    "                value_under_consideration = matrix_buffer[(i,j)]\n",
    "                del matrix_buffer[(i,j)]\n",
    "            else:\n",
    "                value_under_consideration = input_matrix[i][j]\n",
    "                \n",
    "            if value_under_consideration==0:\n",
    "                \n",
    "                #buffer the row\n",
    "                for j_ in range(j+1,n):\n",
    "                    if (i,j_) not in matrix_buffer.keys():\n",
    "                        matrix_buffer[(i,j_)] = input_matrix[i][j_]\n",
    "                \n",
    "                #buffer the column\n",
    "                for i_ in range(i+1, m):\n",
    "                    if (i_,j) not in matrix_buffer.keys():\n",
    "                        matrix_buffer[(i_,j)] = input_matrix[i_][j]\n",
    "                \n",
    "#                 print(matrix_buffer)\n",
    "                #turn the whole row into 0s\n",
    "                for j_ in range(0,n):\n",
    "                    input_matrix[i][j_] = 0\n",
    "                \n",
    "                #turn the whole column into 0s\n",
    "                for i_ in range(0, m):\n",
    "                    input_matrix[i_][j] = 0\n",
    "    \n",
    "    return input_matrix\n",
    "           "
   ]
  },
  {
   "cell_type": "code",
   "execution_count": 108,
   "metadata": {},
   "outputs": [
    {
     "name": "stdout",
     "output_type": "stream",
     "text": [
      "[[4 0]\n",
      " [0 2]]\n",
      "\n",
      "\n",
      "[[0 0]\n",
      " [0 0]]\n",
      "\n",
      "\n",
      "\n",
      "\n",
      "[[0 2 3]\n",
      " [1 0 3]\n",
      " [1 4 4]]\n",
      "\n",
      "\n",
      "[[0 0 0]\n",
      " [0 0 0]\n",
      " [0 0 4]]\n",
      "\n",
      "\n",
      "\n",
      "\n",
      "[[0 4 0 1]\n",
      " [3 1 0 0]\n",
      " [0 3 0 2]\n",
      " [4 3 0 1]]\n",
      "\n",
      "\n",
      "[[0 0 0 0]\n",
      " [0 0 0 0]\n",
      " [0 0 0 0]\n",
      " [0 0 0 0]]\n",
      "\n",
      "\n",
      "\n",
      "\n",
      "[[3 4 4 2 3]\n",
      " [1 2 4 1 3]\n",
      " [0 1 3 3 1]\n",
      " [1 1 2 4 2]\n",
      " [1 3 2 2 4]]\n",
      "\n",
      "\n",
      "[[0 4 4 2 3]\n",
      " [0 2 4 1 3]\n",
      " [0 0 0 0 0]\n",
      " [0 1 2 4 2]\n",
      " [0 3 2 2 4]]\n",
      "\n",
      "\n",
      "\n",
      "\n",
      "[[2 0 4 1 0 3]\n",
      " [2 4 2 1 1 4]\n",
      " [0 4 1 1 2 2]\n",
      " [0 3 4 0 2 2]\n",
      " [0 2 2 3 0 3]\n",
      " [2 2 1 4 0 4]]\n",
      "\n",
      "\n",
      "[[0 0 0 0 0 0]\n",
      " [0 0 2 0 0 4]\n",
      " [0 0 0 0 0 0]\n",
      " [0 0 0 0 0 0]\n",
      " [0 0 0 0 0 0]\n",
      " [0 0 0 0 0 0]]\n",
      "\n",
      "\n",
      "\n",
      "\n"
     ]
    }
   ],
   "source": [
    "test_cases = [numpy.random.randint(low=0, high=5, size=(n,n)) for n in range(2,7)]\n",
    "for test_case in test_cases:\n",
    "    print(test_case)\n",
    "    print(\"\\n\")\n",
    "    print(implant_zeros(test_case))\n",
    "    print(\"\\n\")\n",
    "    print(\"\\n\")"
   ]
  },
  {
   "cell_type": "markdown",
   "metadata": {},
   "source": [
    "## 1.8 Assume you have a method isSubstring which checks if one word is a substring of another. Given two strings, s1 and s2, write code to check if s2 is a rotation of s1 using only one call to isSubstring (i.e., “waterbottle” is a rotation of “erbottlewat”). "
   ]
  },
  {
   "cell_type": "markdown",
   "metadata": {},
   "source": [
    "### Solution: Concatenate the two strings and check if s2 is a substring of the concatenated string"
   ]
  },
  {
   "cell_type": "code",
   "execution_count": 111,
   "metadata": {},
   "outputs": [],
   "source": [
    "def isSubstring(source_string, substring):\n",
    "    \n",
    "    return substring in source_string"
   ]
  },
  {
   "cell_type": "code",
   "execution_count": 115,
   "metadata": {},
   "outputs": [],
   "source": [
    "def check_rotation(s1, s2):\n",
    "    \n",
    "    if len(s1)!=len(s2):\n",
    "        return False\n",
    "    \n",
    "    s3 = s1+s1\n",
    "    return isSubstring(s3, s2)"
   ]
  },
  {
   "cell_type": "code",
   "execution_count": 117,
   "metadata": {},
   "outputs": [
    {
     "name": "stdout",
     "output_type": "stream",
     "text": [
      "True\n",
      "False\n",
      "False\n"
     ]
    }
   ],
   "source": [
    "test_cases = [(\" \", \" \"), (\"aishwarya\", \"yaaishwar\"), (\"aish\", \"siah\")]\n",
    "\n",
    "for test_case in test_cases:\n",
    "    print(check_rotation(test_case[0], test_case[1]))"
   ]
  },
  {
   "cell_type": "code",
   "execution_count": null,
   "metadata": {},
   "outputs": [],
   "source": [
    "siah in aishsiah"
   ]
  }
 ],
 "metadata": {
  "kernelspec": {
   "display_name": "Python 3",
   "language": "python",
   "name": "python3"
  },
  "language_info": {
   "codemirror_mode": {
    "name": "ipython",
    "version": 3
   },
   "file_extension": ".py",
   "mimetype": "text/x-python",
   "name": "python",
   "nbconvert_exporter": "python",
   "pygments_lexer": "ipython3",
   "version": "3.6.5"
  }
 },
 "nbformat": 4,
 "nbformat_minor": 2
}
