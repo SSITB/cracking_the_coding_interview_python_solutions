{
 "cells": [
  {
   "cell_type": "markdown",
   "metadata": {},
   "source": [
    "# Arrays and Strings"
   ]
  },
  {
   "cell_type": "markdown",
   "metadata": {},
   "source": [
    "#### 1.1 Implement an algorithm to determine if a string has all unique characters. What if you can not use additional data structures?"
   ]
  },
  {
   "cell_type": "markdown",
   "metadata": {},
   "source": [
    "Basic algorithm:\n",
    "- Use index to compare character at index i to every other character\n",
    "- If repeated character found, terminate else continue till (second) last character reached\n",
    "- Complexity is O(n**2)\n",
    "\n",
    "Edge cases:\n",
    "- Empty string\n",
    "- One character string\n",
    "- Not a string\n",
    "- Upper case/lower case "
   ]
  },
  {
   "cell_type": "code",
   "execution_count": 7,
   "metadata": {},
   "outputs": [],
   "source": [
    "def all_unique(input_string):\n",
    "    input_string = input_string.lower() #assuming for example 'a'=='A' \n",
    "    for i in range(len(input_string)-1): #only need to go upto second last element\n",
    "        for next_character in input_string[i+1:]:\n",
    "            if next_character==input_string[i]:\n",
    "                return False\n",
    "            else:\n",
    "                continue\n",
    "    return True"
   ]
  },
  {
   "cell_type": "code",
   "execution_count": 11,
   "metadata": {},
   "outputs": [
    {
     "name": "stdout",
     "output_type": "stream",
     "text": [
      "True\n",
      "False\n",
      "True\n",
      "False\n",
      "True\n"
     ]
    }
   ],
   "source": [
    "#Test\n",
    "test_cases = [\"abcdefg\",\"abcdee\",\"a\",\"Aishwarya\",\"\"]\n",
    "for test_case in test_cases:\n",
    "    print(all_unique(test_case))"
   ]
  },
  {
   "cell_type": "markdown",
   "metadata": {},
   "source": [
    "A O(n) time and O(n) space solution:\n",
    "Algorithm checks if character already exists in a checking_dictionary which holds on to characters that have already been \"seen\""
   ]
  },
  {
   "cell_type": "code",
   "execution_count": 19,
   "metadata": {},
   "outputs": [],
   "source": [
    "def all_unique(input_string):\n",
    "    input_string = input_string.lower() #assuming for example 'a'=='A' \n",
    "    checking_dictionary = {}\n",
    "    for character in input_string:\n",
    "        try:\n",
    "            if checking_dictionary[character] is not None:\n",
    "                return False\n",
    "        except:\n",
    "            checking_dictionary[character] = 1\n",
    "    return True"
   ]
  },
  {
   "cell_type": "code",
   "execution_count": 20,
   "metadata": {},
   "outputs": [
    {
     "name": "stdout",
     "output_type": "stream",
     "text": [
      "True\n",
      "False\n",
      "True\n",
      "False\n",
      "True\n"
     ]
    }
   ],
   "source": [
    "test_cases = [\"abcdefg\",\"abcdee\",\"a\",\"Aishwarya\",\"\"]\n",
    "for test_case in test_cases:\n",
    "    print(all_unique(test_case))"
   ]
  },
  {
   "cell_type": "markdown",
   "metadata": {},
   "source": [
    "#### 1.2 Write code to reverse a C-Style String. (C-String means that “abcd” is represented as five characters, including the null character.)"
   ]
  },
  {
   "cell_type": "markdown",
   "metadata": {},
   "source": [
    "We will represent the null character with \"\\_\". So after reversing \"abcde_\" we should get \"edcba_\". Need to keep in mind that in python, strings are immutable."
   ]
  },
  {
   "cell_type": "code",
   "execution_count": 50,
   "metadata": {},
   "outputs": [],
   "source": [
    "#O(n) time and O(n) space\n",
    "def reverse_cstring(cstring):\n",
    "\n",
    "    reversed_string = \"\"\n",
    "    for i in range(len(cstring)):\n",
    "        if cstring[i]!=\"_\":\n",
    "            reversed_string = cstring[i]+reversed_string\n",
    "        else:\n",
    "            reversed_string = reversed_string+\"_\"\n",
    "        \n",
    "    return reversed_string"
   ]
  },
  {
   "cell_type": "code",
   "execution_count": 52,
   "metadata": {},
   "outputs": [
    {
     "name": "stdout",
     "output_type": "stream",
     "text": [
      "gfedcba_\n",
      "eedcba_\n",
      "a_\n",
      "ayrawhsiA_\n",
      "_\n"
     ]
    }
   ],
   "source": [
    "test_cases = [\"abcdefg_\",\"abcdee_\",\"a_\",\"Aishwarya_\",\"_\"]\n",
    "for test_case in test_cases:\n",
    "    print(reverse_cstring(cstring=test_case))"
   ]
  },
  {
   "cell_type": "markdown",
   "metadata": {},
   "source": [
    "#### 1.3 Design an algorithm and write code to remove the duplicate characters in a string without using any additional buffer. \n",
    "#### NOTE: One or two additional variables are fine. An extra copy of the array is not. \n",
    "#### FOLLOW UP: Write the test cases for this method"
   ]
  },
  {
   "cell_type": "markdown",
   "metadata": {},
   "source": [
    "Strategy is to compare one character to all other characters in the string. This is O(n^2) solution but since we can't use additional data structures, this seems to be the best way. Keep in mind that in Python strings are immutable, so you have no choice but to create a new string for a string without duplicates. So we will try to solve the problem using only strings.\n",
    "\n",
    "Edge cases:\n",
    "- Empty string\n",
    "- String with single character\n",
    "- Upper case/lower case? (need to clarify with interviwer)"
   ]
  },
  {
   "cell_type": "code",
   "execution_count": 18,
   "metadata": {},
   "outputs": [],
   "source": [
    "def remove_duplicates(input_string):\n",
    "    \n",
    "    if len(input_string)<2:\n",
    "        return input_string\n",
    "    input_string = input_string.lower()\n",
    "    string_without_duplicates = \"\"\n",
    "    for i in range(len(input_string)):\n",
    "        if input_string[i] in string_without_duplicates:\n",
    "            continue\n",
    "        else:\n",
    "            string_without_duplicates = string_without_duplicates+input_string[i]\n",
    "    return string_without_duplicates\n",
    "        \n",
    "    "
   ]
  },
  {
   "cell_type": "code",
   "execution_count": 20,
   "metadata": {},
   "outputs": [
    {
     "name": "stdout",
     "output_type": "stream",
     "text": [
      "abcdefg\n",
      "abcde\n",
      "a\n",
      "a\n",
      "aishwry\n",
      "\n"
     ]
    }
   ],
   "source": [
    "test_cases = [\"abcdefg\",\"abcdee\",\"a\",\"aaaaa\",\"Aishwarya\",\"\"]\n",
    "for test_case in test_cases:\n",
    "    print(remove_duplicates(test_case))"
   ]
  },
  {
   "cell_type": "markdown",
   "metadata": {},
   "source": [
    "#### 1.4 Write a method to decide if two strings are anagrams or not."
   ]
  },
  {
   "cell_type": "markdown",
   "metadata": {},
   "source": [
    "The strategy is to check both strings character by character, with one word forward and the other backward. \n",
    "\n",
    "Edge cases:\n",
    "- if lengths of words are different\n",
    "- empty strings\n",
    "- non-strings\n",
    "- lower-case/upper-case"
   ]
  },
  {
   "cell_type": "code",
   "execution_count": 7,
   "metadata": {},
   "outputs": [],
   "source": [
    "def check_if_anagram(string1, string2):\n",
    "    \n",
    "    if len(string1)!=len(string2):\n",
    "        return False\n",
    "    \n",
    "    for i in range(len(string1)):\n",
    "        if string1[i]==string2[-1-i]:\n",
    "            continue\n",
    "        else:\n",
    "            return False\n",
    "        \n",
    "    return True"
   ]
  },
  {
   "cell_type": "code",
   "execution_count": 9,
   "metadata": {},
   "outputs": [
    {
     "name": "stdout",
     "output_type": "stream",
     "text": [
      "True\n",
      "True\n",
      "False\n"
     ]
    }
   ],
   "source": [
    "test_cases = [(\"abcdef\",\"fedcba\"),(\"\",\"\"),(\"a\",\"ab\")]\n",
    "\n",
    "for test_case in test_cases:\n",
    "    print(check_if_anagram(test_case[0],test_case[1]))"
   ]
  },
  {
   "cell_type": "markdown",
   "metadata": {},
   "source": [
    "#### 1.5 Write a method to replace all spaces in a string with ‘%20’."
   ]
  },
  {
   "cell_type": "markdown",
   "metadata": {},
   "source": [
    "Since in Python strings are immutable, if we want to get the job done in O(n) we should first convert the string to a mutable data structure like a list in O(n) time and then carry out the replacement in O(1).\n",
    "\n",
    "Edge cases:\n",
    "- Empty string\n",
    "- Non string\n",
    "- Just a space"
   ]
  },
  {
   "cell_type": "code",
   "execution_count": 19,
   "metadata": {},
   "outputs": [],
   "source": [
    "def replace_empty_space(input_string):\n",
    "    \n",
    "    input_string = [char for char in input_string]#converts to a list\n",
    "    for i in range(len(input_string)):\n",
    "        if input_string[i]==\" \":\n",
    "            input_string[i] = \"%20\"\n",
    "        else:\n",
    "            continue\n",
    "    return ''.join(input_string)\n",
    "    \n",
    "    "
   ]
  },
  {
   "cell_type": "code",
   "execution_count": 20,
   "metadata": {},
   "outputs": [
    {
     "name": "stdout",
     "output_type": "stream",
     "text": [
      "Donald%20Trump\n",
      "Barack%20Husain%20Obama\n",
      "Cracking%20the%20coding%20interview%20\n",
      "\n",
      "%20\n"
     ]
    }
   ],
   "source": [
    "test_cases = [\"Donald Trump\", \"Barack Husain Obama\", \"Cracking the coding interview \",\"\",\" \"]\n",
    "for test_case in test_cases:\n",
    "    print(replace_empty_space(test_case))"
   ]
  },
  {
   "cell_type": "code",
   "execution_count": null,
   "metadata": {},
   "outputs": [],
   "source": []
  }
 ],
 "metadata": {
  "kernelspec": {
   "display_name": "Python 3",
   "language": "python",
   "name": "python3"
  },
  "language_info": {
   "codemirror_mode": {
    "name": "ipython",
    "version": 3
   },
   "file_extension": ".py",
   "mimetype": "text/x-python",
   "name": "python",
   "nbconvert_exporter": "python",
   "pygments_lexer": "ipython3",
   "version": "3.6.5"
  }
 },
 "nbformat": 4,
 "nbformat_minor": 2
}
