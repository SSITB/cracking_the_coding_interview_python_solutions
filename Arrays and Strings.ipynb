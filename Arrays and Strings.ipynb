{
 "cells": [
  {
   "cell_type": "markdown",
   "metadata": {},
   "source": [
    "# Arrays and Strings"
   ]
  },
  {
   "cell_type": "markdown",
   "metadata": {},
   "source": [
    "#### 1.1 Implement an algorithm to determine if a string has all unique characters. What if you can not use additional data structures?"
   ]
  },
  {
   "cell_type": "markdown",
   "metadata": {},
   "source": [
    "Basic algorithm:\n",
    "- Use index to compare character at index i to every other character\n",
    "- If repeated character found, terminate else continue till (second) last character reached\n",
    "- Complexity is O(n**2)\n",
    "\n",
    "Edge cases:\n",
    "- Empty string\n",
    "- One character string\n",
    "- Not a string\n",
    "- Upper case/lower case "
   ]
  },
  {
   "cell_type": "code",
   "execution_count": 7,
   "metadata": {},
   "outputs": [],
   "source": [
    "def all_unique(input_string):\n",
    "    input_string = input_string.lower() #assuming for example 'a'=='A' \n",
    "    for i in range(len(input_string)-1): #only need to go upto second last element\n",
    "        for next_character in input_string[i+1:]:\n",
    "            if next_character==input_string[i]:\n",
    "                return False\n",
    "            else:\n",
    "                continue\n",
    "    return True"
   ]
  },
  {
   "cell_type": "code",
   "execution_count": 11,
   "metadata": {},
   "outputs": [
    {
     "name": "stdout",
     "output_type": "stream",
     "text": [
      "True\n",
      "False\n",
      "True\n",
      "False\n",
      "True\n"
     ]
    }
   ],
   "source": [
    "#Test\n",
    "test_cases = [\"abcdefg\",\"abcdee\",\"a\",\"Aishwarya\",\"\"]\n",
    "for test_case in test_cases:\n",
    "    print(all_unique(test_case))"
   ]
  },
  {
   "cell_type": "markdown",
   "metadata": {},
   "source": [
    "A O(n) time and O(n) space solution:\n",
    "Algorithm checks if character already exists in a checking_dictionary which holds on to characters that have already been \"seen\""
   ]
  },
  {
   "cell_type": "code",
   "execution_count": 19,
   "metadata": {},
   "outputs": [],
   "source": [
    "def all_unique(input_string):\n",
    "    input_string = input_string.lower() #assuming for example 'a'=='A' \n",
    "    checking_dictionary = {}\n",
    "    for character in input_string:\n",
    "        try:\n",
    "            if checking_dictionary[character] is not None:\n",
    "                return False\n",
    "        except:\n",
    "            checking_dictionary[character] = 1\n",
    "    return True"
   ]
  },
  {
   "cell_type": "code",
   "execution_count": 20,
   "metadata": {},
   "outputs": [
    {
     "name": "stdout",
     "output_type": "stream",
     "text": [
      "True\n",
      "False\n",
      "True\n",
      "False\n",
      "True\n"
     ]
    }
   ],
   "source": [
    "test_cases = [\"abcdefg\",\"abcdee\",\"a\",\"Aishwarya\",\"\"]\n",
    "for test_case in test_cases:\n",
    "    print(all_unique(test_case))"
   ]
  },
  {
   "cell_type": "code",
   "execution_count": null,
   "metadata": {},
   "outputs": [],
   "source": []
  }
 ],
 "metadata": {
  "kernelspec": {
   "display_name": "Python 3",
   "language": "python",
   "name": "python3"
  },
  "language_info": {
   "codemirror_mode": {
    "name": "ipython",
    "version": 3
   },
   "file_extension": ".py",
   "mimetype": "text/x-python",
   "name": "python",
   "nbconvert_exporter": "python",
   "pygments_lexer": "ipython3",
   "version": "3.6.5"
  }
 },
 "nbformat": 4,
 "nbformat_minor": 2
}
