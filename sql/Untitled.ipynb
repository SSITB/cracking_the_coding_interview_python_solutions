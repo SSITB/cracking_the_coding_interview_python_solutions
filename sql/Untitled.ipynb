{
 "cells": [
  {
   "cell_type": "code",
   "execution_count": 38,
   "metadata": {},
   "outputs": [
    {
     "name": "stdout",
     "output_type": "stream",
     "text": [
      "[2,8,4,3,2], 7, 11, 3, waiting time:  8\n"
     ]
    }
   ],
   "source": [
    "def solution(A,X,Y,Z):\n",
    "    remaining_fuel = [X, Y, Z] #keep track of the amount of fuel remaining\n",
    "    available = [0,0,0] #keep track of which car is occupying/time taken to fuel\n",
    "\n",
    "    for i in range(len(A)):\n",
    "        index = available.index(min(available))\n",
    "        for next_station_index in range(len(remaining_fuel)): #check across all stations in order X, Y, Z\n",
    "            candidate_station_index = get_candidate_index(index, next_station_index, 3)\n",
    "#             print(candidate_station_index, index, next_station_index)\n",
    "            if(A[i] <= remaining_fuel[candidate_station_index]):\n",
    "                if i == len(A)-1: #last car\n",
    "                    return available[candidate_station_index];\n",
    "                #good to fuel\n",
    "                available[candidate_station_index] += A[i]\n",
    "                remaining_fuel[candidate_station_index] -= A[i]\n",
    "                break\n",
    "            else:\n",
    "                #try another station\n",
    "                continue\n",
    "                \n",
    "    #if not able to return\n",
    "    return -1\n",
    "\n",
    "def get_candidate_index(index, next_station_index, total_stations):\n",
    "    \n",
    "#     if index+next_station_index>3:\n",
    "#         return (index+next_station_index)%total_stations\n",
    "#     else:\n",
    "#         return index+next_station_index\n",
    "    return (index+next_station_index)%total_stations\n",
    "\n",
    "print(\"[2,8,4,3,2], 7, 11, 3, waiting time: \", solution([2,8,4,3,2], 7, 11, 3))\n",
    "# print(\"[2,8,3,3,2], 7, 11, 3, waiting time: \",calculateMaxTime([2,8,3,3,2], 7, 11, 3))\n",
    "# print(\"[2,8,4,3,2,1,2], 7, 11, 3, waiting time: \", calculateMaxTime([2,8,4,3,2,1,2], 7, 11, 3))\n",
    "# print(\"[8,2,4,3,2,1,1], 7, 11, 3, waiting time: \", calculateMaxTime([8,2,4,3,2,1,1], 7, 11, 3))"
   ]
  },
  {
   "cell_type": "markdown",
   "metadata": {},
   "source": [
    "```\n",
    "-- write your code in PostgreSQL 9.4\n",
    "SELECT plays.id as id, title, COALESCE(reserved_tickets, 0)\n",
    "FROM plays\n",
    "LEFT JOIN\n",
    "(SELECT play_id as id, SUM (number_of_tickets) as reserved_tickets\n",
    "FROM reservations\n",
    "GROUP BY play_id \n",
    "ORDER BY reserved_tickets DESC, id ASC) as res\n",
    "ON res.id = plays.id\n",
    "\n",
    "```"
   ]
  },
  {
   "cell_type": "code",
   "execution_count": null,
   "metadata": {},
   "outputs": [],
   "source": []
  }
 ],
 "metadata": {
  "kernelspec": {
   "display_name": "Python 3",
   "language": "python",
   "name": "python3"
  },
  "language_info": {
   "codemirror_mode": {
    "name": "ipython",
    "version": 3
   },
   "file_extension": ".py",
   "mimetype": "text/x-python",
   "name": "python",
   "nbconvert_exporter": "python",
   "pygments_lexer": "ipython3",
   "version": "3.6.5"
  }
 },
 "nbformat": 4,
 "nbformat_minor": 2
}
