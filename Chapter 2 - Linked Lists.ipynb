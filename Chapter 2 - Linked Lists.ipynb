{
 "cells": [
  {
   "cell_type": "code",
   "execution_count": 64,
   "metadata": {},
   "outputs": [],
   "source": [
    "from datastructures import Node, SinglyLinkedList, DoublyLinkedList\n",
    "import numpy as np"
   ]
  },
  {
   "cell_type": "markdown",
   "metadata": {},
   "source": [
    "## 2.1 Write code to remove duplicates from an unsorted linked list.\n",
    "FOLLOW UP:\n",
    "How would you solve this problem if a temporary buffer is not allowed?"
   ]
  },
  {
   "cell_type": "markdown",
   "metadata": {},
   "source": [
    "### Solution 1: Traverse LinkedList once to check for duplicates and once again to remove: O(n) space and O(n) time complexity\n",
    "### Solution 2: Compare each node to one another and remove on the fly: O(n^2)"
   ]
  },
  {
   "cell_type": "code",
   "execution_count": 69,
   "metadata": {},
   "outputs": [],
   "source": [
    "#Solution 1\n",
    "def remove_duplicates(linked_list):\n",
    "    \n",
    "    visited_values = set()\n",
    "    current_node = linked_list.head\n",
    "    \n",
    "    while current_node:\n",
    "        \n",
    "        if current_node.value in visited_values:\n",
    "            \n",
    "            if current_node.next:\n",
    "                current_node.next.previous = current_node.previous\n",
    "                current_node.previous.next = current_node.next #remove node\n",
    "            else: #catch the tail case\n",
    "                current_node.previous.next = current_node.next\n",
    "                break\n",
    "            \n",
    "        else:\n",
    "            visited_values.add(current_node.value)\n",
    "\n",
    "        current_node = current_node.next\n",
    "\n",
    "    \n",
    "    return linked_list"
   ]
  },
  {
   "cell_type": "code",
   "execution_count": 70,
   "metadata": {},
   "outputs": [
    {
     "name": "stdout",
     "output_type": "stream",
     "text": [
      "None->[1]->[0]->[2]->[1]->[1]->[1]->[2]->[0]->[2]->[2]->None\n",
      "None->[1]->[0]->[2]->None\n"
     ]
    }
   ],
   "source": [
    "ll = DoublyLinkedList()\n",
    "ll_ = [np.random.randint(0,3) for x in range(10)]\n",
    "\n",
    "for x in ll_:\n",
    "    ll.insert(x)\n",
    "\n",
    "ll.print_linked_list()\n",
    "remove_duplicates(ll).print_linked_list()"
   ]
  },
  {
   "cell_type": "markdown",
   "metadata": {},
   "source": [
    "## 2.2 Implement an algorithm to find the nth to last element of a singly linked list."
   ]
  },
  {
   "cell_type": "markdown",
   "metadata": {},
   "source": [
    "### Solution 1: Traverse the linkedlist once to determine length of linkedlist and then once again to find the nth to last element\n",
    "\n",
    "### Solution 2: Keep track of index n and element using some sort of a buffer but this will add additional O(n) space requirement\n",
    "\n",
    "Remarks:\n",
    "- Its singly linked so we have no previous reference to each node only next\n",
    "- In our implementation there is a tail variable to identify the tail in a linkedlist but its of not much use since there is no previous reference to the previous node\n",
    "\n",
    "Edge cases to catch: empty linkedlist, where n> len(linked_list)"
   ]
  },
  {
   "cell_type": "code",
   "execution_count": 86,
   "metadata": {},
   "outputs": [],
   "source": [
    "def find_nth_element(linked_list, n):\n",
    "    \n",
    "    length = 1 #we will account for the tail here instead of making the value 0\n",
    "    current_node = linked_list.head\n",
    "    \n",
    "    while current_node.next:\n",
    "        length+=1\n",
    "        current_node = current_node.next\n",
    "        \n",
    "    i=0\n",
    "    nth_value = None\n",
    "    current_node = linked_list.head\n",
    "    while i<(length-n):\n",
    "        nth_value = current_node.value\n",
    "        current_node = current_node.next\n",
    "        i+=1\n",
    "\n",
    "    return nth_value"
   ]
  },
  {
   "cell_type": "code",
   "execution_count": 87,
   "metadata": {},
   "outputs": [
    {
     "name": "stdout",
     "output_type": "stream",
     "text": [
      "None->[97]->[65]->[93]->[53]->[73]->[45]->[62]->[14]->[3]->[58]->None\n"
     ]
    },
    {
     "data": {
      "text/plain": [
       "62"
      ]
     },
     "execution_count": 87,
     "metadata": {},
     "output_type": "execute_result"
    }
   ],
   "source": [
    "ll_ = [np.random.randint(0,100) for x in range(10)]\n",
    "ll = SinglyLinkedList()\n",
    "for x in ll_:\n",
    "    ll.insert(x)\n",
    "\n",
    "ll.print_linked_list()\n",
    "find_nth_element(ll, 3)"
   ]
  },
  {
   "cell_type": "markdown",
   "metadata": {},
   "source": [
    "## *2.3 Implement an algorithm to delete a node in the middle of a single linked list, given only access to that node.\n",
    "EXAMPLE\n",
    "Input: the node ‘c’ from the linked list a->b->c->d->e\n",
    "\n",
    "Result: nothing is returned, but the new linked list looks like a->b->d->e"
   ]
  },
  {
   "cell_type": "markdown",
   "metadata": {},
   "source": [
    "### Solution: copy everything from node.next to node so its as though there are two copies of the next node but actually its only one node\n",
    "\n",
    "Edge cases: the usual - empty, missing etc."
   ]
  },
  {
   "cell_type": "code",
   "execution_count": 88,
   "metadata": {},
   "outputs": [],
   "source": [
    "def remove_node(node):\n",
    "    \n",
    "    node.value = node.next.value\n",
    "    node.next = node.next.next"
   ]
  },
  {
   "cell_type": "markdown",
   "metadata": {},
   "source": [
    "## *2.4 You have two numbers represented by a linked list, where each node contains a single digit. The digits are stored in reverse order, such that the 1’s digit is at the head of the list. Write a function that adds the two numbers and returns the sum as a linked list.\n",
    "EXAMPLE\n",
    "Input: (3 -> 1 -> 5), (5 -> 9 -> 2)\n",
    "Output: 8 -> 0 -> 8"
   ]
  },
  {
   "cell_type": "markdown",
   "metadata": {},
   "source": [
    "### Solution: Traverse one by one and keep track of the carry term\n",
    "\n",
    "Remarks:\n",
    "- Do not assume the linkedlists have the same length"
   ]
  },
  {
   "cell_type": "code",
   "execution_count": 113,
   "metadata": {},
   "outputs": [],
   "source": [
    "def add_linkedlists(ll1, ll2):\n",
    "    \n",
    "    output_ll = DoublyLinkedList()\n",
    "    \n",
    "    ll1_current_node = ll1.head\n",
    "    ll2_current_node = ll2.head\n",
    "    carry = 0\n",
    "    \n",
    "    while ll1_current_node or ll2_current_node or carry:\n",
    "        a = 0\n",
    "        b = 0\n",
    "        if ll1_current_node:\n",
    "            a = ll1_current_node.value\n",
    "            ll1_current_node = ll1_current_node.next\n",
    "        if ll2_current_node:\n",
    "            b = ll2_current_node.value\n",
    "            ll2_current_node = ll2_current_node.next\n",
    "            \n",
    "        sum_ = str(a+b+carry)\n",
    "#         print(sum_)\n",
    "        \n",
    "        if len(sum_)>1:\n",
    "            output_ll.insert(int(sum_[-1]))\n",
    "            carry = int(sum_[:-1])\n",
    "        else:\n",
    "            output_ll.insert(int(sum_[-1]))\n",
    "            carry = 0\n",
    "\n",
    "    return output_ll\n",
    "   "
   ]
  },
  {
   "cell_type": "code",
   "execution_count": 114,
   "metadata": {},
   "outputs": [
    {
     "name": "stdout",
     "output_type": "stream",
     "text": [
      "None->[0]->[1]->[7]->[8]->None\n",
      "None->[4]->[0]->[7]->None\n"
     ]
    }
   ],
   "source": [
    "ll_1 = [np.random.randint(0,9) for x in range(4)]\n",
    "ll_2 = [np.random.randint(0,9) for x in range(3)]\n",
    "ll1, ll2 = DoublyLinkedList(), DoublyLinkedList()\n",
    "for x in ll_1:\n",
    "    ll1.insert(x)\n",
    "\n",
    "for x in ll_2:\n",
    "    ll2.insert(x)\n",
    "ll1.print_linked_list()\n",
    "ll2.print_linked_list()\n"
   ]
  },
  {
   "cell_type": "code",
   "execution_count": 115,
   "metadata": {},
   "outputs": [
    {
     "name": "stdout",
     "output_type": "stream",
     "text": [
      "None->[4]->[1]->[4]->[9]->None\n"
     ]
    }
   ],
   "source": [
    "add_linkedlists(ll1, ll2).print_linked_list()"
   ]
  },
  {
   "cell_type": "markdown",
   "metadata": {},
   "source": [
    "## *2.5 Given a circular linked list, implement an algorithm which returns node at the beginning of the loop.\n",
    "DEFINITION\n",
    "Circular linked list: A (corrupt) linked list in which a node’s next pointer points to an earlier node, so as to make a loop in the linked list.\n",
    "EXAMPLE\n",
    "Input: A -> B -> C -> D -> E -> C [the same C as earlier]\n",
    "Output: C"
   ]
  },
  {
   "cell_type": "markdown",
   "metadata": {},
   "source": [
    "### Solution: Floyd's Algorithm\n",
    "Edge cases: empty ll, single node ll"
   ]
  },
  {
   "cell_type": "code",
   "execution_count": 117,
   "metadata": {},
   "outputs": [],
   "source": [
    "def find_loop_start(circular_ll):\n",
    "    \n",
    "    slow_pointer = circular_ll.head\n",
    "    fast_pointer = circular_ll.head\n",
    "    i = 0\n",
    "    \n",
    "    while slow_pointer.next: #this will loop forever so we need to break later\n",
    "        slow_pointer = slow_pointer.next\n",
    "        fast_pointer = fast_pointer.next.next\n",
    "        i+=1\n",
    "        if slow_pointer==fast_pointer:\n",
    "            break\n",
    "    \n",
    "    j = 0\n",
    "    returnable_node = None\n",
    "    current_node = circular_ll.head\n",
    "    while j<=i:\n",
    "        returnable_node = current_node\n",
    "        current_node = current_node.next\n",
    "    \n",
    "    return returnable_node\n"
   ]
  }
 ],
 "metadata": {
  "kernelspec": {
   "display_name": "Python 3",
   "language": "python",
   "name": "python3"
  },
  "language_info": {
   "codemirror_mode": {
    "name": "ipython",
    "version": 3
   },
   "file_extension": ".py",
   "mimetype": "text/x-python",
   "name": "python",
   "nbconvert_exporter": "python",
   "pygments_lexer": "ipython3",
   "version": "3.6.5"
  }
 },
 "nbformat": 4,
 "nbformat_minor": 2
}
