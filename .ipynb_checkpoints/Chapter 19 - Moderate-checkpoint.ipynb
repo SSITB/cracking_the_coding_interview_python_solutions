{
 "cells": [
  {
   "cell_type": "markdown",
   "metadata": {},
   "source": [
    "### 19.1 Write a function to swap a number in place without temporary variables."
   ]
  },
  {
   "cell_type": "markdown",
   "metadata": {},
   "source": [
    "The key is to realize that since we can't swap variables, we will have to use some sort of mathematical operators to achieve the swap. Intuitively, addition and subtraction are the first ones to try...and they work!"
   ]
  },
  {
   "cell_type": "code",
   "execution_count": 9,
   "metadata": {},
   "outputs": [],
   "source": [
    "def swap_without_variables(a, b):\n",
    "    \n",
    "    a = a+b\n",
    "    b = a-b\n",
    "    a = a-b\n",
    "    \n",
    "    return (a, b)"
   ]
  },
  {
   "cell_type": "code",
   "execution_count": 12,
   "metadata": {},
   "outputs": [
    {
     "data": {
      "text/plain": [
       "(10, 2)"
      ]
     },
     "execution_count": 12,
     "metadata": {},
     "output_type": "execute_result"
    }
   ],
   "source": [
    "swap_without_variables(2, 10)"
   ]
  },
  {
   "cell_type": "markdown",
   "metadata": {},
   "source": [
    "An optmized version of the problem:"
   ]
  },
  {
   "cell_type": "code",
   "execution_count": 11,
   "metadata": {},
   "outputs": [],
   "source": [
    "def swap_without_variables(a, b):\n",
    "    \n",
    "    a = a^b\n",
    "    b = a^b\n",
    "    a = a^b\n",
    "    \n",
    "    return (a, b)"
   ]
  },
  {
   "cell_type": "markdown",
   "metadata": {},
   "source": [
    "### 19.2 Design an algorithm to figure out if someone has won in a game of tic-tac-toe."
   ]
  },
  {
   "cell_type": "code",
   "execution_count": 13,
   "metadata": {},
   "outputs": [],
   "source": [
    "def tic_tac_toe_won(matrix):\n",
    "    \n",
    "    #check for rows\n",
    "    for i in range(3):\n",
    "        if matrix[i][0]==matrix[i][1] and matrix[i][0]==matrix[i][2]:\n",
    "            return True\n",
    "    \n",
    "    #check for columns\n",
    "    for i in range(3):\n",
    "        if matrix[0][i]==matrix[1][i] and matrix[2][i]==matrix[0][i]:\n",
    "            return True\n",
    "    \n",
    "    #check for diagonals\n",
    "    if matrix[0][0]==matrix[1][1] and matrix[0][0]==matrix[2][2]:\n",
    "        return True\n",
    "    \n",
    "    if matrix[0][2]==matrix[1][1] and matrix[0][2]==matrix[2][0]:\n",
    "        return True\n",
    "    \n",
    "    return False\n",
    "        \n",
    "            \n",
    "            "
   ]
  },
  {
   "cell_type": "code",
   "execution_count": 14,
   "metadata": {},
   "outputs": [
    {
     "data": {
      "text/plain": [
       "True"
      ]
     },
     "execution_count": 14,
     "metadata": {},
     "output_type": "execute_result"
    }
   ],
   "source": [
    "tic_tac_toe_won([[1,1,1],[0,1,0], [1,0,1]])"
   ]
  },
  {
   "cell_type": "code",
   "execution_count": 18,
   "metadata": {},
   "outputs": [
    {
     "data": {
      "text/plain": [
       "False"
      ]
     },
     "execution_count": 18,
     "metadata": {},
     "output_type": "execute_result"
    }
   ],
   "source": [
    "tic_tac_toe_won([[1,0,1],[0,1,0], [0,1,0]])"
   ]
  },
  {
   "cell_type": "markdown",
   "metadata": {},
   "source": [
    "### 19.3 Write an algorithm which computes the number of trailing zeros in n factorial."
   ]
  },
  {
   "cell_type": "markdown",
   "metadata": {},
   "source": [
    "The key is to think about what contributes to the trailing zeros - multiplication by 5. For example 5, 10, 15 and 20 contrbute to trailing zeros in 21!. So by counting the number of multiples of 5, we are effectively counting how many trailing zeros there will be, in linear time. \n",
    "\n",
    "One caveat to be careful about is that 25 contributes two 5s."
   ]
  },
  {
   "cell_type": "code",
   "execution_count": 29,
   "metadata": {},
   "outputs": [],
   "source": [
    "def find_trailing_zeros(n):\n",
    "    \n",
    "    trailing_zeros = 0\n",
    "    \n",
    "    i=5\n",
    "    while n/i>0:\n",
    "        trailing_zeros+= int(n/i)\n",
    "        i=i*5\n",
    "    \n",
    "    return trailing_zeros"
   ]
  },
  {
   "cell_type": "code",
   "execution_count": 30,
   "metadata": {},
   "outputs": [
    {
     "data": {
      "text/plain": [
       "6"
      ]
     },
     "execution_count": 30,
     "metadata": {},
     "output_type": "execute_result"
    }
   ],
   "source": [
    "find_trailing_zeros(26)"
   ]
  },
  {
   "cell_type": "markdown",
   "metadata": {},
   "source": [
    "### 19.4 Write a method which finds the maximum of two numbers. You should not use if-else or any other comparison operator."
   ]
  },
  {
   "cell_type": "code",
   "execution_count": 34,
   "metadata": {},
   "outputs": [],
   "source": [
    "def max_without_comparison(a, b):\n",
    "    \n",
    "    return bool(int(a/b))"
   ]
  },
  {
   "cell_type": "code",
   "execution_count": 37,
   "metadata": {},
   "outputs": [
    {
     "data": {
      "text/plain": [
       "(False, True)"
      ]
     },
     "execution_count": 37,
     "metadata": {},
     "output_type": "execute_result"
    }
   ],
   "source": [
    " max_without_comparison(2,3), max_without_comparison(2,1)"
   ]
  },
  {
   "cell_type": "markdown",
   "metadata": {},
   "source": [
    "### 19.5 The Game of Master Mind:\n",
    "The computer has four slots containing balls that are red (R), yellow (Y), green (G) or blue (B). For example, the computer might have RGGB (e.g., Slot #1 is red, Slots #2 and #3 are green, Slot #4 is blue).\n",
    "You, the user, are trying to guess the solution. You might, for example, guess YRGB.\n",
    "When you guess the correct color for the correct slot, you get a “hit”. If you guess a color that exists but is in the wrong slot, you get a “pseudo-hit”. For example, the guess YRGB has 2 hits and one pseudo hit.\n",
    "For each guess, you are told the number of hits and pseudo-hits.\n",
    "Write a method that, given a guess and a solution, returns the number of hits and pseudo hits."
   ]
  },
  {
   "cell_type": "code",
   "execution_count": 39,
   "metadata": {},
   "outputs": [],
   "source": [
    "def master_mind(guess, solution):\n",
    "    \n",
    "    hits = 0\n",
    "    pseudo_hits = 0\n",
    "    guess_count = {'R':0, 'G':0, 'B':0, 'Y':0}\n",
    "    solution_count = {'R':0, 'G':0, 'B':0, 'Y':0}\n",
    "    \n",
    "    for i in range(4):\n",
    "        if guess[i]==solution[i]:\n",
    "            hits+=1\n",
    "        else:\n",
    "            guess_count[guess[i]]+=1\n",
    "            solution_count[solution[i]]+=1\n",
    "    \n",
    "    \n",
    "    for i in guess_count.keys():\n",
    "        if solution_count[i]==guess_count[i]:\n",
    "            pseudo_hits+=1\n",
    "    \n",
    "    return {'hits':hits, 'pseudo_hits':pseudo_hits}\n",
    "           "
   ]
  },
  {
   "cell_type": "code",
   "execution_count": 40,
   "metadata": {},
   "outputs": [
    {
     "data": {
      "text/plain": [
       "{'hits': 4, 'pseudo_hits': 4}"
      ]
     },
     "execution_count": 40,
     "metadata": {},
     "output_type": "execute_result"
    }
   ],
   "source": [
    "master_mind(['R','G','B','Y'], ['R','G','B','Y'])"
   ]
  },
  {
   "cell_type": "code",
   "execution_count": null,
   "metadata": {},
   "outputs": [],
   "source": []
  }
 ],
 "metadata": {
  "kernelspec": {
   "display_name": "Python 3",
   "language": "python",
   "name": "python3"
  },
  "language_info": {
   "codemirror_mode": {
    "name": "ipython",
    "version": 3
   },
   "file_extension": ".py",
   "mimetype": "text/x-python",
   "name": "python",
   "nbconvert_exporter": "python",
   "pygments_lexer": "ipython3",
   "version": "3.6.5"
  }
 },
 "nbformat": 4,
 "nbformat_minor": 2
}
