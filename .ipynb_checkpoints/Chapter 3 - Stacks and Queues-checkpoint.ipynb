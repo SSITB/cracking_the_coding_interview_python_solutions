{
 "cells": [
  {
   "cell_type": "markdown",
   "metadata": {},
   "source": [
    "## 3.1 Describe how you could use a single array to implement three stacks."
   ]
  },
  {
   "cell_type": "markdown",
   "metadata": {},
   "source": [
    "### Solution: Divide the array in three equal parts and allow the individual stack to grow in that limited space (note: “[“ means inclusive, while “(“ means exclusive of the end point).\n",
    "- for stack 1, we will use [0, n/3)\n",
    "- for stack 2, we will use [n/3, 2n/3)\n",
    "- for stack 3, we will use [2n/3, n)\n",
    "\n",
    "This solution is based on the assumption that we do not have any extra information about the usage of space by individual stacks and that we can’t either modify or use any extra space. With these constraints, we are left with no other choice but to divide equally.\n",
    "\n",
    "In Python we can use a list instead."
   ]
  },
  {
   "cell_type": "markdown",
   "metadata": {},
   "source": [
    "## 3.2 How would you design a stack which, in addition to push and pop, also has a function min which returns the minimum element? Push, pop and min should all operate in O(1) time."
   ]
  },
  {
   "cell_type": "code",
   "execution_count": null,
   "metadata": {},
   "outputs": [],
   "source": [
    "def Stack():\n",
    "\n",
    "\tdef __init__(self):\n",
    "\n",
    "\t\tself.head = None\n",
    "        self.min_element = None\n",
    "\n",
    "\n",
    "\tdef push(self, value):\n",
    "\n",
    "\t\tif not self.head:\n",
    "\t\t\tself.head = Node(value=value)\n",
    "            self.min_element = self.head\n",
    "\n",
    "\t\telse:\n",
    "\t\t\tnew_node = Node(value=value, next=self.head)\n",
    "\t\t\tself.head = new_node\n",
    "            \n",
    "            if new_node.value>self.min_element.value:\n",
    "                self.min_element = new_node\n",
    "\n",
    "\n",
    "\tdef pop(self):\n",
    "\n",
    "\t\tif self.head:\n",
    "\t\t\treturnable_node = self.head\n",
    "\t\t\tself.head = self.head.next\n",
    "\t\t\treturn returnable_node\n",
    "\n",
    "\t\telse:\n",
    "\t\t\traise Exception('Stack Underflow')"
   ]
  }
 ],
 "metadata": {
  "kernelspec": {
   "display_name": "Python 3",
   "language": "python",
   "name": "python3"
  },
  "language_info": {
   "codemirror_mode": {
    "name": "ipython",
    "version": 3
   },
   "file_extension": ".py",
   "mimetype": "text/x-python",
   "name": "python",
   "nbconvert_exporter": "python",
   "pygments_lexer": "ipython3",
   "version": "3.6.5"
  }
 },
 "nbformat": 4,
 "nbformat_minor": 2
}
