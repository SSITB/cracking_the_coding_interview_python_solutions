{
 "cells": [
  {
   "cell_type": "markdown",
   "metadata": {},
   "source": [
    "### *20.1 Write a function that adds two numbers. You should not use + or any arithmetic operators."
   ]
  },
  {
   "cell_type": "markdown",
   "metadata": {},
   "source": [
    "A good explanation can be found [here](https://www.youtube.com/watch?v=qq64FrA2UXQ&t=28s)"
   ]
  },
  {
   "cell_type": "code",
   "execution_count": 4,
   "metadata": {},
   "outputs": [],
   "source": [
    "def add_without_plus(a, b):\n",
    "    \n",
    "    if b==0:\n",
    "        return a\n",
    "    carries = (a&b)<<1\n",
    "    addition = a^b\n",
    "    return add_without_plus(addition, carries)"
   ]
  },
  {
   "cell_type": "code",
   "execution_count": 5,
   "metadata": {},
   "outputs": [
    {
     "data": {
      "text/plain": [
       "5"
      ]
     },
     "execution_count": 5,
     "metadata": {},
     "output_type": "execute_result"
    }
   ],
   "source": [
    "add_without_plus(2,3)"
   ]
  },
  {
   "cell_type": "markdown",
   "metadata": {},
   "source": [
    "### *20.2 Write a method to shuffle a deck of cards. It must be a perfect shuffle - in other words, each 52! permutations of the deck has to be equally likely. Assume that you are given a random number generator which is perfect."
   ]
  },
  {
   "cell_type": "markdown",
   "metadata": {},
   "source": [
    "The strategy will be to go through the deck from index 0 to len(deck), pick a random index and then swap the card at random index with the card at index i. Since the for loop ensures that we only next look at index i+1, it helps to make sure that elements already placed at index i as a result of the 'shuffling' do not appear again as the set yet to be shuffled"
   ]
  },
  {
   "cell_type": "code",
   "execution_count": 6,
   "metadata": {},
   "outputs": [],
   "source": [
    "from random import randint\n",
    "\n",
    "def shuffle_deck(deck):\n",
    "    \n",
    "    for i in range(len(deck)):\n",
    "        ith_card = deck[i]\n",
    "        random_index = randint(i, len(deck)-1) #0-51\n",
    "        #swap randomly chosen index's card with position i\n",
    "        deck[i] = deck[random_index]\n",
    "        deck[random_index] = ith_card\n",
    "    \n",
    "    return deck\n"
   ]
  },
  {
   "cell_type": "markdown",
   "metadata": {},
   "source": [
    "### 20.3 Write a method to randomly generate a set of m integers from an array of size n. Each element must have equal probability of being chosen."
   ]
  },
  {
   "cell_type": "markdown",
   "metadata": {},
   "source": [
    "Its sort of the same flavour as the previous question"
   ]
  },
  {
   "cell_type": "code",
   "execution_count": 1,
   "metadata": {},
   "outputs": [],
   "source": [
    "from random import randint\n",
    "\n",
    "def pick_random_m(list_, m):\n",
    "    \n",
    "    for i in range(m):\n",
    "        element_at_i = list_[i]\n",
    "        random_index = randint(i, len(list_)-1)\n",
    "        #swap\n",
    "        list_[i] = list_[random_index]\n",
    "        list_[random_index] = element_at_i\n",
    "    \n",
    "    return list_[:m]\n"
   ]
  },
  {
   "cell_type": "markdown",
   "metadata": {},
   "source": [
    "### 20.4 Write a method to count the number of 2s between 0 and n."
   ]
  },
  {
   "cell_type": "markdown",
   "metadata": {},
   "source": [
    "### 20.5 You have a large text file containing words. Given any two words, find the shortest distance (in terms of number of words) between them in the file. Can you make the searching operation in O(1) time? What about the space complexity for your solution?"
   ]
  },
  {
   "cell_type": "code",
   "execution_count": 2,
   "metadata": {},
   "outputs": [],
   "source": [
    "def dist_between_words(text, word1, word2):\n",
    "    \n",
    "    #if text is not a list of words, we can use text.split(\" \")\n",
    "    first_index = None\n",
    "    second_index = None\n",
    "    \n",
    "    for i in range(len(text)):\n",
    "        if text[i]==word1 or text[i]==word2:\n",
    "            if first_index:\n",
    "                second_index = i\n",
    "            else:\n",
    "                first_index = i\n",
    "\n",
    "    return second_index-first_index"
   ]
  },
  {
   "cell_type": "code",
   "execution_count": 5,
   "metadata": {},
   "outputs": [],
   "source": [
    "def prep_dict(text):\n",
    "    word_dict = {}\n",
    "    for i in range(len(text)):\n",
    "        word_dict[text[i]] = i\n",
    "\n",
    "def dist_between_words_constant_time(word_dict, word1, word2):\n",
    "    return abs(word_dict[word1]-word_dict[word2])\n",
    "    \n",
    "    "
   ]
  },
  {
   "cell_type": "markdown",
   "metadata": {},
   "source": [
    "### 20.6 Describe an algorithm to find the largest 1 million numbers in 1 billion numbers. Assume that the computer memory can hold all one billion numbers."
   ]
  },
  {
   "cell_type": "code",
   "execution_count": 6,
   "metadata": {},
   "outputs": [],
   "source": [
    "def largest_m_numbers(numbers, m):\n",
    "    \n",
    "    numbers_sorted = sorted(numbers) \n",
    "    return numbers_sorted"
   ]
  },
  {
   "cell_type": "code",
   "execution_count": 9,
   "metadata": {},
   "outputs": [
    {
     "data": {
      "text/plain": [
       "[4, 1]"
      ]
     },
     "execution_count": 9,
     "metadata": {},
     "output_type": "execute_result"
    }
   ],
   "source": [
    "[2,3,4,1][-2:]"
   ]
  },
  {
   "cell_type": "code",
   "execution_count": null,
   "metadata": {},
   "outputs": [],
   "source": []
  }
 ],
 "metadata": {
  "kernelspec": {
   "display_name": "Python 3",
   "language": "python",
   "name": "python3"
  },
  "language_info": {
   "codemirror_mode": {
    "name": "ipython",
    "version": 3
   },
   "file_extension": ".py",
   "mimetype": "text/x-python",
   "name": "python",
   "nbconvert_exporter": "python",
   "pygments_lexer": "ipython3",
   "version": "3.6.5"
  }
 },
 "nbformat": 4,
 "nbformat_minor": 2
}
