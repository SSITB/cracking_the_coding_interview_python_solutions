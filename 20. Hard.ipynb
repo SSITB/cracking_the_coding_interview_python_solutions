{
 "cells": [
  {
   "cell_type": "markdown",
   "metadata": {},
   "source": [
    "### *20.1 Write a function that adds two numbers. You should not use + or any arithmetic operators."
   ]
  },
  {
   "cell_type": "markdown",
   "metadata": {},
   "source": [
    "A good explanation can be found [here](https://www.youtube.com/watch?v=qq64FrA2UXQ&t=28s)"
   ]
  },
  {
   "cell_type": "code",
   "execution_count": 4,
   "metadata": {},
   "outputs": [],
   "source": [
    "def add_without_plus(a, b):\n",
    "    \n",
    "    if b==0:\n",
    "        return a\n",
    "    carries = (a&b)<<1\n",
    "    addition = a^b\n",
    "    return add_without_plus(addition, carries)"
   ]
  },
  {
   "cell_type": "code",
   "execution_count": 5,
   "metadata": {},
   "outputs": [
    {
     "data": {
      "text/plain": [
       "5"
      ]
     },
     "execution_count": 5,
     "metadata": {},
     "output_type": "execute_result"
    }
   ],
   "source": [
    "add_without_plus(2,3)"
   ]
  },
  {
   "cell_type": "markdown",
   "metadata": {},
   "source": [
    "### *20.2 Write a method to shuffle a deck of cards. It must be a perfect shuffle - in other words, each 52! permutations of the deck has to be equally likely. Assume that you are given a random number generator which is perfect."
   ]
  },
  {
   "cell_type": "markdown",
   "metadata": {},
   "source": [
    "The strategy will be to go through the deck from index 0 to len(deck), pick a random index and then swap the card at random index with the card at index i. Since the for loop ensures that we only next look at index i+1, it helps to make sure that elements already placed at index i as a result of the 'shuffling' do not appear again as the set yet to be shuffled"
   ]
  },
  {
   "cell_type": "code",
   "execution_count": 6,
   "metadata": {},
   "outputs": [],
   "source": [
    "from random import randint\n",
    "\n",
    "def shuffle_deck(deck):\n",
    "    \n",
    "    for i in range(len(deck)):\n",
    "        ith_card = deck[i]\n",
    "        random_index = randint(i, len(deck)-1) #0-51\n",
    "        #swap randomly chosen index's card with position i\n",
    "        deck[i] = deck[random_index]\n",
    "        deck[random_index] = ith_card\n",
    "    \n",
    "    return deck\n"
   ]
  },
  {
   "cell_type": "markdown",
   "metadata": {},
   "source": [
    "### 20.3 Write a method to randomly generate a set of m integers from an array of size n. Each element must have equal probability of being chosen."
   ]
  },
  {
   "cell_type": "markdown",
   "metadata": {},
   "source": [
    "Its sort of the same flavour as the previous question"
   ]
  },
  {
   "cell_type": "code",
   "execution_count": null,
   "metadata": {},
   "outputs": [],
   "source": [
    "from random import randint\n",
    "\n",
    "def pick_random_m(list_, m):\n",
    "    \n",
    "    for i in range(len(list_)):\n",
    "        element_at_i = list_[i]\n",
    "        random_index = randint(i, )"
   ]
  }
 ],
 "metadata": {
  "kernelspec": {
   "display_name": "Python 3",
   "language": "python",
   "name": "python3"
  },
  "language_info": {
   "codemirror_mode": {
    "name": "ipython",
    "version": 3
   },
   "file_extension": ".py",
   "mimetype": "text/x-python",
   "name": "python",
   "nbconvert_exporter": "python",
   "pygments_lexer": "ipython3",
   "version": "3.6.5"
  }
 },
 "nbformat": 4,
 "nbformat_minor": 2
}
