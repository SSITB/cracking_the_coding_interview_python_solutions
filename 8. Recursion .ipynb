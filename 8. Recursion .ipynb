{
 "cells": [
  {
   "cell_type": "markdown",
   "metadata": {},
   "source": [
    "## Knapsack Problem"
   ]
  },
  {
   "cell_type": "markdown",
   "metadata": {},
   "source": [
    "### Solution: Recursion + Memoization"
   ]
  },
  {
   "cell_type": "code",
   "execution_count": null,
   "metadata": {},
   "outputs": [],
   "source": [
    "items = [None,\n",
    "        {'weight':1, 'value':5},\n",
    "        {'weight':2, 'value':3},\n",
    "        {'weight':4, 'value':5},\n",
    "        {'weight':2, 'value':3},\n",
    "        {'weight':5, 'value':2}]\n",
    "capacity = 18"
   ]
  },
  {
   "cell_type": "code",
   "execution_count": null,
   "metadata": {},
   "outputs": [],
   "source": [
    "memo = {}\n",
    "def KS(n, capacity_left):\n",
    "    \n",
    "    try:\n",
    "        return memo[(n, capacity)]\n",
    "    \n",
    "    except:\n",
    "        if n==0 or capacity_left==0: #if we have gone through all the items or no more capacity\n",
    "            return 0\n",
    "\n",
    "        elif items[n]['weight']>capacity_left: #this item cannot fit in, lets move on\n",
    "            return KS(n-1, capacity_left)\n",
    "\n",
    "        else:\n",
    "            put_item_in = items[n]['value'] + KS(n-1, capacity_left-items[n]['weight'])\n",
    "            dont_put_item_in = KS(n-1, capacity_left)\n",
    "            result = max(put_item_in, dont_put_item_in)\n",
    "            memo[(n,capacity_left)] = result\n",
    "            print(put_item_in, dont_put_item_in, capacity_left, result)\n",
    "            return result\n",
    "        \n",
    "    "
   ]
  },
  {
   "cell_type": "code",
   "execution_count": null,
   "metadata": {},
   "outputs": [],
   "source": [
    "# items[5]['value']\n",
    "KS(5, 5)"
   ]
  },
  {
   "cell_type": "markdown",
   "metadata": {},
   "source": [
    "## 8.1 Write a method to generate the nth Fibonacci number."
   ]
  },
  {
   "cell_type": "markdown",
   "metadata": {},
   "source": [
    "### Solution: fib(n) = fib(n-1)+fib(n-2) & memoization"
   ]
  },
  {
   "cell_type": "code",
   "execution_count": null,
   "metadata": {},
   "outputs": [],
   "source": [
    "memo = {1:1, 2:1} #we will store computed fibs here such that memo[1] corresponds to fib(1)\n",
    "def fib(n):\n",
    "    \n",
    "    if n<1:\n",
    "        return None\n",
    "    \n",
    "    if n==1 or n==2:\n",
    "        \n",
    "        return 1\n",
    "    else:\n",
    "        try:\n",
    "#             print(memo)\n",
    "            return memo[n]\n",
    "        except:\n",
    "            fib_n_1 = fib(n-1)\n",
    "            memo[n-1] = fib_n_1\n",
    "            fib_n_2 = fib(n-2)\n",
    "            memo[n-2] = fib_n_2 \n",
    "            \n",
    "            return fib_n_1+fib_n_2\n"
   ]
  },
  {
   "cell_type": "code",
   "execution_count": null,
   "metadata": {},
   "outputs": [],
   "source": [
    "fib(10)"
   ]
  },
  {
   "cell_type": "markdown",
   "metadata": {},
   "source": [
    "## 8.2 Imagine a robot sitting on the upper left hand corner of an NxN grid. The robot can only move in two directions: right and down. How many possible paths are there for the robot?\n",
    "FOLLOW UP\n",
    "Imagine certain squares are “off limits”, such that the robot can not step on them. Design an algorithm to get all possible paths for the robot."
   ]
  },
  {
   "cell_type": "markdown",
   "metadata": {},
   "source": [
    "[A good explanation](https://www.youtube.com/watch?v=6qMFjFC9YSc&t=202s)"
   ]
  },
  {
   "cell_type": "code",
   "execution_count": 52,
   "metadata": {},
   "outputs": [],
   "source": [
    "class Solution:\n",
    "    def uniquePaths(self, m: int, n: int) -> int:\n",
    "        dp_grid = [[0]*n]*m\n",
    "        \n",
    "        \n",
    "        dp_grid[0] = [1]*n\n",
    "        \n",
    "        for i in range(len(dp_grid)):\n",
    "            dp_grid[i][0]=1\n",
    "        \n",
    "        for i in range(1, m):\n",
    "            for j in range(1, n):\n",
    "                dp_grid[i][j] = dp_grid[i][j-1] + dp_grid[i-1][j]\n",
    "#         \n",
    "        return dp_grid[m-1][n-1]\n",
    "        "
   ]
  },
  {
   "cell_type": "code",
   "execution_count": 53,
   "metadata": {},
   "outputs": [
    {
     "data": {
      "text/plain": [
       "20"
      ]
     },
     "execution_count": 53,
     "metadata": {},
     "output_type": "execute_result"
    }
   ],
   "source": [
    "Solution().uniquePaths(4,4)"
   ]
  },
  {
   "cell_type": "code",
   "execution_count": null,
   "metadata": {},
   "outputs": [],
   "source": []
  }
 ],
 "metadata": {
  "kernelspec": {
   "display_name": "Python 3",
   "language": "python",
   "name": "python3"
  },
  "language_info": {
   "codemirror_mode": {
    "name": "ipython",
    "version": 3
   },
   "file_extension": ".py",
   "mimetype": "text/x-python",
   "name": "python",
   "nbconvert_exporter": "python",
   "pygments_lexer": "ipython3",
   "version": "3.6.5"
  }
 },
 "nbformat": 4,
 "nbformat_minor": 2
}
