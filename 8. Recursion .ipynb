{
 "cells": [
  {
   "cell_type": "markdown",
   "metadata": {},
   "source": [
    "## Knapsack Problem"
   ]
  },
  {
   "cell_type": "markdown",
   "metadata": {},
   "source": [
    "### Solution: Recursion + Memoization"
   ]
  },
  {
   "cell_type": "code",
   "execution_count": null,
   "metadata": {},
   "outputs": [],
   "source": [
    "items = [None,\n",
    "        {'weight':1, 'value':5},\n",
    "        {'weight':2, 'value':3},\n",
    "        {'weight':4, 'value':5},\n",
    "        {'weight':2, 'value':3},\n",
    "        {'weight':5, 'value':2}]\n",
    "capacity = 18"
   ]
  },
  {
   "cell_type": "code",
   "execution_count": null,
   "metadata": {},
   "outputs": [],
   "source": [
    "memo = {}\n",
    "def KS(n, capacity_left):\n",
    "    \n",
    "    try:\n",
    "        return memo[(n, capacity)]\n",
    "    \n",
    "    except:\n",
    "        if n==0 or capacity_left==0: #if we have gone through all the items or no more capacity\n",
    "            return 0\n",
    "\n",
    "        elif items[n]['weight']>capacity_left: #this item cannot fit in, lets move on\n",
    "            return KS(n-1, capacity_left)\n",
    "\n",
    "        else:\n",
    "            put_item_in = items[n]['value'] + KS(n-1, capacity_left-items[n]['weight'])\n",
    "            dont_put_item_in = KS(n-1, capacity_left)\n",
    "            result = max(put_item_in, dont_put_item_in)\n",
    "            memo[(n,capacity_left)] = result\n",
    "            print(put_item_in, dont_put_item_in, capacity_left, result)\n",
    "            return result\n",
    "        \n",
    "    "
   ]
  },
  {
   "cell_type": "code",
   "execution_count": null,
   "metadata": {},
   "outputs": [],
   "source": [
    "# items[5]['value']\n",
    "KS(5, 5)"
   ]
  },
  {
   "cell_type": "markdown",
   "metadata": {},
   "source": [
    "## 8.1 Write a method to generate the nth Fibonacci number."
   ]
  },
  {
   "cell_type": "markdown",
   "metadata": {},
   "source": [
    "### Solution: fib(n) = fib(n-1)+fib(n-2) & memoization"
   ]
  },
  {
   "cell_type": "code",
   "execution_count": null,
   "metadata": {},
   "outputs": [],
   "source": [
    "memo = {1:1, 2:1} #we will store computed fibs here such that memo[1] corresponds to fib(1)\n",
    "def fib(n):\n",
    "    \n",
    "    if n<1:\n",
    "        return None\n",
    "    \n",
    "    if n==1 or n==2:\n",
    "        \n",
    "        return 1\n",
    "    else:\n",
    "        try:\n",
    "#             print(memo)\n",
    "            return memo[n]\n",
    "        except:\n",
    "            fib_n_1 = fib(n-1)\n",
    "            memo[n-1] = fib_n_1\n",
    "            fib_n_2 = fib(n-2)\n",
    "            memo[n-2] = fib_n_2 \n",
    "            \n",
    "            return fib_n_1+fib_n_2\n"
   ]
  },
  {
   "cell_type": "code",
   "execution_count": null,
   "metadata": {},
   "outputs": [],
   "source": [
    "fib(10)"
   ]
  },
  {
   "cell_type": "markdown",
   "metadata": {},
   "source": [
    "## 8.2 Imagine a robot sitting on the upper left hand corner of an NxN grid. The robot can only move in two directions: right and down. How many possible paths are there for the robot?\n",
    "FOLLOW UP\n",
    "Imagine certain squares are “off limits”, such that the robot can not step on them. Design an algorithm to get all possible paths for the robot."
   ]
  },
  {
   "cell_type": "markdown",
   "metadata": {},
   "source": [
    "[A good explanation](https://www.youtube.com/watch?v=6qMFjFC9YSc&t=202s)"
   ]
  },
  {
   "cell_type": "code",
   "execution_count": 52,
   "metadata": {},
   "outputs": [],
   "source": [
    "class Solution:\n",
    "    def uniquePaths(self, m: int, n: int) -> int:\n",
    "        dp_grid = [[0]*n]*m\n",
    "        \n",
    "        \n",
    "        dp_grid[0] = [1]*n\n",
    "        \n",
    "        for i in range(len(dp_grid)):\n",
    "            dp_grid[i][0]=1\n",
    "        \n",
    "        for i in range(1, m):\n",
    "            for j in range(1, n):\n",
    "                dp_grid[i][j] = dp_grid[i][j-1] + dp_grid[i-1][j]\n",
    "#         \n",
    "        return dp_grid[m-1][n-1]\n",
    "        "
   ]
  },
  {
   "cell_type": "code",
   "execution_count": 53,
   "metadata": {},
   "outputs": [
    {
     "data": {
      "text/plain": [
       "20"
      ]
     },
     "execution_count": 53,
     "metadata": {},
     "output_type": "execute_result"
    }
   ],
   "source": [
    "Solution().uniquePaths(4,4)"
   ]
  },
  {
   "cell_type": "markdown",
   "metadata": {},
   "source": [
    "## 8.3 Write a method that returns all subsets of a set."
   ]
  },
  {
   "cell_type": "markdown",
   "metadata": {},
   "source": [
    "[A good explanation can be found here](https://www.youtube.com/watch?v=bGC2fNALbNU&t=542s)"
   ]
  },
  {
   "cell_type": "code",
   "execution_count": 111,
   "metadata": {},
   "outputs": [],
   "source": [
    "class Solution:   \n",
    "    \n",
    "    generated_subsets = []\n",
    "    \n",
    "    def generate_subsets(self, nums, current_subset, i):\n",
    "        if i>=len(nums):\n",
    "            self.generated_subsets.append(current_subset)\n",
    "            return\n",
    "        else:\n",
    "#             print(nums, current_subset, i, self.generated_subsets)\n",
    "            self.generate_subsets(nums, current_subset, i+1) #skip adding element at i\n",
    "            self.generate_subsets(nums, current_subset+[nums[i]], i+1)\n",
    "    \n",
    "    def subsets(self, nums):\n",
    "        self.generated_subsets = [] \n",
    "        self.generate_subsets(nums=nums, current_subset=[], i=0)\n",
    "        return self.generated_subsets\n",
    "        \n",
    "        "
   ]
  },
  {
   "cell_type": "code",
   "execution_count": 113,
   "metadata": {},
   "outputs": [
    {
     "data": {
      "text/plain": [
       "[[],\n",
       " [2],\n",
       " [1],\n",
       " [1, 2],\n",
       " [],\n",
       " [5],\n",
       " [4],\n",
       " [4, 5],\n",
       " [3],\n",
       " [3, 5],\n",
       " [3, 4],\n",
       " [3, 4, 5],\n",
       " [2],\n",
       " [2, 5],\n",
       " [2, 4],\n",
       " [2, 4, 5],\n",
       " [2, 3],\n",
       " [2, 3, 5],\n",
       " [2, 3, 4],\n",
       " [2, 3, 4, 5],\n",
       " [1],\n",
       " [1, 5],\n",
       " [1, 4],\n",
       " [1, 4, 5],\n",
       " [1, 3],\n",
       " [1, 3, 5],\n",
       " [1, 3, 4],\n",
       " [1, 3, 4, 5],\n",
       " [1, 2],\n",
       " [1, 2, 5],\n",
       " [1, 2, 4],\n",
       " [1, 2, 4, 5],\n",
       " [1, 2, 3],\n",
       " [1, 2, 3, 5],\n",
       " [1, 2, 3, 4],\n",
       " [1, 2, 3, 4, 5]]"
      ]
     },
     "execution_count": 113,
     "metadata": {},
     "output_type": "execute_result"
    }
   ],
   "source": [
    "Solution().subsets([1,2,3,4,5])"
   ]
  },
  {
   "cell_type": "markdown",
   "metadata": {},
   "source": [
    "## 8.4 Write a method to compute all permutations of a string"
   ]
  },
  {
   "cell_type": "markdown",
   "metadata": {},
   "source": [
    "[A good explanation can be found here](https://www.youtube.com/watch?v=hqijNdQTBH8&t=188s)"
   ]
  },
  {
   "cell_type": "code",
   "execution_count": 134,
   "metadata": {},
   "outputs": [],
   "source": [
    "class Solution:\n",
    "\n",
    "    def recursively_permute(self, nums):\n",
    "        if len(nums)==0:\n",
    "            return []\n",
    "        elif len(nums)==1:\n",
    "            return nums\n",
    "        else:\n",
    "            list_of_permutations = []\n",
    "            for i in range(len(nums)):\n",
    "                fixed = nums[i]\n",
    "                remaining = nums[:i]+nums[i+1:]\n",
    "#                 print(fixed, remaining)\n",
    "                for permutation in self.recursively_permute(remaining):\n",
    "                    print(fixed, permutation)\n",
    "                    list_of_permutations.append(fixed+permutation)\n",
    "            return list_of_permutations\n",
    "        \n",
    "        \n",
    "    def permute(self, nums):\n",
    "        return self.recursively_permute(nums)\n",
    "        \n",
    "        "
   ]
  },
  {
   "cell_type": "code",
   "execution_count": 135,
   "metadata": {},
   "outputs": [
    {
     "name": "stdout",
     "output_type": "stream",
     "text": [
      "a t\n",
      "t a\n",
      "o at\n",
      "o ta\n",
      "o t\n",
      "t o\n",
      "a ot\n",
      "a to\n",
      "o a\n",
      "a o\n",
      "t oa\n",
      "t ao\n",
      "b oat\n",
      "b ota\n",
      "b aot\n",
      "b ato\n",
      "b toa\n",
      "b tao\n",
      "a t\n",
      "t a\n",
      "b at\n",
      "b ta\n",
      "b t\n",
      "t b\n",
      "a bt\n",
      "a tb\n",
      "b a\n",
      "a b\n",
      "t ba\n",
      "t ab\n",
      "o bat\n",
      "o bta\n",
      "o abt\n",
      "o atb\n",
      "o tba\n",
      "o tab\n",
      "o t\n",
      "t o\n",
      "b ot\n",
      "b to\n",
      "b t\n",
      "t b\n",
      "o bt\n",
      "o tb\n",
      "b o\n",
      "o b\n",
      "t bo\n",
      "t ob\n",
      "a bot\n",
      "a bto\n",
      "a obt\n",
      "a otb\n",
      "a tbo\n",
      "a tob\n",
      "o a\n",
      "a o\n",
      "b oa\n",
      "b ao\n",
      "b a\n",
      "a b\n",
      "o ba\n",
      "o ab\n",
      "b o\n",
      "o b\n",
      "a bo\n",
      "a ob\n",
      "t boa\n",
      "t bao\n",
      "t oba\n",
      "t oab\n",
      "t abo\n",
      "t aob\n"
     ]
    },
    {
     "data": {
      "text/plain": [
       "['boat',\n",
       " 'bota',\n",
       " 'baot',\n",
       " 'bato',\n",
       " 'btoa',\n",
       " 'btao',\n",
       " 'obat',\n",
       " 'obta',\n",
       " 'oabt',\n",
       " 'oatb',\n",
       " 'otba',\n",
       " 'otab',\n",
       " 'abot',\n",
       " 'abto',\n",
       " 'aobt',\n",
       " 'aotb',\n",
       " 'atbo',\n",
       " 'atob',\n",
       " 'tboa',\n",
       " 'tbao',\n",
       " 'toba',\n",
       " 'toab',\n",
       " 'tabo',\n",
       " 'taob']"
      ]
     },
     "execution_count": 135,
     "metadata": {},
     "output_type": "execute_result"
    }
   ],
   "source": [
    "Solution().permute(['b','o','a', 't'])"
   ]
  },
  {
   "cell_type": "markdown",
   "metadata": {},
   "source": [
    "## 8.6 Implement the “paint fill” function that one might see on many image editing programs. That is, given a screen (represented by a 2-dimensional array of Colors), a point, and a new color, fill in the surrounding area until you hit a border of that color."
   ]
  },
  {
   "cell_type": "code",
   "execution_count": null,
   "metadata": {},
   "outputs": [],
   "source": []
  }
 ],
 "metadata": {
  "kernelspec": {
   "display_name": "Python 3",
   "language": "python",
   "name": "python3"
  },
  "language_info": {
   "codemirror_mode": {
    "name": "ipython",
    "version": 3
   },
   "file_extension": ".py",
   "mimetype": "text/x-python",
   "name": "python",
   "nbconvert_exporter": "python",
   "pygments_lexer": "ipython3",
   "version": "3.6.5"
  }
 },
 "nbformat": 4,
 "nbformat_minor": 2
}
