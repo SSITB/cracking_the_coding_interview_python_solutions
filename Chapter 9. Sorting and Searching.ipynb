{
 "cells": [
  {
   "cell_type": "markdown",
   "metadata": {},
   "source": [
    "### 9.1 You are given two sorted arrays, A and B, and A has a large enough buffer at the end to hold B. Write a method to merge B into A in sorted order."
   ]
  },
  {
   "cell_type": "markdown",
   "metadata": {},
   "source": [
    "This is the standard merge part of merge sort"
   ]
  },
  {
   "cell_type": "code",
   "execution_count": null,
   "metadata": {},
   "outputs": [],
   "source": [
    "def merge_a_b(a, b):\n",
    "    merged = []\n",
    "    left_index = right_index = 0\n",
    "    while True:\n",
    "        if left_index>=len(a):\n",
    "            return merged+b\n",
    "        elif right_index>=len(b):\n",
    "            return left+merged\n",
    "        elif a[left_index]>=b[right_index]:\n",
    "            merged.append(b[right_index])\n",
    "            right_index+=1\n",
    "        elif a[left_index]<b[right_index]:\n",
    "            merged.append(a[r])\n",
    "            \n",
    "            "
   ]
  }
 ],
 "metadata": {
  "kernelspec": {
   "display_name": "Python 3",
   "language": "python",
   "name": "python3"
  },
  "language_info": {
   "codemirror_mode": {
    "name": "ipython",
    "version": 3
   },
   "file_extension": ".py",
   "mimetype": "text/x-python",
   "name": "python",
   "nbconvert_exporter": "python",
   "pygments_lexer": "ipython3",
   "version": "3.6.5"
  }
 },
 "nbformat": 4,
 "nbformat_minor": 2
}
