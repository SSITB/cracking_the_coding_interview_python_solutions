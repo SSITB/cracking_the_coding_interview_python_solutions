{
 "cells": [
  {
   "cell_type": "markdown",
   "metadata": {},
   "source": [
    "### 9.1 You are given two sorted arrays, A and B, and A has a large enough buffer at the end to hold B. Write a method to merge B into A in sorted order."
   ]
  },
  {
   "cell_type": "markdown",
   "metadata": {},
   "source": [
    "This is the standard merge part of merge sort"
   ]
  },
  {
   "cell_type": "code",
   "execution_count": 1,
   "metadata": {},
   "outputs": [],
   "source": [
    "def merge_a_b(a, b):\n",
    "    merged = []\n",
    "    left_index = right_index = 0\n",
    "    while True:\n",
    "        if left_index>=len(a):\n",
    "            return merged+b\n",
    "        elif right_index>=len(b):\n",
    "            return left+merged\n",
    "        elif a[left_index]>=b[right_index]:\n",
    "            merged.append(b[right_index])\n",
    "            right_index+=1\n",
    "        elif a[left_index]<b[right_index]:\n",
    "            merged.append(a[left_index])\n",
    "            left_index+=1 "
   ]
  },
  {
   "cell_type": "markdown",
   "metadata": {},
   "source": [
    "### 9.2 Write a method to sort an array of strings so that all the anagrams are next to each other."
   ]
  },
  {
   "cell_type": "markdown",
   "metadata": {},
   "source": [
    "The approach will be to use sorted string to represent a 'signature' of words. This way anagrams can map to the same signature (key) in a dictionary."
   ]
  },
  {
   "cell_type": "code",
   "execution_count": 19,
   "metadata": {},
   "outputs": [],
   "source": [
    "def sort_anagrams(list_of_words):\n",
    "    dict_ = {}\n",
    "    returnable_list = []\n",
    "    for word in list_of_words:\n",
    "        signature = \"\".join(sorted(word))\n",
    "        try:\n",
    "            dict_[signature].append(word)\n",
    "        except:\n",
    "            dict_[signature] = [word]\n",
    "    for signature in dict_:\n",
    "        returnable_list+=dict_[signature]\n",
    "        \n",
    "    return returnable_list\n",
    "    "
   ]
  },
  {
   "cell_type": "code",
   "execution_count": 20,
   "metadata": {},
   "outputs": [
    {
     "data": {
      "text/plain": [
       "['man', 'nam', 'bigchungus', 'aloha']"
      ]
     },
     "execution_count": 20,
     "metadata": {},
     "output_type": "execute_result"
    }
   ],
   "source": [
    "sort_anagrams([\"man\", \"nam\", \"bigchungus\", \"aloha\"])"
   ]
  },
  {
   "cell_type": "markdown",
   "metadata": {},
   "source": [
    "### *9.3 Given a sorted array of n integers that has been rotated an unknown number of times, give an O(log n) algorithm that finds an element in the array. You may assume that the array was originally sorted in increasing order.\n",
    "EXAMPLE:\n",
    "Input: find 5 in array (15 16 19 20 25 1 3 4 5 7 10 14)\n",
    "Output: 8 (the index of 5 in the array)"
   ]
  },
  {
   "cell_type": "markdown",
   "metadata": {},
   "source": [
    "The strategy will be to try to find the pivot element. For example, in the example we will try to find the position of 25. Then we will divide and conquer with binary search."
   ]
  },
  {
   "cell_type": "code",
   "execution_count": 86,
   "metadata": {},
   "outputs": [],
   "source": [
    "def binary_search(list_, value):\n",
    "    start = 0\n",
    "    end = len(list_)-1\n",
    "    found_value = False\n",
    "    while start<=end:\n",
    "        mid = int((end+start)/2)\n",
    "        if list_[mid]==value:\n",
    "            return True\n",
    "        elif list_[mid]<value:\n",
    "            start = mid+1\n",
    "        elif list_[mid]>value:\n",
    "            end = mid-1\n",
    "    return found_value\n",
    "        "
   ]
  },
  {
   "cell_type": "code",
   "execution_count": 87,
   "metadata": {},
   "outputs": [
    {
     "data": {
      "text/plain": [
       "True"
      ]
     },
     "execution_count": 87,
     "metadata": {},
     "output_type": "execute_result"
    }
   ],
   "source": [
    "binary_search([1,2,3,4,5,6,7], 5)"
   ]
  },
  {
   "cell_type": "code",
   "execution_count": 88,
   "metadata": {},
   "outputs": [],
   "source": [
    "def find_pivot(rotated_list):\n",
    "    start = 0\n",
    "    end = len(rotated_list)-1\n",
    "    while start<=end:\n",
    "        mid = int((start+end)/2)\n",
    "        print(start, mid, end)\n",
    "        if rotated_list[mid]>rotated_list[mid+1]:\n",
    "            print(start, mid, end)\n",
    "            #list is sorted\n",
    "            return (rotated_list[mid], mid)\n",
    "        elif rotated_list[mid]<rotated_list[start]:\n",
    "            print(start, mid, end)\n",
    "            #pivot is on the left\n",
    "            end = mid-1\n",
    "        elif rotated_list[mid]>=rotated_list[start]:\n",
    "            print(start, mid, end)\n",
    "            start = mid+1\n",
    "\n"
   ]
  },
  {
   "cell_type": "code",
   "execution_count": 89,
   "metadata": {},
   "outputs": [],
   "source": [
    "def search_rotated(rotated_list, value):\n",
    "    pivot, index_of_pivot = find_pivot(rotated_list)\n",
    "    if pivot==value:\n",
    "        return True\n",
    "    elif pivot>value:\n",
    "        return binary_search(rotated_list[:index_of_pivot], value)\n",
    "    else:\n",
    "        return binary_search(rotated_list[index_of_pivot+1:], value)"
   ]
  },
  {
   "cell_type": "markdown",
   "metadata": {},
   "source": [
    "### 9.4 If you have a 2 GB file with one string per line, which sorting algorithm would you use to sort the file and why?"
   ]
  },
  {
   "cell_type": "markdown",
   "metadata": {},
   "source": [
    "1. Divide the file into K chunks, where X * K = 2 GB. Bring each chunk into memory and sort the lines as usual using any O(n log n) algorithm. Save the lines back to the file.\n",
    "2. Now bring the next chunk into memory and sort.\n",
    "3. Once we’re done, merge them one by one."
   ]
  },
  {
   "cell_type": "markdown",
   "metadata": {},
   "source": [
    "### 9.5 Given a sorted array of strings which is interspersed with empty strings, write a method to find the location of a given string.\n",
    "Example: find “ball” in [“at”, “”, “”, “”, “ball”, “”, “”, “car”, “”, “”, “dad”, “”, “”] will return 4\n",
    "Example: find “ballcar” in [“at”, “”, “”, “”, “”, “ball”, “car”, “”, “”, “dad”, “”, “”] will return -1"
   ]
  },
  {
   "cell_type": "code",
   "execution_count": 1,
   "metadata": {},
   "outputs": [],
   "source": [
    "def special_bin_search(input_list, value):\n",
    "    \n",
    "    start = 0\n",
    "    end = int(len(input_list))-1\n",
    "    \n",
    "    while start<=end:\n",
    "        mid = int((start+end)/2)\n",
    "        if input_list[mid]==value:\n",
    "            return mid\n",
    "        elif input_list[mid]==\"\":\n",
    "            found_non_empty = False\n",
    "            for i in range(mid+1, len(input_list)):\n",
    "                if input_list[i]!=\"\":\n",
    "                    found_non_empty = True\n",
    "                    if input_list[i]==value:\n",
    "                        return i\n",
    "                    elif input_list[i]<value:\n",
    "                        start = i+1\n",
    "                    elif input_list[i]>value:\n",
    "                        end = mid-1\n",
    "                if not found_non_empty:\n",
    "                    end = mid-1\n",
    "        elif input_list[mid]<value:\n",
    "            start = mid+1\n",
    "        elif input_list[mid]>value:\n",
    "            end = mid-1\n",
    "    return -1"
   ]
  },
  {
   "cell_type": "markdown",
   "metadata": {},
   "source": [
    "### 9.6 Given a matrix in which each row and each column is sorted, write a method to find an element in it."
   ]
  },
  {
   "cell_type": "markdown",
   "metadata": {},
   "source": [
    "We will first identify the row in which the value is likely to be in, using a variant of binary search and then we will perform binary search on that row. Time complexity will be O(log(n)+log(m))."
   ]
  },
  {
   "cell_type": "code",
   "execution_count": 3,
   "metadata": {},
   "outputs": [],
   "source": [
    "def identify_row(column, value):\n",
    "    start = 0\n",
    "    end = len(column)-1\n",
    "    \n",
    "    while start<=end:\n",
    "        mid = int((start+end)/2)\n",
    "        if column[mid]==value:\n",
    "            return mid\n",
    "        elif column[mid]>value:\n",
    "            end = mid-1\n",
    "        elif column[mid]<value:\n",
    "            if (mid+1)<len(column):\n",
    "                if value<column[mid+1]: #the value is in the row of mid\n",
    "                    return mid\n",
    "                else:\n",
    "                    start = mid+1\n",
    "            else:\n",
    "                return -1 \n",
    "\n",
    "def glue_code(matrix, value):\n",
    "    \n",
    "    column = [x[0] for x in matrix]\n",
    "    row_index = identify_row(column, value)\n",
    "    return binary_search(matrix[row_index], value)\n",
    "            \n",
    "            "
   ]
  },
  {
   "cell_type": "markdown",
   "metadata": {},
   "source": [
    "### 9.7 A circus is designing a tower routine consisting of people standing atop one another’s shoulders. For practical and aesthetic reasons, each person must be both shorter and lighter than the person below him or her. Given the heights and weights of each person in the circus, write a method to compute the largest possible number of people in such a tower.\n",
    "EXAMPLE:\n",
    "Input (ht, wt): (65, 100) (70, 150) (56, 90) (75, 190) (60, 95) (68, 110)\n",
    "Output: The longest tower is length 6 and includes from top to bottom: (56, 90) (60,95) (65,100) (68,110) (70,150) (75,190)"
   ]
  },
  {
   "cell_type": "markdown",
   "metadata": {},
   "source": [
    "We can sort the list by ht and then wt and then problem becomes a simple longest increasing subsequence problem"
   ]
  },
  {
   "cell_type": "code",
   "execution_count": 13,
   "metadata": {},
   "outputs": [],
   "source": [
    "def get_max_tower(list_of_ht_wt):\n",
    "    \n",
    "    list_of_ht_wt = sorted(list_of_ht_wt)\n",
    "    print(list_of_ht_wt)\n",
    "    previous_element = list_of_ht_wt[0]\n",
    "    memo = {previous_element:1}\n",
    "    for i in range(1, len(list_of_ht_wt)):\n",
    "        if list_of_ht_wt[i][0]>previous_element[0] and list_of_ht_wt[i][1]>previous_element[1]:\n",
    "            memo[list_of_ht_wt[i]] = memo[previous_element]+1\n",
    "            previous_element = list_of_ht_wt[i]\n",
    "        else:\n",
    "            memo[list_of_ht_wt[i]] = 1\n",
    "    \n",
    "    return max(memo.values())\n"
   ]
  },
  {
   "cell_type": "code",
   "execution_count": 14,
   "metadata": {},
   "outputs": [
    {
     "name": "stdout",
     "output_type": "stream",
     "text": [
      "[(56, 100), (60, 95), (65, 100), (68, 110), (70, 150), (75, 190)]\n"
     ]
    },
    {
     "data": {
      "text/plain": [
       "4"
      ]
     },
     "execution_count": 14,
     "metadata": {},
     "output_type": "execute_result"
    }
   ],
   "source": [
    "get_max_tower([(65, 100), (70, 150), (56, 100), (75, 190), (60, 95), (68, 110)])"
   ]
  },
  {
   "cell_type": "code",
   "execution_count": null,
   "metadata": {},
   "outputs": [],
   "source": []
  }
 ],
 "metadata": {
  "kernelspec": {
   "display_name": "Python 3",
   "language": "python",
   "name": "python3"
  },
  "language_info": {
   "codemirror_mode": {
    "name": "ipython",
    "version": 3
   },
   "file_extension": ".py",
   "mimetype": "text/x-python",
   "name": "python",
   "nbconvert_exporter": "python",
   "pygments_lexer": "ipython3",
   "version": "3.6.5"
  }
 },
 "nbformat": 4,
 "nbformat_minor": 2
}
