{
 "cells": [
  {
   "cell_type": "markdown",
   "metadata": {},
   "source": [
    "## *4.1 Implement a function to check if a tree is balanced. For the purposes of this question, a balanced tree is defined to be a tree such that no two leaf nodes differ in distance from the root by more than one."
   ]
  },
  {
   "cell_type": "markdown",
   "metadata": {},
   "source": [
    "### Solution: We compute the difference between max_depth and min_depth of the tree. If the difference is not more than one, it is balanced."
   ]
  },
  {
   "cell_type": "code",
   "execution_count": 23,
   "metadata": {},
   "outputs": [],
   "source": [
    "def min_depth(tree_node):\n",
    "    \n",
    "    if tree_node==None:\n",
    "        return 0\n",
    "    else:\n",
    "        return min(min_depth(tree_node.left), min_depth(tree_node.right))+1\n",
    "\n",
    "    \n",
    "def max_depth(tree_node):\n",
    "    \n",
    "    if tree_node==None:\n",
    "        return 0\n",
    "    else:\n",
    "        return max(min_depth(tree_node.left), min_depth(tree_node.right))+1\n",
    "    \n",
    "    \n",
    "def isBalanced(tree_node):\n",
    "    \n",
    "    min_depth_ = min_depth(tree_node)\n",
    "    max_depth_ = max_depth(tree_node)\n",
    "    \n",
    "    if abs(min_depth_-max_depth_)>1:\n",
    "        return False\n",
    "    else:\n",
    "        return True"
   ]
  },
  {
   "cell_type": "markdown",
   "metadata": {},
   "source": [
    "## 4.2 Given a directed graph, design an algorithm to find out whether there is a route between two nodes."
   ]
  },
  {
   "cell_type": "markdown",
   "metadata": {},
   "source": [
    "### Solution: Either BFS or DFS with one node as the source and check if the other node is visited during the traversal."
   ]
  },
  {
   "cell_type": "code",
   "execution_count": 24,
   "metadata": {},
   "outputs": [],
   "source": [
    "from datastructures import Stack\n",
    "def depth_first_search(source_node, destination_node):\n",
    "    \n",
    "    stack = Stack() #a  queue if its bfs\n",
    "    visited_nodes = set()\n",
    "    stack.push(source_node)\n",
    "    \n",
    "    while not stack.isEmpty():\n",
    "        current_node = stack.pop()\n",
    "        for neighbour in adjacency_list[current_node]:\n",
    "            if destination_node==neighbour:\n",
    "                return True\n",
    "            else:\n",
    "                stack.push(neighbour)\n",
    "\n",
    "        visited_nodes.add(current_node)\n",
    "    \n",
    "    return False"
   ]
  },
  {
   "cell_type": "markdown",
   "metadata": {},
   "source": [
    "## 4.3 Given a sorted (increasing order) array, write an algorithm to create a binary tree with minimal height."
   ]
  },
  {
   "cell_type": "markdown",
   "metadata": {},
   "source": [
    "### Solution: For minimum height we want a balanced tree. The idea is to build an ideal binary tree following a similar routine as binary search."
   ]
  },
  {
   "cell_type": "code",
   "execution_count": 25,
   "metadata": {},
   "outputs": [],
   "source": [
    "from datastructures import TreeNode\n",
    "\n",
    "new_tree = TreeNode()\n",
    "\n",
    "def min_height_tree(sorted_array, start, end):\n",
    "    \n",
    "    if end<start:\n",
    "        return\n",
    "    else:\n",
    "        mid = int((end+start)/2)\n",
    "        new_tree.insert(sorted_array[mid])\n",
    "        new_tree.insert(min_height_tree(sorted_array,start,mid-1))\n",
    "        new_tree.insert(min_height_tree(sorted_array,mid+1,end))"
   ]
  },
  {
   "cell_type": "code",
   "execution_count": 26,
   "metadata": {},
   "outputs": [
    {
     "name": "stdout",
     "output_type": "stream",
     "text": [
      "1\n",
      "2\n",
      "3\n",
      "4\n",
      "5\n",
      "6\n",
      "7\n"
     ]
    },
    {
     "data": {
      "text/plain": [
       "True"
      ]
     },
     "execution_count": 26,
     "metadata": {},
     "output_type": "execute_result"
    }
   ],
   "source": [
    "min_height_tree([1,2,3,4,5,6,7], 0, 6)\n",
    "new_tree.inOrderTraversal()\n",
    "isBalanced(new_tree)"
   ]
  },
  {
   "cell_type": "code",
   "execution_count": null,
   "metadata": {},
   "outputs": [],
   "source": []
  }
 ],
 "metadata": {
  "kernelspec": {
   "display_name": "Python 3",
   "language": "python",
   "name": "python3"
  },
  "language_info": {
   "codemirror_mode": {
    "name": "ipython",
    "version": 3
   },
   "file_extension": ".py",
   "mimetype": "text/x-python",
   "name": "python",
   "nbconvert_exporter": "python",
   "pygments_lexer": "ipython3",
   "version": "3.6.5"
  }
 },
 "nbformat": 4,
 "nbformat_minor": 2
}
