{
 "cells": [
  {
   "cell_type": "markdown",
   "metadata": {},
   "source": [
    "## *4.1 Implement a function to check if a tree is balanced. For the purposes of this question, a balanced tree is defined to be a tree such that no two leaf nodes differ in distance from the root by more than one."
   ]
  },
  {
   "cell_type": "markdown",
   "metadata": {},
   "source": [
    "### Solution: We compute the difference between max_depth and min_depth of the tree. If the difference is not more than one, it is balanced."
   ]
  },
  {
   "cell_type": "code",
   "execution_count": 16,
   "metadata": {},
   "outputs": [],
   "source": [
    "def min_depth(tree_node):\n",
    "    \n",
    "    if tree_node==None:\n",
    "        return 0\n",
    "    else:\n",
    "        return min(min_depth(tree_node.left), min_depth(tree_node.right))+1\n",
    "\n",
    "    \n",
    "def max_depth(tree_node):\n",
    "    \n",
    "    if tree_node==None:\n",
    "        return 0\n",
    "    else:\n",
    "        return max(min_depth(tree_node.left), min_depth(tree_node.right))+1\n",
    "    \n",
    "    \n",
    "def isBalanced(tree_node):\n",
    "    \n",
    "    min_depth = min_depth(tree_node)\n",
    "    max_depth = max_depth(tree_node)\n",
    "    \n",
    "    if abs(min_depth-max_depth)>1:\n",
    "        return False\n",
    "    else:\n",
    "        return True"
   ]
  },
  {
   "cell_type": "markdown",
   "metadata": {},
   "source": [
    "## 4.2 Given a directed graph, design an algorithm to find out whether there is a route between two nodes."
   ]
  },
  {
   "cell_type": "markdown",
   "metadata": {},
   "source": [
    "### Solution: Either BFS or DFS with one node as the source and check if the other node is visited during the traversal."
   ]
  },
  {
   "cell_type": "code",
   "execution_count": null,
   "metadata": {},
   "outputs": [],
   "source": [
    "from datastructures import Stack\n",
    "def depth_first_search(source_node, destination_node):\n",
    "    \n",
    "    stack = Stack() #a  queue if its bfs\n",
    "    visited_nodes = set()\n",
    "    stack.push(source_node)\n",
    "    \n",
    "    while not stack.isEmpty():\n",
    "        current_node = stack.pop()\n",
    "        for neighbour in adjacency_list[current_node]:\n",
    "            if destination_node==neighbour:\n",
    "                return True\n",
    "            else:\n",
    "                stack.push(neighbour)\n",
    "\n",
    "        visited_nodes.add(current_node)\n",
    "    \n",
    "    return False"
   ]
  },
  {
   "cell_type": "markdown",
   "metadata": {},
   "source": [
    "## 4.3 Given a sorted (increasing order) array, write an algorithm to create a binary tree with minimal height."
   ]
  },
  {
   "cell_type": "markdown",
   "metadata": {},
   "source": [
    "### Solution: For minimum height we want a balanced tree. The idea is to build an ideal binary tree following a similar routine as binary search."
   ]
  },
  {
   "cell_type": "code",
   "execution_count": 17,
   "metadata": {},
   "outputs": [],
   "source": [
    "from datastructures import TreeNode\n",
    "\n",
    "new_tree = TreeNode()\n",
    "\n",
    "def min_height_tree(sorted_array, start, end):\n",
    "    \n",
    "    if end<start:\n",
    "        return\n",
    "    else:\n",
    "        mid = int((end+start)/2)\n",
    "        new_tree.insert(sorted_array[mid])\n",
    "        new_tree.insert(min_height_tree(sorted_array,start,mid-1))\n",
    "        new_tree.insert(min_height_tree(sorted_array,mid+1,end))"
   ]
  },
  {
   "cell_type": "code",
   "execution_count": 18,
   "metadata": {},
   "outputs": [
    {
     "name": "stdout",
     "output_type": "stream",
     "text": [
      "1\n",
      "2\n",
      "3\n",
      "4\n",
      "5\n",
      "6\n",
      "7\n"
     ]
    },
    {
     "ename": "UnboundLocalError",
     "evalue": "local variable 'min_depth' referenced before assignment",
     "output_type": "error",
     "traceback": [
      "\u001b[0;31m---------------------------------------------------------------------------\u001b[0m",
      "\u001b[0;31mUnboundLocalError\u001b[0m                         Traceback (most recent call last)",
      "\u001b[0;32m<ipython-input-18-47054d022db2>\u001b[0m in \u001b[0;36m<module>\u001b[0;34m()\u001b[0m\n\u001b[1;32m      1\u001b[0m \u001b[0mmin_height_tree\u001b[0m\u001b[0;34m(\u001b[0m\u001b[0;34m[\u001b[0m\u001b[0;36m1\u001b[0m\u001b[0;34m,\u001b[0m\u001b[0;36m2\u001b[0m\u001b[0;34m,\u001b[0m\u001b[0;36m3\u001b[0m\u001b[0;34m,\u001b[0m\u001b[0;36m4\u001b[0m\u001b[0;34m,\u001b[0m\u001b[0;36m5\u001b[0m\u001b[0;34m,\u001b[0m\u001b[0;36m6\u001b[0m\u001b[0;34m,\u001b[0m\u001b[0;36m7\u001b[0m\u001b[0;34m]\u001b[0m\u001b[0;34m,\u001b[0m \u001b[0;36m0\u001b[0m\u001b[0;34m,\u001b[0m \u001b[0;36m6\u001b[0m\u001b[0;34m)\u001b[0m\u001b[0;34m\u001b[0m\u001b[0m\n\u001b[1;32m      2\u001b[0m \u001b[0mnew_tree\u001b[0m\u001b[0;34m.\u001b[0m\u001b[0minOrderTraversal\u001b[0m\u001b[0;34m(\u001b[0m\u001b[0;34m)\u001b[0m\u001b[0;34m\u001b[0m\u001b[0m\n\u001b[0;32m----> 3\u001b[0;31m \u001b[0misBalanced\u001b[0m\u001b[0;34m(\u001b[0m\u001b[0mnew_tree\u001b[0m\u001b[0;34m)\u001b[0m\u001b[0;34m\u001b[0m\u001b[0m\n\u001b[0m",
      "\u001b[0;32m<ipython-input-16-6d9c4af80b44>\u001b[0m in \u001b[0;36misBalanced\u001b[0;34m(tree_node)\u001b[0m\n\u001b[1;32m     17\u001b[0m \u001b[0;32mdef\u001b[0m \u001b[0misBalanced\u001b[0m\u001b[0;34m(\u001b[0m\u001b[0mtree_node\u001b[0m\u001b[0;34m)\u001b[0m\u001b[0;34m:\u001b[0m\u001b[0;34m\u001b[0m\u001b[0m\n\u001b[1;32m     18\u001b[0m \u001b[0;34m\u001b[0m\u001b[0m\n\u001b[0;32m---> 19\u001b[0;31m     \u001b[0mmin_depth\u001b[0m \u001b[0;34m=\u001b[0m \u001b[0mmin_depth\u001b[0m\u001b[0;34m(\u001b[0m\u001b[0mtree_node\u001b[0m\u001b[0;34m)\u001b[0m\u001b[0;34m\u001b[0m\u001b[0m\n\u001b[0m\u001b[1;32m     20\u001b[0m     \u001b[0mmax_depth\u001b[0m \u001b[0;34m=\u001b[0m \u001b[0mmax_depth\u001b[0m\u001b[0;34m(\u001b[0m\u001b[0mtree_node\u001b[0m\u001b[0;34m)\u001b[0m\u001b[0;34m\u001b[0m\u001b[0m\n\u001b[1;32m     21\u001b[0m \u001b[0;34m\u001b[0m\u001b[0m\n",
      "\u001b[0;31mUnboundLocalError\u001b[0m: local variable 'min_depth' referenced before assignment"
     ]
    }
   ],
   "source": [
    "min_height_tree([1,2,3,4,5,6,7], 0, 6)\n",
    "new_tree.inOrderTraversal()\n",
    "isBalanced(new_tree)"
   ]
  },
  {
   "cell_type": "code",
   "execution_count": null,
   "metadata": {},
   "outputs": [],
   "source": []
  }
 ],
 "metadata": {
  "kernelspec": {
   "display_name": "Python 3",
   "language": "python",
   "name": "python3"
  },
  "language_info": {
   "codemirror_mode": {
    "name": "ipython",
    "version": 3
   },
   "file_extension": ".py",
   "mimetype": "text/x-python",
   "name": "python",
   "nbconvert_exporter": "python",
   "pygments_lexer": "ipython3",
   "version": "3.6.5"
  }
 },
 "nbformat": 4,
 "nbformat_minor": 2
}
