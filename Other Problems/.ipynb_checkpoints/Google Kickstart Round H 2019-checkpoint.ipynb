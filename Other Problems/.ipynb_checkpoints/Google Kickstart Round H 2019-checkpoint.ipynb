{
 "cells": [
  {
   "cell_type": "markdown",
   "metadata": {},
   "source": [
    "## H-index\n",
    "https://codingcompetitions.withgoogle.com/kickstart/round/0000000000050edd/00000000001a274e\n"
   ]
  },
  {
   "cell_type": "code",
   "execution_count": 230,
   "metadata": {},
   "outputs": [],
   "source": [
    "import sys    \n",
    "    \n",
    "def H_index(list_of_Ai, case):\n",
    "    start = time.time()\n",
    "    list_of_Ai = [int(x) for x in list_of_Ai.split(\" \")]\n",
    "    memo = [0] #{i: how many papers have atleast i citations} h_index will then simply be\n",
    "              #the highest i such that i==memo[i]\n",
    "             #eg: for {1: 3, 2: 2, 3: 1, 4: 1, 5: 1} it will be 2:2\n",
    "    output_list = []\n",
    "    max_h_index = 1\n",
    "    \n",
    "    for i in range(len(list_of_Ai)):\n",
    "        for j in range(max_h_index, list_of_Ai[i]+1):\n",
    "            if j<len(memo):\n",
    "                memo[j]+=1\n",
    "            else:\n",
    "                memo.append(1)\n",
    "\n",
    "        for i in range(max_h_index, len(memo)):\n",
    "            \n",
    "            if i<=memo[i]:\n",
    "                if i>max_h_index:\n",
    "                    max_h_index = i\n",
    "#                     print(max_h_index)\n",
    "        output_list.append(max_h_index)\n",
    "    print(time.time()-start)\n",
    "    return \"Case #{}: \".format(case) + str(output_list).replace(\"[\",\"\").replace(\"]\",\"\").replace(\",\",\"\")\n",
    "    \n",
    "# if __name__=='__main__':\n",
    "#     input_ = []\n",
    "    \n",
    "#     for line in sys.stdin:\n",
    "#         input_.append(line.replace(\"\\n\", \"\"))\n",
    "        \n",
    "#     no_of_cases = input_.pop(0)\n",
    "#     case = 0\n",
    "#     for i in range(1,len(input_), 2):\n",
    "#         case+=1\n",
    "#         print(H_index(input_[i], case))\n",
    "    "
   ]
  },
  {
   "cell_type": "code",
   "execution_count": 231,
   "metadata": {},
   "outputs": [
    {
     "name": "stdout",
     "output_type": "stream",
     "text": [
      "3.62396240234375e-05\n"
     ]
    },
    {
     "data": {
      "text/plain": [
       "'Case #1: 1 1 2 2 2 3 3 3 3 3 3 3 3 3 3 3 3 3 3 3 4'"
      ]
     },
     "execution_count": 231,
     "metadata": {},
     "output_type": "execute_result"
    }
   ],
   "source": [
    "H_index('1 3 3 2 2 4 3 3 2 2 4 3 3 2 2 4 3 3 2 2 4', 1)"
   ]
  },
  {
   "cell_type": "code",
   "execution_count": 122,
   "metadata": {},
   "outputs": [
    {
     "data": {
      "text/plain": [
       "1578473891.0003011"
      ]
     },
     "execution_count": 122,
     "metadata": {},
     "output_type": "execute_result"
    }
   ],
   "source": [
    "import time\n",
    "time.time()"
   ]
  },
  {
   "cell_type": "code",
   "execution_count": null,
   "metadata": {},
   "outputs": [],
   "source": []
  }
 ],
 "metadata": {
  "kernelspec": {
   "display_name": "Python 3",
   "language": "python",
   "name": "python3"
  },
  "language_info": {
   "codemirror_mode": {
    "name": "ipython",
    "version": 3
   },
   "file_extension": ".py",
   "mimetype": "text/x-python",
   "name": "python",
   "nbconvert_exporter": "python",
   "pygments_lexer": "ipython3",
   "version": "3.6.5"
  }
 },
 "nbformat": 4,
 "nbformat_minor": 2
}
