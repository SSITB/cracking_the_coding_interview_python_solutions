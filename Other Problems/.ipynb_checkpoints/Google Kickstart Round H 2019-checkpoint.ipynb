{
 "cells": [
  {
   "cell_type": "markdown",
   "metadata": {},
   "source": [
    "## H-index\n",
    "https://codingcompetitions.withgoogle.com/kickstart/round/0000000000050edd/00000000001a274e\n"
   ]
  },
  {
   "cell_type": "code",
   "execution_count": 228,
   "metadata": {},
   "outputs": [],
   "source": [
    "import sys    \n",
    "    \n",
    "def H_index(m, list_of_Ai, case):\n",
    "    list_of_Ai = list_of_Ai.split(\" \")\n",
    "    list_of_Ai = list(map(int, list_of_Ai))\n",
    "    memo = []\n",
    "    output_list = []\n",
    "    current_max_h_index = 0\n",
    "    \n",
    "    for i in range(m):\n",
    "        if list_of_Ai[i]>=current_max_h_index:\n",
    "            memo.append(list_of_Ai[i])\n",
    "            \n",
    "        j = 0    \n",
    "        while j<len(memo):\n",
    "            if memo[j]<=current_max_h_index:\n",
    "                del memo[j]\n",
    "            j+=1\n",
    "        \n",
    "        if len(memo)>current_max_h_index:\n",
    "            current_max_h_index = len(memo)\n",
    "        output_list.append(current_max_h_index)\n",
    "    \n",
    "    return \"Case #{}: \".format(case) + str(output_list).replace(\"[\",\"\").replace(\"]\",\"\").replace(\",\",\"\")\n",
    "\n",
    "case = int(input())\n",
    "for k in range(1,case+1):\n",
    "    m = int(input())\n",
    "    list_of_Ai = input()\n",
    "    print(H_index(m, list_of_Ai, k))"
   ]
  },
  {
   "cell_type": "code",
   "execution_count": 229,
   "metadata": {},
   "outputs": [],
   "source": [
    "# case = int(input())\n",
    "# for k in range(1,case+1):\n",
    "#     m = int(input())\n",
    "#     list_of_Ai = input()\n",
    "#     print(type(list_of_Ai))\n",
    "#     print(H_index(m, list_of_Ai, k))"
   ]
  },
  {
   "cell_type": "code",
   "execution_count": 227,
   "metadata": {},
   "outputs": [
    {
     "name": "stdout",
     "output_type": "stream",
     "text": [
      "3.814697265625e-06\n",
      "1.0013580322265625e-05\n",
      "0.0003561973571777344\n"
     ]
    }
   ],
   "source": [
    "start = time.time()\n",
    "H_index(6, \"1 3 3 2 2 15\", 1)\n",
    "print(time.time()-start)"
   ]
  },
  {
   "cell_type": "code",
   "execution_count": null,
   "metadata": {},
   "outputs": [],
   "source": []
  }
 ],
 "metadata": {
  "kernelspec": {
   "display_name": "Python 3",
   "language": "python",
   "name": "python3"
  },
  "language_info": {
   "codemirror_mode": {
    "name": "ipython",
    "version": 3
   },
   "file_extension": ".py",
   "mimetype": "text/x-python",
   "name": "python",
   "nbconvert_exporter": "python",
   "pygments_lexer": "ipython3",
   "version": "3.6.5"
  }
 },
 "nbformat": 4,
 "nbformat_minor": 2
}
