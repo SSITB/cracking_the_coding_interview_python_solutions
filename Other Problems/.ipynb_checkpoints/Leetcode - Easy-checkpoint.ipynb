{
 "cells": [
  {
   "cell_type": "markdown",
   "metadata": {},
   "source": [
    "### Given an integer number n, return the difference between the product of its digits and the sum of its digits."
   ]
  },
  {
   "cell_type": "code",
   "execution_count": 7,
   "metadata": {},
   "outputs": [],
   "source": [
    "class Solution:\n",
    "    def subtractProductAndSum(self, n: int) -> int:\n",
    "        list_of_digits = [int(x) for x in str(n)]\n",
    "        \n",
    "        sum_ = sum(list_of_digits)\n",
    "        \n",
    "        product = 1\n",
    "        for i in range(len(list_of_digits)):\n",
    "            \n",
    "            product*=list_of_digits[i]\n",
    "        \n",
    "        return product-sum_"
   ]
  },
  {
   "cell_type": "code",
   "execution_count": 9,
   "metadata": {},
   "outputs": [
    {
     "data": {
      "text/plain": [
       "15"
      ]
     },
     "execution_count": 9,
     "metadata": {},
     "output_type": "execute_result"
    }
   ],
   "source": [
    "Solution().subtractProductAndSum(234)"
   ]
  },
  {
   "cell_type": "markdown",
   "metadata": {},
   "source": [
    "### Given a string keyboard of length 26 indicating the layout of the keyboard (indexed from 0 to 25), initially your finger is at index 0. To type a character, you have to move your finger to the index of the desired character. The time taken to move your finger from index i to index j is |i - j|.\n",
    "\n",
    "You want to type a string word. Write a function to calculate how much time it takes to type it with one finger.\n",
    "\n",
    " \n",
    "\n",
    "Example 1:\n",
    "\n",
    "Input: keyboard = \"abcdefghijklmnopqrstuvwxyz\", word = \"cba\"\n",
    "Output: 4\n",
    "Explanation: The index moves from 0 to 2 to write 'c' then to 1 to write 'b' then to 0 again to write 'a'.\n",
    "Total time = 2 + 1 + 1 = 4. "
   ]
  },
  {
   "cell_type": "code",
   "execution_count": 10,
   "metadata": {},
   "outputs": [],
   "source": [
    "class Solution:\n",
    "    def calculateTime(self, keyboard: str, word: str) -> int:\n",
    "        dict_ = {}\n",
    "        for i in range(len(keyboard)):\n",
    "            dict_[keyboard[i]] = i\n",
    "        \n",
    "        previous_index = 0\n",
    "        total_movement = 0\n",
    "        for i in range(len(word)):\n",
    "            print(total_movement, previous_index, dict_[word[i]])\n",
    "            total_movement+=abs(previous_index - dict_[word[i]])\n",
    "            previous_index = dict_[word[i]]\n",
    "        \n",
    "        return total_movement"
   ]
  },
  {
   "cell_type": "code",
   "execution_count": 11,
   "metadata": {},
   "outputs": [
    {
     "data": {
      "text/plain": [
       "'a'"
      ]
     },
     "execution_count": 11,
     "metadata": {},
     "output_type": "execute_result"
    }
   ],
   "source": [
    "\"A\".lower()"
   ]
  },
  {
   "cell_type": "code",
   "execution_count": 3,
   "metadata": {},
   "outputs": [
    {
     "data": {
      "text/plain": [
       "'aish'"
      ]
     },
     "execution_count": 3,
     "metadata": {},
     "output_type": "execute_result"
    }
   ],
   "source": [
    "\"\".join(list(\"aish\"))"
   ]
  },
  {
   "cell_type": "markdown",
   "metadata": {},
   "source": [
    "### Remove Outermost Parentheses"
   ]
  },
  {
   "cell_type": "code",
   "execution_count": 4,
   "metadata": {},
   "outputs": [],
   "source": [
    "class Solution:\n",
    "    def removeOuterParentheses(self, S: str) -> str:\n",
    "        numeric_representation = []\n",
    "        for par in S:\n",
    "            if par==\"(\":\n",
    "                numeric_representation.append(1)\n",
    "            else:\n",
    "                numeric_representation.append(-1)\n",
    "        \n",
    "        for i in range(1, len(numeric_representation)):\n",
    "            numeric_representation[i]+=numeric_representation[i-1]\n",
    "        \n",
    "        s_list = []\n",
    "        j = 0\n",
    "        for i in range(0, len(numeric_representation)):\n",
    "            if numeric_representation[i]==0:\n",
    "                s_list.append(S[j+1:i])\n",
    "                j = i+1\n",
    "        \n",
    "        return \"\".join(s_list)"
   ]
  },
  {
   "cell_type": "code",
   "execution_count": 5,
   "metadata": {},
   "outputs": [
    {
     "data": {
      "text/plain": [
       "[1, 4, 9, 16, 25]"
      ]
     },
     "execution_count": 5,
     "metadata": {},
     "output_type": "execute_result"
    }
   ],
   "source": [
    "List = [1,2,3,4,5]\n",
    "sorted([x**2 for x in List])"
   ]
  },
  {
   "cell_type": "markdown",
   "metadata": {},
   "source": [
    "### Given a stream of integers and a window size, calculate the moving average of all integers in the sliding window.\n",
    "\n",
    "Example:\n",
    "\n",
    "MovingAverage m = new MovingAverage(3);\n",
    "m.next(1) = 1\n",
    "m.next(10) = (1 + 10) / 2\n",
    "m.next(3) = (1 + 10 + 3) / 3\n",
    "m.next(5) = (10 + 3 + 5) / 3"
   ]
  },
  {
   "cell_type": "code",
   "execution_count": 6,
   "metadata": {},
   "outputs": [],
   "source": [
    "class MovingAverage:\n",
    "\n",
    "    def __init__(self, size: int):\n",
    "        \"\"\"\n",
    "        Initialize your data structure here.\n",
    "        \"\"\"\n",
    "        self.elements = []\n",
    "        self.size = size\n",
    "        \n",
    "\n",
    "    def next(self, val: int) -> float:\n",
    "        self.elements.append(val)\n",
    "        if len(self.elements)<self.size:\n",
    "            return sum(self.elements)/len(self.elements)\n",
    "        else:\n",
    "            return sum(self.elements[-self.size:])/self.size"
   ]
  },
  {
   "cell_type": "markdown",
   "metadata": {},
   "source": [
    "### Design a logger system that receive stream of messages along with its timestamps, each message should be printed if and only if it is not printed in the last 10 seconds.\n",
    "\n",
    "Given a message and a timestamp (in seconds granularity), return true if the message should be printed in the given timestamp, otherwise returns false.\n",
    "\n",
    "It is possible that several messages arrive roughly at the same time.\n",
    "\n",
    "Example:\n",
    "\n",
    "Logger logger = new Logger();\n",
    "\n",
    "// logging string \"foo\" at timestamp 1\n",
    "logger.shouldPrintMessage(1, \"foo\"); returns true; \n",
    "\n",
    "// logging string \"bar\" at timestamp 2\n",
    "logger.shouldPrintMessage(2,\"bar\"); returns true;\n",
    "\n",
    "// logging string \"foo\" at timestamp 3\n",
    "logger.shouldPrintMessage(3,\"foo\"); returns false;\n",
    "\n",
    "// logging string \"bar\" at timestamp 8\n",
    "logger.shouldPrintMessage(8,\"bar\"); returns false;\n",
    "\n",
    "// logging string \"foo\" at timestamp 10\n",
    "logger.shouldPrintMessage(10,\"foo\"); returns false;\n",
    "\n",
    "// logging string \"foo\" at timestamp 11\n",
    "logger.shouldPrintMessage(11,\"foo\"); returns true;"
   ]
  },
  {
   "cell_type": "code",
   "execution_count": 7,
   "metadata": {},
   "outputs": [],
   "source": [
    "class Logger:\n",
    "\n",
    "    def __init__(self):\n",
    "        \"\"\"\n",
    "        Initialize your data structure here.\n",
    "        \"\"\"\n",
    "        self.message_dictionary = {}\n",
    "        \n",
    "\n",
    "    def shouldPrintMessage(self, timestamp: int, message: str) -> bool:\n",
    "        \"\"\"\n",
    "        Returns true if the message should be printed in the given timestamp, otherwise returns false.\n",
    "        If this method returns false, the message will not be printed.\n",
    "        The timestamp is in seconds granularity.\n",
    "        \"\"\"\n",
    "        try:\n",
    "            if timestamp-self.message_dictionary[message]>=10:\n",
    "                self.message_dictionary[message] = timestamp\n",
    "                return True\n",
    "            else:\n",
    "                return False\n",
    "        except:\n",
    "            self.message_dictionary[message] = timestamp\n",
    "            return True\n",
    "        \n",
    "\n",
    "\n",
    "# Your Logger object will be instantiated and called as such:\n",
    "# obj = Logger()\n",
    "# param_1 = obj.shouldPrintMessage(timestamp,message)"
   ]
  },
  {
   "cell_type": "markdown",
   "metadata": {},
   "source": [
    "### Students are asked to stand in non-decreasing order of heights for an annual photo.\n",
    "\n",
    "Return the minimum number of students that must move in order for all students to be standing in non-decreasing order of height.\n",
    "\n",
    " \n",
    "\n",
    "Example 1:\n",
    "\n",
    "Input: heights = [1,1,4,2,1,3]\n",
    "Output: 3"
   ]
  },
  {
   "cell_type": "code",
   "execution_count": 9,
   "metadata": {},
   "outputs": [],
   "source": [
    "class Solution:\n",
    "    def heightChecker(self, heights) -> int:\n",
    "        count = 0\n",
    "        new_heights = sorted(heights)\n",
    "        for i in range(len(heights)):\n",
    "            if heights[i]!=new_heights[i]:\n",
    "                count+=1\n",
    "        return count"
   ]
  },
  {
   "cell_type": "markdown",
   "metadata": {},
   "source": [
    "### Given two arrays arr1 and arr2, the elements of arr2 are distinct, and all elements in arr2 are also in arr1.\n",
    "\n",
    "Sort the elements of arr1 such that the relative ordering of items in arr1 are the same as in arr2.  Elements that don't appear in arr2 should be placed at the end of arr1 in ascending order.\n",
    "\n",
    " \n",
    "\n",
    "Example 1:\n",
    "\n",
    "Input: arr1 = [2,3,1,3,2,4,6,7,9,2,19], arr2 = [2,1,4,3,9,6]\n",
    "Output: [2,2,2,1,4,3,3,9,6,7,19]"
   ]
  },
  {
   "cell_type": "code",
   "execution_count": 11,
   "metadata": {},
   "outputs": [],
   "source": [
    "class Solution:\n",
    "    def relativeSortArray(self, arr1, arr2):\n",
    "        arr1_dict = {}\n",
    "        for element in arr1:\n",
    "            try:\n",
    "                arr1_dict[element]+=1\n",
    "            except:\n",
    "                arr1_dict[element]=1\n",
    "        returnable = []\n",
    "        for i in range(len(arr2)):\n",
    "            num = arr2[i]\n",
    "            for j in range(arr1_dict[num]):\n",
    "                returnable.append(num)\n",
    "            del arr1_dict[num]\n",
    "        remaining_returnables = []\n",
    "        for element in arr1_dict:\n",
    "            for j in range(arr1_dict[element]):\n",
    "                remaining_returnables.append(element)\n",
    "        \n",
    "        returnable+=sorted(remaining_returnables)\n",
    "        return returnable"
   ]
  },
  {
   "cell_type": "markdown",
   "metadata": {},
   "source": [
    "### Write a function that reverses a string. The input string is given as an array of characters char[].\n",
    "\n",
    "Do not allocate extra space for another array, you must do this by modifying the input array in-place with O(1) extra memory.\n",
    "\n",
    "You may assume all the characters consist of printable ascii characters.\n",
    "\n",
    " \n",
    "\n",
    "Example 1:\n",
    "\n",
    "Input: [\"h\",\"e\",\"l\",\"l\",\"o\"]\n",
    "Output: [\"o\",\"l\",\"l\",\"e\",\"h\"]\n",
    "Example 2:\n",
    "\n",
    "Input: [\"H\",\"a\",\"n\",\"n\",\"a\",\"h\"]\n",
    "Output: [\"h\",\"a\",\"n\",\"n\",\"a\",\"H\"]"
   ]
  },
  {
   "cell_type": "code",
   "execution_count": 13,
   "metadata": {},
   "outputs": [],
   "source": [
    "class Solution:\n",
    "    def reverseString(self, s) -> None:\n",
    "        \"\"\"\n",
    "        Do not return anything, modify s in-place instead.\n",
    "        \"\"\"\n",
    "        if len(s)%2==0:\n",
    "            range_ = int(len(s)/2)\n",
    "        else:\n",
    "            range_ = int(len(s)/2)+1\n",
    "        for i in range(range_):\n",
    "            temp_variable = s[i]\n",
    "            s[i] = s[-i-1]\n",
    "            s[-i-1] = temp_variable "
   ]
  },
  {
   "cell_type": "markdown",
   "metadata": {},
   "source": [
    "### Given a string S and a character C, return an array of integers representing the shortest distance from the character C in the string.\n",
    "\n",
    "Example 1:\n",
    "\n",
    "Input: S = \"loveleetcode\", C = 'e'\n",
    "Output: [3, 2, 1, 0, 1, 0, 0, 1, 2, 2, 1, 0]"
   ]
  },
  {
   "cell_type": "code",
   "execution_count": 17,
   "metadata": {},
   "outputs": [],
   "source": [
    "class Solution:\n",
    "    def shortestToChar(self, S: str, C: str):\n",
    "        c = C\n",
    "        c_indices = []\n",
    "        returnable = []\n",
    "        for i in range(len(S)):\n",
    "                if S[i]==c:\n",
    "                        c_indices.append(i)\n",
    "        for i in range(len(S)):\n",
    "                shortest_distance = 10001\n",
    "                for index in c_indices:\n",
    "                        distance = abs(i-index)\n",
    "                        if distance<shortest_distance:\n",
    "                                shortest_distance = distance\n",
    "                returnable.append(shortest_distance)\n",
    "        return returnable"
   ]
  },
  {
   "cell_type": "markdown",
   "metadata": {},
   "source": [
    "### Given a binary tree, find its maximum depth.\n",
    "\n",
    "The maximum depth is the number of nodes along the longest path from the root node down to the farthest leaf node.\n",
    "\n",
    "Note: A leaf is a node with no children.\n",
    "\n",
    "Example:\n",
    "\n",
    "Given binary tree [3,9,20,null,null,15,7],\n",
    "```\n",
    "    3\n",
    "   / \\\n",
    "  9  20\n",
    "    /  \\\n",
    "   15   7\n",
    "   \n",
    "```\n",
    "return its depth = 3."
   ]
  },
  {
   "cell_type": "code",
   "execution_count": 20,
   "metadata": {},
   "outputs": [],
   "source": [
    "# Definition for a binary tree node.\n",
    "class TreeNode:\n",
    "    def __init__(self, x):\n",
    "        self.val = x\n",
    "        self.left = None\n",
    "        self.right = None\n",
    "\n",
    "class Solution:\n",
    "    def maxDepth(self, root: TreeNode) -> int:\n",
    "        if root==None:\n",
    "                return 0\n",
    "        else:\n",
    "                return 1+max(self.maxDepth(root.left), self.maxDepth(root.right))"
   ]
  },
  {
   "cell_type": "markdown",
   "metadata": {},
   "source": [
    "### Given a non-empty array of integers, every element appears twice except for one. Find that single one.\n",
    "\n",
    "Note:\n",
    "\n",
    "Your algorithm should have a linear runtime complexity. Could you implement it without using extra memory?\n",
    "\n",
    "Example 1:\n",
    "\n",
    "Input: [2,2,1]\n",
    "Output: 1\n",
    "Example 2:\n",
    "\n",
    "Input: [4,1,2,1,2]\n",
    "Output: 4"
   ]
  },
  {
   "cell_type": "code",
   "execution_count": 1,
   "metadata": {},
   "outputs": [],
   "source": [
    "class Solution(object):\n",
    "    def singleNumber(self, nums):\n",
    "        \"\"\"\n",
    "        :type nums: List[int]\n",
    "        :rtype: int\n",
    "        \"\"\"\n",
    "        no_duplicate_list = []\n",
    "        for i in nums:\n",
    "            if i not in no_duplicate_list:\n",
    "                no_duplicate_list.append(i)\n",
    "            else:\n",
    "                no_duplicate_list.remove(i)\n",
    "        return no_duplicate_list.pop()\n",
    "        "
   ]
  },
  {
   "cell_type": "markdown",
   "metadata": {},
   "source": [
    "### Invert a binary tree.\n",
    "\n",
    "Example:\n",
    "\n",
    "```\n",
    "Input:\n",
    "\n",
    "     4\n",
    "   /   \\\n",
    "  2     7\n",
    " / \\   / \\\n",
    "1   3 6   9\n",
    "```\n",
    "```\n",
    "Output:\n",
    "\n",
    "     4\n",
    "   /   \\\n",
    "  7     2\n",
    " / \\   / \\\n",
    "9   6 3   1\n",
    "```"
   ]
  },
  {
   "cell_type": "code",
   "execution_count": 6,
   "metadata": {},
   "outputs": [],
   "source": [
    "# Definition for a binary tree node.\n",
    "class TreeNode:\n",
    "    def __init__(self, x):\n",
    "        self.val = x\n",
    "        self.left = None\n",
    "        self.right = None\n",
    "\n",
    "class Solution:\n",
    "    def invertTree(self, root: TreeNode) -> TreeNode:\n",
    "        if root!=None:\n",
    "            temp = root.left\n",
    "            root.left = root.right\n",
    "            root.right = temp\n",
    "            self.invertTree(root.left)\n",
    "            self.invertTree(root.right)\n",
    "            return root"
   ]
  },
  {
   "cell_type": "markdown",
   "metadata": {},
   "source": [
    "### Given an array A of integers and integer K, return the maximum S such that there exists i < j with A[i] + A[j] = S and S < K. If no i, j exist satisfying this equation, return -1.\n",
    "\n",
    " \n",
    "\n",
    "Example 1:\n",
    "\n",
    "Input: A = [34,23,1,24,75,33,54,8], K = 60\n",
    "Output: 58\n",
    "Explanation: \n",
    "We can use 34 and 24 to sum 58 which is less than 60.\n",
    "Example 2:\n",
    "\n",
    "Input: A = [10,20,30], K = 15\n",
    "Output: -1\n",
    "Explanation: \n",
    "In this case it's not possible to get a pair sum less that 15."
   ]
  },
  {
   "cell_type": "code",
   "execution_count": 8,
   "metadata": {},
   "outputs": [],
   "source": [
    "class Solution:\n",
    "    def twoSumLessThanK(self, A, K: int) -> int:\n",
    "        max_sum = 0\n",
    "        for i in range(len(A)-1):\n",
    "                for j in range(i+1, len(A)):\n",
    "                        sum = A[i]+A[j]\n",
    "                        if sum>max_sum and sum<K:\n",
    "                                max_sum = sum\n",
    "        if max_sum==0:\n",
    "                return -1\n",
    "        else:\n",
    "                return max_sum"
   ]
  },
  {
   "cell_type": "code",
   "execution_count": null,
   "metadata": {},
   "outputs": [],
   "source": []
  }
 ],
 "metadata": {
  "kernelspec": {
   "display_name": "Python 3",
   "language": "python",
   "name": "python3"
  },
  "language_info": {
   "codemirror_mode": {
    "name": "ipython",
    "version": 3
   },
   "file_extension": ".py",
   "mimetype": "text/x-python",
   "name": "python",
   "nbconvert_exporter": "python",
   "pygments_lexer": "ipython3",
   "version": "3.6.5"
  }
 },
 "nbformat": 4,
 "nbformat_minor": 2
}
