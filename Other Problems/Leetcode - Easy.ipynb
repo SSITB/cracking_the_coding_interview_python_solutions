{
 "cells": [
  {
   "cell_type": "markdown",
   "metadata": {},
   "source": [
    "### Given an integer number n, return the difference between the product of its digits and the sum of its digits."
   ]
  },
  {
   "cell_type": "code",
   "execution_count": 7,
   "metadata": {},
   "outputs": [],
   "source": [
    "class Solution:\n",
    "    def subtractProductAndSum(self, n: int) -> int:\n",
    "        list_of_digits = [int(x) for x in str(n)]\n",
    "        \n",
    "        sum_ = sum(list_of_digits)\n",
    "        \n",
    "        product = 1\n",
    "        for i in range(len(list_of_digits)):\n",
    "            \n",
    "            product*=list_of_digits[i]\n",
    "        \n",
    "        return product-sum_"
   ]
  },
  {
   "cell_type": "code",
   "execution_count": 9,
   "metadata": {},
   "outputs": [
    {
     "data": {
      "text/plain": [
       "15"
      ]
     },
     "execution_count": 9,
     "metadata": {},
     "output_type": "execute_result"
    }
   ],
   "source": [
    "Solution().subtractProductAndSum(234)"
   ]
  },
  {
   "cell_type": "markdown",
   "metadata": {},
   "source": [
    "### Given a string keyboard of length 26 indicating the layout of the keyboard (indexed from 0 to 25), initially your finger is at index 0. To type a character, you have to move your finger to the index of the desired character. The time taken to move your finger from index i to index j is |i - j|.\n",
    "\n",
    "You want to type a string word. Write a function to calculate how much time it takes to type it with one finger.\n",
    "\n",
    " \n",
    "\n",
    "Example 1:\n",
    "\n",
    "Input: keyboard = \"abcdefghijklmnopqrstuvwxyz\", word = \"cba\"\n",
    "Output: 4\n",
    "Explanation: The index moves from 0 to 2 to write 'c' then to 1 to write 'b' then to 0 again to write 'a'.\n",
    "Total time = 2 + 1 + 1 = 4. "
   ]
  },
  {
   "cell_type": "code",
   "execution_count": 10,
   "metadata": {},
   "outputs": [],
   "source": [
    "class Solution:\n",
    "    def calculateTime(self, keyboard: str, word: str) -> int:\n",
    "        dict_ = {}\n",
    "        for i in range(len(keyboard)):\n",
    "            dict_[keyboard[i]] = i\n",
    "        \n",
    "        previous_index = 0\n",
    "        total_movement = 0\n",
    "        for i in range(len(word)):\n",
    "            print(total_movement, previous_index, dict_[word[i]])\n",
    "            total_movement+=abs(previous_index - dict_[word[i]])\n",
    "            previous_index = dict_[word[i]]\n",
    "        \n",
    "        return total_movement"
   ]
  },
  {
   "cell_type": "code",
   "execution_count": 11,
   "metadata": {},
   "outputs": [
    {
     "data": {
      "text/plain": [
       "'a'"
      ]
     },
     "execution_count": 11,
     "metadata": {},
     "output_type": "execute_result"
    }
   ],
   "source": [
    "\"A\".lower()"
   ]
  },
  {
   "cell_type": "code",
   "execution_count": 3,
   "metadata": {},
   "outputs": [
    {
     "data": {
      "text/plain": [
       "'aish'"
      ]
     },
     "execution_count": 3,
     "metadata": {},
     "output_type": "execute_result"
    }
   ],
   "source": [
    "\"\".join(list(\"aish\"))"
   ]
  },
  {
   "cell_type": "markdown",
   "metadata": {},
   "source": [
    "### Remove Outermost Parentheses"
   ]
  },
  {
   "cell_type": "code",
   "execution_count": 4,
   "metadata": {},
   "outputs": [],
   "source": [
    "class Solution:\n",
    "    def removeOuterParentheses(self, S: str) -> str:\n",
    "        numeric_representation = []\n",
    "        for par in S:\n",
    "            if par==\"(\":\n",
    "                numeric_representation.append(1)\n",
    "            else:\n",
    "                numeric_representation.append(-1)\n",
    "        \n",
    "        for i in range(1, len(numeric_representation)):\n",
    "            numeric_representation[i]+=numeric_representation[i-1]\n",
    "        \n",
    "        s_list = []\n",
    "        j = 0\n",
    "        for i in range(0, len(numeric_representation)):\n",
    "            if numeric_representation[i]==0:\n",
    "                s_list.append(S[j+1:i])\n",
    "                j = i+1\n",
    "        \n",
    "        return \"\".join(s_list)"
   ]
  },
  {
   "cell_type": "code",
   "execution_count": 5,
   "metadata": {},
   "outputs": [
    {
     "data": {
      "text/plain": [
       "[1, 4, 9, 16, 25]"
      ]
     },
     "execution_count": 5,
     "metadata": {},
     "output_type": "execute_result"
    }
   ],
   "source": [
    "List = [1,2,3,4,5]\n",
    "sorted([x**2 for x in List])"
   ]
  },
  {
   "cell_type": "code",
   "execution_count": null,
   "metadata": {},
   "outputs": [],
   "source": []
  }
 ],
 "metadata": {
  "kernelspec": {
   "display_name": "Python 3",
   "language": "python",
   "name": "python3"
  },
  "language_info": {
   "codemirror_mode": {
    "name": "ipython",
    "version": 3
   },
   "file_extension": ".py",
   "mimetype": "text/x-python",
   "name": "python",
   "nbconvert_exporter": "python",
   "pygments_lexer": "ipython3",
   "version": "3.6.5"
  }
 },
 "nbformat": 4,
 "nbformat_minor": 2
}
