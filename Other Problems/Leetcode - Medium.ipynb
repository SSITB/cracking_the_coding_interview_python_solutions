{
 "cells": [
  {
   "cell_type": "markdown",
   "metadata": {},
   "source": [
    "### Minimum Domino Rotations For Equal Row"
   ]
  },
  {
   "cell_type": "code",
   "execution_count": 4,
   "metadata": {},
   "outputs": [],
   "source": [
    "class Solution:\n",
    "    def count_dict(self, list_):\n",
    "        dict_ = {}\n",
    "        for element in list_:\n",
    "            try:\n",
    "                dict_[element]+=1\n",
    "            except:\n",
    "                dict_[element] = 1\n",
    "        return dict_\n",
    "    \n",
    "    def find_most_frequent_element(self, dict_):\n",
    "        max_count = 0\n",
    "        max_element = None\n",
    "        \n",
    "        for element in dict_:\n",
    "            if dict_[element]>max_count:\n",
    "                max_count = dict_[element]\n",
    "                max_element = element\n",
    "        \n",
    "        return max_element, max_count\n",
    "        \n",
    "    def minDominoRotations(self, A, B) -> int:\n",
    "        A_count_dict = self.count_dict(A)\n",
    "        B_count_dict = self.count_dict(B)\n",
    "        \n",
    "        A_candidate, A_mode = self.find_most_frequent_element(A_count_dict)\n",
    "        B_candidate, B_mode = self.find_most_frequent_element(B_count_dict)\n",
    "        \n",
    "        swaps = 0\n",
    "        \n",
    "        if A_mode>B_mode:\n",
    "            for i in range(len(A)):\n",
    "                if A[i]!=A_candidate:\n",
    "                    if B[i]!=A_candidate:\n",
    "                        return -1\n",
    "                    else:\n",
    "                        swaps+=1\n",
    "        else:\n",
    "            for i in range(len(B)):\n",
    "                if B[i]!=B_candidate:\n",
    "                    if A[i]!=B_candidate:\n",
    "                        return -1\n",
    "                    else:\n",
    "                        swaps+=1\n",
    "        \n",
    "        return swaps "
   ]
  },
  {
   "cell_type": "markdown",
   "metadata": {},
   "source": [
    "### Given two strings str1 and str2 of the same length, determine whether you can transform str1 into str2 by doing zero or more conversions.\n",
    "\n",
    "In one conversion you can convert all occurrences of one character in str1 to any other lowercase English character.\n",
    "\n",
    "Return true if and only if you can transform str1 into str2.\n",
    "\n",
    " \n",
    "\n",
    "Example 1:\n",
    "\n",
    "Input: str1 = \"aabcc\", str2 = \"ccdee\"\n",
    "Output: true\n",
    "Explanation: Convert 'c' to 'e' then 'b' to 'd' then 'a' to 'c'. Note that the order of conversions matter.\n",
    "Example 2:\n",
    "\n",
    "Input: str1 = \"leetcode\", str2 = \"codeleet\"\n",
    "Output: false\n",
    "Explanation: There is no way to transform str1 to str2."
   ]
  },
  {
   "cell_type": "code",
   "execution_count": 1,
   "metadata": {},
   "outputs": [],
   "source": [
    "class Solution:\n",
    "    def canConvert(self, str1, str2):\n",
    "        if str1==str2:\n",
    "            return True\n",
    "        map_ = {}\n",
    "        for i in range(len(str1)):\n",
    "            try:\n",
    "                if map_[str1[i]]!=str2[i]:\n",
    "                    return False\n",
    "            except:\n",
    "                map_[str1[i]] = str2[i]\n",
    "        \n",
    "        return len(set(list(str2))) != 26"
   ]
  },
  {
   "cell_type": "code",
   "execution_count": 2,
   "metadata": {},
   "outputs": [
    {
     "data": {
      "text/plain": [
       "True"
      ]
     },
     "execution_count": 2,
     "metadata": {},
     "output_type": "execute_result"
    }
   ],
   "source": [
    "a = [1,2,3,4]\n",
    "b = [1,2,3,4]\n",
    "a==b"
   ]
  },
  {
   "cell_type": "code",
   "execution_count": null,
   "metadata": {},
   "outputs": [],
   "source": []
  }
 ],
 "metadata": {
  "kernelspec": {
   "display_name": "Python 3",
   "language": "python",
   "name": "python3"
  },
  "language_info": {
   "codemirror_mode": {
    "name": "ipython",
    "version": 3
   },
   "file_extension": ".py",
   "mimetype": "text/x-python",
   "name": "python",
   "nbconvert_exporter": "python",
   "pygments_lexer": "ipython3",
   "version": "3.6.5"
  }
 },
 "nbformat": 4,
 "nbformat_minor": 2
}
