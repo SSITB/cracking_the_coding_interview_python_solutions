{
 "cells": [
  {
   "cell_type": "markdown",
   "metadata": {},
   "source": [
    "### Minimum Domino Rotations For Equal Row"
   ]
  },
  {
   "cell_type": "code",
   "execution_count": 4,
   "metadata": {},
   "outputs": [],
   "source": [
    "class Solution:\n",
    "    def count_dict(self, list_):\n",
    "        dict_ = {}\n",
    "        for element in list_:\n",
    "            try:\n",
    "                dict_[element]+=1\n",
    "            except:\n",
    "                dict_[element] = 1\n",
    "        return dict_\n",
    "    \n",
    "    def find_most_frequent_element(self, dict_):\n",
    "        max_count = 0\n",
    "        max_element = None\n",
    "        \n",
    "        for element in dict_:\n",
    "            if dict_[element]>max_count:\n",
    "                max_count = dict_[element]\n",
    "                max_element = element\n",
    "        \n",
    "        return max_element, max_count\n",
    "        \n",
    "    def minDominoRotations(self, A, B) -> int:\n",
    "        A_count_dict = self.count_dict(A)\n",
    "        B_count_dict = self.count_dict(B)\n",
    "        \n",
    "        A_candidate, A_mode = self.find_most_frequent_element(A_count_dict)\n",
    "        B_candidate, B_mode = self.find_most_frequent_element(B_count_dict)\n",
    "        \n",
    "        swaps = 0\n",
    "        \n",
    "        if A_mode>B_mode:\n",
    "            for i in range(len(A)):\n",
    "                if A[i]!=A_candidate:\n",
    "                    if B[i]!=A_candidate:\n",
    "                        return -1\n",
    "                    else:\n",
    "                        swaps+=1\n",
    "        else:\n",
    "            for i in range(len(B)):\n",
    "                if B[i]!=B_candidate:\n",
    "                    if A[i]!=B_candidate:\n",
    "                        return -1\n",
    "                    else:\n",
    "                        swaps+=1\n",
    "        \n",
    "        return swaps "
   ]
  },
  {
   "cell_type": "markdown",
   "metadata": {},
   "source": [
    "### Given two strings str1 and str2 of the same length, determine whether you can transform str1 into str2 by doing zero or more conversions.\n",
    "\n",
    "In one conversion you can convert all occurrences of one character in str1 to any other lowercase English character.\n",
    "\n",
    "Return true if and only if you can transform str1 into str2.\n",
    "\n",
    " \n",
    "\n",
    "Example 1:\n",
    "\n",
    "Input: str1 = \"aabcc\", str2 = \"ccdee\"\n",
    "Output: true\n",
    "Explanation: Convert 'c' to 'e' then 'b' to 'd' then 'a' to 'c'. Note that the order of conversions matter.\n",
    "Example 2:\n",
    "\n",
    "Input: str1 = \"leetcode\", str2 = \"codeleet\"\n",
    "Output: false\n",
    "Explanation: There is no way to transform str1 to str2."
   ]
  },
  {
   "cell_type": "code",
   "execution_count": 1,
   "metadata": {},
   "outputs": [],
   "source": [
    "class Solution:\n",
    "    def canConvert(self, str1, str2):\n",
    "        if str1==str2:\n",
    "            return True\n",
    "        map_ = {}\n",
    "        for i in range(len(str1)):\n",
    "            try:\n",
    "                if map_[str1[i]]!=str2[i]:\n",
    "                    return False\n",
    "            except:\n",
    "                map_[str1[i]] = str2[i]\n",
    "        \n",
    "        return len(set(list(str2))) != 26"
   ]
  },
  {
   "cell_type": "markdown",
   "metadata": {},
   "source": [
    "### Sometimes people repeat letters to represent extra feeling, such as \"hello\" -> \"heeellooo\", \"hi\" -> \"hiiii\".  In these strings like \"heeellooo\", we have groups of adjacent letters that are all the same:  \"h\", \"eee\", \"ll\", \"ooo\".\n",
    "\n",
    "For some given string S, a query word is stretchy if it can be made to be equal to S by any number of applications of the following extension operation: choose a group consisting of characters c, and add some number of characters c to the group so that the size of the group is 3 or more.\n",
    "\n",
    "For example, starting with \"hello\", we could do an extension on the group \"o\" to get \"hellooo\", but we cannot get \"helloo\" since the group \"oo\" has size less than 3.  Also, we could do another extension like \"ll\" -> \"lllll\" to get \"helllllooo\".  If S = \"helllllooo\", then the query word \"hello\" would be stretchy because of these two extension operations: query = \"hello\" -> \"hellooo\" -> \"helllllooo\" = S.\n",
    "\n",
    "Given a list of query words, return the number of words that are stretchy. \n",
    "\n",
    " \n",
    "\n",
    "Example:\n",
    "Input: \n",
    "S = \"heeellooo\"\n",
    "words = [\"hello\", \"hi\", \"helo\"]\n",
    "Output: 1\n",
    "Explanation: \n",
    "We can extend \"e\" and \"o\" in the word \"hello\" to get \"heeellooo\".\n",
    "We can't extend \"helo\" to get \"heeellooo\" because the group \"ll\" is not size 3 or more."
   ]
  },
  {
   "cell_type": "code",
   "execution_count": null,
   "metadata": {},
   "outputs": [],
   "source": []
  }
 ],
 "metadata": {
  "kernelspec": {
   "display_name": "Python 3",
   "language": "python",
   "name": "python3"
  },
  "language_info": {
   "codemirror_mode": {
    "name": "ipython",
    "version": 3
   },
   "file_extension": ".py",
   "mimetype": "text/x-python",
   "name": "python",
   "nbconvert_exporter": "python",
   "pygments_lexer": "ipython3",
   "version": "3.6.5"
  }
 },
 "nbformat": 4,
 "nbformat_minor": 2
}
