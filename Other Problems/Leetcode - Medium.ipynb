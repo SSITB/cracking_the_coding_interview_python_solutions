{
 "cells": [
  {
   "cell_type": "markdown",
   "metadata": {},
   "source": [
    "### Minimum Domino Rotations For Equal Row"
   ]
  },
  {
   "cell_type": "code",
   "execution_count": 4,
   "metadata": {},
   "outputs": [],
   "source": [
    "class Solution:\n",
    "    def count_dict(self, list_):\n",
    "        dict_ = {}\n",
    "        for element in list_:\n",
    "            try:\n",
    "                dict_[element]+=1\n",
    "            except:\n",
    "                dict_[element] = 1\n",
    "        return dict_\n",
    "    \n",
    "    def find_most_frequent_element(self, dict_):\n",
    "        max_count = 0\n",
    "        max_element = None\n",
    "        \n",
    "        for element in dict_:\n",
    "            if dict_[element]>max_count:\n",
    "                max_count = dict_[element]\n",
    "                max_element = element\n",
    "        \n",
    "        return max_element, max_count\n",
    "        \n",
    "    def minDominoRotations(self, A, B) -> int:\n",
    "        A_count_dict = self.count_dict(A)\n",
    "        B_count_dict = self.count_dict(B)\n",
    "        \n",
    "        A_candidate, A_mode = self.find_most_frequent_element(A_count_dict)\n",
    "        B_candidate, B_mode = self.find_most_frequent_element(B_count_dict)\n",
    "        \n",
    "        swaps = 0\n",
    "        \n",
    "        if A_mode>B_mode:\n",
    "            for i in range(len(A)):\n",
    "                if A[i]!=A_candidate:\n",
    "                    if B[i]!=A_candidate:\n",
    "                        return -1\n",
    "                    else:\n",
    "                        swaps+=1\n",
    "        else:\n",
    "            for i in range(len(B)):\n",
    "                if B[i]!=B_candidate:\n",
    "                    if A[i]!=B_candidate:\n",
    "                        return -1\n",
    "                    else:\n",
    "                        swaps+=1\n",
    "        \n",
    "        return swaps "
   ]
  },
  {
   "cell_type": "code",
   "execution_count": null,
   "metadata": {},
   "outputs": [],
   "source": []
  }
 ],
 "metadata": {
  "kernelspec": {
   "display_name": "Python 3",
   "language": "python",
   "name": "python3"
  },
  "language_info": {
   "codemirror_mode": {
    "name": "ipython",
    "version": 3
   },
   "file_extension": ".py",
   "mimetype": "text/x-python",
   "name": "python",
   "nbconvert_exporter": "python",
   "pygments_lexer": "ipython3",
   "version": "3.6.5"
  }
 },
 "nbformat": 4,
 "nbformat_minor": 2
}
