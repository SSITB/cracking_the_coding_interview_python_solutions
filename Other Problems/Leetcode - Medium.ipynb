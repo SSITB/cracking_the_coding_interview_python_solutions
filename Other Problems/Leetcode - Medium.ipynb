{
 "cells": [
  {
   "cell_type": "markdown",
   "metadata": {},
   "source": [
    "### Minimum Domino Rotations For Equal Row"
   ]
  },
  {
   "cell_type": "code",
   "execution_count": 4,
   "metadata": {},
   "outputs": [],
   "source": [
    "class Solution:\n",
    "    def count_dict(self, list_):\n",
    "        dict_ = {}\n",
    "        for element in list_:\n",
    "            try:\n",
    "                dict_[element]+=1\n",
    "            except:\n",
    "                dict_[element] = 1\n",
    "        return dict_\n",
    "    \n",
    "    def find_most_frequent_element(self, dict_):\n",
    "        max_count = 0\n",
    "        max_element = None\n",
    "        \n",
    "        for element in dict_:\n",
    "            if dict_[element]>max_count:\n",
    "                max_count = dict_[element]\n",
    "                max_element = element\n",
    "        \n",
    "        return max_element, max_count\n",
    "        \n",
    "    def minDominoRotations(self, A, B) -> int:\n",
    "        A_count_dict = self.count_dict(A)\n",
    "        B_count_dict = self.count_dict(B)\n",
    "        \n",
    "        A_candidate, A_mode = self.find_most_frequent_element(A_count_dict)\n",
    "        B_candidate, B_mode = self.find_most_frequent_element(B_count_dict)\n",
    "        \n",
    "        swaps = 0\n",
    "        \n",
    "        if A_mode>B_mode:\n",
    "            for i in range(len(A)):\n",
    "                if A[i]!=A_candidate:\n",
    "                    if B[i]!=A_candidate:\n",
    "                        return -1\n",
    "                    else:\n",
    "                        swaps+=1\n",
    "        else:\n",
    "            for i in range(len(B)):\n",
    "                if B[i]!=B_candidate:\n",
    "                    if A[i]!=B_candidate:\n",
    "                        return -1\n",
    "                    else:\n",
    "                        swaps+=1\n",
    "        \n",
    "        return swaps "
   ]
  },
  {
   "cell_type": "markdown",
   "metadata": {},
   "source": [
    "### Given two strings str1 and str2 of the same length, determine whether you can transform str1 into str2 by doing zero or more conversions.\n",
    "\n",
    "In one conversion you can convert all occurrences of one character in str1 to any other lowercase English character.\n",
    "\n",
    "Return true if and only if you can transform str1 into str2.\n",
    "\n",
    " \n",
    "\n",
    "Example 1:\n",
    "\n",
    "Input: str1 = \"aabcc\", str2 = \"ccdee\"\n",
    "Output: true\n",
    "Explanation: Convert 'c' to 'e' then 'b' to 'd' then 'a' to 'c'. Note that the order of conversions matter.\n",
    "Example 2:\n",
    "\n",
    "Input: str1 = \"leetcode\", str2 = \"codeleet\"\n",
    "Output: false\n",
    "Explanation: There is no way to transform str1 to str2."
   ]
  },
  {
   "cell_type": "code",
   "execution_count": 1,
   "metadata": {},
   "outputs": [],
   "source": [
    "class Solution:\n",
    "    def canConvert(self, str1, str2):\n",
    "        if str1==str2:\n",
    "            return True\n",
    "        map_ = {}\n",
    "        for i in range(len(str1)):\n",
    "            try:\n",
    "                if map_[str1[i]]!=str2[i]:\n",
    "                    return False\n",
    "            except:\n",
    "                map_[str1[i]] = str2[i]\n",
    "        \n",
    "        return len(set(list(str2))) != 26"
   ]
  },
  {
   "cell_type": "code",
   "execution_count": 2,
   "metadata": {},
   "outputs": [
    {
     "data": {
      "text/plain": [
       "True"
      ]
     },
     "execution_count": 2,
     "metadata": {},
     "output_type": "execute_result"
    }
   ],
   "source": [
    "a = [1,2,3,4]\n",
    "b = [1,2,3,4]\n",
    "a==b"
   ]
  },
  {
   "cell_type": "markdown",
   "metadata": {},
   "source": [
    "### We can rotate digits by 180 degrees to form new digits. When 0, 1, 6, 8, 9 are rotated 180 degrees, they become 0, 1, 9, 8, 6 respectively. When 2, 3, 4, 5 and 7 are rotated 180 degrees, they become invalid.\n",
    "\n",
    "A confusing number is a number that when rotated 180 degrees becomes a different number with each digit valid.(Note that the rotated number can be greater than the original number.)\n",
    "\n",
    "Given a positive integer N, return the number of confusing numbers between 1 and N inclusive.\n",
    "\n",
    " \n",
    "\n",
    "Example 1:\n",
    "\n",
    "Input: 20\n",
    "Output: 6\n",
    "Explanation: \n",
    "The confusing numbers are [6,9,10,16,18,19].\n",
    "6 converts to 9.\n",
    "9 converts to 6.\n",
    "10 converts to 01 which is just 1.\n",
    "16 converts to 91.\n",
    "18 converts to 81.\n",
    "19 converts to 61.\n",
    "Example 2:\n",
    "\n",
    "Input: 100\n",
    "Output: 19\n",
    "Explanation: \n",
    "The confusing numbers are [6,9,10,16,18,19,60,61,66,68,80,81,86,89,90,91,98,99,100]."
   ]
  },
  {
   "cell_type": "code",
   "execution_count": null,
   "metadata": {},
   "outputs": [],
   "source": [
    "class Solution:\n",
    "    \n",
    "    def isconfusing(self, N):\n",
    "        confusing_dict = {\"0\":\"0\", \"1\":\"1\", \"6\":\"9\", \"8\":\"8\", \"9\":\"6\"}\n",
    "        n_str = list(str(N))\n",
    "        # print(n_str)\n",
    "        rotated = []\n",
    "        for i in n_str:\n",
    "            if i not in confusing_dict:\n",
    "                return False\n",
    "            else:\n",
    "                rotated = [confusing_dict[i]]+rotated\n",
    "        # print(n_str, rotated)\n",
    "        return n_str!=rotated\n",
    "        \n",
    "    def confusingNumberII(self, N: int) -> int:\n",
    "        count = 0\n",
    "        for i in range(N+1):\n",
    "            if self.isconfusing(i):\n",
    "                \n",
    "                count+=1\n",
    "                \n",
    "        return count"
   ]
  }
 ],
 "metadata": {
  "kernelspec": {
   "display_name": "Python 3",
   "language": "python",
   "name": "python3"
  },
  "language_info": {
   "codemirror_mode": {
    "name": "ipython",
    "version": 3
   },
   "file_extension": ".py",
   "mimetype": "text/x-python",
   "name": "python",
   "nbconvert_exporter": "python",
   "pygments_lexer": "ipython3",
   "version": "3.6.5"
  }
 },
 "nbformat": 4,
 "nbformat_minor": 2
}
