{
 "cells": [
  {
   "cell_type": "markdown",
   "metadata": {},
   "source": [
    "### Minimum Domino Rotations For Equal Row"
   ]
  },
  {
   "cell_type": "code",
   "execution_count": 4,
   "metadata": {},
   "outputs": [],
   "source": [
    "class Solution:\n",
    "    def count_dict(self, list_):\n",
    "        dict_ = {}\n",
    "        for element in list_:\n",
    "            try:\n",
    "                dict_[element]+=1\n",
    "            except:\n",
    "                dict_[element] = 1\n",
    "        return dict_\n",
    "    \n",
    "    def find_most_frequent_element(self, dict_):\n",
    "        max_count = 0\n",
    "        max_element = None\n",
    "        \n",
    "        for element in dict_:\n",
    "            if dict_[element]>max_count:\n",
    "                max_count = dict_[element]\n",
    "                max_element = element\n",
    "        \n",
    "        return max_element, max_count\n",
    "        \n",
    "    def minDominoRotations(self, A, B) -> int:\n",
    "        A_count_dict = self.count_dict(A)\n",
    "        B_count_dict = self.count_dict(B)\n",
    "        \n",
    "        A_candidate, A_mode = self.find_most_frequent_element(A_count_dict)\n",
    "        B_candidate, B_mode = self.find_most_frequent_element(B_count_dict)\n",
    "        \n",
    "        swaps = 0\n",
    "        \n",
    "        if A_mode>B_mode:\n",
    "            for i in range(len(A)):\n",
    "                if A[i]!=A_candidate:\n",
    "                    if B[i]!=A_candidate:\n",
    "                        return -1\n",
    "                    else:\n",
    "                        swaps+=1\n",
    "        else:\n",
    "            for i in range(len(B)):\n",
    "                if B[i]!=B_candidate:\n",
    "                    if A[i]!=B_candidate:\n",
    "                        return -1\n",
    "                    else:\n",
    "                        swaps+=1\n",
    "        \n",
    "        return swaps "
   ]
  },
  {
   "cell_type": "markdown",
   "metadata": {},
   "source": [
    "### Given two strings str1 and str2 of the same length, determine whether you can transform str1 into str2 by doing zero or more conversions.\n",
    "\n",
    "In one conversion you can convert all occurrences of one character in str1 to any other lowercase English character.\n",
    "\n",
    "Return true if and only if you can transform str1 into str2.\n",
    "\n",
    " \n",
    "\n",
    "Example 1:\n",
    "\n",
    "Input: str1 = \"aabcc\", str2 = \"ccdee\"\n",
    "Output: true\n",
    "Explanation: Convert 'c' to 'e' then 'b' to 'd' then 'a' to 'c'. Note that the order of conversions matter.\n",
    "Example 2:\n",
    "\n",
    "Input: str1 = \"leetcode\", str2 = \"codeleet\"\n",
    "Output: false\n",
    "Explanation: There is no way to transform str1 to str2."
   ]
  },
  {
   "cell_type": "code",
   "execution_count": 1,
   "metadata": {},
   "outputs": [],
   "source": [
    "class Solution:\n",
    "    def canConvert(self, str1, str2):\n",
    "        if str1==str2:\n",
    "            return True\n",
    "        map_ = {}\n",
    "        for i in range(len(str1)):\n",
    "            try:\n",
    "                if map_[str1[i]]!=str2[i]:\n",
    "                    return False\n",
    "            except:\n",
    "                map_[str1[i]] = str2[i]\n",
    "        \n",
    "        return len(set(list(str2))) != 26"
   ]
  },
  {
   "cell_type": "markdown",
   "metadata": {},
   "source": [
    "### Sometimes people repeat letters to represent extra feeling, such as \"hello\" -> \"heeellooo\", \"hi\" -> \"hiiii\".  In these strings like \"heeellooo\", we have groups of adjacent letters that are all the same:  \"h\", \"eee\", \"ll\", \"ooo\".\n",
    "\n",
    "For some given string S, a query word is stretchy if it can be made to be equal to S by any number of applications of the following extension operation: choose a group consisting of characters c, and add some number of characters c to the group so that the size of the group is 3 or more.\n",
    "\n",
    "For example, starting with \"hello\", we could do an extension on the group \"o\" to get \"hellooo\", but we cannot get \"helloo\" since the group \"oo\" has size less than 3.  Also, we could do another extension like \"ll\" -> \"lllll\" to get \"helllllooo\".  If S = \"helllllooo\", then the query word \"hello\" would be stretchy because of these two extension operations: query = \"hello\" -> \"hellooo\" -> \"helllllooo\" = S.\n",
    "\n",
    "Given a list of query words, return the number of words that are stretchy. \n",
    "\n",
    " \n",
    "\n",
    "Example:\n",
    "Input: \n",
    "S = \"heeellooo\"\n",
    "words = [\"hello\", \"hi\", \"helo\"]\n",
    "Output: 1\n",
    "Explanation: \n",
    "We can extend \"e\" and \"o\" in the word \"hello\" to get \"heeellooo\".\n",
    "We can't extend \"helo\" to get \"heeellooo\" because the group \"ll\" is not size 3 or more."
   ]
  },
  {
   "cell_type": "code",
   "execution_count": 16,
   "metadata": {},
   "outputs": [],
   "source": [
    "import itertools\n",
    "class Solution(object):\n",
    "    def expressiveWords(self, S, words):\n",
    "        def RLE(S):\n",
    "            return zip(*[(k, len(list(grp)))\n",
    "                         for k, grp in itertools.groupby(S)])\n",
    "\n",
    "        R, count = RLE(S)\n",
    "        print(R, count)\n",
    "        ans = 0\n",
    "        for word in words:\n",
    "            R2, count2 = RLE(word)\n",
    "            if R2 != R: continue\n",
    "            print(all(c1 >= max(c2, 3) or c1 == c2\n",
    "                       for c1, c2 in zip(count, count2)))\n",
    "            ans+=all(c1 >= max(c2, 3) or c1 == c2\n",
    "                       for c1, c2 in zip(count, count2))\n",
    "\n",
    "        return ans"
   ]
  },
  {
   "cell_type": "code",
   "execution_count": 17,
   "metadata": {},
   "outputs": [
    {
     "name": "stdout",
     "output_type": "stream",
     "text": [
      "('h', 'e', 'l', 'o') (1, 3, 2, 3)\n",
      "True\n",
      "False\n"
     ]
    },
    {
     "data": {
      "text/plain": [
       "1"
      ]
     },
     "execution_count": 17,
     "metadata": {},
     "output_type": "execute_result"
    }
   ],
   "source": [
    "Solution().expressiveWords(\"heeellooo\", [\"hi\", \"hello\", \"helo\"])"
   ]
  },
  {
   "cell_type": "markdown",
   "metadata": {},
   "source": [
    "### Given an array nums sorted in ascending order, return true if and only if you can split it into 1 or more subsequences such that each subsequence consists of consecutive integers and has length at least 3.\n",
    "\n",
    " \n",
    "\n",
    "Example 1:\n",
    "\n",
    "Input: [1,2,3,3,4,5]\n",
    "Output: True\n",
    "Explanation:\n",
    "You can split them into two consecutive subsequences : \n",
    "1, 2, 3\n",
    "3, 4, 5\n",
    "\n",
    "Example 2:\n",
    "\n",
    "Input: [1,2,3,3,4,4,5,5]\n",
    "Output: True\n",
    "Explanation:\n",
    "You can split them into two consecutive subsequences : \n",
    "1, 2, 3, 4, 5\n",
    "3, 4, 5\n",
    "\n",
    "Example 3:\n",
    "\n",
    "Input: [1,2,3,4,4,5]\n",
    "Output: False"
   ]
  },
  {
   "cell_type": "markdown",
   "metadata": {},
   "source": [
    "A good explanation: https://www.youtube.com/watch?v=uJ8BAQ8lASE"
   ]
  },
  {
   "cell_type": "code",
   "execution_count": 21,
   "metadata": {},
   "outputs": [],
   "source": [
    "from collections import Counter\n",
    "class Solution: \n",
    "    def isPossible(self, nums) -> bool:\n",
    "        if len(nums) < 3: return False\n",
    "        \n",
    "        freqs = Counter(nums)\n",
    "        tails = Counter()\n",
    "        \n",
    "        for num in nums:\n",
    "\n",
    "            # if the number already has a place in a sequence\n",
    "            if freqs[num] == 0:\n",
    "                continue\n",
    "\n",
    "            # if the number may be placed as a continuation of another sequence\n",
    "            elif tails[num] > 0:\n",
    "                tails[num] -= 1\n",
    "                tails[num + 1] += 1\n",
    "\n",
    "            # the number is not consecutive to a previous sequence\n",
    "            # a new sequence must be created\n",
    "            elif freqs[num + 1] > 0 and freqs[num + 2] > 0:\n",
    "                freqs[num + 1] -= 1\n",
    "                freqs[num + 2] -= 1\n",
    "                tails[num + 3] += 1\n",
    "            \n",
    "            # if the number cannot continue a new sequence\n",
    "            # and cannot begin a new sequence then the list\n",
    "            # cannot be split\n",
    "            else:\n",
    "                return False\n",
    "            freqs[num] -= 1\n",
    "                \n",
    "        return True"
   ]
  },
  {
   "cell_type": "code",
   "execution_count": 24,
   "metadata": {},
   "outputs": [
    {
     "data": {
      "text/plain": [
       "2"
      ]
     },
     "execution_count": 24,
     "metadata": {},
     "output_type": "execute_result"
    }
   ],
   "source": [
    "Counter([1,1,2,3,4])[1]"
   ]
  },
  {
   "cell_type": "markdown",
   "metadata": {},
   "source": [
    "### You are given coins of different denominations and a total amount of money. Write a function to compute the number of combinations that make up that amount. You may assume that you have infinite number of each kind of coin.\n",
    "\n",
    " \n",
    "\n",
    "Example 1:\n",
    "\n",
    "Input: amount = 5, coins = [1, 2, 5]\n",
    "Output: 4\n",
    "Explanation: there are four ways to make up the amount:\n",
    "5=5\n",
    "5=2+2+1\n",
    "5=2+1+1+1\n",
    "5=1+1+1+1+1\n",
    "Example 2:\n",
    "\n",
    "Input: amount = 3, coins = [2]\n",
    "Output: 0\n",
    "Explanation: the amount of 3 cannot be made up just with coins of 2.\n",
    "Example 3:\n",
    "\n",
    "Input: amount = 10, coins = [10] \n",
    "Output: 1"
   ]
  },
  {
   "cell_type": "code",
   "execution_count": 1,
   "metadata": {},
   "outputs": [
    {
     "ename": "NameError",
     "evalue": "name 'List' is not defined",
     "output_type": "error",
     "traceback": [
      "\u001b[0;31m---------------------------------------------------------------------------\u001b[0m",
      "\u001b[0;31mNameError\u001b[0m                                 Traceback (most recent call last)",
      "\u001b[0;32m<ipython-input-1-c9550d9d4617>\u001b[0m in \u001b[0;36m<module>\u001b[0;34m()\u001b[0m\n\u001b[0;32m----> 1\u001b[0;31m \u001b[0;32mclass\u001b[0m \u001b[0mSolution\u001b[0m\u001b[0;34m:\u001b[0m\u001b[0;34m\u001b[0m\u001b[0m\n\u001b[0m\u001b[1;32m      2\u001b[0m     \u001b[0;32mdef\u001b[0m \u001b[0mchange\u001b[0m\u001b[0;34m(\u001b[0m\u001b[0mself\u001b[0m\u001b[0;34m,\u001b[0m \u001b[0mamount\u001b[0m\u001b[0;34m:\u001b[0m \u001b[0mint\u001b[0m\u001b[0;34m,\u001b[0m \u001b[0mcoins\u001b[0m\u001b[0;34m:\u001b[0m \u001b[0mList\u001b[0m\u001b[0;34m[\u001b[0m\u001b[0mint\u001b[0m\u001b[0;34m]\u001b[0m\u001b[0;34m)\u001b[0m \u001b[0;34m->\u001b[0m \u001b[0mint\u001b[0m\u001b[0;34m:\u001b[0m\u001b[0;34m\u001b[0m\u001b[0m\n\u001b[1;32m      3\u001b[0m         \u001b[0;32mif\u001b[0m \u001b[0;32mnot\u001b[0m \u001b[0mcoins\u001b[0m\u001b[0;34m:\u001b[0m\u001b[0;34m\u001b[0m\u001b[0m\n\u001b[1;32m      4\u001b[0m             \u001b[0;32mif\u001b[0m \u001b[0mamount\u001b[0m \u001b[0;34m==\u001b[0m \u001b[0;36m0\u001b[0m\u001b[0;34m:\u001b[0m\u001b[0;34m\u001b[0m\u001b[0m\n\u001b[1;32m      5\u001b[0m                 \u001b[0;32mreturn\u001b[0m \u001b[0;36m1\u001b[0m\u001b[0;34m\u001b[0m\u001b[0m\n",
      "\u001b[0;32m<ipython-input-1-c9550d9d4617>\u001b[0m in \u001b[0;36mSolution\u001b[0;34m()\u001b[0m\n\u001b[1;32m      1\u001b[0m \u001b[0;32mclass\u001b[0m \u001b[0mSolution\u001b[0m\u001b[0;34m:\u001b[0m\u001b[0;34m\u001b[0m\u001b[0m\n\u001b[0;32m----> 2\u001b[0;31m     \u001b[0;32mdef\u001b[0m \u001b[0mchange\u001b[0m\u001b[0;34m(\u001b[0m\u001b[0mself\u001b[0m\u001b[0;34m,\u001b[0m \u001b[0mamount\u001b[0m\u001b[0;34m:\u001b[0m \u001b[0mint\u001b[0m\u001b[0;34m,\u001b[0m \u001b[0mcoins\u001b[0m\u001b[0;34m:\u001b[0m \u001b[0mList\u001b[0m\u001b[0;34m[\u001b[0m\u001b[0mint\u001b[0m\u001b[0;34m]\u001b[0m\u001b[0;34m)\u001b[0m \u001b[0;34m->\u001b[0m \u001b[0mint\u001b[0m\u001b[0;34m:\u001b[0m\u001b[0;34m\u001b[0m\u001b[0m\n\u001b[0m\u001b[1;32m      3\u001b[0m         \u001b[0;32mif\u001b[0m \u001b[0;32mnot\u001b[0m \u001b[0mcoins\u001b[0m\u001b[0;34m:\u001b[0m\u001b[0;34m\u001b[0m\u001b[0m\n\u001b[1;32m      4\u001b[0m             \u001b[0;32mif\u001b[0m \u001b[0mamount\u001b[0m \u001b[0;34m==\u001b[0m \u001b[0;36m0\u001b[0m\u001b[0;34m:\u001b[0m\u001b[0;34m\u001b[0m\u001b[0m\n\u001b[1;32m      5\u001b[0m                 \u001b[0;32mreturn\u001b[0m \u001b[0;36m1\u001b[0m\u001b[0;34m\u001b[0m\u001b[0m\n",
      "\u001b[0;31mNameError\u001b[0m: name 'List' is not defined"
     ]
    }
   ],
   "source": [
    "class Solution:\n",
    "    def change(self, amount: int, coins) -> int:\n",
    "        if not coins:\n",
    "            if amount == 0:\n",
    "                return 1\n",
    "            return 0\n",
    "        \n",
    "        coins.sort()\n",
    "        return self.dfs(amount, coins, 0, {})\n",
    "        \n",
    "    \n",
    "    def dfs(self, amount, coins, idx, memo):\n",
    "        if (amount, idx) in memo:\n",
    "            print(amount, idx)\n",
    "            return memo[(amount, idx)]\n",
    "        \n",
    "        if amount == 0:\n",
    "            return 1\n",
    "        \n",
    "        cnt = 0\n",
    "        for i in range(idx, len(coins)):\n",
    "            if amount - coins[i] < 0:\n",
    "                break\n",
    "            cnt += self.dfs(amount - coins[i], coins, i, memo)\n",
    "        \n",
    "        memo[(amount, idx)] = cnt\n",
    "        return cnt"
   ]
  },
  {
   "cell_type": "code",
   "execution_count": null,
   "metadata": {},
   "outputs": [],
   "source": []
  }
 ],
 "metadata": {
  "kernelspec": {
   "display_name": "Python 3",
   "language": "python",
   "name": "python3"
  },
  "language_info": {
   "codemirror_mode": {
    "name": "ipython",
    "version": 3
   },
   "file_extension": ".py",
   "mimetype": "text/x-python",
   "name": "python",
   "nbconvert_exporter": "python",
   "pygments_lexer": "ipython3",
   "version": "3.6.5"
  }
 },
 "nbformat": 4,
 "nbformat_minor": 2
}
