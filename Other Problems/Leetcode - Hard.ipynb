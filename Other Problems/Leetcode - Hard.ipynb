{
 "cells": [
  {
   "cell_type": "markdown",
   "metadata": {},
   "source": [
    "### ### We can rotate digits by 180 degrees to form new digits. When 0, 1, 6, 8, 9 are rotated 180 degrees, they become 0, 1, 9, 8, 6 respectively. When 2, 3, 4, 5 and 7 are rotated 180 degrees, they become invalid.\n",
    "\n",
    "A confusing number is a number that when rotated 180 degrees becomes a different number with each digit valid.(Note that the rotated number can be greater than the original number.)\n",
    "\n",
    "Given a positive integer N, return the number of confusing numbers between 1 and N inclusive.\n",
    "\n",
    " \n",
    "\n",
    "Example 1:\n",
    "\n",
    "Input: 20\n",
    "Output: 6\n",
    "Explanation: \n",
    "The confusing numbers are [6,9,10,16,18,19].\n",
    "6 converts to 9.\n",
    "9 converts to 6.\n",
    "10 converts to 01 which is just 1.\n",
    "16 converts to 91.\n",
    "18 converts to 81.\n",
    "19 converts to 61.\n",
    "Example 2:\n",
    "\n",
    "Input: 100\n",
    "Output: 19\n",
    "Explanation: \n",
    "The confusing numbers are [6,9,10,16,18,19,60,61,66,68,80,81,86,89,90,91,98,99,100]."
   ]
  },
  {
   "cell_type": "code",
   "execution_count": 3,
   "metadata": {},
   "outputs": [],
   "source": [
    "class Solution:\n",
    "    def confusingNumberII(self, N: int) -> int:\n",
    "        valid = [0, 1, 6, 8, 9] # valid digits\n",
    "        hmap = {0:0,1:1,6:9,9:6,8:8} #180 degree mappings\n",
    "        self.count = 0\n",
    "        def dfs(num, rotation, pos):\n",
    "            if num != rotation: \n",
    "                self.count += 1\n",
    "            for digit in valid:\n",
    "                if num == 0 and digit == 0: \n",
    "                    continue\n",
    "                new_num = num * 10 + digit #generate new number\n",
    "                print(new_num)\n",
    "                if new_num <= N: #check if number within given range\n",
    "                    new_rot = hmap[digit]*pos + rotation #generate its rotation using the previous rotation and recently added digit\n",
    "                    dfs(new_num, new_rot, pos*10)  #recurse       \n",
    "        dfs(0, 0, 1) \n",
    "        return self.count"
   ]
  },
  {
   "cell_type": "code",
   "execution_count": 4,
   "metadata": {},
   "outputs": [
    {
     "name": "stdout",
     "output_type": "stream",
     "text": [
      "1\n",
      "10\n",
      "100\n",
      "101\n",
      "106\n",
      "108\n",
      "109\n",
      "11\n",
      "110\n",
      "111\n",
      "116\n",
      "118\n",
      "119\n",
      "16\n",
      "18\n",
      "19\n",
      "6\n",
      "60\n",
      "61\n",
      "66\n",
      "68\n",
      "69\n",
      "8\n",
      "80\n",
      "81\n",
      "86\n",
      "88\n",
      "89\n",
      "9\n",
      "90\n",
      "91\n",
      "96\n",
      "98\n",
      "99\n"
     ]
    },
    {
     "data": {
      "text/plain": [
       "3"
      ]
     },
     "execution_count": 4,
     "metadata": {},
     "output_type": "execute_result"
    }
   ],
   "source": [
    "Solution().confusingNumberII(15)"
   ]
  },
  {
   "cell_type": "code",
   "execution_count": null,
   "metadata": {},
   "outputs": [],
   "source": []
  }
 ],
 "metadata": {
  "kernelspec": {
   "display_name": "Python 3",
   "language": "python",
   "name": "python3"
  },
  "language_info": {
   "codemirror_mode": {
    "name": "ipython",
    "version": 3
   },
   "file_extension": ".py",
   "mimetype": "text/x-python",
   "name": "python",
   "nbconvert_exporter": "python",
   "pygments_lexer": "ipython3",
   "version": "3.6.5"
  }
 },
 "nbformat": 4,
 "nbformat_minor": 2
}
