{
 "cells": [
  {
   "cell_type": "markdown",
   "metadata": {},
   "source": [
    "## H-index\n",
    "https://codingcompetitions.withgoogle.com/kickstart/round/0000000000050edd/00000000001a274e\n"
   ]
  },
  {
   "cell_type": "code",
   "execution_count": 427,
   "metadata": {},
   "outputs": [
    {
     "name": "stdout",
     "output_type": "stream",
     "text": [
      "\n"
     ]
    },
    {
     "ename": "ValueError",
     "evalue": "invalid literal for int() with base 10: ''",
     "output_type": "error",
     "traceback": [
      "\u001b[0;31m---------------------------------------------------------------------------\u001b[0m",
      "\u001b[0;31mValueError\u001b[0m                                Traceback (most recent call last)",
      "\u001b[0;32m<ipython-input-427-051fcf875f20>\u001b[0m in \u001b[0;36m<module>\u001b[0;34m()\u001b[0m\n\u001b[1;32m     27\u001b[0m     \u001b[0;32mreturn\u001b[0m \u001b[0;34m\"Case #{}: \"\u001b[0m\u001b[0;34m.\u001b[0m\u001b[0mformat\u001b[0m\u001b[0;34m(\u001b[0m\u001b[0mcase\u001b[0m\u001b[0;34m)\u001b[0m \u001b[0;34m+\u001b[0m \u001b[0mstr\u001b[0m\u001b[0;34m(\u001b[0m\u001b[0moutput_list\u001b[0m\u001b[0;34m)\u001b[0m\u001b[0;34m.\u001b[0m\u001b[0mreplace\u001b[0m\u001b[0;34m(\u001b[0m\u001b[0;34m\"[\"\u001b[0m\u001b[0;34m,\u001b[0m\u001b[0;34m\"\"\u001b[0m\u001b[0;34m)\u001b[0m\u001b[0;34m.\u001b[0m\u001b[0mreplace\u001b[0m\u001b[0;34m(\u001b[0m\u001b[0;34m\"]\"\u001b[0m\u001b[0;34m,\u001b[0m\u001b[0;34m\"\"\u001b[0m\u001b[0;34m)\u001b[0m\u001b[0;34m.\u001b[0m\u001b[0mreplace\u001b[0m\u001b[0;34m(\u001b[0m\u001b[0;34m\",\"\u001b[0m\u001b[0;34m,\u001b[0m\u001b[0;34m\"\"\u001b[0m\u001b[0;34m)\u001b[0m\u001b[0;34m\u001b[0m\u001b[0m\n\u001b[1;32m     28\u001b[0m \u001b[0;34m\u001b[0m\u001b[0m\n\u001b[0;32m---> 29\u001b[0;31m \u001b[0mcase\u001b[0m \u001b[0;34m=\u001b[0m \u001b[0mint\u001b[0m\u001b[0;34m(\u001b[0m\u001b[0minput\u001b[0m\u001b[0;34m(\u001b[0m\u001b[0;34m)\u001b[0m\u001b[0;34m)\u001b[0m\u001b[0;34m\u001b[0m\u001b[0m\n\u001b[0m\u001b[1;32m     30\u001b[0m \u001b[0;32mfor\u001b[0m \u001b[0mk\u001b[0m \u001b[0;32min\u001b[0m \u001b[0mrange\u001b[0m\u001b[0;34m(\u001b[0m\u001b[0;36m1\u001b[0m\u001b[0;34m,\u001b[0m\u001b[0mcase\u001b[0m\u001b[0;34m+\u001b[0m\u001b[0;36m1\u001b[0m\u001b[0;34m)\u001b[0m\u001b[0;34m:\u001b[0m\u001b[0;34m\u001b[0m\u001b[0m\n\u001b[1;32m     31\u001b[0m     \u001b[0mM\u001b[0m \u001b[0;34m=\u001b[0m \u001b[0mint\u001b[0m\u001b[0;34m(\u001b[0m\u001b[0minput\u001b[0m\u001b[0;34m(\u001b[0m\u001b[0;34m)\u001b[0m\u001b[0;34m)\u001b[0m\u001b[0;34m\u001b[0m\u001b[0m\n",
      "\u001b[0;31mValueError\u001b[0m: invalid literal for int() with base 10: ''"
     ]
    }
   ],
   "source": [
    "import sys    \n",
    "    \n",
    "def H_index(list_of_Ai, case):\n",
    "    list_of_Ai = [int(x) for x in list_of_Ai.split(\" \")]\n",
    "    memo = [0]\n",
    "    output_list = []\n",
    "    max_h_index = 1\n",
    "    \n",
    "    for i in range(len(list_of_Ai)):\n",
    "        if list_of_Ai[i]<=max_h_index:\n",
    "            output_list.append(max_h_index)\n",
    "        else:\n",
    "            for j in range(max_h_index, list_of_Ai[i]+1):\n",
    "                try:\n",
    "                    memo[j]+=1\n",
    "                except:\n",
    "                    memo.append(1)\n",
    "\n",
    "            for i in range(max_h_index, len(memo)):\n",
    "\n",
    "                if i<=memo[i]:\n",
    "                    if i>max_h_index:\n",
    "                        max_h_index = i\n",
    "\n",
    "            output_list.append(max_h_index)\n",
    "        \n",
    "    return \"Case #{}: \".format(case) + str(output_list).replace(\"[\",\"\").replace(\"]\",\"\").replace(\",\",\"\")\n",
    "\n",
    "case = int(input())\n",
    "for k in range(1,case+1):\n",
    "    M = int(input())\n",
    "    list_of_Ai = input()\n",
    "    print(H_index(list_of_Ai, case))\n",
    "    "
   ]
  },
  {
   "cell_type": "code",
   "execution_count": 424,
   "metadata": {},
   "outputs": [],
   "source": [
    "import sys    \n",
    "    \n",
    "def H_index(list_of_Ai, case):\n",
    "    list_of_Ai = [int(x) for x in list_of_Ai.split(\" \")]\n",
    "    memo = [0]*len(list_of_Ai)\n",
    "    output_list = []\n",
    "    max_h_index = 1\n",
    "    \n",
    "    for i in range(len(list_of_Ai)):\n",
    "        if list_of_Ai[i]<=max_h_index:\n",
    "            output_list.append(max_h_index)\n",
    "        else:\n",
    "            for j in range(max_h_index, list_of_Ai[i]+1):\n",
    "                memo[j]+=1\n",
    "\n",
    "            for i in range(max_h_index, len(memo)):\n",
    "\n",
    "                if i<=memo[i]:\n",
    "                    if i>max_h_index:\n",
    "                        max_h_index = i\n",
    "\n",
    "            output_list.append(max_h_index)\n",
    "        \n",
    "    return \"Case #{}: \".format(case) + str(output_list).replace(\"[\",\"\").replace(\"]\",\"\").replace(\",\",\"\")\n",
    "\n",
    "\n",
    "    "
   ]
  },
  {
   "cell_type": "code",
   "execution_count": 425,
   "metadata": {},
   "outputs": [
    {
     "name": "stdout",
     "output_type": "stream",
     "text": [
      "Case #1: 1 1 2 2 2 3 3 3 3 3 3 3 3 3 3 3 3 3 3 3 4\n",
      "0.0003058910369873047\n"
     ]
    }
   ],
   "source": [
    "start = time.time()\n",
    "print(H_Index('1 3 3 2 2 4 3 3 2 2 4 3 3 2 2 4 3 3 2 2 4', 1))\n",
    "print(time.time()-start)"
   ]
  },
  {
   "cell_type": "code",
   "execution_count": null,
   "metadata": {},
   "outputs": [],
   "source": [
    "def H_index(citations, ):\n",
    "        \"\"\"\n",
    "        :type citations: List[int]\n",
    "        :rtype: int\n",
    "        \"\"\"\n",
    "        ssum = 0\n",
    "        sz = len(citations)\n",
    "        mp = [0]*(sz+1)\n",
    "\n",
    "        for ci in citations:\n",
    "            mp[min(sz,ci)] +=1\n",
    "    \n",
    "        for i in range(sz,-1,-1):\n",
    "            ssum += mp[i]\n",
    "            if ssum>=i:\n",
    "                return i"
   ]
  },
  {
   "cell_type": "code",
   "execution_count": 355,
   "metadata": {},
   "outputs": [
    {
     "data": {
      "text/plain": [
       "1578477841.0886772"
      ]
     },
     "execution_count": 355,
     "metadata": {},
     "output_type": "execute_result"
    }
   ],
   "source": [
    "import time\n",
    "time.time()"
   ]
  },
  {
   "cell_type": "code",
   "execution_count": 426,
   "metadata": {},
   "outputs": [
    {
     "name": "stdout",
     "output_type": "stream",
     "text": [
      "1\n",
      "3\n",
      "5 1 2\n",
      "Case #1: 1 1 2\n"
     ]
    }
   ],
   "source": [
    "def count_paper(x):\n",
    "    if x not in C:\n",
    "        return 0\n",
    "    else:\n",
    "        return C[x]\n",
    "\n",
    "    \n",
    "case=int(input())\n",
    "for k in range(1,case+1):\n",
    "    M=int(input())\n",
    "    A=list(map(int, input().split()))\n",
    "    hindex=[0]*M\n",
    "    hindex[0]=1 # 因为所有文章引用次数都大于等于1\n",
    "    SS=[0]*M\n",
    "    SS[0]=1\n",
    "    C={}\n",
    "    C[A[0]]=1\n",
    "    for jj in range(1,M):\n",
    "        if A[jj] not in C:\n",
    "            C[A[jj]]=0\n",
    "        C[A[jj]]+=1  # 实现counter功能\n",
    "        if A[jj]>hindex[jj-1]:\n",
    "            if SS[jj-1]-count_paper(hindex[jj-1])>=hindex[jj-1]:\n",
    "                hindex[jj]=hindex[jj-1]+1\n",
    "                SS[jj]=SS[jj-1]-count_paper(hindex[jj-1])+1\n",
    "                ### SS[jj]是 引用次数大于hindex[jj-1]的文章数\n",
    "                ### SS[jj]是 引用次数大于等于hindex[jj]的文章数\n",
    "                ### SS[jj-1]是引用次数**大于等于**hindex[jj-1]的文章数\n",
    "                ### count_paper(hindex[jj-1])是引用次数为hindex[jj-1]的文章数\n",
    "                ### 加1是因为新加入的这篇文章满足判断\n",
    "            else:\n",
    "                hindex[jj]=hindex[jj-1]\n",
    "                SS[jj]=SS[jj-1]+1\n",
    "        elif A[jj]==hindex[jj-1]: \n",
    "            hindex[jj]=hindex[jj-1]\n",
    "            SS[jj]=SS[jj-1]+1  # \n",
    "        else:\n",
    "            hindex[jj]=hindex[jj-1]\n",
    "            SS[jj]=SS[jj-1]\n",
    "            \n",
    "    \n",
    "    print(\"Case #{}: {}\".format(k, \" \".join(map(str, hindex))))"
   ]
  },
  {
   "cell_type": "code",
   "execution_count": null,
   "metadata": {},
   "outputs": [],
   "source": [
    "import sys\n",
    "\n",
    "def h_index_for_subset(subset, h_index):\n",
    "    \n",
    "#     print(subset, h_index)\n",
    "    for value in range(h_index+1, len(subset)+1):\n",
    "        count = 0\n",
    "        for x in subset:\n",
    "            \n",
    "            if x>=value:\n",
    "                count+=1\n",
    "            else:\n",
    "                continue\n",
    "#         print(x, value, count)\n",
    "        if count>h_index:\n",
    "            h_index = value\n",
    "#             print(\"h_index changed\",h_index)\n",
    "        else:\n",
    "            break\n",
    "\n",
    "    return h_index\n",
    "    \n",
    "    \n",
    "\n",
    "def h_index(input_, case):\n",
    "    \n",
    "    list_ = [int(x) for x in input_.split(\" \")] #convert to numeric\n",
    "    output_string = \"Case #{}: \".format(str(case))\n",
    "    \n",
    "    h_index = 0\n",
    "    \n",
    "    #generate the subsets\n",
    "    for i in range(1, len(list_)+1):\n",
    "        h_index = h_index_for_subset(list_[:i], h_index)\n",
    "        output_string = output_string+str(h_index)+\" \"\n",
    "        \n",
    "    print(output_string)    \n",
    "    \n",
    "\n",
    "if __name__=='__main__':\n",
    "    input_ = []\n",
    "    \n",
    "    for line in sys.stdin:\n",
    "        input_.append(line.replace(\"\\n\", \"\"))\n",
    "        \n",
    "    no_of_cases = input_.pop(0)\n",
    "    case = 0\n",
    "    for i in range(1,len(input_), 2):\n",
    "        case+=1\n",
    "        h_index(input_[i], case)\n",
    "    "
   ]
  }
 ],
 "metadata": {
  "kernelspec": {
   "display_name": "Python 3",
   "language": "python",
   "name": "python3"
  },
  "language_info": {
   "codemirror_mode": {
    "name": "ipython",
    "version": 3
   },
   "file_extension": ".py",
   "mimetype": "text/x-python",
   "name": "python",
   "nbconvert_exporter": "python",
   "pygments_lexer": "ipython3",
   "version": "3.6.5"
  }
 },
 "nbformat": 4,
 "nbformat_minor": 2
}
