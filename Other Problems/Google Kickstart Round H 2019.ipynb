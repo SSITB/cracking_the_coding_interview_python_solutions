{
 "cells": [
  {
   "cell_type": "markdown",
   "metadata": {},
   "source": [
    "## H-index\n",
    "https://codingcompetitions.withgoogle.com/kickstart/round/0000000000050edd/00000000001a274e\n"
   ]
  },
  {
   "cell_type": "code",
   "execution_count": 228,
   "metadata": {},
   "outputs": [],
   "source": [
    "import sys    \n",
    "    \n",
    "def H_index(m, list_of_Ai, case):\n",
    "    \n",
    "    memo = []\n",
    "    output_list = []\n",
    "    current_max_h_index = 0\n",
    "    \n",
    "    for i in range(m):\n",
    "        if list_of_Ai[i]>=current_max_h_index:\n",
    "            memo.append(list_of_Ai[i])\n",
    "            \n",
    "        j = 0    \n",
    "        while j<len(memo):\n",
    "            if memo[j]<=current_max_h_index:\n",
    "                del memo[j]\n",
    "            j+=1\n",
    "        \n",
    "        if len(memo)>current_max_h_index:\n",
    "            current_max_h_index = len(memo)\n",
    "        output_list.append(current_max_h_index)\n",
    "    \n",
    "    return \"Case #{}: \".format(case) + str(output_list).replace(\"[\",\"\").replace(\"]\",\"\").replace(\",\",\"\")\n",
    "\n",
    "case = int(input())\n",
    "for k in range(1,case+1):\n",
    "    m = int(input())\n",
    "    list_of_Ai = list(map(int, input().split()))\n",
    "    print(H_index(m, list_of_Ai, k))"
   ]
  },
  {
   "cell_type": "code",
   "execution_count": 241,
   "metadata": {},
   "outputs": [
    {
     "name": "stdout",
     "output_type": "stream",
     "text": [
      "1\n",
      "6\n",
      "1 3 3 2 2 15\n",
      "Case #1: 1 1 2 2 2 3\n"
     ]
    }
   ],
   "source": [
    "case = int(input())\n",
    "for k in range(1,case+1):\n",
    "    m = int(input())\n",
    "\n",
    "    list_of_Ai = list(map(int, input().split()))\n",
    "    memo = []\n",
    "    output_list = []\n",
    "    current_max_h_index = 0\n",
    "\n",
    "    for i in range(m):\n",
    "        if list_of_Ai[i]>=current_max_h_index:\n",
    "            memo.append(list_of_Ai[i])\n",
    "            \n",
    "            j = 0    \n",
    "            while j<len(memo):\n",
    "                if memo[j]<=current_max_h_index:\n",
    "                    del memo[j]\n",
    "                j+=1\n",
    "\n",
    "            if len(memo)>current_max_h_index:\n",
    "                current_max_h_index = len(memo)\n",
    "        output_list.append(current_max_h_index)\n",
    "\n",
    "    print(\"Case #{}: {}\".format(k, \" \".join(map(str, output_list))))\n"
   ]
  },
  {
   "cell_type": "code",
   "execution_count": 227,
   "metadata": {},
   "outputs": [
    {
     "name": "stdout",
     "output_type": "stream",
     "text": [
      "3.814697265625e-06\n",
      "1.0013580322265625e-05\n",
      "0.0003561973571777344\n"
     ]
    }
   ],
   "source": [
    "start = time.time()\n",
    "H_index(6, \"1 3 3 2 2 15\", 1)\n",
    "print(time.time()-start)"
   ]
  },
  {
   "cell_type": "code",
   "execution_count": null,
   "metadata": {},
   "outputs": [],
   "source": [
    "def count_paper(x):\n",
    "    if x not in C:\n",
    "        return 0\n",
    "    else:\n",
    "        return C[x]\n",
    "\n",
    "    \n",
    "case=int(input())\n",
    "for k in range(1,case+1):\n",
    "    M=int(input())\n",
    "    A=list(map(int, input().split()))\n",
    "    hindex=[0]*M\n",
    "    hindex[0]=1 # 因为所有文章引用次数都大于等于1\n",
    "    SS=[0]*M\n",
    "    SS[0]=1\n",
    "    C={}\n",
    "    C[A[0]]=1\n",
    "    for jj in range(1,M):\n",
    "        if A[jj] not in C:\n",
    "            C[A[jj]]=0\n",
    "        C[A[jj]]+=1  # 实现counter功能\n",
    "        if A[jj]>hindex[jj-1]:\n",
    "            if SS[jj-1]-count_paper(hindex[jj-1])>=hindex[jj-1]:\n",
    "                hindex[jj]=hindex[jj-1]+1\n",
    "                SS[jj]=SS[jj-1]-count_paper(hindex[jj-1])+1\n",
    "                ### SS[jj]是 引用次数大于hindex[jj-1]的文章数\n",
    "                ### SS[jj]是 引用次数大于等于hindex[jj]的文章数\n",
    "                ### SS[jj-1]是引用次数**大于等于**hindex[jj-1]的文章数\n",
    "                ### count_paper(hindex[jj-1])是引用次数为hindex[jj-1]的文章数\n",
    "                ### 加1是因为新加入的这篇文章满足判断\n",
    "            else:\n",
    "                hindex[jj]=hindex[jj-1]\n",
    "                SS[jj]=SS[jj-1]+1\n",
    "        elif A[jj]==hindex[jj-1]: \n",
    "            hindex[jj]=hindex[jj-1]\n",
    "            SS[jj]=SS[jj-1]+1  # \n",
    "        else:\n",
    "            hindex[jj]=hindex[jj-1]\n",
    "            SS[jj]=SS[jj-1]\n",
    "            \n",
    "    \n",
    "    print(\"Case #{}: {}\".format(k, \" \".join(map(str, hindex))))"
   ]
  }
 ],
 "metadata": {
  "kernelspec": {
   "display_name": "Python 3",
   "language": "python",
   "name": "python3"
  },
  "language_info": {
   "codemirror_mode": {
    "name": "ipython",
    "version": 3
   },
   "file_extension": ".py",
   "mimetype": "text/x-python",
   "name": "python",
   "nbconvert_exporter": "python",
   "pygments_lexer": "ipython3",
   "version": "3.6.5"
  }
 },
 "nbformat": 4,
 "nbformat_minor": 2
}
