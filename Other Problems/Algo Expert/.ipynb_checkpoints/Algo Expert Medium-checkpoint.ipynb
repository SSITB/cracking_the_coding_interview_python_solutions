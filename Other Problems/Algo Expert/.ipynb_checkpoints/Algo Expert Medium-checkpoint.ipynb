{
 "cells": [
  {
   "cell_type": "markdown",
   "metadata": {},
   "source": [
    "### 1. Three Number Sum\n",
    "\n",
    "Return the triplets that sum up to the target value"
   ]
  },
  {
   "cell_type": "markdown",
   "metadata": {},
   "source": [
    "Run 3 for loops and find target sum. Sort the numbers in the list to be appended, sort the lists.\n",
    "\n",
    "Time complexity: O(n^3)\n",
    "\n",
    "Space complexity: O(n)"
   ]
  },
  {
   "cell_type": "code",
   "execution_count": 2,
   "metadata": {},
   "outputs": [],
   "source": [
    "def threeNumberSum(array, targetSum):\n",
    "\toutput = []\n",
    "\tfor i in range(len(array)):\n",
    "\t\tfor j in range(i+1, len(array)):\n",
    "\t\t\tfor k in range(j+1, len(array)):\n",
    "\t\t\t\tif array[i]+array[j]+array[k]==targetSum:\n",
    "\t\t\t\t\toutput.append(sorted([array[i],array[j],array[k]]))\n",
    "\treturn sorted(output)"
   ]
  },
  {
   "cell_type": "markdown",
   "metadata": {},
   "source": [
    "A cool approach to use is the same as the two pointer approach as in 2sum problem, but this time we run a for loop on the array and add 3 numbers. So its as though we are using 3 pointers.\n",
    "\n",
    "Time complexity: O(n^2)\n",
    "\n",
    "Space complexity: O(1)"
   ]
  },
  {
   "cell_type": "code",
   "execution_count": 3,
   "metadata": {},
   "outputs": [],
   "source": [
    "def threeNumberSum(array, targetSum):\n",
    "\tresults = []\n",
    "\tarray.sort()\n",
    "\tfor i in range(len(array)-1):\n",
    "\t\tleft_pointer = i+1\n",
    "\t\tright_pointer = len(array)-1\n",
    "\t\t\n",
    "\t\twhile left_pointer<right_pointer:\n",
    "\t\t\tsum_ = array[left_pointer]+array[right_pointer]+array[i]\n",
    "\t\t\tif sum_==targetSum:\n",
    "\t\t\t\tresults.append([array[i], array[left_pointer], array[right_pointer]])\n",
    "\t\t\t\tleft_pointer+=1\n",
    "\t\t\t\tright_pointer-=1\n",
    "\t\t\telif sum_<targetSum:\n",
    "\t\t\t\tleft_pointer+=1\n",
    "\t\t\telif sum_>targetSum:\n",
    "\t\t\t\tright_pointer-=1\n",
    "\tresults.sort()\n",
    "\treturn results\n"
   ]
  },
  {
   "cell_type": "markdown",
   "metadata": {},
   "source": [
    "### 2. Smallest Difference\n",
    "\n",
    "Given two arrays, find pair of numbers whose absolute difference is as closest to 0"
   ]
  },
  {
   "cell_type": "markdown",
   "metadata": {},
   "source": [
    "Naive approach is to use a double for loop, one over first array and another over the second array and check every combination of differences. For the smallest abs value of difference, return the paid\n",
    "\n",
    "Time complexity: O(nm) where n and m are lengths of array 1 and 2\n",
    "\n",
    "Space complexity: O(1) because no additional space is required"
   ]
  },
  {
   "cell_type": "code",
   "execution_count": 4,
   "metadata": {},
   "outputs": [],
   "source": [
    "def smallestDifference(arrayOne, arrayTwo):\n",
    "\tdiff = float('inf')\n",
    "\tresult = []\n",
    "\t\n",
    "\tfor i in range(len(arrayOne)):\n",
    "\t\tfor j in range(len(arrayTwo)):\n",
    "\t\t\tdiff_ = abs(arrayOne[i]-arrayTwo[j])\n",
    "\t\t\tif diff_<diff:\n",
    "\t\t\t\tresult = [arrayOne[i], arrayTwo[j]]\n",
    "\t\t\t\tdiff = diff_\n",
    "\treturn result"
   ]
  },
  {
   "cell_type": "markdown",
   "metadata": {},
   "source": [
    "A pretty neat solution is to sort the two arrays and then have a pointer at each of them. We update the pointer values based on which value, array 1 or array 2, is greater. If diff==0, we just return because it can't get any better. We also keep track of smallest difference so far. If new difference is smaller, we update the difference and the result pair to be returned.\n",
    "\n",
    "Time complexity: O(nlogn+Omlogm) for sorting n and m\n",
    "\n",
    "Space complexity: O(1)\n"
   ]
  },
  {
   "cell_type": "code",
   "execution_count": 6,
   "metadata": {},
   "outputs": [],
   "source": [
    "def smallestDifference(arrayOne, arrayTwo):\n",
    "\tdiff = float('inf')\n",
    "\tarrayOne.sort()\n",
    "\tarrayTwo.sort()\n",
    "\t\n",
    "\ti, j = 0, 0\n",
    "\tresult = []\n",
    "\twhile i<len(arrayOne) and j<len(arrayTwo):\n",
    "\t\tcurrent_diff = abs(arrayOne[i]-arrayTwo[j])\n",
    "\t\tif current_diff<diff:\n",
    "\t\t\tdiff = current_diff\n",
    "\t\t\tresult = [arrayOne[i], arrayTwo[j]]\n",
    "\t\t\n",
    "\t\tif arrayOne[i]<arrayTwo[j]:\n",
    "\t\t\ti+=1\n",
    "\t\telif arrayOne[i]>arrayTwo[j]:\n",
    "\t\t\tj+=1\n",
    "\t\telse:\n",
    "\t\t\t#diff is 0\n",
    "\t\t\treturn [arrayOne[i], arrayTwo[j]]\n",
    "\treturn result\n",
    "\t\t"
   ]
  },
  {
   "cell_type": "markdown",
   "metadata": {},
   "source": [
    "### 3. Move element to the end\n",
    "\n",
    "Move all elements of a given value to the end of the array"
   ]
  },
  {
   "cell_type": "markdown",
   "metadata": {},
   "source": [
    "We use two pointers one at the beginning, i and another at the end of the array, j. If the element at i is the given value to move we swap with the element at j, so long as the element at j is not also the given value to move. We end when j and i cross paths or i reaches end of array\n",
    "\n",
    "Time complexity: O(n)\n",
    "\n",
    "Space complexity: O(1)"
   ]
  },
  {
   "cell_type": "code",
   "execution_count": 8,
   "metadata": {},
   "outputs": [],
   "source": [
    "def moveElementToEnd(array, toMove):\n",
    "\ti = 0\n",
    "\tj = len(array)-1\n",
    "\t\n",
    "\twhile i<len(array) and i<j:\n",
    "\t\tif array[i]==toMove:\n",
    "\t\t\twhile array[j]!=toMove:\n",
    "\t\t\t\tarray[i], array[j] = array[j], array[i]\n",
    "\t\t\t\ti+=1\n",
    "\t\t\tj-=1\n",
    "\t\telse:\n",
    "\t\t\ti+=1\n",
    "\t\n",
    "\treturn array\n",
    "\t\t\n"
   ]
  },
  {
   "cell_type": "markdown",
   "metadata": {},
   "source": [
    "### 4. Construct a BST"
   ]
  },
  {
   "cell_type": "markdown",
   "metadata": {},
   "source": [
    "BST Property: all values on the left should be less than the parent node and all values on the right should be greater than or equal to the parent.\n",
    "\n",
    "\n",
    "Pay close attention to the remove method"
   ]
  },
  {
   "cell_type": "code",
   "execution_count": 11,
   "metadata": {},
   "outputs": [],
   "source": [
    "# Do not edit the class below except for\n",
    "# the insert, contains, and remove methods.\n",
    "# Feel free to add new properties and methods\n",
    "# to the class.\n",
    "class BST:\n",
    "    def __init__(self, value):\n",
    "        self.value = value\n",
    "        self.left = None\n",
    "        self.right = None\n",
    "\n",
    "    # General case (balanced BST): O(log(n)) time | O(1) space\n",
    "    # Worst case (if a single chain tree like a linkedlist): O(n) time | )(1) space\n",
    "    def insert(self, value):\n",
    "        # Write your code here.\n",
    "        # Do not edit the return statement of this method.\n",
    "        current_node = self\n",
    "        while True:\n",
    "            if value<current_node.value:\n",
    "                #we want to go to the left subtree\n",
    "                if current_node.left==None:\n",
    "                    current_node.left = BST(value)\n",
    "                    break\n",
    "                else:\n",
    "                    current_node = current_node.left\n",
    "            else:\n",
    "                if current_node.right==None:\n",
    "                    current_node.right = BST(value)\n",
    "                    break\n",
    "                else:\n",
    "                    current_node = current_node.right\n",
    "            \n",
    "        return self #this is just a convenience for the algo expert platform\n",
    "    \n",
    "    # General case (balanced BST): O(log(n)) time | O(1) space\n",
    "    # Worst case (if a single chain tree like a linkedlist): O(n) time | )(1) space\n",
    "    def contains(self, value):\n",
    "        # Write your code here.\n",
    "        current_node = self\n",
    "        while current_node:\n",
    "            if value==current_node.value:\n",
    "                return True\n",
    "            elif value<current_node.value:\n",
    "                current_node = current_node.left\n",
    "            else:\n",
    "                current_node = current_node.right\n",
    "        return False\n",
    "\n",
    "    def remove(self, value, parent_node = None):\n",
    "        # Write your code here.\n",
    "        # Do not edit the return statement of this method.\n",
    "        #1. First we find the node we want to remove\n",
    "        #2. Then we carry out the removal and the swapping\n",
    "        \n",
    "        current_node = self\n",
    "        while current_node:\n",
    "            #First we try to find the node\n",
    "            if value<current_node.value:\n",
    "                parent_node = current_node\n",
    "                current_node = current_node.left\n",
    "            elif value>current_node.value:\n",
    "                parent_node = current_node\n",
    "                current_node = current_node.right\n",
    "            else:\n",
    "                #we have found the node we want to remove\n",
    "                \n",
    "                #Now we have 5 cases:\n",
    "                #1. We are tring to remove a node with children on both sides, covers root node too\n",
    "                #2. We are trying to remove a a leaf node with no children\n",
    "                #3. We are trying to remove a node with child on only one side\n",
    "                #4. #4. We are trying to remove the root node but root node only has one child\n",
    "                #5. We are tring to remove a single node BST...likely not happening\n",
    "                \n",
    "                #1. We are tring to remove a node with children on both sides\n",
    "                if current_node.left and current_node.right:\n",
    "                    #replace current node with the smallest value on the right side\n",
    "                    current_node.value = current_node.right.getMinValue()\n",
    "                    #now that we have replaced, delete the old one\n",
    "                    current_node.right.remove(current_node.value, current_node)\n",
    "                #4. We are trying to remove the root node but root node only has one child\n",
    "                elif parent_node==None:\n",
    "                    if current_node.left:\n",
    "                        #if the left has something\n",
    "                        current_node.value = current_node.left.value\n",
    "                        current_node.left = current_node.left.left\n",
    "                        current_node.right = current_node.left.right\n",
    "                    elif current_node.left:\n",
    "                        current_node.value = current_node.right.value\n",
    "                        current_node.left = current_node.right.left\n",
    "                        current_node.right = current_node.right.right\n",
    "                    #5. We are tring to remove a single node BST...likely not happening\n",
    "                    else:\n",
    "                        current_node = None\n",
    "                        \n",
    "                #2. We are trying to remove a a leaf node with no children\n",
    "                #3. We are trying to remove a node with child on only one side\n",
    "                # 2 and 3 can be generalized by using the parent node as a reference\n",
    "                elif parent_node.left==current_node: #if current_node is on the left\n",
    "                    #we check which node is not None and then attach it to the parent\n",
    "                    node_to_attach = current_node.left if current_node.left else current_node.right\n",
    "                    parent_node.left = node_to_attach\n",
    "                \n",
    "                elif parent_node.right==current_node:\n",
    "                    node_to_attach = current_node.left if current_node.left else current_node.right\n",
    "                    parent_node.right = node_to_attach\n",
    "\n",
    "                break\n",
    "\n",
    "        return self\n",
    "    \n",
    "    def getMinValue(self):\n",
    "        current_node = self\n",
    "        while current_node.left:\n",
    "            current_node = current_node.left\n",
    "        return current_node.value\n"
   ]
  },
  {
   "cell_type": "code",
   "execution_count": null,
   "metadata": {},
   "outputs": [],
   "source": []
  }
 ],
 "metadata": {
  "kernelspec": {
   "display_name": "Python 3",
   "language": "python",
   "name": "python3"
  },
  "language_info": {
   "codemirror_mode": {
    "name": "ipython",
    "version": 3
   },
   "file_extension": ".py",
   "mimetype": "text/x-python",
   "name": "python",
   "nbconvert_exporter": "python",
   "pygments_lexer": "ipython3",
   "version": "3.6.5"
  }
 },
 "nbformat": 4,
 "nbformat_minor": 2
}
