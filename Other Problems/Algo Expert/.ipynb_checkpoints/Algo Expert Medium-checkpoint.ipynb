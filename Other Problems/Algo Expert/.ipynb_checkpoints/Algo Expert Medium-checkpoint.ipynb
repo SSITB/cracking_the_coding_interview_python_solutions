{
 "cells": [
  {
   "cell_type": "markdown",
   "metadata": {},
   "source": [
    "### 1. Three Number Sum\n",
    "\n",
    "Return the triplets that sum up to the target value"
   ]
  },
  {
   "cell_type": "markdown",
   "metadata": {},
   "source": [
    "Run 3 for loops and find target sum. Sort the numbers in the list to be appended, sort the lists.\n",
    "\n",
    "Time complexity: O(n^3)\n",
    "\n",
    "Space complexity: O(n)"
   ]
  },
  {
   "cell_type": "code",
   "execution_count": 2,
   "metadata": {},
   "outputs": [],
   "source": [
    "def threeNumberSum(array, targetSum):\n",
    "\toutput = []\n",
    "\tfor i in range(len(array)):\n",
    "\t\tfor j in range(i+1, len(array)):\n",
    "\t\t\tfor k in range(j+1, len(array)):\n",
    "\t\t\t\tif array[i]+array[j]+array[k]==targetSum:\n",
    "\t\t\t\t\toutput.append(sorted([array[i],array[j],array[k]]))\n",
    "\treturn sorted(output)"
   ]
  },
  {
   "cell_type": "markdown",
   "metadata": {},
   "source": [
    "A cool approach to use is the same as the two pointer approach as in 2sum problem, but this time we run a for loop on the array and add 3 numbers. So its as though we are using 3 pointers.\n",
    "\n",
    "Time complexity: O(n^2)\n",
    "\n",
    "Space complexity: O(1)"
   ]
  },
  {
   "cell_type": "code",
   "execution_count": 3,
   "metadata": {},
   "outputs": [],
   "source": [
    "def threeNumberSum(array, targetSum):\n",
    "\tresults = []\n",
    "\tarray.sort()\n",
    "\tfor i in range(len(array)-1):\n",
    "\t\tleft_pointer = i+1\n",
    "\t\tright_pointer = len(array)-1\n",
    "\t\t\n",
    "\t\twhile left_pointer<right_pointer:\n",
    "\t\t\tsum_ = array[left_pointer]+array[right_pointer]+array[i]\n",
    "\t\t\tif sum_==targetSum:\n",
    "\t\t\t\tresults.append([array[i], array[left_pointer], array[right_pointer]])\n",
    "\t\t\t\tleft_pointer+=1\n",
    "\t\t\t\tright_pointer-=1\n",
    "\t\t\telif sum_<targetSum:\n",
    "\t\t\t\tleft_pointer+=1\n",
    "\t\t\telif sum_>targetSum:\n",
    "\t\t\t\tright_pointer-=1\n",
    "\tresults.sort()\n",
    "\treturn results\n"
   ]
  },
  {
   "cell_type": "markdown",
   "metadata": {},
   "source": [
    "### 2. Smallest Difference\n",
    "\n",
    "Given two arrays, find pair of numbers whose absolute difference is as closest to 0"
   ]
  },
  {
   "cell_type": "markdown",
   "metadata": {},
   "source": [
    "Naive approach is to use a double for loop, one over first array and another over the second array and check every combination of differences. For the smallest abs value of difference, return the paid\n",
    "\n",
    "Time complexity: O(nm) where n and m are lengths of array 1 and 2\n",
    "\n",
    "Space complexity: O(1) because no additional space is required"
   ]
  },
  {
   "cell_type": "code",
   "execution_count": 4,
   "metadata": {},
   "outputs": [],
   "source": [
    "def smallestDifference(arrayOne, arrayTwo):\n",
    "\tdiff = float('inf')\n",
    "\tresult = []\n",
    "\t\n",
    "\tfor i in range(len(arrayOne)):\n",
    "\t\tfor j in range(len(arrayTwo)):\n",
    "\t\t\tdiff_ = abs(arrayOne[i]-arrayTwo[j])\n",
    "\t\t\tif diff_<diff:\n",
    "\t\t\t\tresult = [arrayOne[i], arrayTwo[j]]\n",
    "\t\t\t\tdiff = diff_\n",
    "\treturn result"
   ]
  },
  {
   "cell_type": "markdown",
   "metadata": {},
   "source": [
    "A pretty neat solution is to sort the two arrays and then have a pointer at each of them. We update the pointer values based on which value, array 1 or array 2, is greater. If diff==0, we just return because it can't get any better. We also keep track of smallest difference so far. If new difference is smaller, we update the difference and the result pair to be returned.\n",
    "\n",
    "Time complexity: O(nlogn+Omlogm) for sorting n and m\n",
    "\n",
    "Space complexity: O(1)\n"
   ]
  },
  {
   "cell_type": "code",
   "execution_count": 6,
   "metadata": {},
   "outputs": [],
   "source": [
    "def smallestDifference(arrayOne, arrayTwo):\n",
    "\tdiff = float('inf')\n",
    "\tarrayOne.sort()\n",
    "\tarrayTwo.sort()\n",
    "\t\n",
    "\ti, j = 0, 0\n",
    "\tresult = []\n",
    "\twhile i<len(arrayOne) and j<len(arrayTwo):\n",
    "\t\tcurrent_diff = abs(arrayOne[i]-arrayTwo[j])\n",
    "\t\tif current_diff<diff:\n",
    "\t\t\tdiff = current_diff\n",
    "\t\t\tresult = [arrayOne[i], arrayTwo[j]]\n",
    "\t\t\n",
    "\t\tif arrayOne[i]<arrayTwo[j]:\n",
    "\t\t\ti+=1\n",
    "\t\telif arrayOne[i]>arrayTwo[j]:\n",
    "\t\t\tj+=1\n",
    "\t\telse:\n",
    "\t\t\t#diff is 0\n",
    "\t\t\treturn [arrayOne[i], arrayTwo[j]]\n",
    "\treturn result\n",
    "\t\t"
   ]
  },
  {
   "cell_type": "markdown",
   "metadata": {},
   "source": [
    "### 3. Move element to the end\n",
    "\n",
    "Move all elements of a given value to the end of the array"
   ]
  },
  {
   "cell_type": "markdown",
   "metadata": {},
   "source": [
    "We use two pointers one at the beginning, i and another at the end of the array, j. If the element at i is the given value to move we swap with the element at j, so long as the element at j is not also the given value to move. We end when j and i cross paths or i reaches end of array\n",
    "\n",
    "Time complexity: O(n)\n",
    "\n",
    "Space complexity: O(1)"
   ]
  },
  {
   "cell_type": "code",
   "execution_count": 8,
   "metadata": {},
   "outputs": [],
   "source": [
    "def moveElementToEnd(array, toMove):\n",
    "\ti = 0\n",
    "\tj = len(array)-1\n",
    "\t\n",
    "\twhile i<len(array) and i<j:\n",
    "\t\tif array[i]==toMove:\n",
    "\t\t\twhile array[j]!=toMove:\n",
    "\t\t\t\tarray[i], array[j] = array[j], array[i]\n",
    "\t\t\t\ti+=1\n",
    "\t\t\tj-=1\n",
    "\t\telse:\n",
    "\t\t\ti+=1\n",
    "\t\n",
    "\treturn array\n",
    "\t\t\n"
   ]
  },
  {
   "cell_type": "markdown",
   "metadata": {},
   "source": [
    "### 4. Construct a BST"
   ]
  },
  {
   "cell_type": "markdown",
   "metadata": {},
   "source": [
    "BST Property: all values on the left should be less than the parent node and all values on the right should be greater than or equal to the parent.\n",
    "\n",
    "\n",
    "Pay close attention to the remove method"
   ]
  },
  {
   "cell_type": "code",
   "execution_count": 11,
   "metadata": {},
   "outputs": [],
   "source": [
    "# Do not edit the class below except for\n",
    "# the insert, contains, and remove methods.\n",
    "# Feel free to add new properties and methods\n",
    "# to the class.\n",
    "class BST:\n",
    "    def __init__(self, value):\n",
    "        self.value = value\n",
    "        self.left = None\n",
    "        self.right = None\n",
    "\n",
    "    # General case (balanced BST): O(log(n)) time | O(1) space\n",
    "    # Worst case (if a single chain tree like a linkedlist): O(n) time | )(1) space\n",
    "    def insert(self, value):\n",
    "        # Write your code here.\n",
    "        # Do not edit the return statement of this method.\n",
    "        current_node = self\n",
    "        while True:\n",
    "            if value<current_node.value:\n",
    "                #we want to go to the left subtree\n",
    "                if current_node.left==None:\n",
    "                    current_node.left = BST(value)\n",
    "                    break\n",
    "                else:\n",
    "                    current_node = current_node.left\n",
    "            else:\n",
    "                if current_node.right==None:\n",
    "                    current_node.right = BST(value)\n",
    "                    break\n",
    "                else:\n",
    "                    current_node = current_node.right\n",
    "            \n",
    "        return self #this is just a convenience for the algo expert platform\n",
    "    \n",
    "    # General case (balanced BST): O(log(n)) time | O(1) space\n",
    "    # Worst case (if a single chain tree like a linkedlist): O(n) time | )(1) space\n",
    "    def contains(self, value):\n",
    "        # Write your code here.\n",
    "        current_node = self\n",
    "        while current_node:\n",
    "            if value==current_node.value:\n",
    "                return True\n",
    "            elif value<current_node.value:\n",
    "                current_node = current_node.left\n",
    "            else:\n",
    "                current_node = current_node.right\n",
    "        return False\n",
    "\n",
    "    def remove(self, value, parent_node = None):\n",
    "        # Write your code here.\n",
    "        # Do not edit the return statement of this method.\n",
    "        #1. First we find the node we want to remove\n",
    "        #2. Then we carry out the removal and the swapping\n",
    "        \n",
    "        current_node = self\n",
    "        while current_node:\n",
    "            #First we try to find the node\n",
    "            if value<current_node.value:\n",
    "                parent_node = current_node\n",
    "                current_node = current_node.left\n",
    "            elif value>current_node.value:\n",
    "                parent_node = current_node\n",
    "                current_node = current_node.right\n",
    "            else:\n",
    "                #we have found the node we want to remove\n",
    "                \n",
    "                #Now we have 5 cases:\n",
    "                #1. We are tring to remove a node with children on both sides, covers root node too\n",
    "                #2. We are trying to remove a a leaf node with no children\n",
    "                #3. We are trying to remove a node with child on only one side\n",
    "                #4. #4. We are trying to remove the root node but root node only has one child\n",
    "                #5. We are tring to remove a single node BST...likely not happening\n",
    "                \n",
    "                #1. We are tring to remove a node with children on both sides\n",
    "                if current_node.left and current_node.right:\n",
    "                    #replace current node with the smallest value on the right side\n",
    "                    current_node.value = current_node.right.getMinValue()\n",
    "                    #now that we have replaced, delete the old one\n",
    "                    current_node.right.remove(current_node.value, current_node)\n",
    "                #4. We are trying to remove the root node but root node only has one child\n",
    "                elif parent_node==None:\n",
    "                    if current_node.left:\n",
    "                        #if the left has something\n",
    "                        current_node.value = current_node.left.value\n",
    "                        current_node.left = current_node.left.left\n",
    "                        current_node.right = current_node.left.right\n",
    "                    elif current_node.left:\n",
    "                        current_node.value = current_node.right.value\n",
    "                        current_node.left = current_node.right.left\n",
    "                        current_node.right = current_node.right.right\n",
    "                    #5. We are tring to remove a single node BST...likely not happening\n",
    "                    else:\n",
    "                        current_node = None\n",
    "                        \n",
    "                #2. We are trying to remove a a leaf node with no children\n",
    "                #3. We are trying to remove a node with child on only one side\n",
    "                # 2 and 3 can be generalized by using the parent node as a reference\n",
    "                elif parent_node.left==current_node: #if current_node is on the left\n",
    "                    #we check which node is not None and then attach it to the parent\n",
    "                    node_to_attach = current_node.left if current_node.left else current_node.right\n",
    "                    parent_node.left = node_to_attach\n",
    "                \n",
    "                elif parent_node.right==current_node:\n",
    "                    node_to_attach = current_node.left if current_node.left else current_node.right\n",
    "                    parent_node.right = node_to_attach\n",
    "\n",
    "                break\n",
    "\n",
    "        return self\n",
    "    \n",
    "    def getMinValue(self):\n",
    "        current_node = self\n",
    "        while current_node.left:\n",
    "            current_node = current_node.left\n",
    "        return current_node.value\n"
   ]
  },
  {
   "cell_type": "markdown",
   "metadata": {},
   "source": [
    "### 5. Validate a BST"
   ]
  },
  {
   "cell_type": "markdown",
   "metadata": {},
   "source": [
    "Approach is to use a recursive method. In this recursive method, for every node we will trying to find a max value and a min value for that node. The max and min values depend on the position of the node. So for every node, we will compute the max and min allowable value and then check if the node's value is within that range.\n",
    "\n",
    "Time complexity: O(n) where n is number of nodes\n",
    "\n",
    "Space complexity: O(d) where d is the depth of the tree. Because the biggest amount of space on the call stack will be used up when we are at the root node and we traverse the longest branch recursively."
   ]
  },
  {
   "cell_type": "code",
   "execution_count": 1,
   "metadata": {},
   "outputs": [],
   "source": [
    "# This is an input class. Do not edit.\n",
    "class BST:\n",
    "    def __init__(self, value):\n",
    "        self.value = value\n",
    "        self.left = None\n",
    "        self.right = None\n",
    "\n",
    "\n",
    "def validateBst(tree, min_value = float(\"-inf\"), max_value = float(\"inf\")):\n",
    "\tif tree==None:\n",
    "\t\treturn True\n",
    "\telif tree.value<min_value or tree.value>=max_value:\n",
    "\t\treturn False\n",
    "\treturn validateBst(tree.left, min_value, tree.value) and validateBst(tree.right, tree.value, max_value)"
   ]
  },
  {
   "cell_type": "markdown",
   "metadata": {},
   "source": [
    "### 6. BST Traversal"
   ]
  },
  {
   "cell_type": "markdown",
   "metadata": {},
   "source": [
    "Traverse trees recursively\n",
    "\n",
    "```\n",
    "  b\n",
    " / \\\n",
    "a   c\n",
    "```\n",
    "In Order: abc\n",
    "\n",
    "Pre Order: bac\n",
    "\n",
    "Post Order: acb\n",
    "\n",
    "Time complexity: O(n)\n",
    "Space complexity: O(n) because of recursion"
   ]
  },
  {
   "cell_type": "code",
   "execution_count": 4,
   "metadata": {},
   "outputs": [],
   "source": [
    "def inOrderTraverse(tree, array):\n",
    "    # Write your code here.\n",
    "\tif tree:\n",
    "\t\tinOrderTraverse(tree.left, array)\n",
    "\t\tarray.append(tree.value)\n",
    "\t\tinOrderTraverse(tree.right, array)\n",
    "\treturn array\n",
    "\n",
    "\n",
    "def preOrderTraverse(tree, array):\n",
    "    # Write your code here.\n",
    "\tif tree:\n",
    "\t\tarray.append(tree.value)\n",
    "\t\tpreOrderTraverse(tree.left, array)\n",
    "\t\tpreOrderTraverse(tree.right, array)\n",
    "\treturn array\n",
    "\n",
    "\n",
    "def postOrderTraverse(tree, array):\n",
    "    # Write your code here.\n",
    "\tif tree:\n",
    "\t\tpostOrderTraverse(tree.left, array)\n",
    "\t\tpostOrderTraverse(tree.right, array)\n",
    "\t\tarray.append(tree.value)\n",
    "\t\t\n",
    "\treturn array"
   ]
  },
  {
   "cell_type": "markdown",
   "metadata": {},
   "source": [
    "### 7. Invert Binary Tree"
   ]
  },
  {
   "cell_type": "markdown",
   "metadata": {},
   "source": [
    "Recursively go from top to bottom and swap the left and right connections till we hit leaf nodes.\n",
    "\n",
    "Time complexity: O(n)\n",
    "\n",
    "Space complexity: O(d) max depth of the tree because of recursion stack occupation"
   ]
  },
  {
   "cell_type": "code",
   "execution_count": 6,
   "metadata": {},
   "outputs": [],
   "source": [
    "def invertBinaryTree(tree):\n",
    "    # Write your code here.\n",
    "\tif tree==None:\n",
    "\t\treturn \n",
    "\ttemp = tree.left\n",
    "\ttree.left = tree.right\n",
    "\ttree.right = temp\n",
    "\tinvertBinaryTree(tree.left)\n",
    "\tinvertBinaryTree(tree.right)\n"
   ]
  },
  {
   "cell_type": "markdown",
   "metadata": {},
   "source": [
    "Another approach is to use BFS for traversal\n",
    "\n",
    "Time complexity: O(n)\n",
    "\n",
    "Space complexity: O(n) #queue might be occupied by n/2 leaf nodes"
   ]
  },
  {
   "cell_type": "markdown",
   "metadata": {},
   "source": [
    "### 8. Maximum Subset Sum with no Adjacent Elements\n",
    "\n",
    "Input: [7, 10, 12, 7, 9, 14]\n",
    "\n",
    "Answer: 7+12+14 = 33"
   ]
  },
  {
   "cell_type": "markdown",
   "metadata": {},
   "source": [
    "At any given index, the max sum is either the max sum at previous index or the max sum two indices ago+the value at that index"
   ]
  },
  {
   "cell_type": "markdown",
   "metadata": {},
   "source": [
    "Time complexity: O(n) where n is length of array\n",
    "\n",
    "Space complexity: O(n) if you use an array to keep track of the max sum at every position and O(1) if you keep track of the two key values instead of the whole array"
   ]
  },
  {
   "cell_type": "code",
   "execution_count": 8,
   "metadata": {},
   "outputs": [],
   "source": [
    "def maxSubsetSumNoAdjacent(array):\n",
    "\tif len(array)==0:\n",
    "\t\treturn 0\n",
    "\telif len(array)==1:\n",
    "\t\treturn array[0]\n",
    "\telif len(array)==2:\n",
    "\t\treturn max(array)\n",
    "\telse:\n",
    "\t\tprevious_max_sum = array[0]\n",
    "\t\tneighbouring_sum = max(array[0], array[1])\n",
    "\t\tmax_sum_i = 0\n",
    "\t\tfor i in range(2, len(array)):\n",
    "\t\t\tcandidate_sum = previous_max_sum+array[i]\n",
    "\t\t\tmax_sum_i = max(candidate_sum, neighbouring_sum)\n",
    "\t\t\tprevious_max_sum = neighbouring_sum\n",
    "\t\t\tneighbouring_sum = max_sum_i\n",
    "\t\t\n",
    "\t\treturn max_sum_i"
   ]
  },
  {
   "cell_type": "markdown",
   "metadata": {},
   "source": [
    "### 9. Number of ways to make change"
   ]
  },
  {
   "cell_type": "markdown",
   "metadata": {},
   "source": [
    "It is difficult to get the solution intuitively. The idea is to create an array from index 0-n which represents number of ways to make amount i at every index with a denomination. We iterate over d denominations and then for every denomination we iterate the ways array. ways[i]+=ways[i-d] if d<=i.\n",
    "\n",
    "Time complexity: O(nd)\n",
    "\n",
    "Space complexity: O(n)\n"
   ]
  },
  {
   "cell_type": "code",
   "execution_count": 1,
   "metadata": {},
   "outputs": [],
   "source": [
    "def numberOfWaysToMakeChange(n, denoms):\n",
    "\tways = [0 for i in range(n+1)]\n",
    "\tways[0] = 1\n",
    "\tfor d in denoms:\n",
    "\t\tfor i in range(1, n+1):\n",
    "\t\t\tif i>=d:\n",
    "\t\t\t\tways[i]+=ways[i-d]\n",
    "\treturn ways[n]\n",
    "\t\t\t\n",
    "\t\t\n",
    "    \n"
   ]
  },
  {
   "cell_type": "markdown",
   "metadata": {},
   "source": [
    "### 10. Min coins to make change \n",
    "(infinite coins of denominations available, min coins needed to total a certain given amount)"
   ]
  },
  {
   "cell_type": "markdown",
   "metadata": {},
   "source": [
    "Approach is to create an array where index represents amount upto target amount n. For every denomination we iterate over the amounts array. For every amount if we are able to get a number of coins lesser than the previous value then we update that amount.\n",
    "\n",
    "Time complexity: O(nd) #for loops over n and d\n",
    "\n",
    "Space complexity: O(n) "
   ]
  },
  {
   "cell_type": "code",
   "execution_count": 12,
   "metadata": {},
   "outputs": [],
   "source": [
    "def minNumberOfCoinsForChange(n, denoms):\n",
    "\tamounts = [float('inf') for i in range(n+1)]\n",
    "\tamounts[0] = 0\n",
    "\tfor denom in denoms:\n",
    "\t\tfor amount in range(len(amounts)):\n",
    "\t\t\tif denom<=amount:\n",
    "\t\t\t\tnew_number_of_coins = 1+amounts[int(amount-denom)]\n",
    "\t\t\t\tamounts[amount] = min(amounts[amount], new_number_of_coins)\n",
    "\tif amounts[n]==float('inf'):\n",
    "\t\treturn -1\n",
    "\telse:\n",
    "\t\treturn amounts[n]"
   ]
  },
  {
   "cell_type": "markdown",
   "metadata": {},
   "source": [
    "### 11. Levenshtein Distance"
   ]
  },
  {
   "cell_type": "markdown",
   "metadata": {},
   "source": [
    "![](https://camo.githubusercontent.com/6abc54ac1673ed8ba5ab86aa5a767da6a082b71b/68747470733a2f2f63646e2d696d616765732d312e6d656469756d2e636f6d2f6d61782f313630302f312a6154756e53556f7930424a795942566e3474574772412e706e67)"
   ]
  },
  {
   "cell_type": "markdown",
   "metadata": {},
   "source": [
    "Approach is to build a dp table. The row of the dp table is \"\",s,t,r,1 and the column is \"\",s,t,r,2...somthing like that. If at any position the characters are the same then dp_table[i][j] = dp_table[i-1][j-1] because the diagonal left represents the number of edits required before we came across the same character. Otherwise we take 1+the minimum of deletion, insertion and substitution. \n",
    "\n",
    "\n",
    "Time complexity: O(nm)\n",
    "\n",
    "Space complexity: O(nm)"
   ]
  },
  {
   "cell_type": "code",
   "execution_count": 13,
   "metadata": {},
   "outputs": [],
   "source": [
    "def levenshteinDistance(str1, str2):\n",
    "\tedit  = [[x for x in range(len(str1)+1)] for y in range(len(str2)+1)]\n",
    "\t\n",
    "\tfor i in range(len(edit)):\n",
    "\t\tedit[i][0] = i\n",
    "\t\n",
    "\tfor row in range(1, len(edit)):\n",
    "\t\tfor col in range(1, len(edit[row])):\n",
    "\t\t\tif str1[col-1]==str2[row-1]:\n",
    "\t\t\t\tedit[row][col] = edit[row-1][col-1]\n",
    "\t\t\telse:\n",
    "\t\t\t\tedit[row][col] = 1+min(edit[row-1][col-1],\n",
    "\t\t\t\t\t\t\t\t\t  edit[row-1][col],\n",
    "\t\t\t\t\t\t\t\t\t  edit[row][col-1])\n",
    "\treturn edit[-1][-1]\n",
    "\t\t\t"
   ]
  },
  {
   "cell_type": "code",
   "execution_count": 14,
   "metadata": {},
   "outputs": [
    {
     "data": {
      "text/plain": [
       "4"
      ]
     },
     "execution_count": 14,
     "metadata": {},
     "output_type": "execute_result"
    }
   ],
   "source": [
    "levenshteinDistance(\"abc\", \"defg\")"
   ]
  },
  {
   "cell_type": "markdown",
   "metadata": {},
   "source": [
    "For any given position on the dp table, all we need are two rows, the current row and the row above. So it is possible to get rid of prior rows and reducing space complexity to O(min(n,m)). We can determine the min by choosing how many columns we have, which in turn is dictated by which string goes on top (row)\n"
   ]
  },
  {
   "cell_type": "code",
   "execution_count": 16,
   "metadata": {},
   "outputs": [],
   "source": [
    "def levenshteinDistance(str1, str2):\n",
    "\tsmall = str1 if len(str1)<=len(str2) else str2\n",
    "\tbig = str1 if len(str1)>len(str2) else str2\n",
    "\t\n",
    "\ttop_row = [x for x in range(len(small)+1)]\n",
    "\tbottom_row = [0 for x in range(len(small)+1)]\n",
    "\t\n",
    "\tfor i in range(1, len(big)+1):\n",
    "\t\tbottom_row = [0 for x in range(len(small)+1)]\n",
    "\t\tbottom_row [0] = i\n",
    "\t\tfor j in range(1, len(small)+1):\n",
    "\t\t\tif big[i-1]==small[j-1]:\n",
    "\t\t\t\t# print(big[i-1],small[j-1])\n",
    "\t\t\t\tbottom_row[j] = top_row[j-1]\n",
    "\t\t\telse:\n",
    "\t\t\t\tbottom_row[j] = 1+min(top_row[j-1], top_row[j], bottom_row[j-1])\n",
    "\t\ttop_row = bottom_row\n",
    "\t\n",
    "\treturn bottom_row[-1]"
   ]
  },
  {
   "cell_type": "markdown",
   "metadata": {},
   "source": [
    "### 12. Kadane's Algorithm\n",
    "\n",
    "Find the max possible sum of consecutive/contiguous elements"
   ]
  },
  {
   "cell_type": "markdown",
   "metadata": {},
   "source": [
    "Approach is to iterate over the array. At every position, we check if adding the element makes the running sum>0. If it does then we add, if not then we start a new contiguous sub array from that element. In the end we return the max value in the sums array we maintain to record the sum at every position in the original array.\n",
    "\n",
    "Time complexity: O(n)\n",
    "\n",
    "Space complexity: O(n)"
   ]
  },
  {
   "cell_type": "code",
   "execution_count": 19,
   "metadata": {},
   "outputs": [],
   "source": [
    "def kadanesAlgorithm(array):\n",
    "    # Write your code here.\n",
    "\tsums_ = [None]*len(array)\n",
    "\tsums_[0] = array[0]\n",
    "\tfor i in range(1, len(array)):\n",
    "\t\tif sums_[i-1]+array[i]<0:\n",
    "\t\t\tsums_[i] = array[i]\n",
    "\t\telse:\n",
    "\t\t\tsums_[i] = sums_[i-1]+array[i]\n",
    "\treturn max(sums_)"
   ]
  },
  {
   "cell_type": "markdown",
   "metadata": {},
   "source": [
    "Actually, we don't really need the whole sums array. Just need the max sum so far and the running sum.\n",
    "\n",
    "Space complexity: O(1)"
   ]
  },
  {
   "cell_type": "code",
   "execution_count": 20,
   "metadata": {},
   "outputs": [],
   "source": [
    "def kadanesAlgorithm(array):\n",
    "    # Write your code here.\n",
    "\trunning_sum = array[0]\n",
    "\tmax_sum = running_sum\n",
    "\tfor i in range(1, len(array)):\n",
    "\t\tif running_sum+array[i]<0:\n",
    "\t\t\trunning_sum = array[i]\n",
    "\t\telse:\n",
    "\t\t\trunning_sum+=array[i]\n",
    "\t\tif running_sum>max_sum:\n",
    "\t\t\tmax_sum = running_sum\n",
    "\treturn max_sum\n",
    "\t\t\n",
    "\t\t\n"
   ]
  },
  {
   "cell_type": "markdown",
   "metadata": {},
   "source": [
    "### 13. Single Cycle Check\n",
    "\n",
    "Check if jumps create a single cycle. Eg: [2,3,1,-4,-4,2] is a single cycle but [1, -1, 1, -1] has 2 cycles."
   ]
  },
  {
   "cell_type": "markdown",
   "metadata": {},
   "source": [
    "We need to account for 3 main things:\n",
    "1. If we visit our starting number more than once without having looked at all the numbers in the array, its clearly more than one cycle\n",
    "2. If we come back to the same number (and index) from which we started then its a single cycle\n",
    "3. Need to handle edge cases for cyclic behaviour in negative and positive numbers using mod\n",
    "\n",
    "Time complexity: O(n)\n",
    "\n",
    "Space complexity: O(1)"
   ]
  },
  {
   "cell_type": "code",
   "execution_count": 50,
   "metadata": {},
   "outputs": [],
   "source": [
    "def hasSingleCycle(array):\n",
    "\tvisited = 0\n",
    "\tcurrent_index = 0\n",
    "\t\n",
    "\twhile visited<len(array):\n",
    "\t\tif visited>0 and current_index==0:\n",
    "\t\t\tprint(\"curr\",current_index)\n",
    "\t\t\treturn False\n",
    "\t\tvisited+=1\n",
    "\t\tcurrent_index = get_next(current_index, array)\n",
    "\t\tprint(current_index)\n",
    "# \t\tif current_index>1:\n",
    "# \t\t\tbreak\n",
    "\tprint(\"curr\",current_index)\n",
    "\treturn current_index==0\n",
    "\n",
    "def get_next(current_index, array):\n",
    "\tjump = array[current_index]\n",
    "\tindex = (current_index+jump)%len(array)\n",
    "\treturn index if index>=0 else index+len(array)\n"
   ]
  },
  {
   "cell_type": "markdown",
   "metadata": {},
   "source": [
    "### 14. BFS"
   ]
  },
  {
   "cell_type": "markdown",
   "metadata": {},
   "source": [
    "We use a queue to add child nodes\n",
    "\n",
    "Time complexity: O(V+E) because we visit V nodes and we loop over E nodes added to the queue\n",
    "\n",
    "Space complexity: O(V) nodes in the queue where all kids belong to root node"
   ]
  },
  {
   "cell_type": "code",
   "execution_count": 1,
   "metadata": {},
   "outputs": [],
   "source": [
    "# Do not edit the class below except\n",
    "# for the breadthFirstSearch method.\n",
    "# Feel free to add new properties\n",
    "# and methods to the class.\n",
    "class Node:\n",
    "    def __init__(self, name):\n",
    "        self.children = []\n",
    "        self.name = name\n",
    "\n",
    "    def addChild(self, name):\n",
    "        self.children.append(Node(name))\n",
    "        return self\n",
    "\n",
    "    def breadthFirstSearch(self, array):\n",
    "        q = []\n",
    "        q.append(self)\n",
    "        while q:\n",
    "            current_node = q.pop(0)\n",
    "            for child in current_node.children:\n",
    "                q.append(child)\n",
    "            array.append(current_node.name)\n",
    "        return array\n",
    "\t\t\t\n"
   ]
  },
  {
   "cell_type": "markdown",
   "metadata": {},
   "source": [
    "### [15. River Sizes](https://www.youtube.com/watch?v=b0AgeE6alds)"
   ]
  },
  {
   "cell_type": "markdown",
   "metadata": {},
   "source": [
    "Approach is to perform DFS when we see a 'river' node and keep track of nodes we have already visited"
   ]
  },
  {
   "cell_type": "code",
   "execution_count": 10,
   "metadata": {},
   "outputs": [],
   "source": [
    "def riverSizes(matrix):\n",
    "\tvisited = [[False for i in row] for row in matrix]\n",
    "\treturn_array = []\n",
    "\tfor i in range(len(matrix)):\n",
    "\t\tfor j in range(len(matrix[0])):\n",
    "\t\t\tif not visited[i][j]:\n",
    "\t\t\t\triver_size = dfs(i, j, matrix, visited)\n",
    "\t\t\t\tif river_size>0:\n",
    "\t\t\t\t\treturn_array.append(river_size)\n",
    "\treturn return_array\n",
    "\n",
    "def dfs(i, j, matrix, visited):\n",
    "\triver_size = 0\n",
    "\tstack = [[i, j]]\n",
    "\twhile stack:\n",
    "\t\tcurrent_node = stack.pop()\n",
    "\t\tx,y = current_node[0], current_node[1]\n",
    "\t\tif matrix[x][y]==0:\n",
    "\t\t\tcontinue\n",
    "\t\tif visited[x][y]:\n",
    "\t\t\tcontinue\n",
    "\t\tvisited[x][y] = True\n",
    "\t\triver_size+=1\n",
    "\t\n",
    "\t\tfor neighbour in get_neighbours(x, y, matrix, visited):\n",
    "\t\t\tstack.append(neighbour)\n",
    "\n",
    "\treturn river_size\n",
    "\n",
    "def get_neighbours(i, j, matrix, visited):\n",
    "\tneighbours = []\n",
    "\t#up\n",
    "\tif i-1>=0 and not visited[i-1][j]:\n",
    "\t\tneighbours.append([i-1,j])\n",
    "\t#down\n",
    "\tif i+1<len(matrix) and not visited[i+1][j]:\n",
    "\t\tneighbours.append([i+1, j])\n",
    "\t#left\n",
    "\tif j-1>=0 and not visited[i][j-1]:\n",
    "\t\tneighbours.append([i, j-1])\n",
    "\t#right\n",
    "\tif j+1<len(matrix[0]) and not visited[i][j+1]:\n",
    "\t\tneighbours.append([i,j+1])\n",
    "\treturn neighbours"
   ]
  },
  {
   "cell_type": "markdown",
   "metadata": {},
   "source": [
    "### 16. Youngest ancestor\n",
    "\n",
    "Given 3 nodes, root node, 1st and 2nd nodes, find the youngest common ancestor of both nodes"
   ]
  },
  {
   "cell_type": "markdown",
   "metadata": {},
   "source": [
    "One approach is to record all ancestors in reverse of one of the nodes. For every ancestor (youngest to oldest) of the 2nd node check if the ancestor is in list of 1st node's ancestors.\n",
    "\n",
    "Two critical edge cases are:\n",
    "1. When both nodes are the same node \n",
    "2. When one node is the ancestor of the other\n",
    "\n",
    "Time complexity: O(d2) depth of the second node\n",
    "\n",
    "Space complexity: O(d1) depth of first node"
   ]
  },
  {
   "cell_type": "code",
   "execution_count": 11,
   "metadata": {},
   "outputs": [],
   "source": [
    "# This is an input class. Do not edit.\n",
    "class AncestralTree:\n",
    "    def __init__(self, name):\n",
    "        self.name = name\n",
    "        self.ancestor = None\n",
    "\n",
    "\n",
    "def getYoungestCommonAncestor(topAncestor, descendantOne, descendantTwo):\n",
    "    # Write your code here.\n",
    "\ttwos_ancestors = {descendantTwo:True, topAncestor:True}\n",
    "\tancestor_of_two = descendantTwo.ancestor\n",
    "\twhile ancestor_of_two!=topAncestor:\n",
    "\t\ttwos_ancestors[ancestor_of_two] = True\n",
    "\t\tancestor_of_two = ancestor_of_two.ancestor\n",
    "\n",
    "\tancestor_of_one = descendantOne\n",
    "\twhile ancestor_of_one:\n",
    "\t\tif ancestor_of_one in twos_ancestors:\n",
    "\t\t\treturn ancestor_of_one\n",
    "\t\telse:\n",
    "\t\t\tancestor_of_one = ancestor_of_one.ancestor"
   ]
  },
  {
   "cell_type": "markdown",
   "metadata": {},
   "source": [
    "Another approach is to calculate the depth of the two nodes, equalize the depths and then traverse upwards till they end up at the same ancestral node.\n",
    "\n",
    "Time complexity: O(d)\n",
    "\n",
    "Space complexity: O(1)"
   ]
  },
  {
   "cell_type": "code",
   "execution_count": 12,
   "metadata": {},
   "outputs": [],
   "source": [
    "# This is an input class. Do not edit.\n",
    "class AncestralTree:\n",
    "    def __init__(self, name):\n",
    "        self.name = name\n",
    "        self.ancestor = None\n",
    "\n",
    "\n",
    "def getYoungestCommonAncestor(topAncestor, descendantOne, descendantTwo):\n",
    "    # Write your code here.\n",
    "\tdepth_of_n1 = get_depth(descendantOne)\n",
    "\tdepth_of_n2 = get_depth(descendantTwo)\n",
    "\t\n",
    "\tdifference = depth_of_n1-depth_of_n2\n",
    "\tif difference>=0:\n",
    "\t\treturn get_common_ancestor(descendantOne, descendantTwo, abs(difference))\n",
    "\telse:\n",
    "\t\treturn get_common_ancestor(descendantTwo, descendantOne, abs(difference))\n",
    "\n",
    "def get_depth(node):\n",
    "\tdepth = 0\n",
    "\tancestor = node.ancestor\n",
    "\twhile ancestor:\n",
    "\t\tdepth+=1\n",
    "\t\tancestor = ancestor.ancestor\n",
    "\treturn depth\n",
    "\n",
    "def get_common_ancestor(lower_node, higher_node, diff):\n",
    "\twhile diff>0:\n",
    "\t\tlower_node = lower_node.ancestor\n",
    "\t\tdiff-=1\n",
    "\t\n",
    "\tancestor1 = lower_node\n",
    "\tancestor2 = higher_node\n",
    "\twhile ancestor1!=ancestor2 and ancestor1 and ancestor2:\n",
    "\t\tancestor1 = ancestor1.ancestor\n",
    "\t\tancestor2 = ancestor2.ancestor\n",
    "\treturn ancestor1\n"
   ]
  },
  {
   "cell_type": "markdown",
   "metadata": {},
   "source": [
    "### 17. Min Heap"
   ]
  },
  {
   "cell_type": "code",
   "execution_count": 17,
   "metadata": {},
   "outputs": [],
   "source": [
    "# Do not edit the class below except for the buildHeap,\n",
    "# siftDown, siftUp, peek, remove, and insert methods.\n",
    "# Feel free to add new properties and methods to the class.\n",
    "class MinHeap:\n",
    "    def __init__(self, array):\n",
    "        # Do not edit the line below.\n",
    "        self.heap = self.buildHeap(array)\n",
    "#     O(n) time | O(1) space ....you might think its O(nlogn) but there is a math reason for O(n)\n",
    "    def buildHeap(self, array):\n",
    "        # Write your code here.\n",
    "        first_parent_index = (len(array)-2)//2\n",
    "        for current_index in reversed(range(first_parent_index+1)):\n",
    "            self.siftDown(current_index, len(array)-1, array)\n",
    "        return array\n",
    "    \n",
    "#     O(logn) time | O(1) space every time we sift downwards, we elimitate half the tree\n",
    "    def siftDown(self, current_index, end_index, heap):\n",
    "        child1_index = 2*current_index+1\n",
    "        while child1_index<=end_index:\n",
    "            child2_index = current_index*2+2 if current_index*2+2<=end_index else -1\n",
    "            if child2_index!=-1 and heap[child2_index]<heap[child1_index]:\n",
    "                index_to_swap = child2_index\n",
    "            else:\n",
    "                index_to_swap = child1_index\n",
    "            if heap[index_to_swap]<heap[current_index]:\n",
    "                self.swap(current_index, index_to_swap, heap)\n",
    "                current_index = index_to_swap\n",
    "                child1_index = 2*current_index+1\n",
    "            else:\n",
    "                break\n",
    "\n",
    "#     O(logn) time | O(1) space every time we sift upwards, we elimitate half the tree\n",
    "    def siftUp(self, current_index, heap):\n",
    "        # Write your code here.\n",
    "        parent_index = (current_index-1)//2\n",
    "        while current_index>0 and heap[current_index]<heap[parent_index]:\n",
    "            self.swap(current_index, parent_index, heap)\n",
    "            current_index = parent_index\n",
    "            parent_index = (current_index-1)//2\n",
    "#     O(1) time | O(1) \n",
    "    def peek(self):\n",
    "        # Write your code here.\n",
    "        return self.heap[0]\n",
    "#     O(logn) time | O(1) space every time we sift downwards, we elimitate half the tree\n",
    "    def remove(self):\n",
    "        # Write your code here.\n",
    "        self.swap(0, len(self.heap)-1, self.heap)\n",
    "        value_to_remove = self.heap.pop()\n",
    "        self.siftDown(0, len(self.heap)-1, self.heap)\n",
    "        return value_to_remove\n",
    "#     O(logn) time | O(1) space every time we sift upwards, we elimitate half the tree\n",
    "    def insert(self, value):\n",
    "        self.heap.append(value)\n",
    "        self.siftUp(len(self.heap)-1, self.heap)\n",
    "\n",
    "#     O(1) time | O(1) space every time we sift upwards, we elimitate half the tree\n",
    "    def swap(self, i, j, heap):\n",
    "        heap[i], heap[j] = heap[j], heap[i]\n"
   ]
  },
  {
   "cell_type": "markdown",
   "metadata": {},
   "source": [
    "### 18. Remove Kth Node from End\n",
    "\n"
   ]
  },
  {
   "cell_type": "markdown",
   "metadata": {},
   "source": [
    "### 18. Permutations"
   ]
  },
  {
   "cell_type": "markdown",
   "metadata": {},
   "source": [
    "### 19. Powerset"
   ]
  },
  {
   "cell_type": "markdown",
   "metadata": {},
   "source": [
    "### 20. Search in Sorted Matrix"
   ]
  },
  {
   "cell_type": "markdown",
   "metadata": {},
   "source": [
    "### 21. Min Max Stack Construction"
   ]
  },
  {
   "cell_type": "markdown",
   "metadata": {},
   "source": [
    "### 22. Balanced Brackets"
   ]
  },
  {
   "cell_type": "markdown",
   "metadata": {},
   "source": [
    "### 23."
   ]
  }
 ],
 "metadata": {
  "kernelspec": {
   "display_name": "Python 3",
   "language": "python",
   "name": "python3"
  },
  "language_info": {
   "codemirror_mode": {
    "name": "ipython",
    "version": 3
   },
   "file_extension": ".py",
   "mimetype": "text/x-python",
   "name": "python",
   "nbconvert_exporter": "python",
   "pygments_lexer": "ipython3",
   "version": "3.6.5"
  }
 },
 "nbformat": 4,
 "nbformat_minor": 2
}
