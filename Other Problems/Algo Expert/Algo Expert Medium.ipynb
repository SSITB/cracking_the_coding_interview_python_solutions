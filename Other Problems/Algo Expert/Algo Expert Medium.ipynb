{
 "cells": [
  {
   "cell_type": "markdown",
   "metadata": {},
   "source": [
    "### 1. Three Number Sum\n",
    "\n",
    "Return the triplets that sum up to the target value"
   ]
  },
  {
   "cell_type": "markdown",
   "metadata": {},
   "source": [
    "Run 3 for loops and find target sum. Sort the numbers in the list to be appended, sort the lists.\n",
    "\n",
    "Time complexity: O(n^3)\n",
    "\n",
    "Space complexity: O(n)"
   ]
  },
  {
   "cell_type": "code",
   "execution_count": 2,
   "metadata": {},
   "outputs": [],
   "source": [
    "def threeNumberSum(array, targetSum):\n",
    "\toutput = []\n",
    "\tfor i in range(len(array)):\n",
    "\t\tfor j in range(i+1, len(array)):\n",
    "\t\t\tfor k in range(j+1, len(array)):\n",
    "\t\t\t\tif array[i]+array[j]+array[k]==targetSum:\n",
    "\t\t\t\t\toutput.append(sorted([array[i],array[j],array[k]]))\n",
    "\treturn sorted(output)"
   ]
  },
  {
   "cell_type": "markdown",
   "metadata": {},
   "source": [
    "A cool approach to use is the same as the two pointer approach as in 2sum problem, but this time we run a for loop on the array and add 3 numbers. So its as though we are using 3 pointers.\n",
    "\n",
    "Time complexity: O(n^2)\n",
    "\n",
    "Space complexity: O(1)"
   ]
  },
  {
   "cell_type": "code",
   "execution_count": 3,
   "metadata": {},
   "outputs": [],
   "source": [
    "def threeNumberSum(array, targetSum):\n",
    "\tresults = []\n",
    "\tarray.sort()\n",
    "\tfor i in range(len(array)-1):\n",
    "\t\tleft_pointer = i+1\n",
    "\t\tright_pointer = len(array)-1\n",
    "\t\t\n",
    "\t\twhile left_pointer<right_pointer:\n",
    "\t\t\tsum_ = array[left_pointer]+array[right_pointer]+array[i]\n",
    "\t\t\tif sum_==targetSum:\n",
    "\t\t\t\tresults.append([array[i], array[left_pointer], array[right_pointer]])\n",
    "\t\t\t\tleft_pointer+=1\n",
    "\t\t\t\tright_pointer-=1\n",
    "\t\t\telif sum_<targetSum:\n",
    "\t\t\t\tleft_pointer+=1\n",
    "\t\t\telif sum_>targetSum:\n",
    "\t\t\t\tright_pointer-=1\n",
    "\tresults.sort()\n",
    "\treturn results\n"
   ]
  },
  {
   "cell_type": "code",
   "execution_count": null,
   "metadata": {},
   "outputs": [],
   "source": []
  }
 ],
 "metadata": {
  "kernelspec": {
   "display_name": "Python 3",
   "language": "python",
   "name": "python3"
  },
  "language_info": {
   "codemirror_mode": {
    "name": "ipython",
    "version": 3
   },
   "file_extension": ".py",
   "mimetype": "text/x-python",
   "name": "python",
   "nbconvert_exporter": "python",
   "pygments_lexer": "ipython3",
   "version": "3.6.5"
  }
 },
 "nbformat": 4,
 "nbformat_minor": 2
}
