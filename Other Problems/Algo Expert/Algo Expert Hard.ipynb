{
 "cells": [
  {
   "cell_type": "markdown",
   "metadata": {},
   "source": [
    "### 1. 4 Sum"
   ]
  },
  {
   "cell_type": "markdown",
   "metadata": {},
   "source": [
    "A really naive solution is to run 4 for loops\n",
    "\n",
    "Time complexity: O(n^4)\n",
    "\n",
    "Space complexity: O(n)"
   ]
  },
  {
   "cell_type": "code",
   "execution_count": 1,
   "metadata": {},
   "outputs": [],
   "source": [
    "def fourNumberSum(array, targetSum):\n",
    "    quads = []\n",
    "    for i in range(len(array)):\n",
    "        for j in range(i+1, len(array)):\n",
    "            for k in range(j+1, len(array)):\n",
    "                for l in range(k+1, len(array)):\n",
    "                    if array[i]+array[j]+array[k]+array[l]==targetSum:\n",
    "                        quads.append([array[i],array[j],array[k],array[l]])\n",
    "\n",
    "    return quads"
   ]
  },
  {
   "cell_type": "markdown",
   "metadata": {},
   "source": [
    "Another approach is to represent quadruplet as pair of numbers represented by their sum. We have to make sure not to double count. For every element at i, we make a j pass from i+1 till end of array. For this pair of numbers at i and j, we check if in the dictionary we have a key that is equal to difference between target and sum of pairs. After this we make another pass from 0 to i-1 where we add this to the dictionary {sum: [pair_that_adds_up_to_sum], ...}\n",
    "\n",
    "Time complexity: O(n^2) because two for loops\n",
    "\n",
    "Space complexity: O(n^3) worst case scnario where array looks like [1, -1, 2, -2, 3, -3, -4, 4]. In that case we will store this in our dictionary.\n",
    "\n"
   ]
  },
  {
   "cell_type": "code",
   "execution_count": 2,
   "metadata": {},
   "outputs": [],
   "source": [
    "def fourNumberSum(array, targetSum):\n",
    "    returnable = []\n",
    "    sum_pairs = {}\n",
    "    for i in range(len(array)):\n",
    "        for j in range(i+1, len(array)):\n",
    "            sum_ = array[i]+array[j]\n",
    "            diff = targetSum-sum_\n",
    "            if diff in sum_pairs:\n",
    "                for quad in sum_pairs[diff]:\n",
    "                    returnable.append(quad+[array[i], array[j]])\n",
    "        for j in range(0, i):\n",
    "            sum_ = array[i]+array[j]\n",
    "            if sum_ in sum_pairs:\n",
    "                sum_pairs[sum_].append([array[i], array[j]])\n",
    "            else:\n",
    "                sum_pairs[sum_] = [[array[i], array[j]]]\n",
    "    return returnable"
   ]
  },
  {
   "cell_type": "markdown",
   "metadata": {},
   "source": [
    "### 2. Subarray Sort\n",
    "\n",
    "Find the subarray in an array, which, if sorted, will make the whole array sorted. Return indices of the array which represent the subarray that needs to be sorted."
   ]
  },
  {
   "cell_type": "markdown",
   "metadata": {},
   "source": [
    "One naive solution is to sort the array and compare the sorted array against the unsorted array and see at which indices do the two arrays differ.\n",
    "\n",
    "Time complexity; O(nlogn) Time taken to sort\n",
    "\n",
    "Space complexity: O(n) Storage for sorted version of the array"
   ]
  },
  {
   "cell_type": "code",
   "execution_count": 3,
   "metadata": {},
   "outputs": [],
   "source": [
    "def subarraySort(array):\n",
    "    sorted_array = sorted(array)\n",
    "    start, end = None, None\n",
    "    for i in range(len(array)):\n",
    "        if array[i]!=sorted_array[i]:\n",
    "            start = i\n",
    "            break\n",
    "        \n",
    "    for i in range(len(array)-1, -1, -1):\n",
    "        if array[i]!=sorted_array[i]:\n",
    "            end = i\n",
    "            break\n",
    "    if start==None and end==None:\n",
    "        return [-1, -1]\n",
    "    else:\n",
    "        return [start, end]"
   ]
  },
  {
   "cell_type": "markdown",
   "metadata": {},
   "source": [
    "The second approach is to first identify elements that are unsorted. After that, find the smallest and the largest values in this unsorted array. Check at which position do the smallest and largest values belong in the array. Those are the two indices from which the array needs to be sorted.\n",
    "\n",
    "Time complexity: O(n)\n",
    "\n",
    "Space complexity: O(1)"
   ]
  },
  {
   "cell_type": "code",
   "execution_count": null,
   "metadata": {},
   "outputs": [],
   "source": [
    "def subarraySort(array):\n",
    "    min_out_of_order = float(\"inf\")\n",
    "    max_out_of_order = float(\"-inf\")\n",
    "    \n",
    "    for i in range(len(array)):\n",
    "        num = array[i]\n",
    "        if outoforder(num, array, i):\n",
    "            min_out_of_order = min(num, min_out_of_order)\n",
    "            max_out_of_order = max(num, max_out_of_order)\n",
    "    \n",
    "    if min_out_of_order==float(\"inf\"):\n",
    "        return [-1, -1]\n",
    "    #find position of smallest num\n",
    "    smallest_position = 0\n",
    "    while min_out_of_order>=array[smallest_position]:\n",
    "        smallest_position+=1\n",
    "    \n",
    "    biggest_position = len(array)-1\n",
    "    while max_out_of_order<=array[biggest_position]:\n",
    "        biggest_position-=1\n",
    "    # print(min_out_of_order, max_out_of_order)\n",
    "    return [smallest_position, biggest_position]\n",
    "\n",
    "def outoforder(num, array, i):\n",
    "    if i==0:\n",
    "        return num>array[i+1]\n",
    "    if i==len(array)-1:\n",
    "        return num<array[i-1]\n",
    "    return num>array[i+1] or num<array[i-1]\n",
    "    "
   ]
  },
  {
   "cell_type": "markdown",
   "metadata": {},
   "source": [
    "### 3. Largest Range\n",
    "\n",
    "Looking for the longest 'chain' of numbers in an array that are consecutive. Then we return the starting end ending numbers of this chain."
   ]
  },
  {
   "cell_type": "markdown",
   "metadata": {},
   "source": [
    "One possible solution is to sort the array and look for consecutive integers. \n",
    "\n",
    "AN annoying edge case is that when numbers are repeated in the array and we can't just linearly check for arr[i]-arr[i-1]\n",
    "\n",
    "Time complexity: O(nlogn) for sorting\n",
    "\n",
    "Space complexity: O(1)"
   ]
  },
  {
   "cell_type": "code",
   "execution_count": 25,
   "metadata": {},
   "outputs": [],
   "source": [
    "def largestRange(array):\n",
    "    array.sort()\n",
    "    max_start = array[0]\n",
    "    max_end = array[0]\n",
    "    current_start = array[0]\n",
    "    for i in range(1, len(array)):\n",
    "        if not array[i]-array[i-1]<=1:\n",
    "            current_start = array[i]\n",
    "        else:\n",
    "            current_end = array[i]\n",
    "            max_diff = max_end-max_start\n",
    "            current_diff = current_end-current_start\n",
    "            if current_diff>max_diff:\n",
    "                max_start, max_end = current_start, current_end\n",
    "#         print(max_start, max_end)\n",
    "    return [max_start, max_end]\n",
    "    "
   ]
  },
  {
   "cell_type": "markdown",
   "metadata": {},
   "source": [
    "Another approach is to use a dictionary to store all the values to perform lookups. That way instead of sorting, we can perform lookups for next consecutive value. One thing we need to account for is double counting. So, we have to make sure whichever number we have counted in one range, does not get counted again. Otherwise it will become an O(n^2) computation. \n",
    "\n",
    "Time complexity: O(n)\n",
    "\n",
    "Space complexity: O(n)"
   ]
  },
  {
   "cell_type": "code",
   "execution_count": 26,
   "metadata": {},
   "outputs": [],
   "source": [
    "def largestRange(array):\n",
    "    largest_range = []\n",
    "    longest_length = 0\n",
    "    nums = {}\n",
    "    \n",
    "    for num in array:\n",
    "        nums[num] = True\n",
    "    \n",
    "    for i in range(len(array)):\n",
    "        num = array[i]\n",
    "        while nums[num]:\n",
    "            nums[num] = False\n",
    "            left = num-1\n",
    "            right = num+1\n",
    "            while left in nums:\n",
    "                nums[left] = False\n",
    "                left-=1\n",
    "            while right in nums:\n",
    "                nums[right] = False\n",
    "                right+=1\n",
    "            if right-left>longest_length:\n",
    "                largest_range = [left+1, right-1]\n",
    "                longest_length = right-left\n",
    "    return largest_range\n"
   ]
  },
  {
   "cell_type": "markdown",
   "metadata": {},
   "source": [
    "### 4. Min Rewards\n",
    "\n",
    "Given a list [8, 4, 2, 1, 3, 6, 7, 9, 5] you must reward each of them atleast 1 point. Any element must have more points than its neighbours if it is greater than its neighbours otherwise lower."
   ]
  },
  {
   "cell_type": "markdown",
   "metadata": {},
   "source": [
    "A naive solution is:\n",
    "1. Iterate through array\n",
    "2. If you see a number smaller at i than at i-1, give it a value 1 and iterate backwards to correct all the previous values accordingly\n",
    "3. The correction should be max(current_value, new_value because of i-1 being smaller)\n",
    "4. If you see a bigger number than the previous, take previous + 1\n",
    "\n",
    "Time complexity: O(n^2) because at every element we are going back by n items\n",
    "\n",
    "Space complexity: O(n) to store the rewards"
   ]
  },
  {
   "cell_type": "code",
   "execution_count": 9,
   "metadata": {},
   "outputs": [],
   "source": [
    "def minRewards(scores):\n",
    "    rewards = [1]*len(scores)\n",
    "    for i in range(1, len(scores)):\n",
    "        if scores[i]<scores[i-1]:\n",
    "            rewards[i] = 1\n",
    "            correct(i, scores, rewards)\n",
    "        elif scores[i]>scores[i-1]:\n",
    "            rewards[i] = rewards[i-1]+1\n",
    "    return sum(rewards)\n",
    "\n",
    "def correct(i, scores, rewards):\n",
    "    j = i-1\n",
    "    while j>=0 and scores[j]>scores[j+1]:\n",
    "        rewards[j] = max(rewards[j+1]+1, rewards[j])\n",
    "        j-=1"
   ]
  },
  {
   "cell_type": "markdown",
   "metadata": {},
   "source": [
    "The smartest solution is to traverse forward once and compare to previous element and then traverse backwards and compare to 'previous' element."
   ]
  },
  {
   "cell_type": "code",
   "execution_count": 10,
   "metadata": {},
   "outputs": [],
   "source": [
    "def minRewards(scores):\n",
    "    rewards = [1]*len(scores)\n",
    "    #forward pass\n",
    "    for i in range(1, len(scores)):\n",
    "        if scores[i]<scores[i-1]:\n",
    "            rewards[i] = 1\n",
    "        else:\n",
    "            rewards[i] = rewards[i-1]+1\n",
    "    \n",
    "    for i in range(len(scores)-2, -1, -1):\n",
    "        if scores[i]>scores[i+1]:\n",
    "            rewards[i] = max(rewards[i+1]+1, rewards[i])\n",
    "    return sum(rewards)\n",
    "        "
   ]
  },
  {
   "cell_type": "markdown",
   "metadata": {},
   "source": [
    "### 5. Zigzag Traverse\n",
    "```\n",
    "Input: \n",
    "1 2 3\n",
    "4 5 6\n",
    "7 8 9\n",
    "Output: \n",
    "1 4 2 3 5 7 8 6 9\n",
    "```"
   ]
  },
  {
   "cell_type": "markdown",
   "metadata": {},
   "source": [
    "A good approach is to realize that in most cases we are either moving diagonally down or diagonally up. In other cases we are at the perimeter of the matrix, in which case we need to change direction.\n",
    "\n",
    "Time comeplexity: O(n\\*n) for traversing the whole matrix\n",
    "\n",
    "Space complexity: O(n) for storing the result"
   ]
  },
  {
   "cell_type": "code",
   "execution_count": null,
   "metadata": {},
   "outputs": [],
   "source": [
    "def zigzagTraverse(array):\n",
    "    result = []\n",
    "    row, col = 0,0\n",
    "    go_down = True\n",
    "    while within_bounds(row, col, array):\n",
    "        result.append(array[row][col])\n",
    "        if go_down:\n",
    "            if col==0 or row==len(array)-1:\n",
    "                go_down = False\n",
    "                if row==len(array)-1:\n",
    "                    col+=1\n",
    "                else:\n",
    "                    row+=1\n",
    "            else:\n",
    "                row+=1\n",
    "                col-=1\n",
    "        else:\n",
    "            if row==0 or col==len(array[0])-1:\n",
    "                go_down = True\n",
    "                if col==len(array[0])-1:\n",
    "                    row+=1\n",
    "                else:\n",
    "                    col+=1\n",
    "            else:\n",
    "                row-=1\n",
    "                col+=1\n",
    "    return result\n",
    "\n",
    "def within_bounds(row, col, array):\n",
    "    return row<len(array) and col<len(array[0]) and row>=0 and col>=0"
   ]
  }
 ],
 "metadata": {
  "kernelspec": {
   "display_name": "Python 3",
   "language": "python",
   "name": "python3"
  },
  "language_info": {
   "codemirror_mode": {
    "name": "ipython",
    "version": 3
   },
   "file_extension": ".py",
   "mimetype": "text/x-python",
   "name": "python",
   "nbconvert_exporter": "python",
   "pygments_lexer": "ipython3",
   "version": "3.6.5"
  }
 },
 "nbformat": 4,
 "nbformat_minor": 2
}
