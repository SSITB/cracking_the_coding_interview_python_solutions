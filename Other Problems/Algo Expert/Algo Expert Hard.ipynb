{
 "cells": [
  {
   "cell_type": "markdown",
   "metadata": {},
   "source": [
    "### 1. 4 Sum"
   ]
  },
  {
   "cell_type": "markdown",
   "metadata": {},
   "source": [
    "A really naive solution is to run 4 for loops\n",
    "\n",
    "Time complexity: O(n^4)\n",
    "\n",
    "Space complexity: O(n)"
   ]
  },
  {
   "cell_type": "code",
   "execution_count": 1,
   "metadata": {},
   "outputs": [],
   "source": [
    "def fourNumberSum(array, targetSum):\n",
    "    quads = []\n",
    "    for i in range(len(array)):\n",
    "        for j in range(i+1, len(array)):\n",
    "            for k in range(j+1, len(array)):\n",
    "                for l in range(k+1, len(array)):\n",
    "                    if array[i]+array[j]+array[k]+array[l]==targetSum:\n",
    "                        quads.append([array[i],array[j],array[k],array[l]])\n",
    "\n",
    "    return quads"
   ]
  },
  {
   "cell_type": "markdown",
   "metadata": {},
   "source": [
    "Another approach is to represent quadruplet as pair of numbers represented by their sum. We have to make sure not to double count. For every element at i, we make a j pass from i+1 till end of array. For this pair of numbers at i and j, we check if in the dictionary we have a key that is equal to difference between target and sum of pairs. After this we make another pass from 0 to i-1 where we add this to the dictionary {sum: [pair_that_adds_up_to_sum], ...}\n",
    "\n",
    "Time complexity: O(n^2) because two for loops\n",
    "\n",
    "Space complexity: O(n^3) worst case scnario where array looks like [1, -1, 2, -2, 3, -3, -4, 4]. In that case we will store this in our dictionary.\n",
    "\n"
   ]
  },
  {
   "cell_type": "code",
   "execution_count": 2,
   "metadata": {},
   "outputs": [],
   "source": [
    "def fourNumberSum(array, targetSum):\n",
    "    returnable = []\n",
    "    sum_pairs = {}\n",
    "    for i in range(len(array)):\n",
    "        for j in range(i+1, len(array)):\n",
    "            sum_ = array[i]+array[j]\n",
    "            diff = targetSum-sum_\n",
    "            if diff in sum_pairs:\n",
    "                for quad in sum_pairs[diff]:\n",
    "                    returnable.append(quad+[array[i], array[j]])\n",
    "        for j in range(0, i):\n",
    "            sum_ = array[i]+array[j]\n",
    "            if sum_ in sum_pairs:\n",
    "                sum_pairs[sum_].append([array[i], array[j]])\n",
    "            else:\n",
    "                sum_pairs[sum_] = [[array[i], array[j]]]\n",
    "    return returnable"
   ]
  },
  {
   "cell_type": "markdown",
   "metadata": {},
   "source": [
    "### 2. Subarray Sort\n",
    "\n",
    "Find the subarray in an array, which, if sorted, will make the whole array sorted. Return indices of the array which represent the subarray that needs to be sorted."
   ]
  },
  {
   "cell_type": "markdown",
   "metadata": {},
   "source": [
    "One naive solution is to sort the array and compare the sorted array against the unsorted array and see at which indices do the two arrays differ.\n",
    "\n",
    "Time complexity; O(nlogn) Time taken to sort\n",
    "\n",
    "Space complexity: O(n) Storage for sorted version of the array"
   ]
  },
  {
   "cell_type": "code",
   "execution_count": 3,
   "metadata": {},
   "outputs": [],
   "source": [
    "def subarraySort(array):\n",
    "    sorted_array = sorted(array)\n",
    "    start, end = None, None\n",
    "    for i in range(len(array)):\n",
    "        if array[i]!=sorted_array[i]:\n",
    "            start = i\n",
    "            break\n",
    "        \n",
    "    for i in range(len(array)-1, -1, -1):\n",
    "        if array[i]!=sorted_array[i]:\n",
    "            end = i\n",
    "            break\n",
    "    if start==None and end==None:\n",
    "        return [-1, -1]\n",
    "    else:\n",
    "        return [start, end]"
   ]
  },
  {
   "cell_type": "markdown",
   "metadata": {},
   "source": [
    "The second approach is to first identify elements that are unsorted. After that, find the smallest and the largest values in this unsorted array. Check at which position do the smallest and largest values belong in the array. Those are the two indices from which the array needs to be sorted.\n",
    "\n",
    "Time complexity: O(n)\n",
    "\n",
    "Space complexity: O(1)"
   ]
  },
  {
   "cell_type": "code",
   "execution_count": null,
   "metadata": {},
   "outputs": [],
   "source": [
    "def subarraySort(array):\n",
    "    unsorted_start, unsorted_end = id_unsorted_elements(array)\n",
    "    min_element, max_element = id_min_max(array, unsorted_start, unsorted_end)\n",
    "    "
   ]
  }
 ],
 "metadata": {
  "kernelspec": {
   "display_name": "Python 3",
   "language": "python",
   "name": "python3"
  },
  "language_info": {
   "codemirror_mode": {
    "name": "ipython",
    "version": 3
   },
   "file_extension": ".py",
   "mimetype": "text/x-python",
   "name": "python",
   "nbconvert_exporter": "python",
   "pygments_lexer": "ipython3",
   "version": "3.6.5"
  }
 },
 "nbformat": 4,
 "nbformat_minor": 2
}
