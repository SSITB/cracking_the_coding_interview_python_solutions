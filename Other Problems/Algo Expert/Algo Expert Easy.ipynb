{
 "cells": [
  {
   "cell_type": "markdown",
   "metadata": {},
   "source": [
    "### 1. Two Number Sum\n",
    "Find and return 2 nums that sum to a target value"
   ]
  },
  {
   "cell_type": "markdown",
   "metadata": {},
   "source": [
    "O(n^2) time, O(1) space\n",
    "\n",
    "We traverse the list once and at each element and we stop to traverse the rest of the list to see if there's a potential match\n"
   ]
  },
  {
   "cell_type": "code",
   "execution_count": 4,
   "metadata": {},
   "outputs": [],
   "source": [
    "def twoNumberSum(array, targetSum):\n",
    "    for i in range(len(array)):\n",
    "        first_num = array[i]\n",
    "        for j in range(i+1,len(array)):\n",
    "            second_num = array[j]\n",
    "            if first_num+second_num==targetSum:\n",
    "                return [first_num, second_num]\n",
    "    return []\n",
    "                \n",
    "            "
   ]
  },
  {
   "cell_type": "markdown",
   "metadata": {},
   "source": [
    "O(n) time-space solution\n",
    "\n",
    "We traverse the list once and during traversal put the values in a dictionary/hashtable to check if a match exists"
   ]
  },
  {
   "cell_type": "code",
   "execution_count": 7,
   "metadata": {},
   "outputs": [],
   "source": [
    "def twoNumberSum(array, targetSum):\n",
    "    hashtable = {}\n",
    "    for i in range(len(array)):\n",
    "        potential_match = target_sum-array[i]\n",
    "        if potential_match in hashtable:\n",
    "            return [potential_match, num]\n",
    "        else:\n",
    "            hashtable[array[i]] = True\n",
    "    return []\n",
    "                \n",
    "            "
   ]
  },
  {
   "cell_type": "markdown",
   "metadata": {},
   "source": [
    "O(nlogn) time, O(1) space\n",
    "\n",
    "We sort the list and then we use two pointers. One pointer at the left and another on the right. We sum up values at the two pointers. If the sum is smaller than our target, that means the left pointer needs to move up, else the right pointer needs to move to a smaller value to the left."
   ]
  },
  {
   "cell_type": "code",
   "execution_count": 8,
   "metadata": {},
   "outputs": [],
   "source": [
    "def twoNumberSum(array, targetSum):\n",
    "    array.sort()\n",
    "    left_pointer = 0\n",
    "    right_pointer = len(array)-1\n",
    "    \n",
    "    while left_pointer<right_pointer:\n",
    "        sum_ = array[left_pointer]+array[right_pointer]\n",
    "        if sum_==targetSum:\n",
    "            return [array[left_pointer], array[right_pointer]]\n",
    "        elif sum_<targetSum:\n",
    "            #element at left pointer is too small\n",
    "            left_pointer+=1\n",
    "        else:\n",
    "            right_pointer-=1\n",
    "    return []\n",
    "            "
   ]
  },
  {
   "cell_type": "markdown",
   "metadata": {},
   "source": [
    "### 2. Find closest value in BST"
   ]
  },
  {
   "cell_type": "markdown",
   "metadata": {},
   "source": [
    "Time complexity: O(log(n)) on average but O(n) in the worst case if the tree is just one continuous branch\n",
    "Space: O(1)\n",
    "\n",
    "Strategy is to perform search the way we would find a value in a BST. We keep track of the current value and difference. Whenever we find a new value that is closer, we update the closest_value variable and the minimum difference variable."
   ]
  },
  {
   "cell_type": "code",
   "execution_count": 14,
   "metadata": {},
   "outputs": [],
   "source": [
    "def findClosestValueInBst(tree, target):\n",
    "    # Write your code here.\n",
    "\tclosest_value = tree.value\n",
    "\tdiff = abs(closest_value-target)\n",
    "\tcurrent_node = tree\n",
    "\twhile current_node:\n",
    "\t\tcurrent_value = current_node.value\n",
    "\t\tcurrent_diff = abs(current_value-target)\n",
    "\t\tif current_diff<diff:\n",
    "\t\t\tdiff = current_diff\n",
    "\t\t\tclosest_value = current_value\n",
    "\t\tif current_node.value==target:\n",
    "\t\t\treturn current_node.value\n",
    "\t\telif current_node.value<target:\n",
    "\t\t\t#look on the right side of the \n",
    "\t\t\tcurrent_node = current_node.right\n",
    "\t\telse:\n",
    "\t\t\t#look on the left side\n",
    "\t\t\tcurrent_node = current_node.left\n",
    "\t\n",
    "\treturn closest_value\n"
   ]
  },
  {
   "cell_type": "markdown",
   "metadata": {},
   "source": [
    "### *3. Branch Sums\n",
    "Find the sums of each of the branches of a binary tree"
   ]
  },
  {
   "cell_type": "markdown",
   "metadata": {},
   "source": [
    "We will solve the problem by making function calls recursively and passing a running sum to each child node. Once we hit a leaf node, it means we have reached the end of a branch. So, we will append the sum to the list.\n",
    "\n",
    "Time complexity: O(n) because we are visiting n nodes\n",
    "\n",
    "Space complexity: O(n)....a bit complicated. It is affected by\n",
    "1. Number of recursive calls, which in the case of a one branch tree is O(n) and in the average case is O(log(n))\n",
    "2. How many sums are there = how many branches are there = how many leaf nodes are there. Roughly speaking, in a balanced tree, there will be O(n/2) leaf nodes ~ O(n) space complexity\n"
   ]
  },
  {
   "cell_type": "code",
   "execution_count": 9,
   "metadata": {},
   "outputs": [],
   "source": [
    "# This is the class of the input root. Do not edit it.\n",
    "class BinaryTree:\n",
    "    def __init__(self, value):\n",
    "        self.value = value\n",
    "        self.left = None\n",
    "        self.right = None\n",
    "\n",
    "def helper(root, sum_so_far, list_):\n",
    "\tif root==None:\n",
    "\t\treturn\n",
    "\t\n",
    "\tnew_sum = sum_so_far+root.value\n",
    "\t\n",
    "\tif root.left==None and root.right==None:\n",
    "\t\t#we are at a leaf node\n",
    "\t\tlist_.append(new_sum)\n",
    "\t\treturn\n",
    "\t\n",
    "\thelper(root.left, new_sum, list_)\n",
    "\thelper(root.right, new_sum, list_)\n",
    "\t\n",
    "def branchSums(root):\n",
    "    # Write your code here.\n",
    "\tlist_ = []\n",
    "\thelper(root, 0, list_)\n",
    "\treturn list_\n",
    "    \n"
   ]
  },
  {
   "cell_type": "markdown",
   "metadata": {},
   "source": [
    "### 4. DFS "
   ]
  },
  {
   "cell_type": "markdown",
   "metadata": {},
   "source": [
    "The strategy is to use a stack and append all child nodes to the stack and then pop them one by one and perform the necessary computation. In this case, we want to add the value of each node (name) to an array.\n",
    "\n",
    "\n",
    "Time complexity: O(V+E) #O(V) because we visit every vertext/node. O(E) because we iterate over the children. \n",
    "\n",
    "Space complexity: O(V) because in the worst case we store all the children in the stack"
   ]
  },
  {
   "cell_type": "code",
   "execution_count": 10,
   "metadata": {},
   "outputs": [],
   "source": [
    "# Do not edit the class below except\n",
    "# for the depthFirstSearch method.\n",
    "# Feel free to add new properties\n",
    "# and methods to the class.\n",
    "class Node:\n",
    "    def __init__(self, name):\n",
    "        self.children = []\n",
    "        self.name = name\n",
    "\n",
    "    def addChild(self, name):\n",
    "        self.children.append(Node(name))\n",
    "        return self\n",
    "\n",
    "    def depthFirstSearch(self, array):\n",
    "        # Write your code here.\n",
    "        stack = [self]\n",
    "        while stack:\n",
    "            current_node = stack.pop(-1)\n",
    "            if current_node==None:\n",
    "                continue\n",
    "            else:\n",
    "                for i in range(len(current_node.children)-1, -1, -1):\n",
    "                    child = current_node.children[i]\n",
    "                    stack.append(child)\n",
    "                array.append(current_node.name)\n",
    "        return array\n",
    "\n"
   ]
  },
  {
   "cell_type": "markdown",
   "metadata": {},
   "source": [
    "### 5. Linked List Construction"
   ]
  },
  {
   "cell_type": "code",
   "execution_count": 11,
   "metadata": {},
   "outputs": [],
   "source": [
    "# This is an input class. Do not edit.\n",
    "class Node:\n",
    "    def __init__(self, value):\n",
    "        self.value = value\n",
    "        self.prev = None\n",
    "        self.next = None\n",
    "\n",
    "\n",
    "# Feel free to add new properties and methods to the class.\n",
    "class DoublyLinkedList:\n",
    "    def __init__(self):\n",
    "        self.head = None\n",
    "        self.tail = None\n",
    "\n",
    "    def setHead(self, node):\n",
    "        # Write your code here.\n",
    "        if self.head==None:\n",
    "            self.head = node\n",
    "            self.tail = node\n",
    "        else:\n",
    "            self.insertBefore(self.head, node)\n",
    "\n",
    "    def setTail(self, node):\n",
    "        # Write your code here.\n",
    "        if self.tail==None:\n",
    "            #that means head is empty too\n",
    "            self.setHead(node)\n",
    "        else:\n",
    "            self.insertAfter(self.tail, node)\n",
    "\n",
    "    def insertBefore(self, node, nodeToInsert):\n",
    "        # Write your code here.\n",
    "        if nodeToInsert==self.head and nodeToInsert==self.tail:\n",
    "            return\n",
    "        self.remove(nodeToInsert)\n",
    "        \n",
    "        nodeToInsert.next = node\n",
    "        nodeToInsert.prev = node.prev\n",
    "        if node == self.head:\n",
    "            self.head = nodeToInsert\n",
    "        else:\n",
    "            node.prev.next = nodeToInsert\n",
    "        node.prev = nodeToInsert\n",
    "        \n",
    "\n",
    "    def insertAfter(self, node, nodeToInsert):\n",
    "        # Write your code here.\n",
    "        if nodeToInsert==self.head and nodeToInsert==self.tail:\n",
    "            return\n",
    "        self.remove(nodeToInsert)\n",
    "        \n",
    "        nodeToInsert.prev = node\n",
    "        nodeToInsert.next = node.next\n",
    "        if node.next==None:\n",
    "            self.tail = nodeToInsert\n",
    "        else:\n",
    "            node.next.prev = nodeToInsert\n",
    "        node.next = nodeToInsert\n",
    "                \n",
    "            \n",
    "\n",
    "    def insertAtPosition(self, position, nodeToInsert):\n",
    "        # Write your code here.\n",
    "        if position==1:\n",
    "            self.setHead(nodeToInsert)\n",
    "            return\n",
    "        current_node = self.head\n",
    "        current_position = 1\n",
    "        while current_node is not None and current_position!=position:\n",
    "            current_node = current_node.next\n",
    "            current_position+=1\n",
    "        \n",
    "        #Now, either we are at the tail because the while loop terminated\n",
    "        #or we are at current position \n",
    "        if current_node is not None:\n",
    "            self.insertBefore(current_node, nodeToInsert)\n",
    "        else:\n",
    "            self.setTail(nodeToInsert)\n",
    "            \n",
    "\n",
    "    def removeNodesWithValue(self, value):\n",
    "        # Write your code here.\n",
    "        current_node = self.head\n",
    "        while current_node is not None:\n",
    "            next_node = current_node.next\n",
    "            if current_node.value==value:\n",
    "                self.remove(current_node)\n",
    "            current_node = next_node\n",
    "\n",
    "    def remove(self, node):\n",
    "        # Write your code here.\n",
    "        if node==self.head:\n",
    "            self.head = self.head.next\n",
    "        if node==self.tail:\n",
    "            self.tail = self.tail.prev\n",
    "        self.removeNodeBindings(node)\n",
    "    \n",
    "    def removeNodeBindings(self, node):\n",
    "        #the order is very important\n",
    "        if node.prev is not None:\n",
    "            node.prev.next = node.next\n",
    "        if node.next is not None:\n",
    "            node.next.prev = node.prev\n",
    "        \n",
    "        node.prev = None\n",
    "        node.next = None\n",
    "\n",
    "    def containsNodeWithValue(self, value):\n",
    "        # Write your code here.\n",
    "        current_node = self.head\n",
    "        while current_node is not None and current_node.value!=value:\n",
    "            current_node = current_node.next\n",
    "        \n",
    "        return current_node is not None\n",
    "            \n"
   ]
  },
  {
   "cell_type": "markdown",
   "metadata": {},
   "source": [
    "### 6. Nth Fibonacci"
   ]
  },
  {
   "cell_type": "markdown",
   "metadata": {},
   "source": [
    "Recursive solution\n",
    "\n",
    "Time complexity:  O(2^n) because of the recursion tree (draw out and see)\n",
    "\n",
    "Space = O(n) because n function calls placed on the call stack"
   ]
  },
  {
   "cell_type": "code",
   "execution_count": 12,
   "metadata": {},
   "outputs": [],
   "source": [
    "def getNthFib(n):\n",
    "    if n==1:\n",
    "        return 0\n",
    "    elif n==2:\n",
    "        return 1\n",
    "    \n",
    "    return getNthFib(n-1)+getNthFib(n-2)\n",
    "        "
   ]
  },
  {
   "cell_type": "markdown",
   "metadata": {},
   "source": [
    "Memoization (DP Solution)\n",
    "\n",
    "Time complexity: O(n) because hashtable stores results \n",
    "\n",
    "Space complexity: O(n) because we have n function calls on the call stack and n answers stored in the memo"
   ]
  },
  {
   "cell_type": "code",
   "execution_count": 13,
   "metadata": {},
   "outputs": [],
   "source": [
    "memo = {}\n",
    "def helper(n):\n",
    "    try:\n",
    "        return memo[n]\n",
    "    except:\n",
    "        if n==1:\n",
    "            result = 0\n",
    "        elif n==2:\n",
    "            result = 1\n",
    "    \n",
    "        else:\n",
    "            result = getNthFib(n-1)+getNthFib(n-2)\n",
    "        memo[n] = result\n",
    "        return result\n",
    "        \n",
    "def getNthFib(n):\n",
    "    return helper(n)"
   ]
  },
  {
   "cell_type": "markdown",
   "metadata": {},
   "source": [
    "Iterative solution\n",
    "\n",
    "Time complexity: O(n)\n",
    "\n",
    "Space complexity: O(1)"
   ]
  },
  {
   "cell_type": "code",
   "execution_count": 14,
   "metadata": {},
   "outputs": [],
   "source": [
    "def getNthFib(n):\n",
    "    memo = [0, 1]\n",
    "    result = None\n",
    "    \n",
    "    if n==1:\n",
    "        return 0\n",
    "    elif n==2:\n",
    "        return 1\n",
    "    else:\n",
    "        for i in range(3, n+1):\n",
    "            result = memo[0]+memo[1]\n",
    "            memo[0] = memo[1]\n",
    "            memo[1] = result\n",
    "        return result\n",
    "    "
   ]
  },
  {
   "cell_type": "markdown",
   "metadata": {},
   "source": [
    "### *7. Product Sum\n",
    "\n",
    "[5, 2, [7, -1], 3, [6, [-13, 8], 4]]\n",
    "\n",
    "product sum = number*depth+...\n",
    "\n",
    "5+2+2*(7-1)+3+2*(6+3*(-13+8)+4)"
   ]
  },
  {
   "cell_type": "markdown",
   "metadata": {},
   "source": [
    "We will use a recursive approach to compute product sum of special arrays.\n",
    "\n",
    "Time compexity: O(n) where n is the TOTAL number of elements. For the example above it will be 12\n",
    "\n",
    "Space complexity: O(m) where m is the max depth of the input"
   ]
  },
  {
   "cell_type": "code",
   "execution_count": 16,
   "metadata": {},
   "outputs": [],
   "source": [
    "def productSum(array, multiplier=1):\n",
    "\t# Write your code here.\n",
    "\tsum_ = 0\n",
    "\t\n",
    "\tfor element in array:\n",
    "\t\tif type(element)==list:\n",
    "\t\t\tsum_+=productSum(element, multiplier+1)\n",
    "\t\telse:\n",
    "\t\t\tsum_+=element\n",
    "\treturn sum_*multiplier"
   ]
  },
  {
   "cell_type": "markdown",
   "metadata": {},
   "source": [
    "### 8. Binary Search"
   ]
  },
  {
   "cell_type": "markdown",
   "metadata": {},
   "source": [
    "Time complexity: O(logn)\n",
    "\n",
    "Space complexity: O(1)"
   ]
  },
  {
   "cell_type": "code",
   "execution_count": 20,
   "metadata": {},
   "outputs": [],
   "source": [
    "def binarySearch(array, target):\n",
    "\tstart = 0\n",
    "\tend = len(array)-1\n",
    "\twhile start<=end:\n",
    "\t\tmid = (start+end)//2\n",
    "\t\tif array[mid]==target:\n",
    "\t\t\treturn mid\n",
    "\t\telif target>array[mid]:\n",
    "\t\t\tstart = mid+1\n",
    "\t\telse:\n",
    "\t\t\tend = mid-1\n",
    "\treturn -1"
   ]
  },
  {
   "cell_type": "code",
   "execution_count": 22,
   "metadata": {},
   "outputs": [],
   "source": [
    "[1,3,2].sort()"
   ]
  },
  {
   "cell_type": "markdown",
   "metadata": {},
   "source": [
    "### 9. Find 3 largest numbers"
   ]
  },
  {
   "cell_type": "markdown",
   "metadata": {},
   "source": [
    "Sorting approach\n",
    "\n",
    "Time complexity: O(nlogn)\n",
    "\n",
    "Space complexity: O(n)"
   ]
  },
  {
   "cell_type": "code",
   "execution_count": 24,
   "metadata": {},
   "outputs": [],
   "source": [
    "def findThreeLargestNumbers(array):\n",
    "    array.sort()\n",
    "    return array[-3:]"
   ]
  },
  {
   "cell_type": "markdown",
   "metadata": {},
   "source": [
    "Iterative approach, keeping track of 3 largest\n",
    "\n",
    "Time complexity: O(n)\n",
    "\n",
    "Space complexity: O(1)"
   ]
  },
  {
   "cell_type": "code",
   "execution_count": 26,
   "metadata": {},
   "outputs": [],
   "source": [
    "def findThreeLargestNumbers(array):\n",
    "\tthree_largest = [None]*3\n",
    "\tfor element in array:\n",
    "\t\tupdate(three_largest, element)\n",
    "\treturn three_largest\n",
    "\n",
    "def update(three_largest, element):\n",
    "\tif three_largest[2]==None or three_largest[2]<element:\n",
    "\t\tshift_and_update(three_largest, element, 2)\n",
    "\telif three_largest[1]==None or three_largest[1]<element:\n",
    "\t\tshift_and_update(three_largest, element, 1)\n",
    "\telif three_largest[0]==None or three_largest[0]<element:\n",
    "\t\tshift_and_update(three_largest, element, 0)\n",
    "\telse:\n",
    "\t\treturn\n",
    "\n",
    "def shift_and_update(three_largest, element, index):\n",
    "\t\n",
    "\tfor i in range(index+1):\n",
    "\t\tif i==index:\n",
    "\t\t\tthree_largest[i] = element\n",
    "\t\telse:\n",
    "\t\t\tthree_largest[i] = three_largest[i+1]"
   ]
  },
  {
   "cell_type": "markdown",
   "metadata": {},
   "source": [
    "### 10. Bubble Sort"
   ]
  },
  {
   "cell_type": "markdown",
   "metadata": {},
   "source": [
    "We iterate through the array and compare neighbouring elements, we swap if they are not in order. We keep iterating and track if a swap has been performed. If a swap has not been performed that means the list is now sorted and can be returned.\n",
    "\n",
    "\n",
    "Time complexity: O(n^2)\n",
    "\n",
    "Space complexity: O(1)"
   ]
  },
  {
   "cell_type": "code",
   "execution_count": 28,
   "metadata": {},
   "outputs": [],
   "source": [
    "def bubbleSort(array):\n",
    "\tswaps_performed = True\n",
    "\twhile swaps_performed:\n",
    "\t\tswaps_performed = False\n",
    "\t\tfor i in range(len(array)-1):\n",
    "\t\t\tif array[i]>array[i+1]:\n",
    "\t\t\t\t#swap\n",
    "\t\t\t\ttemp = array[i]\n",
    "\t\t\t\tarray[i] = array[i+1]\n",
    "\t\t\t\tarray[i+1] = temp\n",
    "\t\t\t\tswaps_performed = True\n",
    "\t\n",
    "\treturn array\n",
    "\n"
   ]
  },
  {
   "cell_type": "markdown",
   "metadata": {},
   "source": [
    "### 11. Insertion Sort"
   ]
  },
  {
   "cell_type": "markdown",
   "metadata": {},
   "source": [
    "We split the list into sorted and unsorted. Starting from index 0, which we assume to be sorted, we iterate through the list and we insert every sorted element into its correct position in the sorted part of the list."
   ]
  },
  {
   "cell_type": "markdown",
   "metadata": {},
   "source": [
    "Time complexity: O(N^2)\n",
    "\n",
    "Space complexity: O(1)"
   ]
  },
  {
   "cell_type": "code",
   "execution_count": 7,
   "metadata": {},
   "outputs": [],
   "source": [
    "def insertionSort(array):\n",
    "    for i in range(len(array)):\n",
    "        j = i\n",
    "        while j>0 and array[j]<array[j-1]:\n",
    "            array[j], array[j-1] = array[j-1], array[j]\n",
    "            j-=1\n",
    "    return array"
   ]
  },
  {
   "cell_type": "markdown",
   "metadata": {},
   "source": [
    "### 12. Selection Sort"
   ]
  },
  {
   "cell_type": "markdown",
   "metadata": {},
   "source": [
    "We split the list into sorted and unsorted and we SELECT the smallest element and put into the sorted part of the list\n",
    "\n",
    "Time complexity: O(n^2)\n",
    "\n",
    "Space complexity: O(1)"
   ]
  },
  {
   "cell_type": "code",
   "execution_count": 22,
   "metadata": {},
   "outputs": [],
   "source": [
    "def selectionSort(array):\n",
    "    min_index = 0\n",
    "    while min_index<len(array):\n",
    "        min_ = array[min_index]\n",
    "        for i in range(min_index, len(array)):\n",
    "            if array[i]<min_:\n",
    "                min_ = array[i]\n",
    "                array[i], array[min_index] = array[min_index], array[i]\n",
    "        min_index+=1\n",
    "    return array"
   ]
  },
  {
   "cell_type": "code",
   "execution_count": 23,
   "metadata": {},
   "outputs": [
    {
     "data": {
      "text/plain": [
       "[1, 1, 1, 2, 2, 4, 4, 5, 6, 7]"
      ]
     },
     "execution_count": 23,
     "metadata": {},
     "output_type": "execute_result"
    }
   ],
   "source": [
    "selectionSort([4,2,4,5,2,1,1,1,6,7])"
   ]
  },
  {
   "cell_type": "markdown",
   "metadata": {},
   "source": [
    "### 13. Check if a string is a palindrome"
   ]
  },
  {
   "cell_type": "markdown",
   "metadata": {},
   "source": [
    "Reverse the string and compare the reversed string with the original\n",
    "\n",
    "Time complexity: O(n^2) because in Python every time we append to a new string, we are actually creating a new string.\n",
    "    \n",
    "Space complexity: O(n) same as the length of the original string"
   ]
  },
  {
   "cell_type": "code",
   "execution_count": 34,
   "metadata": {},
   "outputs": [],
   "source": [
    "def isPalindrome(string):\n",
    "    new_string = \"\"\n",
    "    for i in range(len(string)-1, -1, -1):\n",
    "        new_string+=string[i]\n",
    "    \n",
    "    return new_string==string"
   ]
  },
  {
   "cell_type": "markdown",
   "metadata": {},
   "source": [
    "Reverse the string but break it into characters and put it in a list\n",
    "\n",
    "Time complexity: O(n) We are going through n/2 characters in the string\n",
    "\n",
    "Space complexity: O(n) Recursion call stack will be of size n/2"
   ]
  },
  {
   "cell_type": "code",
   "execution_count": null,
   "metadata": {},
   "outputs": [],
   "source": [
    "def isPalindrome(string, i=0):\n",
    "    j = len(string)-1-i\n",
    "    if j<i:\n",
    "        return True\n",
    "    return string[i]==string[j] and isPalindrome(string, i+1)"
   ]
  },
  {
   "cell_type": "markdown",
   "metadata": {},
   "source": [
    "We could use recursion to recusively check if the string within the bounds of the first and the last character is a palindrome\n",
    "\n",
    "Time complexity: O(n)\n",
    "\n",
    "Space complexity: O(n)"
   ]
  },
  {
   "cell_type": "code",
   "execution_count": 36,
   "metadata": {},
   "outputs": [],
   "source": [
    "def isPalindrome(string):\n",
    "    new_string = list(reversed(string))\n",
    "    string = list(string)\n",
    "    return new_string==string"
   ]
  },
  {
   "cell_type": "markdown",
   "metadata": {},
   "source": [
    "Use two pointers, one at the end of the string and one at the beginning, move them towards each other one position at a time. If at any time they are not equal, we return False. \n",
    "\n",
    "Time complexity: O(n)\n",
    "\n",
    "Space complexity: O(1)"
   ]
  },
  {
   "cell_type": "code",
   "execution_count": 27,
   "metadata": {},
   "outputs": [],
   "source": [
    "def isPalindrome(string):\n",
    "    # Write your code here.\n",
    "    i = 0\n",
    "    j = len(string)-1\n",
    "    while j>i:\n",
    "        if string[j]!=string[i]:\n",
    "            return False\n",
    "        j-=1\n",
    "        i+=1\n",
    "    return True"
   ]
  },
  {
   "cell_type": "markdown",
   "metadata": {},
   "source": [
    "### 14. Causer Cipher Encryptor"
   ]
  },
  {
   "cell_type": "markdown",
   "metadata": {},
   "source": [
    "We will use ord, chr methods to get unicode-chars mapping and we will use % to get how much to shift using the key. \n",
    "\n",
    "Time complexity: O(n)\n",
    "\n",
    "Space complexity: O(n)"
   ]
  },
  {
   "cell_type": "code",
   "execution_count": 46,
   "metadata": {},
   "outputs": [],
   "source": [
    "def caesarCipherEncryptor(string, key):\n",
    "\tcipher = []\n",
    "\tkey = key%26\n",
    "\tfor char in string:\n",
    "\t\tord_ = ord(char)\n",
    "\t\t# 97, 98, 99....122, 97, 98, 99\n",
    "\t\ttentative = ord_+key\n",
    "\t\tif tentative>122:\n",
    "\t\t\ttentative = 96+tentative-122\n",
    "\t\tcipher.append(chr(tentative))\n",
    "\treturn \"\".join(cipher)"
   ]
  },
  {
   "cell_type": "markdown",
   "metadata": {},
   "source": [
    "Another solution is to use list('abcdefghijklmnopqrstuvwxyz') and move about this array\n",
    "\n",
    "Time complexity: O(n)\n",
    "\n",
    "Space complexity: O(n)"
   ]
  },
  {
   "cell_type": "code",
   "execution_count": null,
   "metadata": {},
   "outputs": [],
   "source": []
  }
 ],
 "metadata": {
  "kernelspec": {
   "display_name": "Python 3",
   "language": "python",
   "name": "python3"
  },
  "language_info": {
   "codemirror_mode": {
    "name": "ipython",
    "version": 3
   },
   "file_extension": ".py",
   "mimetype": "text/x-python",
   "name": "python",
   "nbconvert_exporter": "python",
   "pygments_lexer": "ipython3",
   "version": "3.6.5"
  }
 },
 "nbformat": 4,
 "nbformat_minor": 2
}
