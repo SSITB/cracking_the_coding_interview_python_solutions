{
 "cells": [
  {
   "cell_type": "markdown",
   "metadata": {},
   "source": [
    "### 1. Two Number Sum"
   ]
  },
  {
   "cell_type": "code",
   "execution_count": 1,
   "metadata": {},
   "outputs": [],
   "source": [
    "def twoNumberSum(array, targetSum):\n",
    "    # Write your code here.\n",
    "\tdict_ = {}\n",
    "\tfor element in array:\n",
    "\t\tdict_[element] = 1\n",
    "\t\n",
    "\tfor element in array:\n",
    "\t\tnumber_we_are_looking_for = targetSum-element\n",
    "\t\tif number_we_are_looking_for in dict_:\n",
    "\t\t\tprint[element, number_we_are_looking_for]()\n",
    "\t\t\treturn [element, number_we_are_looking_for]\n",
    "\t\n",
    "\treturn []"
   ]
  },
  {
   "cell_type": "code",
   "execution_count": null,
   "metadata": {},
   "outputs": [],
   "source": []
  }
 ],
 "metadata": {
  "kernelspec": {
   "display_name": "Python 3",
   "language": "python",
   "name": "python3"
  },
  "language_info": {
   "codemirror_mode": {
    "name": "ipython",
    "version": 3
   },
   "file_extension": ".py",
   "mimetype": "text/x-python",
   "name": "python",
   "nbconvert_exporter": "python",
   "pygments_lexer": "ipython3",
   "version": "3.6.5"
  }
 },
 "nbformat": 4,
 "nbformat_minor": 2
}
