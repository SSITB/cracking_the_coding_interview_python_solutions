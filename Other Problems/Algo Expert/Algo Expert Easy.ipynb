{
 "cells": [
  {
   "cell_type": "markdown",
   "metadata": {},
   "source": [
    "### 1. Two Number Sum\n",
    "Find and return 2 nums that sum to a target value"
   ]
  },
  {
   "cell_type": "markdown",
   "metadata": {},
   "source": [
    "O(n^2) time, O(1) space\n",
    "\n",
    "We traverse the list once and at each element and we stop to traverse the rest of the list to see if there's a potential match\n"
   ]
  },
  {
   "cell_type": "code",
   "execution_count": 4,
   "metadata": {},
   "outputs": [],
   "source": [
    "def twoNumberSum(array, targetSum):\n",
    "    for i in range(len(array)):\n",
    "        first_num = array[i]\n",
    "        for j in range(i+1,len(array)):\n",
    "            second_num = array[j]\n",
    "            if first_num+second_num==targetSum:\n",
    "                return [first_num, second_num]\n",
    "    return []\n",
    "                \n",
    "            "
   ]
  },
  {
   "cell_type": "markdown",
   "metadata": {},
   "source": [
    "O(n) time-space solution\n",
    "\n",
    "We traverse the list once and during traversal put the values in a dictionary/hashtable to check if a match exists"
   ]
  },
  {
   "cell_type": "code",
   "execution_count": 7,
   "metadata": {},
   "outputs": [],
   "source": [
    "def twoNumberSum(array, targetSum):\n",
    "    hashtable = {}\n",
    "    for i in range(len(array)):\n",
    "        potential_match = target_sum-array[i]\n",
    "        if potential_match in hashtable:\n",
    "            return [potential_match, num]\n",
    "        else:\n",
    "            hashtable[array[i]] = True\n",
    "    return []\n",
    "                \n",
    "            "
   ]
  },
  {
   "cell_type": "markdown",
   "metadata": {},
   "source": [
    "O(nlogn) time, O(1) space\n",
    "\n",
    "We sort the list and then we use two pointers. One pointer at the left and another on the right. We sum up values at the two pointers. If the sum is smaller than our target, that means the left pointer needs to move up, else the right pointer needs to move to a smaller value to the left."
   ]
  },
  {
   "cell_type": "code",
   "execution_count": 8,
   "metadata": {},
   "outputs": [],
   "source": [
    "def twoNumberSum(array, targetSum):\n",
    "    array.sort()\n",
    "    left_pointer = 0\n",
    "    right_pointer = len(array)-1\n",
    "    \n",
    "    while left_pointer<right_pointer:\n",
    "        sum_ = array[left_pointer]+array[right_pointer]\n",
    "        if sum_==targetSum:\n",
    "            return [array[left_pointer], array[right_pointer]]\n",
    "        elif sum_<targetSum:\n",
    "            #element at left pointer is too small\n",
    "            left_pointer+=1\n",
    "        else:\n",
    "            right_pointer-=1\n",
    "    return []\n",
    "            "
   ]
  },
  {
   "cell_type": "markdown",
   "metadata": {},
   "source": [
    "### 2. Find closest value in BST"
   ]
  },
  {
   "cell_type": "markdown",
   "metadata": {},
   "source": [
    "Time complexity: O(log(n)) on average but O(n) in the worst case if the tree is just one continuous branch\n",
    "Space: O(1)\n",
    "\n",
    "Strategy is to perform search the way we would find a value in a BST. We keep track of the current value and difference. Whenever we find a new value that is closer, we update the closest_value variable and the minimum difference variable."
   ]
  },
  {
   "cell_type": "code",
   "execution_count": 14,
   "metadata": {},
   "outputs": [],
   "source": [
    "def findClosestValueInBst(tree, target):\n",
    "    # Write your code here.\n",
    "\tclosest_value = tree.value\n",
    "\tdiff = abs(closest_value-target)\n",
    "\tcurrent_node = tree\n",
    "\twhile current_node:\n",
    "\t\tcurrent_value = current_node.value\n",
    "\t\tcurrent_diff = abs(current_value-target)\n",
    "\t\tif current_diff<diff:\n",
    "\t\t\tdiff = current_diff\n",
    "\t\t\tclosest_value = current_value\n",
    "\t\tif current_node.value==target:\n",
    "\t\t\treturn current_node.value\n",
    "\t\telif current_node.value<target:\n",
    "\t\t\t#look on the right side of the \n",
    "\t\t\tcurrent_node = current_node.right\n",
    "\t\telse:\n",
    "\t\t\t#look on the left side\n",
    "\t\t\tcurrent_node = current_node.left\n",
    "\t\n",
    "\treturn closest_value\n"
   ]
  },
  {
   "cell_type": "markdown",
   "metadata": {},
   "source": [
    "### 3. Branch Sums\n",
    "Find the sums of each of the branches of a binary tree"
   ]
  },
  {
   "cell_type": "markdown",
   "metadata": {},
   "source": [
    "Time complexity: O(n) because we are visiting n nodes\n",
    "\n",
    "Space complexity: O(n)....a bit complicated. It is affected by\n",
    "1. Number of recursive calls, which in the case of a one branch tree is O(n) and in the average case is O(log(n))\n",
    "2. How many sums are there = how many branches are there = how many leaf nodes are there. Roughly speaking, in a balanced tree, there will be O(n/2) leaf nodes ~ O(n) space complexity\n"
   ]
  },
  {
   "cell_type": "code",
   "execution_count": null,
   "metadata": {},
   "outputs": [],
   "source": []
  }
 ],
 "metadata": {
  "kernelspec": {
   "display_name": "Python 3",
   "language": "python",
   "name": "python3"
  },
  "language_info": {
   "codemirror_mode": {
    "name": "ipython",
    "version": 3
   },
   "file_extension": ".py",
   "mimetype": "text/x-python",
   "name": "python",
   "nbconvert_exporter": "python",
   "pygments_lexer": "ipython3",
   "version": "3.6.5"
  }
 },
 "nbformat": 4,
 "nbformat_minor": 2
}
