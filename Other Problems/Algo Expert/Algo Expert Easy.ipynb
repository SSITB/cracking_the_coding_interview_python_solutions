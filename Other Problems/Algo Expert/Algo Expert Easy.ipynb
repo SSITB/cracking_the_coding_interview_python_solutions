{
 "cells": [
  {
   "cell_type": "markdown",
   "metadata": {},
   "source": [
    "### 1. Two Number Sum\n",
    "Find and return 2 nums that sum to a target value"
   ]
  },
  {
   "cell_type": "markdown",
   "metadata": {},
   "source": [
    "O(n^2) time, O(1) space\n",
    "\n",
    "We traverse the list once and at each element and we stop to traverse the rest of the list to see if there's a potential match\n"
   ]
  },
  {
   "cell_type": "code",
   "execution_count": 4,
   "metadata": {},
   "outputs": [],
   "source": [
    "def twoNumberSum(array, targetSum):\n",
    "    for i in range(len(array)):\n",
    "        first_num = array[i]\n",
    "        for j in range(i+1,len(array)):\n",
    "            second_num = array[j]\n",
    "            if first_num+second_num==targetSum:\n",
    "                return [first_num, second_num]\n",
    "    return []\n",
    "                \n",
    "            "
   ]
  },
  {
   "cell_type": "markdown",
   "metadata": {},
   "source": [
    "O(n) time-space solution\n",
    "\n",
    "We traverse the list once and during traversal put the values in a dictionary/hashtable to check if a match exists"
   ]
  },
  {
   "cell_type": "code",
   "execution_count": 7,
   "metadata": {},
   "outputs": [],
   "source": [
    "def twoNumberSum(array, targetSum):\n",
    "    hashtable = {}\n",
    "    for i in range(len(array)):\n",
    "        potential_match = target_sum-array[i]\n",
    "        if potential_match in hashtable:\n",
    "            return [potential_match, num]\n",
    "        else:\n",
    "            hashtable[array[i]] = True\n",
    "    return []\n",
    "                \n",
    "            "
   ]
  },
  {
   "cell_type": "markdown",
   "metadata": {},
   "source": [
    "O(nlogn) time, O(1) space\n",
    "We sort the list and then we use two pointers. One pointer at the left and another on the right. We sum up values at the two pointers. If the sum is smaller than our"
   ]
  },
  {
   "cell_type": "code",
   "execution_count": 6,
   "metadata": {},
   "outputs": [],
   "source": [
    "def twoNumberSum(array, targetSum):\n",
    "    array.sort()\n",
    "    left_pointer = 0\n",
    "    right_pointer = len(array)-1\n",
    "    \n",
    "    while left_pointer<right_pointer:\n",
    "        sum_ = array[left_pointer]+array[right_pointer]\n",
    "        if sum_==targetSum:\n",
    "            return [array[left_pointer], array[right_pointer]]\n",
    "        elif sum_<targetSum:\n",
    "            #element at left pointer is too small\n",
    "            left_pointer+=1\n",
    "        else:\n",
    "            right_pointer-=1\n",
    "    return []\n",
    "            "
   ]
  },
  {
   "cell_type": "code",
   "execution_count": null,
   "metadata": {},
   "outputs": [],
   "source": []
  }
 ],
 "metadata": {
  "kernelspec": {
   "display_name": "Python 3",
   "language": "python",
   "name": "python3"
  },
  "language_info": {
   "codemirror_mode": {
    "name": "ipython",
    "version": 3
   },
   "file_extension": ".py",
   "mimetype": "text/x-python",
   "name": "python",
   "nbconvert_exporter": "python",
   "pygments_lexer": "ipython3",
   "version": "3.6.5"
  }
 },
 "nbformat": 4,
 "nbformat_minor": 2
}
