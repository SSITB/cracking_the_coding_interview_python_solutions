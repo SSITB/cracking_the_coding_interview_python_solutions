{
 "cells": [
  {
   "cell_type": "markdown",
   "metadata": {},
   "source": [
    "1. Optimal Substructure Property: When a problem has a recursive substructure. Eg: Fibonacci"
   ]
  },
  {
   "cell_type": "markdown",
   "metadata": {},
   "source": [
    "2. Overlapping Subtree Property: When subtrees of a recursive tree has many 'repeated' subtrees\n",
    "![](../images/overlap.png)"
   ]
  },
  {
   "cell_type": "markdown",
   "metadata": {},
   "source": [
    "For such recursive problems the time complexity tends to be exponential O(2^n). The solution to reducing the time complexity is to remember the pre-computed solution. There are two ways to do this:\n",
    "1. Memoization (store computed result and perform lookup)\n",
    "2. Tabulation (compute and store results linearly)"
   ]
  },
  {
   "cell_type": "markdown",
   "metadata": {},
   "source": [
    "**Dynamic Programming**: A algorithmic paradigm where a problem is solved by breaking it into smaller subproblems and storing the results of these subproblems so as to avoid repeated computation of the same subproblem\n",
    "\n",
    "Dynamic Programming should be used when the problem satisfies the following two properties:\n",
    "1. Optimal Substructure Property\n",
    "2. Overlapping Subproblem Property"
   ]
  },
  {
   "cell_type": "code",
   "execution_count": null,
   "metadata": {},
   "outputs": [],
   "source": []
  }
 ],
 "metadata": {
  "kernelspec": {
   "display_name": "Python 3",
   "language": "python",
   "name": "python3"
  },
  "language_info": {
   "codemirror_mode": {
    "name": "ipython",
    "version": 3
   },
   "file_extension": ".py",
   "mimetype": "text/x-python",
   "name": "python",
   "nbconvert_exporter": "python",
   "pygments_lexer": "ipython3",
   "version": "3.6.5"
  }
 },
 "nbformat": 4,
 "nbformat_minor": 2
}
