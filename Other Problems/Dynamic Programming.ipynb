{
 "cells": [
  {
   "cell_type": "markdown",
   "metadata": {},
   "source": [
    "## Overview"
   ]
  },
  {
   "cell_type": "markdown",
   "metadata": {},
   "source": [
    "1. Optimal Substructure Property: When a problem has a recursive substructure. Eg: Fibonacci"
   ]
  },
  {
   "cell_type": "markdown",
   "metadata": {},
   "source": [
    "2. Overlapping Subtree Property: When subtrees of a recursive tree has many 'repeated' subtrees\n",
    "![](../images/overlap.png)"
   ]
  },
  {
   "cell_type": "markdown",
   "metadata": {},
   "source": [
    "For such recursive problems the time complexity tends to be exponential O(2^n). The solution to reducing the time complexity is to remember the pre-computed solution. There are two ways to do this:\n",
    "1. Memoization (store computed result and perform lookup)\n",
    "2. Tabulation (compute and store results linearly)"
   ]
  },
  {
   "cell_type": "markdown",
   "metadata": {},
   "source": [
    "**Dynamic Programming**: A algorithmic paradigm where a problem is solved by breaking it into smaller subproblems and storing the results of these subproblems so as to avoid repeated computation of the same subproblem\n",
    "\n",
    "Dynamic Programming should be used when the problem satisfies the following two properties:\n",
    "1. Optimal Substructure Property\n",
    "2. Overlapping Subproblem Property"
   ]
  },
  {
   "cell_type": "markdown",
   "metadata": {},
   "source": [
    "## Memoization\n"
   ]
  },
  {
   "cell_type": "markdown",
   "metadata": {},
   "source": [
    "- Initialize a lookup table with Nill values\n",
    "- At every step i\n",
    "    - Check whether table[i] is a Nil or not\n",
    "    - If it is not nil then return table[i]\n",
    "    - If it is nil and i satisfies the base condition then we update the lookup table with the base value and return the same\n",
    "    - If it is Nil and i does not satisfy the base condition then we split the problem into subproblems and recursively solve them\n",
    "    - After the recursive call completes, we combine the solutions of the subproblems, update the lookup table and return the solution for the problem i\n",
    "   "
   ]
  },
  {
   "cell_type": "code",
   "execution_count": 14,
   "metadata": {},
   "outputs": [],
   "source": [
    "def fibonacci(n):\n",
    "    \n",
    "    memo = [None]*(n+1)\n",
    "#     print(memo)\n",
    "    \n",
    "    def fib(n):\n",
    "        if memo[n] is not None:\n",
    "            return memo[n]\n",
    "        else:\n",
    "            if n<=1:\n",
    "                memo[0] = 0\n",
    "                memo[1] = 1\n",
    "                return memo[n]\n",
    "            else:\n",
    "                solution = fib(n-1)+fib(n-2)\n",
    "                return solution\n",
    "    return fib(n)"
   ]
  },
  {
   "cell_type": "code",
   "execution_count": 15,
   "metadata": {},
   "outputs": [
    {
     "data": {
      "text/plain": [
       "55"
      ]
     },
     "execution_count": 15,
     "metadata": {},
     "output_type": "execute_result"
    }
   ],
   "source": [
    "fibonacci(10)"
   ]
  },
  {
   "cell_type": "markdown",
   "metadata": {},
   "source": [
    "- Time complexity is O(n) because we compute each fib(n) only once\n",
    "- Space complexity is O(n) because we store fib(n) for each n"
   ]
  },
  {
   "cell_type": "markdown",
   "metadata": {},
   "source": [
    "## Tabulation"
   ]
  },
  {
   "cell_type": "markdown",
   "metadata": {},
   "source": [
    "- Build the lookup table in bottom up fastion\n",
    "- After the table is built, return table[n]\n",
    "\n",
    "Algo:\n",
    "- We begin with the initialization of the base values of i\n",
    "- We run a loop that iterates over the remaining values of i\n",
    "- After every iteration i, the function updates the ith entry in the lookip table by combining the solutions to the previously solved subproblems\n",
    "- Finally the function returns table[n]"
   ]
  },
  {
   "cell_type": "code",
   "execution_count": 18,
   "metadata": {},
   "outputs": [],
   "source": [
    "def fib(n):\n",
    "    \n",
    "    memo = [0, 1]\n",
    "    \n",
    "    for i in range (2, n+1):\n",
    "        memo.append(memo[i-1]+memo[i-2])\n",
    "    \n",
    "    return memo[n]        "
   ]
  },
  {
   "cell_type": "code",
   "execution_count": 21,
   "metadata": {},
   "outputs": [
    {
     "data": {
      "text/plain": [
       "55"
      ]
     },
     "execution_count": 21,
     "metadata": {},
     "output_type": "execute_result"
    }
   ],
   "source": [
    "fib(10)"
   ]
  },
  {
   "cell_type": "markdown",
   "metadata": {},
   "source": [
    "## Tabulation vs Memoization\n",
    "X| Tabulation | Memoization\n",
    "--- | --- | ---\n",
    "Advantage | Avoid multiple lookups, thus saves function call overhead time | In some cases avoids computing solutions to subproblems that are not needed eg: longest common subsequence. Also can be more intuitive at times\n",
    "Disadvantage | Computes solution to all subproblems which might not always be optimal | Can have a lot of function call overhead \n"
   ]
  },
  {
   "cell_type": "markdown",
   "metadata": {},
   "source": [
    "## Optimal Substructure Property\n",
    "\n",
    "A give problem is said to have the optimal substructure proprty if an optimal solution of the given problem can be obtained by using optimal solutions of its subproblems.\n",
    "\n",
    "For example:\n",
    "**The shortest path problem**\n",
    "- If a node x lies in the shortest path from source node u to destination node v then, the shortest path from u to v is the combination of the shortest path from u to x and shortest path from x to v.\n",
    "- Solutions include Bellman-Ford and Floyd-Warshall"
   ]
  },
  {
   "cell_type": "code",
   "execution_count": null,
   "metadata": {},
   "outputs": [],
   "source": []
  }
 ],
 "metadata": {
  "kernelspec": {
   "display_name": "Python 3",
   "language": "python",
   "name": "python3"
  },
  "language_info": {
   "codemirror_mode": {
    "name": "ipython",
    "version": 3
   },
   "file_extension": ".py",
   "mimetype": "text/x-python",
   "name": "python",
   "nbconvert_exporter": "python",
   "pygments_lexer": "ipython3",
   "version": "3.6.5"
  }
 },
 "nbformat": 4,
 "nbformat_minor": 2
}
