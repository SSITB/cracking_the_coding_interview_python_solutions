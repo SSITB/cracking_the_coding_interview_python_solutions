{
 "cells": [
  {
   "cell_type": "markdown",
   "metadata": {},
   "source": [
    "## Overview"
   ]
  },
  {
   "cell_type": "markdown",
   "metadata": {},
   "source": [
    "1. Optimal Substructure Property: When a problem has a recursive substructure. Eg: Fibonacci"
   ]
  },
  {
   "cell_type": "markdown",
   "metadata": {},
   "source": [
    "2. Overlapping Subtree Property: When subtrees of a recursive tree has many 'repeated' subtrees\n",
    "![](../images/overlap.png)"
   ]
  },
  {
   "cell_type": "markdown",
   "metadata": {},
   "source": [
    "For such recursive problems the time complexity tends to be exponential O(2^n). The solution to reducing the time complexity is to remember the pre-computed solution. There are two ways to do this:\n",
    "1. Memoization (store computed result and perform lookup)\n",
    "2. Tabulation (compute and store results linearly)"
   ]
  },
  {
   "cell_type": "markdown",
   "metadata": {},
   "source": [
    "**Dynamic Programming**: A algorithmic paradigm where a problem is solved by breaking it into smaller subproblems and storing the results of these subproblems so as to avoid repeated computation of the same subproblem\n",
    "\n",
    "Dynamic Programming should be used when the problem satisfies the following two properties:\n",
    "1. Optimal Substructure Property\n",
    "2. Overlapping Subproblem Property"
   ]
  },
  {
   "cell_type": "markdown",
   "metadata": {},
   "source": [
    "## Memoization\n"
   ]
  },
  {
   "cell_type": "markdown",
   "metadata": {},
   "source": [
    "- Initialize a lookup table with Nill values\n",
    "- At every step i\n",
    "    - Check whether table[i] is a Nil or not\n",
    "    - If it is not nil then return table[i]\n",
    "    - If it is nil and i satisfies the base condition then we update the lookup table with the base value and return the same\n",
    "    - If it is Nil and i does not satisfy the base condition then we split the problem into subproblems and recursively solve them\n",
    "    - After the recursive call completes, we combine the solutions of the subproblems, update the lookup table and return the solution for the problem i\n",
    "   "
   ]
  },
  {
   "cell_type": "code",
   "execution_count": 14,
   "metadata": {},
   "outputs": [],
   "source": [
    "def fibonacci(n):\n",
    "    \n",
    "    memo = [None]*(n+1)\n",
    "#     print(memo)\n",
    "    \n",
    "    def fib(n):\n",
    "        if memo[n] is not None:\n",
    "            return memo[n]\n",
    "        else:\n",
    "            if n<=1:\n",
    "                memo[0] = 0\n",
    "                memo[1] = 1\n",
    "                return memo[n]\n",
    "            else:\n",
    "                solution = fib(n-1)+fib(n-2)\n",
    "                return solution\n",
    "    return fib(n)"
   ]
  },
  {
   "cell_type": "code",
   "execution_count": 15,
   "metadata": {},
   "outputs": [
    {
     "data": {
      "text/plain": [
       "55"
      ]
     },
     "execution_count": 15,
     "metadata": {},
     "output_type": "execute_result"
    }
   ],
   "source": [
    "fibonacci(10)"
   ]
  },
  {
   "cell_type": "markdown",
   "metadata": {},
   "source": [
    "- Time complexity is O(n) because we compute each fib(n) only once\n",
    "- Space complexity is O(n) because we store fib(n) for each n"
   ]
  },
  {
   "cell_type": "markdown",
   "metadata": {},
   "source": [
    "## Tabulation"
   ]
  },
  {
   "cell_type": "markdown",
   "metadata": {},
   "source": [
    "- Build the lookup table in bottom up fastion\n",
    "- After the table is built, return table[n]\n",
    "\n",
    "Algo:\n",
    "- We begin with the initialization of the base values of i\n",
    "- We run a loop that iterates over the remaining values of i\n",
    "- After every iteration i, the function updates the ith entry in the lookip table by combining the solutions to the previously solved subproblems\n",
    "- Finally the function returns table[n]"
   ]
  },
  {
   "cell_type": "code",
   "execution_count": 18,
   "metadata": {},
   "outputs": [],
   "source": [
    "def fib(n):\n",
    "    \n",
    "    memo = [0, 1]\n",
    "    \n",
    "    for i in range (2, n+1):\n",
    "        memo.append(memo[i-1]+memo[i-2])\n",
    "    \n",
    "    return memo[n]        "
   ]
  },
  {
   "cell_type": "code",
   "execution_count": 21,
   "metadata": {},
   "outputs": [
    {
     "data": {
      "text/plain": [
       "55"
      ]
     },
     "execution_count": 21,
     "metadata": {},
     "output_type": "execute_result"
    }
   ],
   "source": [
    "fib(10)"
   ]
  },
  {
   "cell_type": "markdown",
   "metadata": {},
   "source": [
    "## Tabulation vs Memoization\n",
    "X| Tabulation | Memoization\n",
    "--- | --- | ---\n",
    "Advantage | Avoid multiple lookups, thus saves function call overhead time | In some cases avoids computing solutions to subproblems that are not needed eg: longest common subsequence. Also can be more intuitive at times\n",
    "Disadvantage | Computes solution to all subproblems which might not always be optimal | Can have a lot of function call overhead \n"
   ]
  },
  {
   "cell_type": "markdown",
   "metadata": {},
   "source": [
    "## Optimal Substructure Property\n",
    "\n",
    "A give problem is said to have the optimal substructure proprty if an optimal solution of the given problem can be obtained by using optimal solutions of its subproblems.\n",
    "\n",
    "For example:\n",
    "**The shortest path problem**\n",
    "- If a node x lies in the shortest path from source node u to destination node v then, the shortest path from u to v is the combination of the shortest path from u to x and shortest path from x to v.\n",
    "- Solutions include Bellman-Ford and Floyd-Warshall"
   ]
  },
  {
   "cell_type": "markdown",
   "metadata": {},
   "source": [
    "## Problems"
   ]
  },
  {
   "cell_type": "markdown",
   "metadata": {},
   "source": [
    "### 1. Longest Increasing Subsequence"
   ]
  },
  {
   "cell_type": "markdown",
   "metadata": {},
   "source": [
    "[A good explanation can be found in this video](https://youtu.be/fV-TF4OvZpk)"
   ]
  },
  {
   "cell_type": "code",
   "execution_count": 1,
   "metadata": {},
   "outputs": [
    {
     "data": {
      "image/jpeg": "[encoded data removed]",
      "text/html": [
       "\n",
       "        <iframe\n",
       "            width=\"400\"\n",
       "            height=\"300\"\n",
       "            src=\"https://www.youtube.com/embed/fV-TF4OvZpk\"\n",
       "            frameborder=\"0\"\n",
       "            allowfullscreen\n",
       "        ></iframe>\n",
       "        "
      ],
      "text/plain": [
       "<IPython.lib.display.YouTubeVideo at 0x107272588>"
      ]
     },
     "execution_count": 1,
     "metadata": {},
     "output_type": "execute_result"
    }
   ],
   "source": [
    "from IPython.lib.display import YouTubeVideo\n",
    "YouTubeVideo('fV-TF4OvZpk')"
   ]
  },
  {
   "cell_type": "code",
   "execution_count": 23,
   "metadata": {},
   "outputs": [],
   "source": [
    "def lis(sequence):\n",
    "    lis_memo = [1]*len(sequence) #initialize with 1 because 1 is the default longest subsequence\n",
    "\n",
    "    for i in range(1,len(sequence)):\n",
    "        for j in range(0,i):\n",
    "            #is seqi]>seq[j]\n",
    "            if sequence[i]>sequence[j]:\n",
    "                print(sequence[i],sequence[j])\n",
    "                #can longest subsequence upto i be added to longest subsequence upto j\n",
    "                lis_memo[i] = max(lis_memo[j]+1, lis_memo[i])\n",
    "    return max(lis_memo)"
   ]
  },
  {
   "cell_type": "code",
   "execution_count": 24,
   "metadata": {},
   "outputs": [
    {
     "name": "stdout",
     "output_type": "stream",
     "text": [
      "3 -1\n",
      "4 -1\n",
      "4 3\n",
      "5 -1\n",
      "5 3\n",
      "5 4\n",
      "2 -1\n",
      "2 -1\n",
      "2 -1\n",
      "2 -1\n"
     ]
    },
    {
     "data": {
      "text/plain": [
       "4"
      ]
     },
     "execution_count": 24,
     "metadata": {},
     "output_type": "execute_result"
    }
   ],
   "source": [
    "lis([-1,3,4,5,2,2,2,2])"
   ]
  },
  {
   "cell_type": "markdown",
   "metadata": {},
   "source": [
    "### 2. Longest Common Subsequence\n",
    "\n",
    "We have two strings and we are trying to find the longest common substring. The characters are not necessarily contiguous.\n",
    "\n",
    "[A good explanation can be found in this video](https://youtu.be/ASoaQq66foQ)"
   ]
  },
  {
   "cell_type": "code",
   "execution_count": 3,
   "metadata": {},
   "outputs": [
    {
     "data": {
      "image/jpeg": "[encoded data removed]",
      "text/html": [
       "\n",
       "        <iframe\n",
       "            width=\"400\"\n",
       "            height=\"300\"\n",
       "            src=\"https://www.youtube.com/embed/ASoaQq66foQ\"\n",
       "            frameborder=\"0\"\n",
       "            allowfullscreen\n",
       "        ></iframe>\n",
       "        "
      ],
      "text/plain": [
       "<IPython.lib.display.YouTubeVideo at 0x1073704a8>"
      ]
     },
     "execution_count": 3,
     "metadata": {},
     "output_type": "execute_result"
    }
   ],
   "source": [
    "from IPython.lib.display import YouTubeVideo\n",
    "YouTubeVideo('ASoaQq66foQ')"
   ]
  },
  {
   "cell_type": "markdown",
   "metadata": {},
   "source": [
    "#### Top-Down Approach"
   ]
  },
  {
   "cell_type": "markdown",
   "metadata": {},
   "source": [
    "![](../images/lcs.png)"
   ]
  },
  {
   "cell_type": "code",
   "execution_count": 4,
   "metadata": {},
   "outputs": [],
   "source": [
    "memo = {}\n",
    "def lcs(s1, s2):\n",
    "    \n",
    "    try: #search the memo first\n",
    "        return memo[(s1,s2)] \n",
    "    \n",
    "    except:\n",
    "        #base case\n",
    "        if len(s1)==0 or len(s2)==0: #comparing a string with an empty string, the lcs is 0\n",
    "            result = 0\n",
    "            memo[(s1,s2)] = result\n",
    "            return result\n",
    "\n",
    "        if s1[-1]==s2[-1]:\n",
    "            result = 1+lcs(s1[:-1], s2[:-1])\n",
    "            memo[(s1,s2)] = result\n",
    "            return result\n",
    "        else:\n",
    "            result = max(lcs(s1[:-1], s2), lcs(s1, s2[:-1]))\n",
    "            memo[(s1,s2)] = result\n",
    "            return result"
   ]
  },
  {
   "cell_type": "code",
   "execution_count": 5,
   "metadata": {},
   "outputs": [
    {
     "data": {
      "text/plain": [
       "4"
      ]
     },
     "execution_count": 5,
     "metadata": {},
     "output_type": "execute_result"
    }
   ],
   "source": [
    "lcs(\"AGGTAB\", \"GXTXAYB\")\n",
    "# lcs(\"AAB\", \"AXB\")"
   ]
  },
  {
   "cell_type": "code",
   "execution_count": 6,
   "metadata": {},
   "outputs": [
    {
     "name": "stdout",
     "output_type": "stream",
     "text": [
      "{('', 'GXTXAY'): 0, ('', 'GXTX'): 0, ('A', 'GXTXA'): 1, ('A', 'GXTXAY'): 1, ('', 'GXT'): 0, ('', 'GX'): 0, ('', 'G'): 0, ('A', ''): 0, ('A', 'G'): 0, ('A', 'GX'): 0, ('A', 'GXT'): 0, ('A', 'GXTX'): 0, ('AG', 'G'): 1, ('AG', 'GX'): 1, ('AG', 'GXT'): 1, ('AG', 'GXTX'): 1, ('AG', 'GXTXA'): 1, ('AG', 'GXTXAY'): 1, ('AG', ''): 0, ('AGG', 'G'): 1, ('AGG', 'GX'): 1, ('AGG', 'GXT'): 1, ('AGG', 'GXTX'): 1, ('AGG', 'GXTXA'): 1, ('AGG', 'GXTXAY'): 1, ('AGGT', 'GXT'): 2, ('AGGT', 'GXTX'): 2, ('AGGT', 'GXTXA'): 2, ('AGGT', 'GXTXAY'): 2, ('AGGTA', 'GXTXA'): 3, ('AGGTA', 'GXTXAY'): 3, ('AGGTAB', 'GXTXAYB'): 4}\n"
     ]
    }
   ],
   "source": [
    "print(memo)"
   ]
  },
  {
   "cell_type": "markdown",
   "metadata": {},
   "source": [
    "m = len(s1), n = len(s2)\n",
    "\n",
    "Time complexity: O(mn)\n",
    "\n",
    "Space complexity: O(mn)"
   ]
  },
  {
   "cell_type": "markdown",
   "metadata": {},
   "source": [
    "### 3. Levenshtein Distance (minimum edit distance)"
   ]
  },
  {
   "cell_type": "code",
   "execution_count": 97,
   "metadata": {},
   "outputs": [],
   "source": [
    "memo = {}\n",
    "def levenshtein(s1, s2):\n",
    "    \n",
    "    try:\n",
    "        #check if memo has this entry memoized\n",
    "        return memo[(s1, s2)]\n",
    "    except:\n",
    "        # Base case\n",
    "        #if either of the strings is empty, the number of operations = length of non emprt string\n",
    "        if len(s1)==0 or len(s2)==0:\n",
    "            result = max(len(s1), len(s2))\n",
    "            memo[(s1,s2)] = result\n",
    "            print(s1,s2, result)\n",
    "            return result\n",
    "        \n",
    "        #same character at the end of both strings\n",
    "        if s1[-1]==s2[-1]:\n",
    "            result = levenshtein(s1[:-1], s2[:-1])\n",
    "            memo[(s1,s2)] = result\n",
    "            return result\n",
    "        else:\n",
    "            #adding +1 for accounting for removal of last character from atleast one of the strings\n",
    "            \n",
    "            result = 1 + min(levenshtein(s1[:-1], s2), levenshtein(s1, s2[:-1]), levenshtein(s1[:-1], s2[:-1]))\n",
    "            print(s1,s2, result)\n",
    "            memo[(s1,s2)] = result\n",
    "            return result"
   ]
  },
  {
   "cell_type": "code",
   "execution_count": 98,
   "metadata": {},
   "outputs": [
    {
     "name": "stdout",
     "output_type": "stream",
     "text": [
      " ab 2\n",
      "  0\n",
      " a 1\n",
      "a ab 1\n",
      "a  1\n",
      "aa ab 1\n",
      "aa  2\n",
      "aaa ab 2\n",
      "aaab aba 2\n",
      "aaab abaa 2\n"
     ]
    },
    {
     "data": {
      "text/plain": [
       "2"
      ]
     },
     "execution_count": 98,
     "metadata": {},
     "output_type": "execute_result"
    }
   ],
   "source": [
    "levenshtein(\"aaab\", \"abaa\")"
   ]
  },
  {
   "cell_type": "code",
   "execution_count": 28,
   "metadata": {},
   "outputs": [
    {
     "data": {
      "text/plain": [
       "{('', 'ab'): 2,\n",
       " ('', ''): 0,\n",
       " ('a', 'a'): 0,\n",
       " ('a', 'ab'): 1,\n",
       " ('a', ''): 1,\n",
       " ('aa', 'a'): 1,\n",
       " ('aa', 'ab'): 2,\n",
       " ('aaa', 'aba'): 2,\n",
       " ('aaaa', 'abaa'): 2}"
      ]
     },
     "execution_count": 28,
     "metadata": {},
     "output_type": "execute_result"
    }
   ],
   "source": [
    "memo"
   ]
  },
  {
   "cell_type": "code",
   "execution_count": null,
   "metadata": {},
   "outputs": [],
   "source": []
  }
 ],
 "metadata": {
  "kernelspec": {
   "display_name": "Python 3",
   "language": "python",
   "name": "python3"
  },
  "language_info": {
   "codemirror_mode": {
    "name": "ipython",
    "version": 3
   },
   "file_extension": ".py",
   "mimetype": "text/x-python",
   "name": "python",
   "nbconvert_exporter": "python",
   "pygments_lexer": "ipython3",
   "version": "3.6.5"
  }
 },
 "nbformat": 4,
 "nbformat_minor": 2
}
