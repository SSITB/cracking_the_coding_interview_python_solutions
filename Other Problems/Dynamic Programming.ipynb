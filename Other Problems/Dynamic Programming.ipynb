{
 "cells": [
  {
   "cell_type": "markdown",
   "metadata": {},
   "source": [
    "## Overview"
   ]
  },
  {
   "cell_type": "markdown",
   "metadata": {},
   "source": [
    "1. Optimal Substructure Property: When a problem has a recursive substructure. Eg: Fibonacci"
   ]
  },
  {
   "cell_type": "markdown",
   "metadata": {},
   "source": [
    "2. Overlapping Subtree Property: When subtrees of a recursive tree has many 'repeated' subtrees\n",
    "![](../images/overlap.png)"
   ]
  },
  {
   "cell_type": "markdown",
   "metadata": {},
   "source": [
    "For such recursive problems the time complexity tends to be exponential O(2^n). The solution to reducing the time complexity is to remember the pre-computed solution. There are two ways to do this:\n",
    "1. Memoization (store computed result and perform lookup)\n",
    "2. Tabulation (compute and store results linearly)"
   ]
  },
  {
   "cell_type": "markdown",
   "metadata": {},
   "source": [
    "**Dynamic Programming**: A algorithmic paradigm where a problem is solved by breaking it into smaller subproblems and storing the results of these subproblems so as to avoid repeated computation of the same subproblem\n",
    "\n",
    "Dynamic Programming should be used when the problem satisfies the following two properties:\n",
    "1. Optimal Substructure Property\n",
    "2. Overlapping Subproblem Property"
   ]
  },
  {
   "cell_type": "markdown",
   "metadata": {},
   "source": [
    "## Memoization\n"
   ]
  },
  {
   "cell_type": "markdown",
   "metadata": {},
   "source": [
    "- Initialize a lookup table with Nill values\n",
    "- At every step i\n",
    "    - Check whether table[i] is a Nil or not\n",
    "    - If it is not nil then return table[i]\n",
    "    - If it is nil and i satisfies the base condition then we update the lookup table with the base value and return the same\n",
    "    - If it is Nil and i does not satisfy the base condition then we split the problem into subproblems and recursively solve them\n",
    "    - After the recursive call completes, we combine the solutions of the subproblems, update the lookup table and return the solution for the problem i\n",
    "   "
   ]
  },
  {
   "cell_type": "code",
   "execution_count": 14,
   "metadata": {},
   "outputs": [],
   "source": [
    "def fibonacci(n):\n",
    "    \n",
    "    memo = [None]*(n+1)\n",
    "#     print(memo)\n",
    "    \n",
    "    def fib(n):\n",
    "        if memo[n] is not None:\n",
    "            return memo[n]\n",
    "        else:\n",
    "            if n<=1:\n",
    "                memo[0] = 0\n",
    "                memo[1] = 1\n",
    "                return memo[n]\n",
    "            else:\n",
    "                solution = fib(n-1)+fib(n-2)\n",
    "                return solution\n",
    "    return fib(n)"
   ]
  },
  {
   "cell_type": "code",
   "execution_count": 15,
   "metadata": {},
   "outputs": [
    {
     "data": {
      "text/plain": [
       "55"
      ]
     },
     "execution_count": 15,
     "metadata": {},
     "output_type": "execute_result"
    }
   ],
   "source": [
    "fibonacci(10)"
   ]
  },
  {
   "cell_type": "markdown",
   "metadata": {},
   "source": [
    "- Time complexity is O(n) because we compute each fib(n) only once\n",
    "- Space complexity is O(n) because we store fib(n) for each n"
   ]
  },
  {
   "cell_type": "markdown",
   "metadata": {},
   "source": [
    "## Tabulation"
   ]
  },
  {
   "cell_type": "markdown",
   "metadata": {},
   "source": [
    "- Build the lookup table in bottom up fastion\n",
    "- After the table is built, return table[n]\n",
    "\n",
    "Algo:\n",
    "- We begin with the initialization of the base values of i\n",
    "- We run a loop that iterates over the remaining values of i\n",
    "- After every iteration i, the function updates the ith entry in the lookip table by combining the solutions to the previously solved subproblems\n",
    "- Finally the function returns table[n]"
   ]
  },
  {
   "cell_type": "code",
   "execution_count": 18,
   "metadata": {},
   "outputs": [],
   "source": [
    "def fib(n):\n",
    "    \n",
    "    memo = [0, 1]\n",
    "    \n",
    "    for i in range (2, n+1):\n",
    "        memo.append(memo[i-1]+memo[i-2])\n",
    "    \n",
    "    return memo[n]        "
   ]
  },
  {
   "cell_type": "code",
   "execution_count": 21,
   "metadata": {},
   "outputs": [
    {
     "data": {
      "text/plain": [
       "55"
      ]
     },
     "execution_count": 21,
     "metadata": {},
     "output_type": "execute_result"
    }
   ],
   "source": [
    "fib(10)"
   ]
  },
  {
   "cell_type": "markdown",
   "metadata": {},
   "source": [
    "## Tabulation vs Memoization\n",
    "X| Tabulation | Memoization\n",
    "--- | --- | ---\n",
    "Advantage | Avoid multiple lookups, thus saves function call overhead time | In some cases avoids computing solutions to subproblems that are not needed eg: longest common subsequence. Also can be more intuitive at times\n",
    "Disadvantage | Computes solution to all subproblems which might not always be optimal | Can have a lot of function call overhead \n"
   ]
  },
  {
   "cell_type": "markdown",
   "metadata": {},
   "source": [
    "## Optimal Substructure Property\n",
    "\n",
    "A give problem is said to have the optimal substructure proprty if an optimal solution of the given problem can be obtained by using optimal solutions of its subproblems.\n",
    "\n",
    "For example:\n",
    "**The shortest path problem**\n",
    "- If a node x lies in the shortest path from source node u to destination node v then, the shortest path from u to v is the combination of the shortest path from u to x and shortest path from x to v.\n",
    "- Solutions include Bellman-Ford and Floyd-Warshall"
   ]
  },
  {
   "cell_type": "markdown",
   "metadata": {},
   "source": [
    "## Problems"
   ]
  },
  {
   "cell_type": "markdown",
   "metadata": {},
   "source": [
    "### 1. Longest Increasing Subsequence"
   ]
  },
  {
   "cell_type": "markdown",
   "metadata": {},
   "source": [
    "[A good explanation can be found in this video](https://youtu.be/fV-TF4OvZpk)"
   ]
  },
  {
   "cell_type": "code",
   "execution_count": 4,
   "metadata": {},
   "outputs": [
    {
     "data": {
      "image/jpeg": "[encoded data removed]",
      "text/html": [
       "\n",
       "        <iframe\n",
       "            width=\"400\"\n",
       "            height=\"300\"\n",
       "            src=\"https://www.youtube.com/embed/fV-TF4OvZpk\"\n",
       "            frameborder=\"0\"\n",
       "            allowfullscreen\n",
       "        ></iframe>\n",
       "        "
      ],
      "text/plain": [
       "<IPython.lib.display.YouTubeVideo at 0x10ecc9e80>"
      ]
     },
     "execution_count": 4,
     "metadata": {},
     "output_type": "execute_result"
    }
   ],
   "source": [
    "from IPython.lib.display import YouTubeVideo\n",
    "YouTubeVideo('fV-TF4OvZpk')"
   ]
  },
  {
   "cell_type": "code",
   "execution_count": 23,
   "metadata": {},
   "outputs": [],
   "source": [
    "def lis(sequence):\n",
    "    lis_memo = [1]*len(sequence) #initialize with 1 because 1 is the default longest subsequence\n",
    "\n",
    "    for i in range(1,len(sequence)):\n",
    "        for j in range(0,i):\n",
    "            #is seqi]>seq[j]\n",
    "            if sequence[i]>sequence[j]:\n",
    "                print(sequence[i],sequence[j])\n",
    "                #can longest subsequence upto i be added to longest subsequence upto j\n",
    "                lis_memo[i] = max(lis_memo[j]+1, lis_memo[i])\n",
    "    return max(lis_memo)"
   ]
  },
  {
   "cell_type": "code",
   "execution_count": 24,
   "metadata": {},
   "outputs": [
    {
     "name": "stdout",
     "output_type": "stream",
     "text": [
      "3 -1\n",
      "4 -1\n",
      "4 3\n",
      "5 -1\n",
      "5 3\n",
      "5 4\n",
      "2 -1\n",
      "2 -1\n",
      "2 -1\n",
      "2 -1\n"
     ]
    },
    {
     "data": {
      "text/plain": [
       "4"
      ]
     },
     "execution_count": 24,
     "metadata": {},
     "output_type": "execute_result"
    }
   ],
   "source": [
    "lis([-1,3,4,5,2,2,2,2])"
   ]
  },
  {
   "cell_type": "markdown",
   "metadata": {},
   "source": [
    "### 2. Longest Common Subsequence\n",
    "\n",
    "We have two strings and we are trying to find the longest common substring. The characters are not necessarily contiguous.\n",
    "\n",
    "[A good explanation can be found in this video](https://youtu.be/ASoaQq66foQ)"
   ]
  },
  {
   "cell_type": "code",
   "execution_count": 2,
   "metadata": {},
   "outputs": [
    {
     "data": {
      "image/jpeg": "[encoded data removed]",
      "text/html": [
       "\n",
       "        <iframe\n",
       "            width=\"400\"\n",
       "            height=\"300\"\n",
       "            src=\"https://www.youtube.com/embed/ASoaQq66foQ\"\n",
       "            frameborder=\"0\"\n",
       "            allowfullscreen\n",
       "        ></iframe>\n",
       "        "
      ],
      "text/plain": [
       "<IPython.lib.display.YouTubeVideo at 0x10eb6aef0>"
      ]
     },
     "execution_count": 2,
     "metadata": {},
     "output_type": "execute_result"
    }
   ],
   "source": [
    "from IPython.lib.display import YouTubeVideo\n",
    "YouTubeVideo('ASoaQq66foQ')"
   ]
  },
  {
   "cell_type": "markdown",
   "metadata": {},
   "source": [
    "#### Top-Down Approach"
   ]
  },
  {
   "cell_type": "markdown",
   "metadata": {},
   "source": [
    "![](../images/lcs.png)"
   ]
  },
  {
   "cell_type": "code",
   "execution_count": 4,
   "metadata": {},
   "outputs": [],
   "source": [
    "memo = {}\n",
    "def lcs(s1, s2):\n",
    "    \n",
    "    try: #search the memo first\n",
    "        return memo[(s1,s2)] \n",
    "    \n",
    "    except:\n",
    "        #base case\n",
    "        if len(s1)==0 or len(s2)==0: #comparing a string with an empty string, the lcs is 0\n",
    "            result = 0\n",
    "            memo[(s1,s2)] = result\n",
    "            return result\n",
    "\n",
    "        if s1[-1]==s2[-1]:\n",
    "            result = 1+lcs(s1[:-1], s2[:-1])\n",
    "            memo[(s1,s2)] = result\n",
    "            return result\n",
    "        else:\n",
    "            result = max(lcs(s1[:-1], s2), lcs(s1, s2[:-1]))\n",
    "            memo[(s1,s2)] = result\n",
    "            return result"
   ]
  },
  {
   "cell_type": "code",
   "execution_count": 5,
   "metadata": {},
   "outputs": [
    {
     "data": {
      "text/plain": [
       "4"
      ]
     },
     "execution_count": 5,
     "metadata": {},
     "output_type": "execute_result"
    }
   ],
   "source": [
    "lcs(\"AGGTAB\", \"GXTXAYB\")\n",
    "# lcs(\"AAB\", \"AXB\")"
   ]
  },
  {
   "cell_type": "code",
   "execution_count": 6,
   "metadata": {},
   "outputs": [
    {
     "name": "stdout",
     "output_type": "stream",
     "text": [
      "{('', 'GXTXAY'): 0, ('', 'GXTX'): 0, ('A', 'GXTXA'): 1, ('A', 'GXTXAY'): 1, ('', 'GXT'): 0, ('', 'GX'): 0, ('', 'G'): 0, ('A', ''): 0, ('A', 'G'): 0, ('A', 'GX'): 0, ('A', 'GXT'): 0, ('A', 'GXTX'): 0, ('AG', 'G'): 1, ('AG', 'GX'): 1, ('AG', 'GXT'): 1, ('AG', 'GXTX'): 1, ('AG', 'GXTXA'): 1, ('AG', 'GXTXAY'): 1, ('AG', ''): 0, ('AGG', 'G'): 1, ('AGG', 'GX'): 1, ('AGG', 'GXT'): 1, ('AGG', 'GXTX'): 1, ('AGG', 'GXTXA'): 1, ('AGG', 'GXTXAY'): 1, ('AGGT', 'GXT'): 2, ('AGGT', 'GXTX'): 2, ('AGGT', 'GXTXA'): 2, ('AGGT', 'GXTXAY'): 2, ('AGGTA', 'GXTXA'): 3, ('AGGTA', 'GXTXAY'): 3, ('AGGTAB', 'GXTXAYB'): 4}\n"
     ]
    }
   ],
   "source": [
    "print(memo)"
   ]
  },
  {
   "cell_type": "markdown",
   "metadata": {},
   "source": [
    "m = len(s1), n = len(s2)\n",
    "\n",
    "Time complexity: O(mn)\n",
    "\n",
    "Space complexity: O(mn)"
   ]
  },
  {
   "cell_type": "markdown",
   "metadata": {},
   "source": [
    "### 3. Levenshtein Distance (minimum edit distance)"
   ]
  },
  {
   "cell_type": "markdown",
   "metadata": {},
   "source": [
    "A bottom up solution is available [here](https://www.youtube.com/watch?v=MiqoA-yF-0M)"
   ]
  },
  {
   "cell_type": "code",
   "execution_count": 3,
   "metadata": {},
   "outputs": [
    {
     "data": {
      "image/jpeg": "[encoded data removed]",
      "text/html": [
       "\n",
       "        <iframe\n",
       "            width=\"400\"\n",
       "            height=\"300\"\n",
       "            src=\"https://www.youtube.com/embed/MiqoA-yF-0M\"\n",
       "            frameborder=\"0\"\n",
       "            allowfullscreen\n",
       "        ></iframe>\n",
       "        "
      ],
      "text/plain": [
       "<IPython.lib.display.YouTubeVideo at 0x10ecc9f60>"
      ]
     },
     "execution_count": 3,
     "metadata": {},
     "output_type": "execute_result"
    }
   ],
   "source": [
    "YouTubeVideo('MiqoA-yF-0M')"
   ]
  },
  {
   "cell_type": "code",
   "execution_count": 5,
   "metadata": {},
   "outputs": [],
   "source": [
    "memo = {}\n",
    "def levenshtein(s1, s2):\n",
    "    \n",
    "    try:\n",
    "        #check if memo has this entry memoized\n",
    "        return memo[(s1, s2)]\n",
    "    except:\n",
    "        # Base case\n",
    "        #if either of the strings is empty, the number of operations = length of non emprt string\n",
    "        if len(s1)==0 or len(s2)==0:\n",
    "            result = max(len(s1), len(s2))\n",
    "            memo[(s1,s2)] = result\n",
    "#             print(s1,s2, result)\n",
    "            return result\n",
    "        \n",
    "        #same character at the end of both strings\n",
    "        if s1[-1]==s2[-1]:\n",
    "            result = levenshtein(s1[:-1], s2[:-1])\n",
    "            memo[(s1,s2)] = result\n",
    "            return result\n",
    "        else:\n",
    "            #adding +1 for accounting for removal of last character from atleast one of the strings\n",
    "            #min(remove, insert, replace)\n",
    "            result = 1 + min(levenshtein(s1[:-1], s2), levenshtein(s1, s2[:-1]), levenshtein(s1[:-1], s2[:-1]))\n",
    "#             print(s1,s2, result)\n",
    "            memo[(s1,s2)] = result\n",
    "            return result"
   ]
  },
  {
   "cell_type": "code",
   "execution_count": 9,
   "metadata": {},
   "outputs": [
    {
     "data": {
      "text/plain": [
       "(2, 1, 4)"
      ]
     },
     "execution_count": 9,
     "metadata": {},
     "output_type": "execute_result"
    }
   ],
   "source": [
    "levenshtein(\"aaab\", \"abaa\"), levenshtein(\"aaa\", \"aba\"), levenshtein(\"abcd\", \"efgh\")"
   ]
  },
  {
   "cell_type": "code",
   "execution_count": 7,
   "metadata": {},
   "outputs": [
    {
     "data": {
      "text/plain": [
       "{('', 'ab'): 2,\n",
       " ('', ''): 0,\n",
       " ('a', 'a'): 0,\n",
       " ('', 'a'): 1,\n",
       " ('a', 'ab'): 1,\n",
       " ('aa', 'aba'): 1,\n",
       " ('aaa', 'abaa'): 1,\n",
       " ('a', ''): 1,\n",
       " ('aa', 'a'): 1,\n",
       " ('aa', 'ab'): 1,\n",
       " ('aaa', 'aba'): 1,\n",
       " ('aa', ''): 2,\n",
       " ('aaa', 'a'): 2,\n",
       " ('aaab', 'ab'): 2,\n",
       " ('aaa', 'ab'): 2,\n",
       " ('aaab', 'aba'): 2,\n",
       " ('aaab', 'abaa'): 2}"
      ]
     },
     "execution_count": 7,
     "metadata": {},
     "output_type": "execute_result"
    }
   ],
   "source": [
    "memo"
   ]
  },
  {
   "cell_type": "markdown",
   "metadata": {},
   "source": [
    "### 4. Binomial Coefficients"
   ]
  },
  {
   "cell_type": "markdown",
   "metadata": {},
   "source": [
    "![](../images/bincoeff.png)"
   ]
  },
  {
   "cell_type": "markdown",
   "metadata": {},
   "source": [
    "![](../images/bn2.png)"
   ]
  },
  {
   "cell_type": "markdown",
   "metadata": {},
   "source": [
    "Write a function that takes two values n and k and return C(n, k)\n",
    "\n",
    "Time complexity: O(nk)\n",
    "\n",
    "Space complexity: O(nk)\n",
    "\n",
    "A good solution [can be found here](https://www.youtube.com/watch?v=_iAIto06bWk&list=PLqM7alHXFySGbXhWx7sBJEwY2DnhDjmxm&index=9)"
   ]
  },
  {
   "cell_type": "markdown",
   "metadata": {},
   "source": [
    "![](../images/bn3.png)"
   ]
  },
  {
   "cell_type": "code",
   "execution_count": 5,
   "metadata": {},
   "outputs": [],
   "source": [
    "memo = {}\n",
    "\n",
    "def C(n,k):\n",
    "    \n",
    "    try:\n",
    "        return memo[(n,k)]\n",
    "    except:\n",
    "        if k==n or k==0:\n",
    "            return 1\n",
    "        else:\n",
    "            result = C(n-1, k-1)+C(n-1,k)\n",
    "            memo[(n,k)] = result\n",
    "            return result\n"
   ]
  },
  {
   "cell_type": "code",
   "execution_count": 8,
   "metadata": {},
   "outputs": [
    {
     "data": {
      "text/plain": [
       "10"
      ]
     },
     "execution_count": 8,
     "metadata": {},
     "output_type": "execute_result"
    }
   ],
   "source": [
    "C(5,2)"
   ]
  },
  {
   "cell_type": "code",
   "execution_count": 9,
   "metadata": {},
   "outputs": [
    {
     "data": {
      "text/plain": [
       "{(2, 1): 2, (3, 1): 3, (4, 1): 4, (5, 1): 5, (3, 2): 3, (4, 2): 6, (5, 2): 10}"
      ]
     },
     "execution_count": 9,
     "metadata": {},
     "output_type": "execute_result"
    }
   ],
   "source": [
    "memo"
   ]
  },
  {
   "cell_type": "markdown",
   "metadata": {},
   "source": [
    "### 5. 0-1 Knapsack Problem"
   ]
  },
  {
   "cell_type": "markdown",
   "metadata": {},
   "source": [
    "![](../images/ks.png)"
   ]
  },
  {
   "cell_type": "markdown",
   "metadata": {},
   "source": [
    "A good explanation can be found [here](https://www.youtube.com/watch?v=xOlhR_2QCXY&t=313s)"
   ]
  },
  {
   "cell_type": "code",
   "execution_count": 26,
   "metadata": {},
   "outputs": [],
   "source": [
    "weights = [10, 20, 30]\n",
    "values = [60, 100, 120]\n",
    "capacity = 50"
   ]
  },
  {
   "cell_type": "code",
   "execution_count": 27,
   "metadata": {},
   "outputs": [],
   "source": [
    "memo = {} #{(index, capacity)}\n",
    "\n",
    "def knapsack(index, capacity):\n",
    "    \n",
    "    try:\n",
    "        return memo[(index, capacity)]\n",
    "    except:\n",
    "        if index>=len(values) or capacity==0:\n",
    "            return 0\n",
    "        else:\n",
    "            if weights[index]>capacity:\n",
    "                value_without_adding = knapsack(index+1, capacity)\n",
    "                return value_without_adding\n",
    "            else:\n",
    "                value_after_adding = values[index] + knapsack(index+1, capacity-weights[index])\n",
    "                value_without_adding = knapsack(index+1, capacity)\n",
    "                result = max(value_after_adding, value_without_adding)\n",
    "                memo[(index, capacity)] = result\n",
    "                return result"
   ]
  },
  {
   "cell_type": "code",
   "execution_count": 28,
   "metadata": {},
   "outputs": [
    {
     "data": {
      "text/plain": [
       "220"
      ]
     },
     "execution_count": 28,
     "metadata": {},
     "output_type": "execute_result"
    }
   ],
   "source": [
    "knapsack(0, capacity)"
   ]
  },
  {
   "cell_type": "code",
   "execution_count": 29,
   "metadata": {},
   "outputs": [
    {
     "data": {
      "text/plain": [
       "{(2, 40): 120,\n",
       " (1, 40): 120,\n",
       " (2, 30): 120,\n",
       " (2, 50): 120,\n",
       " (1, 50): 220,\n",
       " (0, 50): 220}"
      ]
     },
     "execution_count": 29,
     "metadata": {},
     "output_type": "execute_result"
    }
   ],
   "source": [
    "memo"
   ]
  },
  {
   "cell_type": "markdown",
   "metadata": {},
   "source": [
    "### 6. Egg Drop Problem"
   ]
  },
  {
   "cell_type": "markdown",
   "metadata": {},
   "source": [
    "![](../images/eggprob.png)"
   ]
  },
  {
   "cell_type": "markdown",
   "metadata": {},
   "source": [
    "Given a certain number of floors and given a certain number of eggs, what is the least amount of egg drops that I need to find out the pivotal floor at which an egg thrown doesnt break but breaks when thrown from the floor above.\n",
    "\n",
    "We are not trying to find the floor, we are trying to find the least amount of egg drops needed to figure out the 'pivotal' floor."
   ]
  },
  {
   "cell_type": "markdown",
   "metadata": {},
   "source": [
    "[A good explanation](https://www.youtube.com/watch?v=iOaRjDT0vjc&t=129s)"
   ]
  },
  {
   "cell_type": "code",
   "execution_count": 20,
   "metadata": {},
   "outputs": [],
   "source": [
    "#base case 1: 1 egg and n floors, we need n drops starting from the bottom\n",
    "#base case 2: 1 floor and n eggs, we need 1 drop\n",
    "#base case 3: 0 floors, we need 0 drops\n",
    "\n",
    "memo = {} #{(eggs, floors): least drops}\n",
    "\n",
    "\n",
    "def eggdrop(eggs, floors):\n",
    "    \n",
    "    try:\n",
    "        return memo[(eggs, floors)]\n",
    "    \n",
    "    except:\n",
    "        if eggs==1: #base case 1\n",
    "            result = floors\n",
    "            memo[(eggs, floors)] = result\n",
    "            return result\n",
    "        \n",
    "        elif floors<=1: #base case 2 and 3\n",
    "            result = floors\n",
    "            memo[(eggs, floors)] = floors\n",
    "            return result\n",
    "            \n",
    "        else:\n",
    "            #find minimum of dropping from every floor \n",
    "            #and accounting for both egg breaking and not breaking\n",
    "            results = []\n",
    "            for i in range(1, floors+1):\n",
    "                egg_breaks = eggdrop(eggs-1, i-1)\n",
    "                egg_does_not_break = eggdrop(eggs, floors-i)\n",
    "                result_for_i = max(egg_breaks, egg_does_not_break)\n",
    "                results.append(result_for_i)\n",
    "                \n",
    "            result = 1+min(results)\n",
    "            memo[(eggs, floors)] = result\n",
    "            return result    "
   ]
  },
  {
   "cell_type": "code",
   "execution_count": 21,
   "metadata": {},
   "outputs": [
    {
     "data": {
      "text/plain": [
       "8"
      ]
     },
     "execution_count": 21,
     "metadata": {},
     "output_type": "execute_result"
    }
   ],
   "source": [
    "eggdrop(2, 36)"
   ]
  },
  {
   "cell_type": "code",
   "execution_count": 19,
   "metadata": {
    "scrolled": true
   },
   "outputs": [
    {
     "data": {
      "text/plain": [
       "{(2, 0): 0,\n",
       " (3, 1): 1,\n",
       " (2, 1): 1,\n",
       " (3, 0): 0,\n",
       " (3, 2): 2,\n",
       " (1, 0): 0,\n",
       " (1, 1): 1,\n",
       " (2, 2): 2,\n",
       " (3, 3): 2,\n",
       " (1, 2): 2,\n",
       " (2, 3): 2,\n",
       " (3, 4): 3,\n",
       " (1, 3): 3,\n",
       " (2, 4): 3,\n",
       " (3, 5): 3,\n",
       " (1, 4): 4,\n",
       " (2, 5): 3,\n",
       " (3, 6): 3,\n",
       " (1, 5): 5,\n",
       " (2, 6): 3,\n",
       " (3, 7): 3,\n",
       " (1, 6): 6,\n",
       " (2, 7): 4,\n",
       " (3, 8): 4,\n",
       " (1, 7): 7,\n",
       " (2, 8): 4,\n",
       " (3, 9): 4,\n",
       " (1, 8): 8,\n",
       " (2, 9): 4,\n",
       " (1, 9): 9,\n",
       " (2, 10): 4,\n",
       " (1, 10): 10,\n",
       " (2, 11): 5,\n",
       " (1, 11): 11,\n",
       " (2, 12): 5,\n",
       " (1, 12): 12,\n",
       " (2, 13): 5,\n",
       " (1, 13): 13,\n",
       " (2, 14): 5,\n",
       " (1, 14): 14,\n",
       " (2, 15): 5,\n",
       " (1, 15): 15,\n",
       " (2, 16): 6,\n",
       " (1, 16): 16,\n",
       " (2, 17): 6,\n",
       " (1, 17): 17,\n",
       " (2, 18): 6,\n",
       " (1, 18): 18,\n",
       " (2, 19): 6,\n",
       " (1, 19): 19,\n",
       " (2, 20): 6,\n",
       " (1, 20): 20,\n",
       " (2, 21): 6,\n",
       " (1, 21): 21,\n",
       " (2, 22): 7,\n",
       " (1, 22): 22,\n",
       " (2, 23): 7,\n",
       " (1, 23): 23,\n",
       " (2, 24): 7,\n",
       " (1, 24): 24,\n",
       " (2, 25): 7,\n",
       " (1, 25): 25,\n",
       " (2, 26): 7,\n",
       " (1, 26): 26,\n",
       " (2, 27): 7,\n",
       " (1, 27): 27,\n",
       " (2, 28): 7,\n",
       " (1, 28): 28,\n",
       " (2, 29): 8,\n",
       " (1, 29): 29,\n",
       " (2, 30): 8,\n",
       " (1, 30): 30,\n",
       " (2, 31): 8,\n",
       " (1, 31): 31,\n",
       " (2, 32): 8,\n",
       " (1, 32): 32,\n",
       " (2, 33): 8,\n",
       " (1, 33): 33,\n",
       " (2, 34): 8,\n",
       " (1, 34): 34,\n",
       " (2, 35): 8,\n",
       " (1, 35): 35,\n",
       " (2, 36): 8}"
      ]
     },
     "execution_count": 19,
     "metadata": {},
     "output_type": "execute_result"
    }
   ],
   "source": [
    "memo"
   ]
  },
  {
   "cell_type": "markdown",
   "metadata": {},
   "source": [
    "### 7. Longest Palindromic Subsequence"
   ]
  },
  {
   "cell_type": "markdown",
   "metadata": {},
   "source": [
    "In \"DBABCBABE\", BCB, ABCBA, BABCBAB are all palindromic subsequences but BABCAB is the longest"
   ]
  },
  {
   "cell_type": "markdown",
   "metadata": {},
   "source": [
    "[A good explanation](https://www.youtube.com/watch?v=TLaGwTnd3HY)"
   ]
  },
  {
   "cell_type": "code",
   "execution_count": 22,
   "metadata": {},
   "outputs": [],
   "source": [
    "memo = {} #{string: lps}\n",
    "\n",
    "def lps(input_string):\n",
    "    \n",
    "    try:\n",
    "        return memo[input_string]\n",
    "    \n",
    "    except:\n",
    "        if input_string==\"\":\n",
    "            return 0\n",
    "\n",
    "        elif len(input_string)==1:\n",
    "            return 1\n",
    "        \n",
    "        else:\n",
    "            if input_string[0]==input_string[-1]:\n",
    "                result = 2+lps(input_string[1:-1])\n",
    "                memo[input_string] = result\n",
    "                return result\n",
    "            else:\n",
    "                result_with_first_char_removed = lps(input_string[1:])\n",
    "                result_with_last_char_removed = lps(input_string[:-1])\n",
    "                result = max(result_with_first_char_removed, result_with_last_char_removed)\n",
    "                memo[input_string] = result\n",
    "                return result"
   ]
  },
  {
   "cell_type": "code",
   "execution_count": 23,
   "metadata": {},
   "outputs": [
    {
     "data": {
      "text/plain": [
       "5"
      ]
     },
     "execution_count": 23,
     "metadata": {},
     "output_type": "execute_result"
    }
   ],
   "source": [
    "lps(\"cabac\")"
   ]
  },
  {
   "cell_type": "code",
   "execution_count": 24,
   "metadata": {},
   "outputs": [
    {
     "data": {
      "text/plain": [
       "{'aba': 3, 'cabac': 5}"
      ]
     },
     "execution_count": 24,
     "metadata": {},
     "output_type": "execute_result"
    }
   ],
   "source": [
    "memo"
   ]
  },
  {
   "cell_type": "markdown",
   "metadata": {},
   "source": [
    "### 8. Longest Bitonic Sequence"
   ]
  },
  {
   "cell_type": "markdown",
   "metadata": {},
   "source": [
    "Assumptions I have made in my solution:\n",
    "1. Bitnoic sequence cannot be strictly increasing or strictly decreasing\n",
    "2. Input sequence will be of atleast length 3\n",
    "3. We only need to return length of longest bitonic sequence and not the sequence itself"
   ]
  },
  {
   "cell_type": "markdown",
   "metadata": {},
   "source": [
    "![](../images/bitonic.png)"
   ]
  },
  {
   "cell_type": "code",
   "execution_count": 38,
   "metadata": {},
   "outputs": [],
   "source": [
    "memo = {}\n",
    "\n",
    "def isBitonic(temp_array):\n",
    "    \n",
    "    #we will restrict input to arrays with len(array)>2\n",
    "    #Thus if len<2 then its bitonic because that means more elements can be added\n",
    "    if len(temp_array)<2:\n",
    "        return True\n",
    "    \n",
    "    else:\n",
    "        peak = max(temp_array)\n",
    "        index_of_peak = temp_array.index(peak)\n",
    "        \n",
    "        if index_of_peak==len(temp_array): \n",
    "            #peak is at the end of the list/array we need to check if the\n",
    "            #input array has some elements that can still be added to maintain bitonic nature\n",
    "            for i in range(input_array.index(peak)+1, len(input_array)):\n",
    "                if input_array[i]<peak:\n",
    "                    return True\n",
    "                else:\n",
    "                    return False\n",
    "        else:\n",
    "            #regular array\n",
    "            for i in range(1, index_of_peak+1): #strictly increasing till peak\n",
    "                if temp_array[i]<temp_array[i-1]:\n",
    "                    return False\n",
    "            \n",
    "            for i in range(index_of_peak+1, len(temp_array)):\n",
    "                if temp_array[i]>temp_array[i-1]:\n",
    "                    return False\n",
    "            \n",
    "            return True\n",
    "\n",
    "def bitonic(index, current_array):\n",
    "    \n",
    "    \n",
    "    try:\n",
    "#         print(\"memoooo\")\n",
    "        return memo[(index, current_array)]\n",
    "\n",
    "    except:\n",
    "        current_array = list(current_array)\n",
    "        #base cases\n",
    "        if index>=len(input_array):\n",
    "            return 0\n",
    "        \n",
    "        else:\n",
    "            #compute length if we don't add the element and add the next element instead\n",
    "            result_without_adding = bitonic(index+1, current_array)\n",
    "            \n",
    "            temp_array = current_array\n",
    "            temp_array.append(input_array[index])\n",
    "            result_with_adding = 1+bitonic(index+1, temp_array)\n",
    "            \n",
    "            if isBitonic(temp_array):\n",
    "                result = max(result_without_adding, result_with_adding)\n",
    "            else:\n",
    "                result = result_without_adding\n",
    "            \n",
    "            memo[(index, tuple(current_array))] = result\n",
    "#             print(result)\n",
    "            return result\n",
    "     "
   ]
  },
  {
   "cell_type": "code",
   "execution_count": 41,
   "metadata": {},
   "outputs": [
    {
     "data": {
      "text/plain": [
       "7"
      ]
     },
     "execution_count": 41,
     "metadata": {},
     "output_type": "execute_result"
    }
   ],
   "source": [
    "input_array = [1, 11, 2, 10, 4, 5, 2, 1]\n",
    "\n",
    "bitonic(0, [])"
   ]
  },
  {
   "cell_type": "code",
   "execution_count": 23,
   "metadata": {},
   "outputs": [
    {
     "data": {
      "text/plain": [
       "[1, 2, 3, 4]"
      ]
     },
     "execution_count": 23,
     "metadata": {},
     "output_type": "execute_result"
    }
   ],
   "source": [
    "list(tuple([1,2,3,4]))"
   ]
  },
  {
   "cell_type": "markdown",
   "metadata": {},
   "source": [
    "### 9. Maximum Length Chain of Pairs"
   ]
  },
  {
   "cell_type": "markdown",
   "metadata": {},
   "source": [
    "![](../images/chainpair.png)"
   ]
  },
  {
   "cell_type": "markdown",
   "metadata": {},
   "source": [
    "[A good explanation](https://www.youtube.com/watch?v=v-HIXptqM3Q&list=PLqM7alHXFySGbXhWx7sBJEwY2DnhDjmxm&index=15)"
   ]
  },
  {
   "cell_type": "code",
   "execution_count": 23,
   "metadata": {},
   "outputs": [],
   "source": [
    "memo = {}\n",
    "\n",
    "def maxlengthchain(index, chain_so_far):\n",
    "    \n",
    "    try:\n",
    "        return memo[(index, chain_so_far)]\n",
    "    \n",
    "    except:\n",
    "        #base cases\n",
    "        if index>=len(input_list):\n",
    "            return 0\n",
    "        \n",
    "        else:\n",
    "            without_adding_pair = maxlengthchain(index+1, chain_so_far)\n",
    "            \n",
    "            temp_chain = list(chain_so_far)\n",
    "#             print(index, input_list[index][0])\n",
    "            after_adding_pair = 0 \n",
    "            if temp_chain==[]:\n",
    "                temp_chain.append(input_list[index])\n",
    "                after_adding_pair = 1+maxlengthchain(index+1, tuple(temp_chain))\n",
    "\n",
    "            elif input_list[index][0]>temp_chain[-1][1]:\n",
    "                temp_chain.append(input_list[index])\n",
    "                after_adding_pair = 1+maxlengthchain(index+1, tuple(temp_chain))\n",
    "            \n",
    "            result = max(after_adding_pair, without_adding_pair)\n",
    "            memo[(index, chain_so_far)] = result\n",
    "            \n",
    "            return result"
   ]
  },
  {
   "cell_type": "code",
   "execution_count": 24,
   "metadata": {},
   "outputs": [
    {
     "data": {
      "text/plain": [
       "3"
      ]
     },
     "execution_count": 24,
     "metadata": {},
     "output_type": "execute_result"
    }
   ],
   "source": [
    "input_list = [(5, 24), (39, 60), (15, 28), (27, 40), (50, 90)]\n",
    "\n",
    "maxlengthchain(0, ()) "
   ]
  },
  {
   "cell_type": "markdown",
   "metadata": {},
   "source": [
    "### 10. Box Stacking Problem"
   ]
  },
  {
   "cell_type": "markdown",
   "metadata": {},
   "source": [
    "![](../images/box.png)"
   ]
  },
  {
   "cell_type": "markdown",
   "metadata": {},
   "source": [
    "[A good explanation](https://www.youtube.com/watch?v=KgWy0fY0dRM&list=PLqM7alHXFySGbXhWx7sBJEwY2DnhDjmxm&index=16)"
   ]
  },
  {
   "cell_type": "code",
   "execution_count": 7,
   "metadata": {},
   "outputs": [],
   "source": [
    "memo = {}\n",
    "\n",
    "def box_stacking(index, stack_so_far):\n",
    "    \n",
    "    try:\n",
    "        return memo[(index, stack_so_far)]\n",
    "    \n",
    "    except:\n",
    "        if index>=len(input_list):\n",
    "            return 0\n",
    "        \n",
    "        else:\n",
    "            without_adding_box = box_stacking(index+1, stack_so_far)\n",
    "            with_adding_box = [] #we are going to compute max of all 3 combinations\n",
    "            #try out all 3 permutations \n",
    "            box_perm1 = input_list[index] \n",
    "            box_perm2 = (input_list[index][1], input_list[index][2], input_list[index][0])\n",
    "            box_perm3 = (input_list[index][0], input_list[index][2], input_list[index][1])\n",
    "            temp_stack = list(stack_so_far)\n",
    "            box_permutations = [box_perm1, box_perm2, box_perm3]\n",
    "            \n",
    "            for perm in box_permutations:\n",
    "                if temp_stack==[]: #if stack is empty so far\n",
    "                    temp_stack.append(perm)\n",
    "                    with_adding_perm = 1+box_stacking(index+1, tuple(temp_stack))\n",
    "                    with_adding_box.append(with_adding_perm)\n",
    "                else:\n",
    "                    area_of_perm = perm[0]*perm[1]\n",
    "                    area_of_previous_box = temp_stack[-1][0]*temp_stack[-1][1]\n",
    "                    if area_of_perm<area_of_previous_box:\n",
    "                        temp_stack.append(perm)\n",
    "                        with_adding_perm = 1+box_stacking(index+1, tuple(temp_stack))\n",
    "                        with_adding_box.append(with_adding_perm)\n",
    "                    else:\n",
    "                        with_adding_box.append(0)\n",
    "            \n",
    "            result = max(without_adding_box, max(with_adding_box))\n",
    "            memo[(index, stack_so_far)] = result\n",
    "            return result\n"
   ]
  },
  {
   "cell_type": "code",
   "execution_count": 8,
   "metadata": {},
   "outputs": [
    {
     "data": {
      "text/plain": [
       "9"
      ]
     },
     "execution_count": 8,
     "metadata": {},
     "output_type": "execute_result"
    }
   ],
   "source": [
    "input_list = [(12, 32, 10), (10, 32, 12), (10, 12, 32), (5, 6, 4), (4, 6, 5), (4, 5, 6), \n",
    "              (2, 3, 1), (1, 3, 2), (1, 2, 3)]\n",
    "\n",
    "box_stacking(0,())"
   ]
  },
  {
   "cell_type": "markdown",
   "metadata": {},
   "source": [
    "### 11. Largest Sum Contiguous Subarray"
   ]
  },
  {
   "cell_type": "markdown",
   "metadata": {},
   "source": [
    "![](../images/maxcontsubar.png)"
   ]
  },
  {
   "cell_type": "markdown",
   "metadata": {},
   "source": [
    "[A good explanation](https://www.youtube.com/watch?v=2MmGzdiKR9Y)"
   ]
  },
  {
   "cell_type": "code",
   "execution_count": 3,
   "metadata": {},
   "outputs": [],
   "source": [
    "def maxSubArraySum(a): \n",
    "       \n",
    "    max_so_far = 0\n",
    "    max_ending_here = 0\n",
    "       \n",
    "    for i in range(0, len(a)): \n",
    "        max_ending_here = max_ending_here + a[i] \n",
    "        if (max_so_far < max_ending_here): \n",
    "            max_so_far = max_ending_here \n",
    "        \n",
    "        if max_ending_here < 0: \n",
    "            max_ending_here = 0   \n",
    "    return max_so_far "
   ]
  },
  {
   "cell_type": "code",
   "execution_count": 4,
   "metadata": {},
   "outputs": [
    {
     "data": {
      "text/plain": [
       "0"
      ]
     },
     "execution_count": 4,
     "metadata": {},
     "output_type": "execute_result"
    }
   ],
   "source": [
    "maxSubArraySum([-13, -3, -25, -20, -3, -16, -23, -12, -5, -22, -15, -4, -7])"
   ]
  },
  {
   "cell_type": "code",
   "execution_count": null,
   "metadata": {},
   "outputs": [],
   "source": []
  }
 ],
 "metadata": {
  "kernelspec": {
   "display_name": "Python 3",
   "language": "python",
   "name": "python3"
  },
  "language_info": {
   "codemirror_mode": {
    "name": "ipython",
    "version": 3
   },
   "file_extension": ".py",
   "mimetype": "text/x-python",
   "name": "python",
   "nbconvert_exporter": "python",
   "pygments_lexer": "ipython3",
   "version": "3.6.5"
  }
 },
 "nbformat": 4,
 "nbformat_minor": 2
}
